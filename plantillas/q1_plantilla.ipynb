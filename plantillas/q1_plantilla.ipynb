{
 "cells": [
  {
   "cell_type": "markdown",
   "id": "96b6f51e-6db0-4433-a259-3e8584d638d0",
   "metadata": {
    "nbgrader": {
     "grade": false,
     "grade_id": "cell-6d4fbb49b22f5cd6",
     "locked": true,
     "schema_version": 3,
     "solution": false,
     "task": false
    }
   },
   "source": [
    "# Plantilla: verificación de respuestas"
   ]
  },
  {
   "cell_type": "markdown",
   "id": "631103ec-189f-42f3-add4-1a13d9912bce",
   "metadata": {
    "nbgrader": {
     "grade": false,
     "grade_id": "cell-506b9d85bf939450",
     "locked": true,
     "schema_version": 3,
     "solution": false,
     "task": false
    }
   },
   "source": [
    "## Importamos bibliotecas"
   ]
  },
  {
   "cell_type": "code",
   "execution_count": 1,
   "id": "8e0dca5a-e378-426c-b756-cb6df49d35c4",
   "metadata": {
    "nbgrader": {
     "grade": false,
     "grade_id": "cell-2daba32fb292c51d",
     "locked": true,
     "schema_version": 3,
     "solution": false,
     "task": false
    },
    "tags": []
   },
   "outputs": [],
   "source": [
    "import numpy as np\n",
    "import matplotlib.pyplot as plt\n",
    "import sympy as sy\n",
    "\n",
    "import macti.visual as mvis\n",
    "from macti.evaluation import *"
   ]
  },
  {
   "cell_type": "code",
   "execution_count": 2,
   "id": "7a3d442c-6bd4-4ea6-bb01-7154a8bcca62",
   "metadata": {
    "nbgrader": {
     "grade": false,
     "grade_id": "cell-fb4fbcefae29ba17",
     "locked": true,
     "schema_version": 3,
     "solution": false,
     "task": false
    }
   },
   "outputs": [
    {
     "name": "stdout",
     "output_type": "stream",
     "text": [
      "curso =  jovyan\n",
      "tema =  Plantillas/\n",
      "source path =  /home/jovyan/\n"
     ]
    }
   ],
   "source": [
    "file_answer = FileAnswer()"
   ]
  },
  {
   "cell_type": "markdown",
   "id": "40a7068c-e3be-487b-aa00-6bf1861e8d6c",
   "metadata": {
    "nbgrader": {
     "grade": false,
     "grade_id": "cell-fa5c2a4de8851481",
     "locked": true,
     "schema_version": 3,
     "solution": false,
     "task": false
    }
   },
   "source": [
    "## Creamos datos"
   ]
  },
  {
   "cell_type": "code",
   "execution_count": 3,
   "id": "0710eae0-1d4c-456a-9634-dc1d42469ba2",
   "metadata": {
    "tags": []
   },
   "outputs": [],
   "source": [
    "t = np.linspace(-2 * np.pi, 2 * np.pi, 360)"
   ]
  },
  {
   "cell_type": "markdown",
   "id": "ba865ee8-b6dc-409c-be00-c4f51d203e33",
   "metadata": {
    "nbgrader": {
     "grade": false,
     "grade_id": "cell-6b87e08133089e58",
     "locked": true,
     "schema_version": 3,
     "solution": false,
     "task": false
    }
   },
   "source": [
    "---\n",
    "### **<font color=\"DodgerBlue\">Ejercicio 1. Calcular el $\\sin(t)$.</font>**\n",
    "\n",
    "<font color=\"DarkBlue\">Escriba un código para calcular la función $f(t) = \\sin(t)$ para $t\\in [-2\\pi, 2\\pi]$, usando funciones de la biblioteca `numpy`.</font>\n",
    "\n",
    "---"
   ]
  },
  {
   "cell_type": "code",
   "execution_count": 4,
   "id": "7a149ddb-26bb-4461-a2b6-b8e58c7d8417",
   "metadata": {
    "nbgrader": {
     "grade": false,
     "grade_id": "cell-23ef2af48cb7865c",
     "locked": false,
     "schema_version": 3,
     "solution": true,
     "task": false
    },
    "tags": []
   },
   "outputs": [],
   "source": [
    "### BEGIN SOLUTION\n",
    "f = np.sin(t)\n",
    "file_answer.write('1', f, 'Revisa el uso correcto de la función np.sin()')\n",
    "### END SOLUTION"
   ]
  },
  {
   "cell_type": "code",
   "execution_count": 7,
   "id": "3d4b7734-a1e6-4288-b6ff-70a5a4c42c63",
   "metadata": {
    "nbgrader": {
     "grade": false,
     "grade_id": "cell-00e9532acbb8a961",
     "locked": true,
     "schema_version": 3,
     "solution": false,
     "task": false
    }
   },
   "outputs": [
    {
     "name": "stdout",
     "output_type": "stream",
     "text": [
      "curso =  prueba\n",
      "tema =  Tema1/\n",
      "\n",
      "/usr/local/share/nbgrader/exchange/prueba/.ans/Tema1/\n"
     ]
    }
   ],
   "source": [
    "quizz = Quizz('1', 'prueba')"
   ]
  },
  {
   "cell_type": "code",
   "execution_count": 5,
   "id": "fa233433-341d-4aa1-96f4-290fbeafc555",
   "metadata": {
    "nbgrader": {
     "grade": true,
     "grade_id": "cell-87f210fe9c413673",
     "locked": true,
     "points": 1,
     "schema_version": 3,
     "solution": false,
     "task": false
    },
    "tags": []
   },
   "outputs": [
    {
     "ename": "NameError",
     "evalue": "name 'quizz' is not defined",
     "output_type": "error",
     "traceback": [
      "\u001b[0;31m---------------------------------------------------------------------------\u001b[0m",
      "\u001b[0;31mNameError\u001b[0m                                 Traceback (most recent call last)",
      "Cell \u001b[0;32mIn[5], line 1\u001b[0m\n\u001b[0;32m----> 1\u001b[0m \u001b[43mquizz\u001b[49m\u001b[38;5;241m.\u001b[39meval_numeric(\u001b[38;5;124m'\u001b[39m\u001b[38;5;124m1\u001b[39m\u001b[38;5;124m'\u001b[39m, f)\n",
      "\u001b[0;31mNameError\u001b[0m: name 'quizz' is not defined"
     ]
    }
   ],
   "source": [
    "quizz.eval_numeric('1', f)"
   ]
  },
  {
   "cell_type": "markdown",
   "id": "07528a7d-9390-4510-ba88-6504ee171a48",
   "metadata": {
    "nbgrader": {
     "grade": false,
     "grade_id": "cell-3f1c155f0840ae4b",
     "locked": true,
     "schema_version": 3,
     "solution": false,
     "task": false
    }
   },
   "source": [
    "## Graficamos datos"
   ]
  },
  {
   "cell_type": "code",
   "execution_count": 6,
   "id": "2162bbd6-9564-41dd-b084-97e3ca7b6ea0",
   "metadata": {
    "nbgrader": {
     "grade": false,
     "grade_id": "cell-068ae3e36ae551fc",
     "locked": true,
     "schema_version": 3,
     "solution": false,
     "task": false
    },
    "tags": []
   },
   "outputs": [
    {
     "data": {
      "image/png": "[encoded data removed]",
      "text/plain": [
       "<Figure size 480x240 with 1 Axes>"
      ]
     },
     "metadata": {},
     "output_type": "display_data"
    }
   ],
   "source": [
    "v = mvis.Plotter(1,1,fig_par = dict(figsize = (6,3)))\n",
    "v.plot(1,t,f)\n",
    "v.set_coordsys(1, xlabel='$t$', ylabel='$f(t)$', \n",
    "               xlabelsize=10, ylabelsize=10)\n",
    "# Obtenemos los ticks y los ponemos en términos de pi\n",
    "ax = v.axes(1)\n",
    "xticks = ax.get_xticks()\n",
    "yticks = ax.get_yticks()\n",
    "v.set_ticks(ax, xticks, yticks, trig=True)\n",
    "\n",
    "plt.grid()\n",
    "plt.show()"
   ]
  },
  {
   "cell_type": "markdown",
   "id": "d2ea69d8-7284-4e18-bb86-79c1230448ad",
   "metadata": {
    "nbgrader": {
     "grade": false,
     "grade_id": "cell-07a61a5f21cb98bc",
     "locked": true,
     "schema_version": 3,
     "solution": false,
     "task": false
    }
   },
   "source": [
    "## Cálculo simbólico"
   ]
  },
  {
   "cell_type": "markdown",
   "id": "eb1b73f6-1c34-4582-b416-0523b7c5ff47",
   "metadata": {
    "nbgrader": {
     "grade": false,
     "grade_id": "cell-e80e7a0b5a5f8db6",
     "locked": true,
     "schema_version": 3,
     "solution": false,
     "task": false
    }
   },
   "source": [
    "---\n",
    "### **<font color=\"DodgerBlue\">Ejercicio 2. Derivada de una función.</font>**\n",
    "\n",
    "<font color=\"DarkBlue\">Calcule la derivada de la función $f(x) = x^2 \\sin(x)$. Escriba su respuesta en formato `sympy`.</font>\n",
    "\n",
    "---"
   ]
  },
  {
   "cell_type": "code",
   "execution_count": 7,
   "id": "836f0df5-6053-4423-b437-d2bce38952a4",
   "metadata": {
    "tags": []
   },
   "outputs": [],
   "source": [
    "x = sy.Symbol('x')"
   ]
  },
  {
   "cell_type": "code",
   "execution_count": 8,
   "id": "cff300e2-7d9d-4350-9e20-513dac236fd7",
   "metadata": {
    "nbgrader": {
     "grade": false,
     "grade_id": "cell-d8b349310b531dc4",
     "locked": false,
     "schema_version": 3,
     "solution": true,
     "task": false
    },
    "tags": []
   },
   "outputs": [
    {
     "data": {
      "text/latex": [
       "$\\displaystyle x^{2} \\cos{\\left(x \\right)} + 2 x \\sin{\\left(x \\right)}$"
      ],
      "text/plain": [
       "x**2*cos(x) + 2*x*sin(x)"
      ]
     },
     "metadata": {},
     "output_type": "display_data"
    }
   ],
   "source": [
    "### BEGIN SOLUTION\n",
    "resultado = 2*x * sy.sin(x) + x*x * sy.cos(x)\n",
    "file_answer.write('2', '2*x * sin(x) + x**2 * cos(x)', 'Checa las reglas de derivación')\n",
    "### END SOLUTION\n",
    "\n",
    "display(resultado)"
   ]
  },
  {
   "cell_type": "code",
   "execution_count": 9,
   "id": "0262a4b7-13e2-4e4e-ba15-6a54886b6edb",
   "metadata": {
    "nbgrader": {
     "grade": true,
     "grade_id": "cell-63814f78592fd5ba",
     "locked": true,
     "points": 1,
     "schema_version": 3,
     "solution": false,
     "task": false
    },
    "tags": []
   },
   "outputs": [
    {
     "ename": "NameError",
     "evalue": "name 'quizz' is not defined",
     "output_type": "error",
     "traceback": [
      "\u001b[0;31m---------------------------------------------------------------------------\u001b[0m",
      "\u001b[0;31mNameError\u001b[0m                                 Traceback (most recent call last)",
      "Cell \u001b[0;32mIn[9], line 1\u001b[0m\n\u001b[0;32m----> 1\u001b[0m \u001b[43mquizz\u001b[49m\u001b[38;5;241m.\u001b[39meval_expression(\u001b[38;5;124m'\u001b[39m\u001b[38;5;124m2\u001b[39m\u001b[38;5;124m'\u001b[39m, resultado)\n",
      "\u001b[0;31mNameError\u001b[0m: name 'quizz' is not defined"
     ]
    }
   ],
   "source": [
    "quizz.eval_expression('2', resultado)"
   ]
  },
  {
   "cell_type": "markdown",
   "id": "039a74bb-a5e6-4e93-9fdf-fa08f3c0a0de",
   "metadata": {
    "nbgrader": {
     "grade": false,
     "grade_id": "cell-6e516ef373aec8bc",
     "locked": true,
     "schema_version": 3,
     "solution": false,
     "task": false
    }
   },
   "source": [
    "---\n",
    "### **<font color=\"DodgerBlue\">Ejercicio 3. ¿Qué fórmula representa la segunda Ley de Newton?.</font>**\n",
    "\n",
    "A. <font color=\"DarkBlue\">$F = m a$.</font> <br>\n",
    "B. <font color=\"DarkBlue\">$E = m c^2$.</font> <br>\n",
    "C. <font color=\"DarkBlue\">$A = \\pi * r^2$.</font> <br>\n",
    "\n",
    "\n",
    "---"
   ]
  },
  {
   "cell_type": "code",
   "execution_count": 10,
   "id": "65158737-f2ac-4bf3-9d09-1d059e3422db",
   "metadata": {
    "nbgrader": {
     "grade": false,
     "grade_id": "cell-c20fd32d050c29c8",
     "locked": false,
     "schema_version": 3,
     "solution": true,
     "task": false
    }
   },
   "outputs": [
    {
     "name": "stdout",
     "output_type": "stream",
     "text": [
      "Creando el directorio :/home/jovyan/.ans/Plantillas/\n",
      "Respuestas y retroalimentación almacenadas.\n"
     ]
    }
   ],
   "source": [
    "### BEGIN SOLUTION\n",
    "respuesta = 'A'\n",
    "file_answer.write('3', respuesta, 'Tiene que ver con la aceleración de un cuerpo de masa m')\n",
    "file_answer.to_file('1')\n",
    "### END SOLUTION"
   ]
  },
  {
   "cell_type": "code",
   "execution_count": 11,
   "id": "7ffac335-ed1c-4a51-8eea-80f0d4e30e19",
   "metadata": {
    "nbgrader": {
     "grade": true,
     "grade_id": "cell-2385ed8829e3daa5",
     "locked": true,
     "points": 1,
     "schema_version": 3,
     "solution": false,
     "task": false
    },
    "tags": []
   },
   "outputs": [
    {
     "ename": "NameError",
     "evalue": "name 'quizz' is not defined",
     "output_type": "error",
     "traceback": [
      "\u001b[0;31m---------------------------------------------------------------------------\u001b[0m",
      "\u001b[0;31mNameError\u001b[0m                                 Traceback (most recent call last)",
      "Cell \u001b[0;32mIn[11], line 1\u001b[0m\n\u001b[0;32m----> 1\u001b[0m \u001b[43mquizz\u001b[49m\u001b[38;5;241m.\u001b[39meval_option(\u001b[38;5;124m'\u001b[39m\u001b[38;5;124m3\u001b[39m\u001b[38;5;124m'\u001b[39m,\u001b[38;5;124m'\u001b[39m\u001b[38;5;124mA\u001b[39m\u001b[38;5;124m'\u001b[39m)\n",
      "\u001b[0;31mNameError\u001b[0m: name 'quizz' is not defined"
     ]
    }
   ],
   "source": [
    "quizz.eval_option('3','A')"
   ]
  },
  {
   "cell_type": "code",
   "execution_count": null,
   "id": "fbfdcb56-4cbc-404e-817e-4da09cbba126",
   "metadata": {},
   "outputs": [],
   "source": []
  }
 ],
 "metadata": {
  "kernelspec": {
   "display_name": "Python 3 (ipykernel)",
   "language": "python",
   "name": "python3"
  },
  "language_info": {
   "codemirror_mode": {
    "name": "ipython",
    "version": 3
   },
   "file_extension": ".py",
   "mimetype": "text/x-python",
   "name": "python",
   "nbconvert_exporter": "python",
   "pygments_lexer": "ipython3",
   "version": "3.11.6"
  }
 },
 "nbformat": 4,
 "nbformat_minor": 5
}
