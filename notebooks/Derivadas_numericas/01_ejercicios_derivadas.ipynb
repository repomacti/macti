{
 "cells": [
  {
   "cell_type": "markdown",
   "id": "7a1f6f90",
   "metadata": {
    "nbgrader": {
     "grade": false,
     "grade_id": "cell-dd14ef8f97aaa97e",
     "locked": true,
     "schema_version": 3,
     "solution": false,
     "task": false
    }
   },
   "source": [
    "# Repaso de cálculo: derivadas\n",
    "\n",
    "**Objetivo general**\n",
    "- Realizar ejercicios de derivadas en una variable.\n",
    "\n",
    " <p xmlns:cc=\"http://creativecommons.org/ns#\" xmlns:dct=\"http://purl.org/dc/terms/\"><a property=\"dct:title\" rel=\"cc:attributionURL\" href=\"https://github.com/repomacti/macti/tree/main/notebooks/Analisis_Numerico_01\">MACTI-Analisis_Numerico_01</a> by <a rel=\"cc:attributionURL dct:creator\" property=\"cc:attributionName\" href=\"https://www.macti.unam.mx\">Luis M. de la Cruz</a> is licensed under <a href=\"http://creativecommons.org/licenses/by-sa/4.0/?ref=chooser-v1\" target=\"_blank\" rel=\"license noopener noreferrer\" style=\"display:inline-block;\">Attribution-ShareAlike 4.0 International<img style=\"height:22px!important;margin-left:3px;vertical-align:text-bottom;\" src=\"https://mirrors.creativecommons.org/presskit/icons/cc.svg?ref=chooser-v1\"><img style=\"height:22px!important;margin-left:3px;vertical-align:text-bottom;\" src=\"https://mirrors.creativecommons.org/presskit/icons/by.svg?ref=chooser-v1\"><img style=\"height:22px!important;margin-left:3px;vertical-align:text-bottom;\" src=\"https://mirrors.creativecommons.org/presskit/icons/sa.svg?ref=chooser-v1\"></a></p> \n",
    "\n",
    "Trabajo realizado con el apoyo del Programa UNAM-DGAPA-PAPIME PE101922\n"
   ]
  },
  {
   "cell_type": "code",
   "execution_count": 1,
   "id": "a845ea45-d17a-4b48-a6ee-d50c688cce08",
   "metadata": {
    "nbgrader": {
     "grade": false,
     "grade_id": "cell-5e0f939d0b731391",
     "locked": true,
     "schema_version": 3,
     "solution": false,
     "task": false
    }
   },
   "outputs": [],
   "source": [
    "# Importamos todas las bibliotecas a usar\n",
    "import matplotlib.pyplot as plt\n",
    "import numpy as np\n",
    "import pandas as pd\n",
    "from sympy import *\n",
    "import macti.visual \n",
    "from macti.evaluation import *"
   ]
  },
  {
   "cell_type": "code",
   "execution_count": 2,
   "id": "e8357b74-dd46-4e1d-83e1-9125055d0e9e",
   "metadata": {
    "nbgrader": {
     "grade": false,
     "grade_id": "cell-74c5349d1f63be53",
     "locked": true,
     "schema_version": 3,
     "solution": false,
     "task": false
    }
   },
   "outputs": [],
   "source": [
    "# Definición de símbolos\n",
    "x = symbols('x')\n",
    "A, B, C = symbols('A B C')\n",
    "m, n = symbols('m n')"
   ]
  },
  {
   "cell_type": "code",
   "execution_count": 5,
   "id": "c98db9ce-1ae7-45a7-bd4f-78abd81d27fb",
   "metadata": {},
   "outputs": [],
   "source": [
    "quizz = Quizz('q1', 'notebooks', 'local')"
   ]
  },
  {
   "cell_type": "markdown",
   "id": "3c8d05f6",
   "metadata": {
    "nbgrader": {
     "grade": false,
     "grade_id": "cell-d117bd03128fa0ae",
     "locked": true,
     "schema_version": 3,
     "solution": false,
     "task": false
    }
   },
   "source": [
    "<div class=\"alert alert-success\">\n",
    "\n",
    "## Ejercicios.\n",
    "\n",
    "<font color=\"Black\">\n",
    "    \n",
    "Calcula las derivadas de las funciones descritas siguiendo las reglas del apartado [Reglas de derivación](#1). Deberás escribir tu respuesta matemáticamente usando notación de Python en la variable `respuesta`. \n",
    "\n",
    "Por ejemplo la para escribir $4x^{m-1} + \\cos^2(x)$ deberás escribir:\n",
    "\n",
    "```python\n",
    "respuesta = 4 * x**(m-1) + cos(x)**2\n",
    "```\n",
    "\n",
    "</font>\n",
    "\n",
    "</div>\n",
    "\n"
   ]
  },
  {
   "cell_type": "markdown",
   "id": "35dfd843",
   "metadata": {
    "nbgrader": {
     "grade": false,
     "grade_id": "cell-3bd723f51d42904f",
     "locked": true,
     "schema_version": 3,
     "solution": false,
     "task": false
    }
   },
   "source": [
    "### 1. Potencias:"
   ]
  },
  {
   "cell_type": "markdown",
   "id": "da47261c",
   "metadata": {
    "nbgrader": {
     "grade": false,
     "grade_id": "cell-73d27d1acf59adb4",
     "locked": true,
     "schema_version": 3,
     "solution": false,
     "task": false
    }
   },
   "source": [
    "<div class=\"alert alert-success\">\n",
    "1. a. $f(x) = x^{5}, f'(x) = ¿?$\n",
    "</div>"
   ]
  },
  {
   "cell_type": "code",
   "execution_count": 3,
   "id": "09478971",
   "metadata": {
    "nbgrader": {
     "grade": false,
     "grade_id": "cell-26fde1f19776e34d",
     "locked": false,
     "schema_version": 3,
     "solution": true,
     "task": false
    }
   },
   "outputs": [
    {
     "data": {
      "text/latex": [
       "$\\displaystyle 5 x^{4}$"
      ],
      "text/plain": [
       "5*x**4"
      ]
     },
     "metadata": {},
     "output_type": "display_data"
    }
   ],
   "source": [
    "# Escribe tu respuesta como sigue \n",
    "# respuesta = ...\n",
    "\n",
    "### BEGIN SOLUTION\n",
    "respuesta = 5*x**4\n",
    "\n",
    "file_answer = FileAnswer()\n",
    "file_answer.write('1a', str(respuesta))\n",
    "### END SOLUTION\n",
    "\n",
    "display(respuesta)"
   ]
  },
  {
   "cell_type": "code",
   "execution_count": 6,
   "id": "7cfe1e60",
   "metadata": {
    "nbgrader": {
     "grade": true,
     "grade_id": "cell-67b9915f01598210",
     "locked": true,
     "points": 1,
     "schema_version": 3,
     "solution": false,
     "task": false
    }
   },
   "outputs": [
    {
     "name": "stdout",
     "output_type": "stream",
     "text": [
      "\u001b[39m----------------------------------------\n",
      "\u001b[32m1a | Tu respuesta:\n"
     ]
    },
    {
     "data": {
      "text/latex": [
       "$\\displaystyle 5 x^{4}$"
      ],
      "text/plain": [
       "5*x**4"
      ]
     },
     "metadata": {},
     "output_type": "display_data"
    },
    {
     "name": "stdout",
     "output_type": "stream",
     "text": [
      "\u001b[32mes correcta.\n",
      "\u001b[39m----------------------------------------\n"
     ]
    }
   ],
   "source": [
    "quizz.eval_expression('1a', respuesta)"
   ]
  },
  {
   "cell_type": "markdown",
   "id": "e26a46a4",
   "metadata": {
    "nbgrader": {
     "grade": false,
     "grade_id": "cell-0c4b2908d2afeb8e",
     "locked": true,
     "schema_version": 3,
     "solution": false,
     "task": false
    }
   },
   "source": [
    "<div class=\"alert alert-success\">\n",
    "1. b. $f(x) = x^m, f'(x)= ¿?$\n",
    "</div>"
   ]
  },
  {
   "cell_type": "code",
   "execution_count": null,
   "id": "cd468bf7",
   "metadata": {
    "nbgrader": {
     "grade": false,
     "grade_id": "cell-7a9246b09ec05145",
     "locked": false,
     "schema_version": 3,
     "solution": true,
     "task": false
    }
   },
   "outputs": [],
   "source": [
    "# Escribe tu respuesta como sigue \n",
    "# respuesta = ...\n",
    "\n",
    "### BEGIN SOLUTION\n",
    "respuesta = m * x**(m-1)\n",
    "\n",
    "file_answer.write('1b', str(respuesta))\n",
    "### END SOLUTION\n",
    "\n",
    "display(respuesta)"
   ]
  },
  {
   "cell_type": "code",
   "execution_count": null,
   "id": "96428ad4",
   "metadata": {
    "nbgrader": {
     "grade": true,
     "grade_id": "cell-fa778fed41a1ed5b",
     "locked": true,
     "points": 1,
     "schema_version": 3,
     "solution": false,
     "task": false
    }
   },
   "outputs": [],
   "source": [
    "quizz.eval_expression('1b', respuesta)"
   ]
  },
  {
   "cell_type": "markdown",
   "id": "bd4fbd23",
   "metadata": {
    "nbgrader": {
     "grade": false,
     "grade_id": "cell-46c485a7418cd4f8",
     "locked": true,
     "schema_version": 3,
     "solution": false,
     "task": false
    }
   },
   "source": [
    "<a name='4-2'></a>\n",
    "### 2. Constantes"
   ]
  },
  {
   "cell_type": "markdown",
   "id": "c98f692f",
   "metadata": {
    "nbgrader": {
     "grade": false,
     "grade_id": "cell-11bafbcc5bdbba72",
     "locked": true,
     "schema_version": 3,
     "solution": false,
     "task": false
    }
   },
   "source": [
    "<div class=\"alert alert-success\">\n",
    "2. a. $f(x) = \\pi^{435}, f^\\prime(x)= ¿?$\n",
    "</div>"
   ]
  },
  {
   "cell_type": "code",
   "execution_count": null,
   "id": "b10dedf2",
   "metadata": {
    "nbgrader": {
     "grade": false,
     "grade_id": "cell-292efa0e41ebe205",
     "locked": false,
     "schema_version": 3,
     "solution": true,
     "task": false
    }
   },
   "outputs": [],
   "source": [
    "# Escribe tu respuesta como sigue \n",
    "# respuesta = ...\n",
    "\n",
    "### BEGIN SOLUTION\n",
    "respuesta = 0\n",
    "\n",
    "file_answer.write('2a', str(respuesta))\n",
    "### END SOLUTION\n",
    "\n",
    "display(respuesta)"
   ]
  },
  {
   "cell_type": "code",
   "execution_count": null,
   "id": "29b4f1f0",
   "metadata": {
    "nbgrader": {
     "grade": true,
     "grade_id": "cell-94afbe94737de6a9",
     "locked": true,
     "points": 1,
     "schema_version": 3,
     "solution": false,
     "task": false
    }
   },
   "outputs": [],
   "source": [
    "quizz.eval_expression('2a', respuesta)"
   ]
  },
  {
   "cell_type": "markdown",
   "id": "42b3c12c",
   "metadata": {
    "nbgrader": {
     "grade": false,
     "grade_id": "cell-0bd6f80e4cfd4500",
     "locked": true,
     "schema_version": 3,
     "solution": false,
     "task": false
    }
   },
   "source": [
    "<div class=\"alert alert-success\">\n",
    "2. b. $f(x) = e^{\\pi}, f'(x)= ¿?$\n",
    "</div>"
   ]
  },
  {
   "cell_type": "code",
   "execution_count": null,
   "id": "b90c2a10",
   "metadata": {
    "nbgrader": {
     "grade": false,
     "grade_id": "cell-2a3382340906adac",
     "locked": false,
     "schema_version": 3,
     "solution": true,
     "task": false
    }
   },
   "outputs": [],
   "source": [
    "# Escribe tu respuesta como sigue \n",
    "# respuesta = ...\n",
    "\n",
    "### BEGIN SOLUTION\n",
    "respuesta = 0\n",
    "\n",
    "file_answer.write('2b', str(respuesta))\n",
    "### END SOLUTION\n",
    "\n",
    "display(respuesta)"
   ]
  },
  {
   "cell_type": "code",
   "execution_count": null,
   "id": "2163c399",
   "metadata": {
    "nbgrader": {
     "grade": true,
     "grade_id": "cell-1450f4227d049101",
     "locked": true,
     "points": 1,
     "schema_version": 3,
     "solution": false,
     "task": false
    }
   },
   "outputs": [],
   "source": [
    "quizz.eval_expression('2b', respuesta)"
   ]
  },
  {
   "cell_type": "markdown",
   "id": "a2949437",
   "metadata": {
    "nbgrader": {
     "grade": false,
     "grade_id": "cell-c2e049269cd6f742",
     "locked": true,
     "schema_version": 3,
     "solution": false,
     "task": false
    }
   },
   "source": [
    "<a name='4-3'></a>\n",
    "### 3. Multiplicación por una constante"
   ]
  },
  {
   "cell_type": "markdown",
   "id": "0b776502",
   "metadata": {
    "nbgrader": {
     "grade": false,
     "grade_id": "cell-57ff3a6414d69850",
     "locked": true,
     "schema_version": 3,
     "solution": false,
     "task": false
    }
   },
   "source": [
    "<div class=\"alert alert-success\">\n",
    "3. a. $f(x) = 10x^{4}, f'(x)= ¿?$\n",
    "</div>"
   ]
  },
  {
   "cell_type": "code",
   "execution_count": null,
   "id": "bd1ef3e1",
   "metadata": {
    "nbgrader": {
     "grade": false,
     "grade_id": "cell-3e066f848dc18d41",
     "locked": false,
     "schema_version": 3,
     "solution": true,
     "task": false
    }
   },
   "outputs": [],
   "source": [
    "# Escribe tu respuesta como sigue \n",
    "# respuesta = ...\n",
    "\n",
    "### BEGIN SOLUTION\n",
    "respuesta = 40 * x ** 3\n",
    "\n",
    "file_answer.write('3a', str(respuesta))\n",
    "### END SOLUTION\n",
    "\n",
    "display(respuesta)"
   ]
  },
  {
   "cell_type": "code",
   "execution_count": null,
   "id": "3a1be145",
   "metadata": {
    "nbgrader": {
     "grade": true,
     "grade_id": "cell-f6881afae2f8dcc7",
     "locked": true,
     "points": 1,
     "schema_version": 3,
     "solution": false,
     "task": false
    }
   },
   "outputs": [],
   "source": [
    "quizz.eval_expression('3a', respuesta)"
   ]
  },
  {
   "cell_type": "markdown",
   "id": "6d8af780",
   "metadata": {
    "nbgrader": {
     "grade": false,
     "grade_id": "cell-e8c741ecf9b80fe0",
     "locked": true,
     "schema_version": 3,
     "solution": false,
     "task": false
    }
   },
   "source": [
    "<div class=\"alert alert-success\">\n",
    "3. b. $f(x) = Ax^{n}, f'(x) = ¿?$\n",
    "</div>"
   ]
  },
  {
   "cell_type": "code",
   "execution_count": null,
   "id": "117a667f",
   "metadata": {
    "nbgrader": {
     "grade": false,
     "grade_id": "cell-7bfd07bc37526d42",
     "locked": false,
     "schema_version": 3,
     "solution": true,
     "task": false
    }
   },
   "outputs": [],
   "source": [
    "# Definimos los símbolos A y n\n",
    "A, n = sy.symbols('A n')\n",
    "\n",
    "# Escribe tu respuesta como sigue \n",
    "# respuesta = ...\n",
    "\n",
    "### BEGIN SOLUTION\n",
    "respuesta = A * n * x ** (n-1)\n",
    "\n",
    "file_answer.write('3b', str(respuesta))\n",
    "### END SOLUTION\n",
    "\n",
    "display(respuesta)"
   ]
  },
  {
   "cell_type": "code",
   "execution_count": null,
   "id": "c79974d8",
   "metadata": {
    "nbgrader": {
     "grade": true,
     "grade_id": "cell-f492a3fac3a7c0b0",
     "locked": true,
     "points": 1,
     "schema_version": 3,
     "solution": false,
     "task": false
    }
   },
   "outputs": [],
   "source": [
    "quizz.eval_expression('3b', respuesta)"
   ]
  },
  {
   "cell_type": "markdown",
   "id": "cb439318",
   "metadata": {
    "nbgrader": {
     "grade": false,
     "grade_id": "cell-c8ff76bc2f4cc9e8",
     "locked": true,
     "schema_version": 3,
     "solution": false,
     "task": false
    }
   },
   "source": [
    "<a name='4-4'></a>\n",
    "### 4. Suma y Diferencia"
   ]
  },
  {
   "cell_type": "markdown",
   "id": "32082b3f",
   "metadata": {
    "nbgrader": {
     "grade": false,
     "grade_id": "cell-c83dbaa155fc3cca",
     "locked": true,
     "schema_version": 3,
     "solution": false,
     "task": false
    }
   },
   "source": [
    "<div class=\"alert alert-success\">\n",
    "4. a. $f(x) = x^{2}+x+1, f'(x) = ¿?$\n",
    "</div>"
   ]
  },
  {
   "cell_type": "code",
   "execution_count": null,
   "id": "7d35b11d",
   "metadata": {
    "nbgrader": {
     "grade": false,
     "grade_id": "cell-54918aa91ab71390",
     "locked": false,
     "schema_version": 3,
     "solution": true,
     "task": false
    }
   },
   "outputs": [],
   "source": [
    "# Escribe tu respuesta como sigue \n",
    "# respuesta = ...\n",
    "\n",
    "### BEGIN SOLUTION\n",
    "respuesta = 2*x + 1\n",
    "\n",
    "file_answer.write('4a', str(respuesta))\n",
    "### END SOLUTION\n",
    "\n",
    "display(respuesta)"
   ]
  },
  {
   "cell_type": "code",
   "execution_count": null,
   "id": "8839ca77",
   "metadata": {
    "nbgrader": {
     "grade": true,
     "grade_id": "cell-40fe2d78c38b0d64",
     "locked": true,
     "points": 1,
     "schema_version": 3,
     "solution": false,
     "task": false
    }
   },
   "outputs": [],
   "source": [
    "quizz.eval_expression('4a', respuesta)"
   ]
  },
  {
   "cell_type": "markdown",
   "id": "9a896b9d",
   "metadata": {
    "nbgrader": {
     "grade": false,
     "grade_id": "cell-c3c72c39ca77cbe6",
     "locked": true,
     "schema_version": 3,
     "solution": false,
     "task": false
    }
   },
   "source": [
    "<div class=\"alert alert-success\">\n",
    "4. b. $f(x) = \\sin(x)-\\cos(x), f'(x) = ¿?$\n",
    "</div>"
   ]
  },
  {
   "cell_type": "code",
   "execution_count": null,
   "id": "f503cb28",
   "metadata": {
    "nbgrader": {
     "grade": false,
     "grade_id": "cell-5afe94314a31c646",
     "locked": false,
     "schema_version": 3,
     "solution": true,
     "task": false
    }
   },
   "outputs": [],
   "source": [
    "# Escribe tu respuesta como sigue \n",
    "# respuesta = ...\n",
    "\n",
    "### BEGIN SOLUTION\n",
    "respuesta = sy.cos(x) + sy.sin(x)\n",
    "\n",
    "file_answer.write('4b', str(respuesta))\n",
    "### END SOLUTION\n",
    "\n",
    "display(respuesta)"
   ]
  },
  {
   "cell_type": "code",
   "execution_count": null,
   "id": "46f4fb50",
   "metadata": {
    "nbgrader": {
     "grade": true,
     "grade_id": "cell-2dc4f33e7f9d8efa",
     "locked": true,
     "points": 1,
     "schema_version": 3,
     "solution": false,
     "task": false
    }
   },
   "outputs": [],
   "source": [
    "quizz.eval_expression('4b', respuesta)"
   ]
  },
  {
   "cell_type": "markdown",
   "id": "cfd0f8a2",
   "metadata": {
    "nbgrader": {
     "grade": false,
     "grade_id": "cell-dae3728b3bf71c0d",
     "locked": true,
     "schema_version": 3,
     "solution": false,
     "task": false
    }
   },
   "source": [
    "<div class=\"alert alert-success\">\n",
    "4. c. $f(x) = Ax^{m}-Bx^{n}+C, f'(x) = ¿?$\n",
    "</div>"
   ]
  },
  {
   "cell_type": "code",
   "execution_count": null,
   "id": "356e950c",
   "metadata": {
    "nbgrader": {
     "grade": false,
     "grade_id": "cell-b9742ec1e4618ff3",
     "locked": false,
     "schema_version": 3,
     "solution": true,
     "task": false
    }
   },
   "outputs": [],
   "source": [
    "# Definimos los símbolos B y C\n",
    "B, C = sy.symbols('B C')\n",
    "\n",
    "# Escribe tu respuesta como sigue \n",
    "# respuesta = ...\n",
    "\n",
    "### BEGIN SOLUTION\n",
    "respuesta = A * m * x ** (m-1) - B * n * x ** (n-1)\n",
    "\n",
    "file_answer.write('4c', str(respuesta))\n",
    "### END SOLUTION\n",
    "\n",
    "display(respuesta)"
   ]
  },
  {
   "cell_type": "code",
   "execution_count": null,
   "id": "582d1599",
   "metadata": {
    "nbgrader": {
     "grade": true,
     "grade_id": "cell-4b7f8cefdbd7d4d2",
     "locked": true,
     "points": 1,
     "schema_version": 3,
     "solution": false,
     "task": false
    }
   },
   "outputs": [],
   "source": [
    "quizz.eval_expression('4c', respuesta)"
   ]
  },
  {
   "cell_type": "markdown",
   "id": "0b5b04c6",
   "metadata": {
    "nbgrader": {
     "grade": false,
     "grade_id": "cell-ed98bd365b7d1b07",
     "locked": true,
     "schema_version": 3,
     "solution": false,
     "task": false
    }
   },
   "source": [
    "<a name='4-5'></a>\n",
    "### 5. Producto de funciones"
   ]
  },
  {
   "cell_type": "markdown",
   "id": "65b8d1bc",
   "metadata": {
    "nbgrader": {
     "grade": false,
     "grade_id": "cell-ef03efbfbdac4b27",
     "locked": true,
     "schema_version": 3,
     "solution": false,
     "task": false
    }
   },
   "source": [
    "__NOTA__:Reduce la solucion a su mínima expresion"
   ]
  },
  {
   "cell_type": "markdown",
   "id": "0aa9ae58",
   "metadata": {
    "nbgrader": {
     "grade": false,
     "grade_id": "cell-06e3304cef619c98",
     "locked": true,
     "schema_version": 3,
     "solution": false,
     "task": false
    }
   },
   "source": [
    "<div class=\"alert alert-success\">\n",
    "5. a. $f(x) = (x^4)( x^{-2}), f'(x) = ¿?$\n",
    "</div>"
   ]
  },
  {
   "cell_type": "code",
   "execution_count": null,
   "id": "fc9edd40",
   "metadata": {
    "nbgrader": {
     "grade": false,
     "grade_id": "cell-1329e6740c0e1af4",
     "locked": false,
     "schema_version": 3,
     "solution": true,
     "task": false
    }
   },
   "outputs": [],
   "source": [
    "# Escribe tu respuesta como sigue \n",
    "# respuesta = ...\n",
    "\n",
    "### BEGIN SOLUTION\n",
    "respuesta = 2 * x\n",
    "\n",
    "file_answer.write('5a', str(respuesta))\n",
    "### END SOLUTION\n",
    "\n",
    "display(respuesta)"
   ]
  },
  {
   "cell_type": "code",
   "execution_count": null,
   "id": "03700dfc-0723-4c28-a755-b29ad542a8e7",
   "metadata": {
    "nbgrader": {
     "grade": true,
     "grade_id": "cell-0af586298a928996",
     "locked": true,
     "points": 1,
     "schema_version": 3,
     "solution": false,
     "task": false
    }
   },
   "outputs": [],
   "source": [
    "quizz.eval_expression('5a', respuesta)"
   ]
  },
  {
   "cell_type": "markdown",
   "id": "f17a25e6",
   "metadata": {
    "nbgrader": {
     "grade": false,
     "grade_id": "cell-a1f3b6403e11e738",
     "locked": true,
     "schema_version": 3,
     "solution": false,
     "task": false
    }
   },
   "source": [
    "<div class=\"alert alert-success\">\n",
    "5. b. $f(x) = \\sin(x)\\cos(x), f'(x) = ¿?$\n",
    "</div>"
   ]
  },
  {
   "cell_type": "code",
   "execution_count": null,
   "id": "4e1cb351",
   "metadata": {
    "nbgrader": {
     "grade": false,
     "grade_id": "cell-c124dcf679693047",
     "locked": false,
     "schema_version": 3,
     "solution": true,
     "task": false
    }
   },
   "outputs": [],
   "source": [
    "# Escribe tu respuesta como sigue \n",
    "# respuesta = ...\n",
    "\n",
    "### BEGIN SOLUTION\n",
    "respuesta = -sy.sin(x)**2 + sy.cos(x)**2\n",
    "\n",
    "file_answer.write('5b', str(respuesta))\n",
    "### END SOLUTION\n",
    "\n",
    "display(respuesta)"
   ]
  },
  {
   "cell_type": "code",
   "execution_count": null,
   "id": "f868fb63",
   "metadata": {
    "nbgrader": {
     "grade": true,
     "grade_id": "cell-25f754adbb003a7d",
     "locked": true,
     "points": 1,
     "schema_version": 3,
     "solution": false,
     "task": false
    }
   },
   "outputs": [],
   "source": [
    "quizz.eval_expression('5b', respuesta)"
   ]
  },
  {
   "cell_type": "markdown",
   "id": "5b9016cb",
   "metadata": {
    "nbgrader": {
     "grade": false,
     "grade_id": "cell-fe575b2dcee0a8f8",
     "locked": true,
     "schema_version": 3,
     "solution": false,
     "task": false
    }
   },
   "source": [
    "<a name='4-6'></a>\n",
    "### 6. Cociente de funciones"
   ]
  },
  {
   "cell_type": "markdown",
   "id": "c9ff59d1",
   "metadata": {
    "nbgrader": {
     "grade": false,
     "grade_id": "cell-26b6b561372fd29b",
     "locked": true,
     "schema_version": 3,
     "solution": false,
     "task": false
    }
   },
   "source": [
    "__Nota:__ Reduce la expresión del numerador\n",
    "\n",
    "__Formato__: ( f(x) )/( g(x) )"
   ]
  },
  {
   "cell_type": "markdown",
   "id": "a9f79430",
   "metadata": {
    "nbgrader": {
     "grade": false,
     "grade_id": "cell-2d8183109c7aa8ed",
     "locked": true,
     "schema_version": 3,
     "solution": false,
     "task": false
    }
   },
   "source": [
    "<div class=\"alert alert-success\">\n",
    "6. a. $f(x) = \\dfrac{\\sin(x)}{x}, f'(x) = ¿?$\n",
    "</div>"
   ]
  },
  {
   "cell_type": "code",
   "execution_count": null,
   "id": "efac9b44",
   "metadata": {
    "nbgrader": {
     "grade": false,
     "grade_id": "cell-4707744cf5b591ce",
     "locked": false,
     "schema_version": 3,
     "solution": true,
     "task": false
    }
   },
   "outputs": [],
   "source": [
    "# Escribe tu respuesta como sigue \n",
    "# respuesta = ...\n",
    "\n",
    "### BEGIN SOLUTION\n",
    "respuesta = sy.cos(x) / x - sy.sin(x) / x**2\n",
    "\n",
    "file_answer.write('6a', str(respuesta))\n",
    "### END SOLUTION\n",
    "\n",
    "display(respuesta)"
   ]
  },
  {
   "cell_type": "code",
   "execution_count": null,
   "id": "8406ca12",
   "metadata": {
    "nbgrader": {
     "grade": true,
     "grade_id": "cell-23370a4d2db40ecf",
     "locked": true,
     "points": 1,
     "schema_version": 3,
     "solution": false,
     "task": false
    }
   },
   "outputs": [],
   "source": [
    "quizz.eval_expression('6a', respuesta)"
   ]
  },
  {
   "cell_type": "markdown",
   "id": "6fb5ace3",
   "metadata": {
    "nbgrader": {
     "grade": false,
     "grade_id": "cell-141f01a2de467633",
     "locked": true,
     "schema_version": 3,
     "solution": false,
     "task": false
    }
   },
   "source": [
    "<div class=\"alert alert-success\">\n",
    "6. b. $f(x) = \\dfrac{1}{x^2+x+1}, f'(x) = ¿?$\n",
    "</div>"
   ]
  },
  {
   "cell_type": "code",
   "execution_count": null,
   "id": "0eaaec63",
   "metadata": {
    "nbgrader": {
     "grade": false,
     "grade_id": "cell-2e9a2122a16f800b",
     "locked": false,
     "schema_version": 3,
     "solution": true,
     "task": false
    }
   },
   "outputs": [],
   "source": [
    "# Escribe tu respuesta como sigue \n",
    "# respuesta = ...\n",
    "\n",
    "### BEGIN SOLUTION\n",
    "respuesta = (-2*x-1) / (x**2 + x + 1) ** 2\n",
    "\n",
    "file_answer.write('6b', str(respuesta))\n",
    "### END SOLUTION\n",
    "\n",
    "display(respuesta)"
   ]
  },
  {
   "cell_type": "code",
   "execution_count": null,
   "id": "889de543",
   "metadata": {
    "nbgrader": {
     "grade": true,
     "grade_id": "cell-44623b766332d2ca",
     "locked": true,
     "points": 1,
     "schema_version": 3,
     "solution": false,
     "task": false
    }
   },
   "outputs": [],
   "source": [
    "quizz.eval_expression('6b', respuesta)"
   ]
  },
  {
   "cell_type": "markdown",
   "id": "3773969f",
   "metadata": {
    "nbgrader": {
     "grade": false,
     "grade_id": "cell-9ef10e62f9d20a9e",
     "locked": true,
     "schema_version": 3,
     "solution": false,
     "task": false
    }
   },
   "source": [
    "<a name='4-7'></a>\n",
    "### 7. Regla de la Cadena"
   ]
  },
  {
   "cell_type": "markdown",
   "id": "18d40532",
   "metadata": {
    "nbgrader": {
     "grade": false,
     "grade_id": "cell-7899d24c055fa575",
     "locked": true,
     "schema_version": 3,
     "solution": false,
     "task": false
    }
   },
   "source": [
    "<div class=\"alert alert-success\">\n",
    "7. a. $f(x) = (5x^2 + 2x)^{2}, f'(x) = ¿?$\n",
    "</div>"
   ]
  },
  {
   "cell_type": "code",
   "execution_count": null,
   "id": "7f2e14cb",
   "metadata": {
    "nbgrader": {
     "grade": false,
     "grade_id": "cell-07e39d870e198497",
     "locked": false,
     "schema_version": 3,
     "solution": true,
     "task": false
    }
   },
   "outputs": [],
   "source": [
    "# Escribe tu respuesta como sigue \n",
    "# respuesta = ...\n",
    "\n",
    "### BEGIN SOLUTION\n",
    "respuesta = (20*x+4)*(5*x**2+2*x)\n",
    "\n",
    "file_answer.write('7a', str(respuesta))\n",
    "### END SOLUTION\n",
    "\n",
    "display(respuesta)"
   ]
  },
  {
   "cell_type": "code",
   "execution_count": null,
   "id": "ae9fd7cb",
   "metadata": {
    "nbgrader": {
     "grade": true,
     "grade_id": "cell-e0e1f3f34c7a4fde",
     "locked": true,
     "points": 1,
     "schema_version": 3,
     "solution": false,
     "task": false
    }
   },
   "outputs": [],
   "source": [
    "quizz.eval_expression('7a', respuesta)"
   ]
  },
  {
   "cell_type": "markdown",
   "id": "4b1bb4a3",
   "metadata": {
    "nbgrader": {
     "grade": false,
     "grade_id": "cell-fc3fb9fb5451d7aa",
     "locked": true,
     "schema_version": 3,
     "solution": false,
     "task": false
    }
   },
   "source": [
    "<div class=\"alert alert-success\">\n",
    "7. b. $f(x) = \\cos(x^2 +3), f'(x) = ¿?$\n",
    "</div>"
   ]
  },
  {
   "cell_type": "code",
   "execution_count": null,
   "id": "198a018f",
   "metadata": {
    "nbgrader": {
     "grade": false,
     "grade_id": "cell-fb447f5bc18963ca",
     "locked": false,
     "schema_version": 3,
     "solution": true,
     "task": false
    }
   },
   "outputs": [],
   "source": [
    "# Escribe tu respuesta como sigue \n",
    "# respuesta = ...\n",
    "\n",
    "### BEGIN SOLUTION\n",
    "respuesta = -2*x*sy.sin(x**2+3)\n",
    "\n",
    "file_answer.write('7b', str(respuesta))\n",
    "### END SOLUTION\n",
    "\n",
    "display(respuesta)"
   ]
  },
  {
   "cell_type": "code",
   "execution_count": null,
   "id": "6f7bdff6",
   "metadata": {
    "nbgrader": {
     "grade": true,
     "grade_id": "cell-a2a7b230ecd5bd6b",
     "locked": true,
     "points": 1,
     "schema_version": 3,
     "solution": false,
     "task": false
    }
   },
   "outputs": [],
   "source": [
    "quizz.eval_expression('7b', respuesta)"
   ]
  },
  {
   "cell_type": "markdown",
   "id": "57a2b1ca",
   "metadata": {
    "nbgrader": {
     "grade": false,
     "grade_id": "cell-e0f6d68cc8aaf84f",
     "locked": true,
     "schema_version": 3,
     "solution": false,
     "task": false
    }
   },
   "source": [
    "<a name='4-8'></a>\n",
    "### 8. Derivadas de alto orden\n",
    "\n",
    "Calcular la primera, segunda, tercera y cuarta derivada de $f(x)= 3x^4 + 2x^2 - 20$."
   ]
  },
  {
   "cell_type": "markdown",
   "id": "4fb6bb48",
   "metadata": {
    "nbgrader": {
     "grade": false,
     "grade_id": "cell-e05fd7595c43893b",
     "locked": true,
     "schema_version": 3,
     "solution": false,
     "task": false
    }
   },
   "source": [
    "<div class=\"alert alert-success\">\n",
    "8. a. $f(x) = 3x^4 + 2x^2 - 20, f'(x) = ¿?$\n",
    "</div>"
   ]
  },
  {
   "cell_type": "code",
   "execution_count": null,
   "id": "8e5c9d30",
   "metadata": {
    "nbgrader": {
     "grade": false,
     "grade_id": "cell-7bccee2005d2bb85",
     "locked": false,
     "schema_version": 3,
     "solution": true,
     "task": false
    }
   },
   "outputs": [],
   "source": [
    "# Escribe tu respuesta como sigue \n",
    "# respuesta = ...\n",
    "\n",
    "### BEGIN SOLUTION\n",
    "respuesta = 12 * x**3 + 4*x\n",
    "\n",
    "file_answer.write('8a', str(respuesta))\n",
    "### END SOLUTION\n",
    "\n",
    "display(respuesta)"
   ]
  },
  {
   "cell_type": "code",
   "execution_count": null,
   "id": "9fdc21bc-d67d-4547-8806-fc225e0477f0",
   "metadata": {
    "nbgrader": {
     "grade": true,
     "grade_id": "cell-8267a7d7585a35f7",
     "locked": true,
     "points": 1,
     "schema_version": 3,
     "solution": false,
     "task": false
    }
   },
   "outputs": [],
   "source": [
    "quizz.eval_expression('8a', respuesta)"
   ]
  },
  {
   "cell_type": "markdown",
   "id": "4ba0b219",
   "metadata": {
    "nbgrader": {
     "grade": false,
     "grade_id": "cell-683c45298bfe0397",
     "locked": true,
     "schema_version": 3,
     "solution": false,
     "task": false
    }
   },
   "source": [
    "<div class=\"alert alert-success\">\n",
    "8. b. $f(x) = 3x^4 + 2x^2 - 20, f''(x) = ¿?$\n",
    "</div>"
   ]
  },
  {
   "cell_type": "code",
   "execution_count": null,
   "id": "e2fc1def",
   "metadata": {
    "nbgrader": {
     "grade": false,
     "grade_id": "cell-9b39553abd0488d4",
     "locked": false,
     "schema_version": 3,
     "solution": true,
     "task": false
    }
   },
   "outputs": [],
   "source": [
    "# Escribe tu respuesta como sigue \n",
    "# respuesta = ...\n",
    "\n",
    "### BEGIN SOLUTION\n",
    "respuesta = 36 * x**2 + 4\n",
    "\n",
    "file_answer.write('8b', str(respuesta))\n",
    "### END SOLUTION\n",
    "\n",
    "display(respuesta)"
   ]
  },
  {
   "cell_type": "code",
   "execution_count": null,
   "id": "8fa934cf-2e54-4bb5-84e9-bc64651e260f",
   "metadata": {
    "nbgrader": {
     "grade": true,
     "grade_id": "cell-41c3c26ef38d5cc5",
     "locked": true,
     "points": 1,
     "schema_version": 3,
     "solution": false,
     "task": false
    }
   },
   "outputs": [],
   "source": [
    "quizz.eval_expression('8b', respuesta)"
   ]
  },
  {
   "cell_type": "markdown",
   "id": "a73b1e10",
   "metadata": {
    "nbgrader": {
     "grade": false,
     "grade_id": "cell-35b5a6642caa30d3",
     "locked": true,
     "schema_version": 3,
     "solution": false,
     "task": false
    }
   },
   "source": [
    "<div class=\"alert alert-success\">\n",
    "8. c. $f(x) = 3x^4 + 2x^2 - 20, f'''(x) = ¿?$\n",
    "</div>"
   ]
  },
  {
   "cell_type": "code",
   "execution_count": null,
   "id": "545662f1",
   "metadata": {
    "nbgrader": {
     "grade": false,
     "grade_id": "cell-d3db8bc518e25965",
     "locked": false,
     "schema_version": 3,
     "solution": true,
     "task": false
    }
   },
   "outputs": [],
   "source": [
    "# Escribe tu respuesta como sigue \n",
    "# respuesta = ...\n",
    "\n",
    "### BEGIN SOLUTION\n",
    "respuesta = 72 * x\n",
    "\n",
    "file_answer.write('8c', str(respuesta))\n",
    "### END SOLUTION\n",
    "\n",
    "display(respuesta)"
   ]
  },
  {
   "cell_type": "code",
   "execution_count": null,
   "id": "1a5406e0-3e8f-4f39-a94c-87d34717366a",
   "metadata": {
    "nbgrader": {
     "grade": true,
     "grade_id": "cell-da6c640f544fb3b2",
     "locked": true,
     "points": 1,
     "schema_version": 3,
     "solution": false,
     "task": false
    }
   },
   "outputs": [],
   "source": [
    "quizz.eval_expression('8c', respuesta)"
   ]
  },
  {
   "cell_type": "markdown",
   "id": "352fc98a",
   "metadata": {
    "nbgrader": {
     "grade": false,
     "grade_id": "cell-1707b4b94e81d1f4",
     "locked": true,
     "schema_version": 3,
     "solution": false,
     "task": false
    }
   },
   "source": [
    "<div class=\"alert alert-success\">\n",
    "8. d. $f(x) = 3x^4 + 2x^2 - 20, f''''(x) = ¿?$\n",
    "</div>"
   ]
  },
  {
   "cell_type": "code",
   "execution_count": null,
   "id": "c81864f3",
   "metadata": {
    "nbgrader": {
     "grade": false,
     "grade_id": "cell-1e75962076c05f7a",
     "locked": false,
     "schema_version": 3,
     "solution": true,
     "task": false
    }
   },
   "outputs": [],
   "source": [
    "# Escribe tu respuesta como sigue \n",
    "# respuesta = ...\n",
    "\n",
    "### BEGIN SOLUTION\n",
    "respuesta = 72\n",
    "\n",
    "file_answer.write('8d', str(respuesta))\n",
    "### END SOLUTION\n",
    "\n",
    "display(respuesta)"
   ]
  },
  {
   "cell_type": "code",
   "execution_count": null,
   "id": "2c038600-74fd-424c-9a9c-5b6dd285c051",
   "metadata": {
    "nbgrader": {
     "grade": true,
     "grade_id": "cell-6fe70d9f3c9093f5",
     "locked": true,
     "points": 1,
     "schema_version": 3,
     "solution": false,
     "task": false
    }
   },
   "outputs": [],
   "source": [
    "quizz.eval_expression('8d', respuesta)"
   ]
  },
  {
   "cell_type": "markdown",
   "id": "e616d4aa-4435-4c3e-a357-6418149f2cf6",
   "metadata": {
    "nbgrader": {
     "grade": false,
     "grade_id": "cell-bd4a7826e5ffdf63",
     "locked": true,
     "schema_version": 3,
     "solution": false,
     "task": false
    }
   },
   "source": [
    "<div class=\"alert alert-success\">\n",
    "Realiza las gráficas de las cuatro derivadas y observa su comportamiento.\n",
    "</div>"
   ]
  },
  {
   "cell_type": "code",
   "execution_count": null,
   "id": "11f2037e",
   "metadata": {
    "nbgrader": {
     "grade": false,
     "grade_id": "cell-19ab4611cc345603",
     "locked": false,
     "schema_version": 3,
     "solution": true,
     "task": false
    }
   },
   "outputs": [],
   "source": [
    "# Definimos la función y sus cuatro derivadas\n",
    "f = lambda x: 3*x**4 + 2*x**3 -20\n",
    "\n",
    "### BEGIN SOLUTION\n",
    "f1 = lambda x: 12*x**3 + 4*x\n",
    "f2 = lambda x: 36*x**2 + 4\n",
    "f3 = lambda x: 72*x\n",
    "f4 = lambda x: 72*np.ones(len(x))\n",
    "### END SOLUTION\n",
    "# f1 = lambda x: ...\n",
    "# f2 = lambda x: ...\n",
    "# f3 = lambda x: ...\n",
    "# f4 = lambda x: ...\n",
    "\n",
    "xc = np.linspace(-3, 3, 50) # Codominio de la función\n",
    "\n",
    "# Graficamos la función y sus derivadas\n",
    "plt.title('$f(x)=3x^4 + 2x^3 -20$ y sus derivadas')\n",
    "plt.plot(xc, f(xc), label='$f(x)$')\n",
    "plt.plot(xc, f1(xc), label='$f^{(1)}(x)$')\n",
    "plt.plot(xc, f2(xc), label='$f^{(2)}(x)$')\n",
    "plt.plot(xc, f3(xc), label='$f^{(3)}(x)$')\n",
    "plt.plot(xc, f4(xc), label='$f^{(4)}(x)$')\n",
    "plt.legend()\n",
    "plt.show()"
   ]
  },
  {
   "cell_type": "markdown",
   "id": "a923cacd",
   "metadata": {
    "nbgrader": {
     "grade": false,
     "grade_id": "cell-b3d85b7af86e9372",
     "locked": true,
     "schema_version": 3,
     "solution": false,
     "task": false
    }
   },
   "source": [
    "<div class=\"alert alert-success\">\n",
    "    \n",
    "8. e. Calcula la **primera** derivada de $f(x)= x^5 - 2x^3 + x$.\n",
    "</div>"
   ]
  },
  {
   "cell_type": "code",
   "execution_count": null,
   "id": "7e3ebca2",
   "metadata": {
    "nbgrader": {
     "grade": false,
     "grade_id": "cell-a52b88b62f44d0b3",
     "locked": false,
     "schema_version": 3,
     "solution": true,
     "task": false
    }
   },
   "outputs": [],
   "source": [
    "# Escribe tu respuesta como sigue \n",
    "# respuesta = ...\n",
    "\n",
    "### BEGIN SOLUTION\n",
    "respuesta = 5*x**4-6*x**2+1\n",
    "\n",
    "file_answer.write('8e', str(respuesta))\n",
    "### END SOLUTION\n",
    "\n",
    "display(respuesta)"
   ]
  },
  {
   "cell_type": "code",
   "execution_count": null,
   "id": "f8b23a0c-8822-4153-8a62-ac53e7ab212c",
   "metadata": {
    "nbgrader": {
     "grade": true,
     "grade_id": "cell-14519fec87462864",
     "locked": true,
     "points": 1,
     "schema_version": 3,
     "solution": false,
     "task": false
    }
   },
   "outputs": [],
   "source": [
    "quizz.eval_expression('8e', respuesta)"
   ]
  },
  {
   "cell_type": "markdown",
   "id": "6db0bec3",
   "metadata": {
    "nbgrader": {
     "grade": false,
     "grade_id": "cell-2a9c4fb6cd761a81",
     "locked": true,
     "schema_version": 3,
     "solution": false,
     "task": false
    }
   },
   "source": [
    "<div class=\"alert alert-success\">\n",
    "    \n",
    "8. f. Calcula la **segunda** derivada de $f(x)= x^5 - 2x^3 + x$.\n",
    "</div>"
   ]
  },
  {
   "cell_type": "code",
   "execution_count": null,
   "id": "b54fa500",
   "metadata": {
    "nbgrader": {
     "grade": false,
     "grade_id": "cell-11c031f1fd280fe5",
     "locked": false,
     "schema_version": 3,
     "solution": true,
     "task": false
    }
   },
   "outputs": [],
   "source": [
    "# Escribe tu respuesta como sigue \n",
    "# respuesta = ...\n",
    "\n",
    "### BEGIN SOLUTION\n",
    "respuesta = 20*x**3-12*x\n",
    "\n",
    "file_answer.write('8f', str(respuesta))\n",
    "### END SOLUTION\n",
    "\n",
    "display(respuesta)"
   ]
  },
  {
   "cell_type": "code",
   "execution_count": null,
   "id": "4f66bc54-5c4c-4328-8e05-16a77e4cad12",
   "metadata": {
    "nbgrader": {
     "grade": true,
     "grade_id": "cell-b80644cb2ddd004a",
     "locked": true,
     "points": 1,
     "schema_version": 3,
     "solution": false,
     "task": false
    }
   },
   "outputs": [],
   "source": [
    "quizz.eval_expression('8f', respuesta)"
   ]
  },
  {
   "cell_type": "markdown",
   "id": "ecbf57bf",
   "metadata": {
    "nbgrader": {
     "grade": false,
     "grade_id": "cell-948e74de33c66685",
     "locked": true,
     "schema_version": 3,
     "solution": false,
     "task": false
    }
   },
   "source": [
    "<div class=\"alert alert-success\">\n",
    "    \n",
    "8. g. Calcula la **primera** derivada de $f(x) = 4 \\cos x^2, f'(x) = ¿?$\n",
    "</div>"
   ]
  },
  {
   "cell_type": "code",
   "execution_count": null,
   "id": "040ac515",
   "metadata": {
    "nbgrader": {
     "grade": false,
     "grade_id": "cell-c9f5ebde6e386ebe",
     "locked": false,
     "schema_version": 3,
     "solution": true,
     "task": false
    }
   },
   "outputs": [],
   "source": [
    "# Escribe tu respuesta como sigue \n",
    "# respuesta = ...\n",
    "\n",
    "### BEGIN SOLUTION\n",
    "respuesta = -8 * x * sy.sin(x**2)\n",
    "\n",
    "file_answer.write('8g', str(respuesta))\n",
    "### END SOLUTION\n",
    "\n",
    "display(respuesta)"
   ]
  },
  {
   "cell_type": "code",
   "execution_count": null,
   "id": "2d5df84e-be08-4028-a1f1-5fba46cdf394",
   "metadata": {
    "nbgrader": {
     "grade": true,
     "grade_id": "cell-d3c73d184bdaec40",
     "locked": true,
     "points": 1,
     "schema_version": 3,
     "solution": false,
     "task": false
    }
   },
   "outputs": [],
   "source": [
    "quizz.eval_expression('8g', respuesta)"
   ]
  },
  {
   "cell_type": "markdown",
   "id": "129c3f2f",
   "metadata": {
    "nbgrader": {
     "grade": false,
     "grade_id": "cell-e64e3fcc512a4d81",
     "locked": true,
     "schema_version": 3,
     "solution": false,
     "task": false
    }
   },
   "source": [
    "<div class=\"alert alert-success\">\n",
    "    \n",
    "8. h. Calcula la **segunda** derivada de $f(x) = 4 \\cos x^2, f'(x) = ¿?$\n",
    "</div>"
   ]
  },
  {
   "cell_type": "code",
   "execution_count": null,
   "id": "44101c69",
   "metadata": {
    "nbgrader": {
     "grade": false,
     "grade_id": "cell-1331595cbc2786f9",
     "locked": false,
     "schema_version": 3,
     "solution": true,
     "task": false
    }
   },
   "outputs": [],
   "source": [
    "# Escribe tu respuesta como sigue \n",
    "# respuesta = ...\n",
    "\n",
    "### BEGIN SOLUTION\n",
    "respuesta = -8*sy.sin(x**2) - 16*x**2*sy.cos(x**2)\n",
    "\n",
    "file_answer.write('8h', str(respuesta))\n",
    "file_answer.to_file('q1')\n",
    "### END SOLUTION\n",
    "\n",
    "display(respuesta)"
   ]
  },
  {
   "cell_type": "code",
   "execution_count": null,
   "id": "71eab698-e8f3-4ba0-94e6-36043e9a10cc",
   "metadata": {
    "nbgrader": {
     "grade": true,
     "grade_id": "cell-861d74119e0efa2a",
     "locked": true,
     "points": 1,
     "schema_version": 3,
     "solution": false,
     "task": false
    }
   },
   "outputs": [],
   "source": [
    "quizz.eval_expression('8h', respuesta)"
   ]
  },
  {
   "cell_type": "markdown",
   "id": "42992142-c53c-4692-8b87-31b3a862c68c",
   "metadata": {
    "nbgrader": {
     "grade": false,
     "grade_id": "cell-fd0c5af24039116e",
     "locked": true,
     "schema_version": 3,
     "solution": false,
     "task": false
    }
   },
   "source": [
    "<div class=\"alert alert-success\">\n",
    "Realiza las gráficas de las dos funciones y de su primera y segunda derivadas.\n",
    "</div>"
   ]
  },
  {
   "cell_type": "code",
   "execution_count": null,
   "id": "c26a7f6c",
   "metadata": {
    "nbgrader": {
     "grade": false,
     "grade_id": "cell-dcc80f43ba054eeb",
     "locked": false,
     "schema_version": 3,
     "solution": true,
     "task": false
    }
   },
   "outputs": [],
   "source": [
    "f = lambda x: x**5 - 2*x**3 + x\n",
    "\n",
    "### BEGIN SOLUTION\n",
    "f1 = lambda x: 5*x**4 -6*x**2 + 1\n",
    "f2 = lambda x: 20*x**3 - 12*x\n",
    "### END SOLUTION\n",
    "# f1 = lambda x: ...\n",
    "# f2 = lambda x: ...\n",
    "\n",
    "# Definimos la segunda función y sus derivadas\n",
    "g = lambda x: 4*np.cos(x**2)\n",
    "\n",
    "### BEGIN SOLUTION\n",
    "g1 = lambda x: -8*x*np.sin(x**2)\n",
    "g2 = lambda x: -8*np.sin(x**2) - 16*x**2*np.cos(x**2)\n",
    "### END SOLUTION\n",
    "# g1 = lambda x: ...\n",
    "# g2 = lambda x: ...\n",
    "\n",
    "xc = np.linspace(-3, 3, 50) # Codominio de las funciones\n",
    "\n",
    "# Graficamos las funciones y sus derivadas\n",
    "plt.figure(figsize=(16,6))\n",
    "ax1 = plt.subplot(1,2,1)\n",
    "ax2 = plt.subplot(1,2,2)\n",
    "\n",
    "ax1.plot(xc, f(xc), label='$f(x)$',lw=3)\n",
    "ax1.plot(xc, f1(xc), label='$f^{(1)}(x)$',lw=3)\n",
    "ax1.plot(xc, f2(xc), label='$f^{(2)}(x)$',lw=3)\n",
    "ax1.legend(loc='upper center')\n",
    "ax1.set_title('$f(x)=x^5 - 2x^3 + x$ y sus derivadas')\n",
    "ax1.set_xlabel\n",
    "\n",
    "ax2.plot(xc, g(xc), label='$g(x)$',lw=3)\n",
    "ax2.plot(xc, g1(xc), label='$g^{(1)}(x)$',lw=3)\n",
    "ax2.plot(xc, g2(xc), label='$g^{(2)}(x)$',lw=3)\n",
    "ax2.legend(loc='upper center')\n",
    "ax2.set_title('$g(x)=4\\cos(x^2)$ y sus derivadas')\n",
    "\n",
    "ax1.set_xlabel(\"$x$\")\n",
    "ax1.set_ylabel(\"$f(x)$\")\n",
    "ax2.set_xlabel(\"$x$\")\n",
    "ax2.set_ylabel(\"$g(x)$\")\n",
    "\n",
    "plt.show()"
   ]
  },
  {
   "cell_type": "markdown",
   "id": "65d1e5ec",
   "metadata": {
    "nbgrader": {
     "grade": false,
     "grade_id": "cell-264b5a5e50017fe9",
     "locked": true,
     "schema_version": 3,
     "solution": false,
     "task": false
    }
   },
   "source": [
    "<a name='4-9'></a>\n",
    "### 9. Aplicación de la regla de L'Hopital\n",
    "\n",
    "<div class=\"alert alert-success\">\n",
    "Utilizando la regla de L'Hopital encuentra el límite de $\\displaystyle f(x)=\\frac{\\sin(x)}{x}$ cuando $x$ tiende a cero.\n",
    "</div>\n",
    "\n",
    "**Solución.**\n",
    "\n",
    "Al cumplirse las condiciones de la regla podemos asegurar que:\n",
    " $$ \\lim_{x \\to 0} \\frac{\\sin (x)}{x} = \\lim_{x \\to 0} \\frac{\\sin^\\prime(x)}{x^\\prime} = \\lim_{x \\to 0} \\frac{\\cos(x)}{1}=1$$\n"
   ]
  },
  {
   "cell_type": "code",
   "execution_count": null,
   "id": "0fd0cb0f",
   "metadata": {
    "nbgrader": {
     "grade": false,
     "grade_id": "cell-515fbf68107eee7b",
     "locked": true,
     "schema_version": 3,
     "solution": false,
     "task": false
    }
   },
   "outputs": [],
   "source": [
    "f = lambda x: np.sin(x) / x\n",
    "\n",
    "x = np.linspace(-4*np.pi, 4*np.pi, num=100) # Codominio de la función\n",
    "\n",
    "# Graficamos la función y el punto (0, f(0))\n",
    "plt.title('$f(x)=\\sin(x) / x$')\n",
    "plt.ylabel(\"$f(x)$\")\n",
    "plt.xlabel(\"$x$\")\n",
    "plt.plot(x, f(x),lw=3)\n",
    "plt.scatter(0, 1, label='Límite cuando $x \\Rightarrow 0$', fc='red', ec='black', alpha=0.75, s=75, zorder=10)\n",
    "plt.legend()\n",
    "plt.show()"
   ]
  },
  {
   "cell_type": "markdown",
   "id": "f8e79ed9",
   "metadata": {
    "nbgrader": {
     "grade": false,
     "grade_id": "cell-813a867fd2a91eea",
     "locked": true,
     "schema_version": 3,
     "solution": false,
     "task": false
    },
    "tags": []
   },
   "source": [
    "<a name='4-10'></a>\n",
    "### 10. Ejemplo del teorema de Rolle.\n",
    "\n",
    "<div class=\"alert alert-success\">\n",
    "Considera la función $f(x)= x^2 + 5$, la cual es continua en todo $\\mathbb{R}$. Tomemos el intervalo $[-5,5]$ y hagamos la gráfica de esta función.\n",
    "</div>"
   ]
  },
  {
   "cell_type": "code",
   "execution_count": null,
   "id": "27a99613",
   "metadata": {
    "nbgrader": {
     "grade": false,
     "grade_id": "cell-5b61be385616c117",
     "locked": true,
     "schema_version": 3,
     "solution": false,
     "task": false
    }
   },
   "outputs": [],
   "source": [
    "# Dominio e imagen de la gráfica\n",
    "xc = np.linspace(-10,10,200)\n",
    "f = lambda i: i**2 + 5 \n",
    "\n",
    "# Configuración de la grafica\n",
    "plt.xticks(range(-10,11,5))\n",
    "plt.yticks(range(-10,110,10))\n",
    "plt.xlabel(\"$x$\",)\n",
    "plt.ylabel(\"$f(x)$\")\n",
    "plt.title(\"$f(x)=x^{2}+5$\")\n",
    "\n",
    "# Función\n",
    "plt.plot(xc,f(xc))\n",
    "\n",
    "# Dibujamos algunas líneas en la gráfica\n",
    "plt.plot(np.linspace(-10,10,2),[f(5)]*2,ls=\"dashed\",color=\"green\")\n",
    "plt.plot((5,5),(0,f(5)),ls=\"dashed\",color=\"green\")\n",
    "plt.plot((-5,-5),(0,f(5)),ls=\"dashed\",color=\"green\")\n",
    "plt.plot((-3,3),(5,5),color=\"red\",label=\"Línea Tangente\")\n",
    "\n",
    "# Dibujamos algunos puntos en la gráfica\n",
    "plt.scatter((-5,5),(0,0),color=\"black\",label=\"Puntos a y b\",zorder=5)\n",
    "plt.scatter((-5,5),(f(-5),f(5)),color=\"blue\",label=\"Puntos $f(a)$ y $f(b)$\",zorder=5)\n",
    "plt.scatter(0,f(0),color=\"red\",label=\"Punto en el que $f'(x)=0$\",zorder=5)\n",
    "\n",
    "plt.legend(loc=\"upper center\")\n",
    "plt.show()"
   ]
  },
  {
   "cell_type": "markdown",
   "id": "52108b33-3fa5-4a9d-ae32-5f3bc47b0164",
   "metadata": {
    "nbgrader": {
     "grade": false,
     "grade_id": "cell-243107b28a10bdb1",
     "locked": true,
     "schema_version": 3,
     "solution": false,
     "task": false
    }
   },
   "source": [
    "<div class=\"alert alert-info\">\n",
    "Observa en la gráfica que sigue, que se cumplen las condiciones del Teorema de Rolle y por lo tanto es posible encontrar un punto $c$, punto rojo, donde la derivada es cero (línea roja).\n",
    "</div>"
   ]
  },
  {
   "cell_type": "markdown",
   "id": "127c1ad0-443c-4ee4-ba0b-5107e4f15d2b",
   "metadata": {
    "nbgrader": {
     "grade": false,
     "grade_id": "cell-cde2492548bf7a06",
     "locked": true,
     "schema_version": 3,
     "solution": false,
     "task": false
    }
   },
   "source": [
    "<a name='1'></a>\n",
    "# Reglas de derivación\n",
    "\n",
    "En general no es complicado calcular la derivada de cualquier función y existen reglas para hacerlo más fácil.\n",
    " \n",
    "<a name='1-1'></a>\n",
    "**Regla de potencias**\n",
    "\n",
    "Para cualquier número real $n$ si $f(x)= x^n$, entonces\n",
    "$$\n",
    "f^\\prime(x) = n x^{n-1}\n",
    "$$\n",
    "\n",
    "<a name='1-2'></a>\n",
    "**Regla de la función constante**\n",
    "\n",
    "Si $f(x)=c$ es una función constante, entonces\n",
    "$$ \n",
    "f^\\prime(x)=0 \n",
    "$$\n",
    "\n",
    "<a name='1-3'></a>\n",
    "**Regla de la multiplicación por constante**\n",
    "\n",
    "Si $c$ es cualquier constante y $f(x)$ es diferenciable, entonces $g(x)= c f(x)$ también es diferenciable y su derivada es:\n",
    "$$ \n",
    "g^\\prime(x) = c f^\\prime(x) \n",
    "$$\n",
    "\n",
    "<a name='1-4'></a>\n",
    "**Regla de suma y diferencia**\n",
    "\n",
    "Si $f(x)$ y $g(x)$ son diferenciables, entonces $f(x) + g(x)$ y $f(x) - g(x)$ también son diferenciables y sus derivadas son:\n",
    "$$ \n",
    "[f(x)+ g(x)]^\\prime = f^\\prime(x) + g^\\prime(x) \n",
    "$$\n",
    "\n",
    "$$ \n",
    "[f(x)- g(x)]^\\prime=f^\\prime(x) - g^\\prime(x) \n",
    "$$\n",
    "\n",
    "<a name='1-5'></a>\n",
    "**Regla del producto**\n",
    "\n",
    "Si $f(x)$ y $g(x)$ son funciones diferenciables, entonces $f(x)g(x)$ es diferenciable y su derivada es:\n",
    "$$ \n",
    "[f(x) g(x)]^\\prime= f(x)g^\\prime(x) + g(x)f^\\prime(x) \n",
    "$$\n",
    "\n",
    "<a name='1-6'></a>\n",
    "**Regla del cociente**\n",
    "\n",
    "Si $f$ y $g$ son funciones diferenciables y $g(x) \\neq 0$, entonces $f(x)/g(x)$ es diferenciable y su derivada es: \n",
    "$$  \n",
    "\\left[\\frac{f(x)}{g(x)} \\right]^\\prime = \\frac{f(x)g^\\prime(x)- f^\\prime(x)g(x) }{g(x)^2}\n",
    "$$\n",
    "\n",
    "<a name='1-7'></a>\n",
    "**Regla  de la cadena**\n",
    "\n",
    "Si la función $f(u)$ es diferenciable, donde $u = g(x)$, y la función $g(x)$ es diferenciable, entonces la composición $y=(f \\circ g)(x)= f(g(x))$ es diferenciable:\n",
    "$$ \n",
    "f(g(x))^\\prime = f^\\prime(g(x)) \\cdot g^\\prime(x)  \n",
    "$$\n",
    "\n",
    "<a name='1-8'></a>\n",
    "**Regla de L’Hôpital**\n",
    "\n",
    "Esta regla es utilizada en caso de indeterminaciones donde $f(x)$ y $g(x)$ son dos funciones continuas definidas en el intervalo $[a,b]$, derivables en $(a,b)$ y sea $c$ perteneciente a $(a,b)$ tal que $f(c)=g(c)=0$ y $g^\\prime(x) \\neq 0$ si $x \\neq c$. Si existe el límite $L$ de $f^\\prime/g^\\prime$ en $c$, entonces existe el límite de $f(x)/g(x)$ (en $c$) y es igual a $L$. Por lo tanto:\n",
    "$$ \n",
    "\\lim_{x \\to c} \\frac{f(x)}{g(x)} = \\lim_{x \\to c} \\frac{f^\\prime(x)}{g^\\prime(x)} = L \n",
    "$$\n",
    "\n",
    "<a name='1-9'></a>\n",
    "**Derivadas de funciones trigonométricas**\n",
    "\n",
    "$$\n",
    "\\begin{eqnarray}\n",
    "\\sin^\\prime(x) & = & \\cos(x) \\\\ \n",
    "\\cos^\\prime(x) & = & -\\sin(x) \\\\\n",
    "\\tan^\\prime(x) & = & \\sec^2(x) \\\\\n",
    "\\sec^\\prime(x) & = & \\sec(x)\\tan(x) \\\\\n",
    "\\cot^\\prime(x) & = & -\\csc^2(x) \\\\\n",
    "\\csc^\\prime(x) & = & -\\csc(x)\\cot(x)\n",
    "\\end{eqnarray}\n",
    "$$\n",
    "\n",
    "<a name='1-10'></a>\n",
    "**Derivada la función exponencial**\n",
    "\n",
    "$$\n",
    "\\left[ e^{x} \\right]^\\prime = e^{x}\n",
    "$$\n"
   ]
  },
  {
   "cell_type": "markdown",
   "id": "68c65625-73db-45b5-8568-c8f004f28980",
   "metadata": {
    "nbgrader": {
     "grade": false,
     "grade_id": "cell-12c1ba75744bd489",
     "locked": true,
     "schema_version": 3,
     "solution": false,
     "task": false
    }
   },
   "source": [
    "<a name='2'></a>\n",
    "# Teorema de Rolle\n",
    "Sea $a < b$ y suponga que $f : [a, b] → {\\mathbb{R}}$ es derivable en $(a, b)$ y continua\n",
    "en $[a, b]$ y $f(a) = f(b)$. Entonces $∃ x_0 ∈ (a, b)$ tal que $f^\\prime(x_0) = 0$\n",
    "\n",
    "Lo anterior quiere decir que, dadas las condiciones del teorema, es posible encontrar un punto de la función $f(x)$ dentro del intervalo $(a,b)$ donde la derivada es cero; en otras palabras, en ese punto de la función la línea tangente es horizontal\n",
    "\n",
    "<a name='3'></a>\n",
    "# Derivadas de orden superior\n",
    "\n",
    "Es posible obtener la derivada de la derivada, es decir, si tenemos una función $f(x)$ cuya derivada es $f^\\prime(x)$, entonces podemos calcular la derivada a esta última función, para obtener $f^{\\prime\\prime}(x)$, a esta última función, si es que existe, se le conoce como la segunda derivada de $f(x)$. También se puede denotar a la segunda derivada com $f^{(2)}(x)$.\n",
    "\n",
    "En general, si $f(x)$ es derivable $k$ veces, entonces es posible obtener la $k$-ésima derivada de dicha función, que se escribe como:\n",
    "$$ \n",
    "\\frac{d^kf(x)}{dx^k} = f^{(k)}(x)\n",
    "$$"
   ]
  },
  {
   "cell_type": "code",
   "execution_count": null,
   "id": "b8d8450a-3427-4fbd-9f6c-2a037138f519",
   "metadata": {},
   "outputs": [],
   "source": []
  }
 ],
 "metadata": {
  "celltoolbar": "Create Assignment",
  "kernelspec": {
   "display_name": "Python 3 (ipykernel)",
   "language": "python",
   "name": "python3"
  },
  "language_info": {
   "codemirror_mode": {
    "name": "ipython",
    "version": 3
   },
   "file_extension": ".py",
   "mimetype": "text/x-python",
   "name": "python",
   "nbconvert_exporter": "python",
   "pygments_lexer": "ipython3",
   "version": "3.11.6"
  }
 },
 "nbformat": 4,
 "nbformat_minor": 5
}
