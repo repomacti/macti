{
 "cells": [
  {
   "cell_type": "markdown",
   "metadata": {},
   "source": [
    "# Introducción a Python para IA.\n",
    "\n",
    " <p xmlns:cc=\"http://creativecommons.org/ns#\" xmlns:dct=\"http://purl.org/dc/terms/\"><a property=\"dct:title\" rel=\"cc:attributionURL\" href=\"https://github.com/luiggix/intro_MeIA_2023\">Introducción a Python para IA</a> by <span property=\"cc:attributionName\">Luis Miguel de la Cruz Salas</span> is licensed under <a href=\"http://creativecommons.org/licenses/by-nc-sa/4.0/?ref=chooser-v1\" target=\"_blank\" rel=\"license noopener noreferrer\" style=\"display:inline-block;\">CC BY-NC-SA 4.0<img style=\"height:22px!important;margin-left:3px;vertical-align:text-bottom;\" src=\"https://mirrors.creativecommons.org/presskit/icons/cc.svg?ref=chooser-v1\"><img style=\"height:22px!important;margin-left:3px;vertical-align:text-bottom;\" src=\"https://mirrors.creativecommons.org/presskit/icons/by.svg?ref=chooser-v1\"><img style=\"height:22px!important;margin-left:3px;vertical-align:text-bottom;\" src=\"https://mirrors.creativecommons.org/presskit/icons/nc.svg?ref=chooser-v1\"><img style=\"height:22px!important;margin-left:3px;vertical-align:text-bottom;\" src=\"https://mirrors.creativecommons.org/presskit/icons/sa.svg?ref=chooser-v1\"></a></p> \n",
    "\n",
    "# Objetivos.\n",
    "Aplicar tus conocimientos de numpy y álgebra lineal a la solución de un sistema de ecuaciones."
   ]
  },
  {
   "cell_type": "markdown",
   "metadata": {},
   "source": [
    "# Cruce de dos rectas.\n",
    "\n",
    "Las siguientes dos rectas se cruzan en algún punto.\n",
    "\n",
    "$$\n",
    "\\begin{array}{ccc}\n",
    "3x_0 + 2x_1 & = &2 \\\\\n",
    "2x_0 + 6x_1 & = &-8\n",
    "\\end{array}\n",
    "$$\n",
    "\n",
    "Las ecuaciones de las rectas se pueden escribir como:\n",
    "\n",
    "$$\n",
    "\\begin{array}{ccc}\n",
    "\\dfrac{3}{2}x_0 + x_1 & = & \\dfrac{2}{2} \\\\\n",
    "\\dfrac{2}{6}x_0 + x_1 & = & -\\dfrac{8}{6}\n",
    "\\end{array} \\Longrightarrow\n",
    "\\begin{array}{ccc}\n",
    "y_0 = m_0 x + b_0 \\\\\n",
    "y_1 = m_1 x + b_1\n",
    "\\end{array} \\text{ donde }\n",
    "\\begin{array}{ccc}\n",
    "m_0 = -\\dfrac{3}{2} & b_0 = 1 \\\\\n",
    "m_1 = -\\dfrac{2}{6} & b_1 = -\\dfrac{8}{6}\n",
    "\\end{array}\n",
    "$$\n",
    "\n",
    "Ahora realizaremos la gráfica de las rectas:"
   ]
  },
  {
   "cell_type": "markdown",
   "metadata": {},
   "source": [
    "## Gráfica de las rectas"
   ]
  },
  {
   "cell_type": "code",
   "execution_count": null,
   "metadata": {
    "tags": []
   },
   "outputs": [],
   "source": [
    "import numpy as np\n",
    "import ipywidgets as widgets\n",
    "import macro\n",
    "import macti.visual\n",
    "\n",
    "from macti.evaluation import FileAnswer, Quizz\n",
    "quizz = Quizz('3', 'intro_MeIA_2023', '03_Ejercicios')"
   ]
  },
  {
   "cell_type": "markdown",
   "metadata": {},
   "source": [
    "<div class=\"alert alert-success\">\n",
    "<b>Creación de arreglos.</b>\n",
    "Revisa como se crean arreglos simples y multidimensionales, cálculo de normas y solución de sistema de ecuaciones usando <b>numpy</b> en la siguiente notebook: <a href=\"T14_Numpy.ipynb\">T14_Numpy.ipynb</a>.\n",
    "</div>"
   ]
  },
  {
   "cell_type": "markdown",
   "metadata": {},
   "source": [
    "---\n",
    "### **<font color=\"DodgerBlue\">Ejercicio 1.</font>**\n",
    "\n",
    "<font color=\"DarkBlue\"> Definir los parámetros de las ecuaciones de las rectas y graficarlas.</font>\n",
    "    \n",
    "---"
   ]
  },
  {
   "cell_type": "code",
   "execution_count": null,
   "metadata": {
    "nbgrader": {
     "grade": false,
     "grade_id": "cell-d0239a6a16514f5f",
     "locked": false,
     "schema_version": 3,
     "solution": true,
     "task": false
    },
    "tags": []
   },
   "outputs": [],
   "source": [
    "### BEGIN SOLUTION\n",
    "m0 = -3/2\n",
    "b0 = 1\n",
    "m1 = -2/6\n",
    "b1 = -8/6\n",
    "x = np.linspace(-3,6,10)\n",
    "y0 = m0 * x + b0\n",
    "y1 = m1 * x + b1 \n",
    "\n",
    "#file_answer.write('1', y0, 'Revisa la implementación de y0')\n",
    "#file_answer.write('2', y1, 'Revisa la implementación de y1')\n",
    "### END SOLUTION"
   ]
  },
  {
   "cell_type": "code",
   "execution_count": null,
   "metadata": {
    "nbgrader": {
     "grade": true,
     "grade_id": "cell-e8cf695c3c660da7",
     "locked": true,
     "points": 1,
     "schema_version": 3,
     "solution": false,
     "task": false
    },
    "tags": []
   },
   "outputs": [],
   "source": [
    "quizz.eval_numeric('1', y0)"
   ]
  },
  {
   "cell_type": "code",
   "execution_count": null,
   "metadata": {
    "nbgrader": {
     "grade": true,
     "grade_id": "cell-e63afa98faba47d0",
     "locked": true,
     "points": 1,
     "schema_version": 3,
     "solution": false,
     "task": false
    },
    "tags": []
   },
   "outputs": [],
   "source": [
    "quizz.eval_numeric('2', y1)"
   ]
  },
  {
   "cell_type": "code",
   "execution_count": null,
   "metadata": {
    "tags": []
   },
   "outputs": [],
   "source": [
    "# Esta función grafica las rectas\n",
    "macro.graf_rectas(x, y0, y1)"
   ]
  },
  {
   "cell_type": "markdown",
   "metadata": {},
   "source": [
    "## Sistema lineal.\n",
    "\n",
    "Las ecuaciones de las rectas se pueden escribir en forma de un sistema lineal:\n",
    "\n",
    "$$\n",
    "\\left[\n",
    "\\begin{array}{cc}\n",
    "3 & 2 \\\\\n",
    "2 & 6\n",
    "\\end{array} \\right]\n",
    "\\left[\n",
    "\\begin{array}{c}\n",
    "x_{0} \\\\\n",
    "x_{1}\n",
    "\\end{array} \\right] =\n",
    "\\left[\n",
    "\\begin{array}{c}\n",
    "2 \\\\ \n",
    "-8\n",
    "\\end{array} \\right]\n",
    "\\tag{1}\n",
    "$$\n",
    "\n",
    "Podemos calcular el cruce de las rectas resolviendo el sistema lineal:"
   ]
  },
  {
   "cell_type": "markdown",
   "metadata": {},
   "source": [
    "---\n",
    "### **<font color=\"DodgerBlue\">Ejercicio 2.</font>**\n",
    "\n",
    "<font color=\"DarkBlue\"> Definir el sistema lineal y resolverlo.</font>\n",
    "    \n",
    "---"
   ]
  },
  {
   "cell_type": "code",
   "execution_count": null,
   "metadata": {
    "tags": []
   },
   "outputs": [],
   "source": [
    "A = np.array([[3, 2],[2,6]] )\n",
    "b = np.array([[2,-8]])\n",
    "print(\"Matriz A : \\n\",A)\n",
    "print(\"Vector b : \\n\", b)\n",
    "\n",
    "sol = np.linalg.solve(A,b[0]) # Función del módulo linalg para resolver el sistema\n",
    "print(\"Solución del sistema: \", sol)"
   ]
  },
  {
   "cell_type": "code",
   "execution_count": null,
   "metadata": {
    "tags": []
   },
   "outputs": [],
   "source": [
    "# Esta función grafica el punto de cruce de las rectas.\n",
    "macro.graf_sol(sol)\n",
    "\n",
    "macro.graf_rectas(x, y0, y1)"
   ]
  },
  {
   "cell_type": "markdown",
   "metadata": {},
   "source": [
    "En general, un sistema de ecuaciones de $n \\times n$ se escribe como sigue:\n",
    "\n",
    "$$\n",
    "\\begin{array}{ccccccc}\n",
    "a_{11}x_1 & + & a_{12}x_2 & +  \\dots  + & a_{1n}x_n & = & b_1 \\\\\n",
    "a_{21}x_1 & + & a_{22}x_2 & +  \\dots + & a_{2n}x_n & = & b_2 \\\\\n",
    "\\vdots & & \\vdots &  & \\vdots & & \\vdots \\\\\n",
    "a_{i1}x_1 & + & a_{i2}x_2 & +  \\dots + & a_{in}x_n & = & b_i \\\\\n",
    "\\vdots & & \\vdots &  & \\vdots & & \\vdots \\\\\n",
    "a_{n1}x_1 & + & a_{n2}x_2 & + \\dots + & a_{nn}x_n & = & b_n\n",
    "\\end{array}\n",
    "$$\n",
    "\n",
    "Es posible usar diferentes métodos para encontrar resolver este tipo de sistemas. Veamos algunos."
   ]
  },
  {
   "cell_type": "markdown",
   "metadata": {},
   "source": [
    "# Método de Jacobi\n",
    "\n",
    "* En este método, de la primera ecuación se despeja $x_1$; de la segunda ecuación se despeja $x_2$; y a sí sucesivamente, de tal manera que obtenemos:\n",
    "$$\n",
    "\\begin{eqnarray*}\n",
    "\tx_1 & = &\\left( b_1 - (a_{12}x_2 +  \\dots  + a_{1n}x_n) \\right) / a_{11}  \\\\\n",
    "\tx_2 & = &\\left( b_2 - (a_{21}x_1 +  \\dots  + a_{2n}x_n) \\right) / a_{22} \\\\\n",
    "\t\\vdots & & \\vdots \\\\\n",
    "\tx_i & = &\\left( b_i - (a_{i1}x_1 +  \\dots  + a_{in}x_n) \\right) / a_{ii} \\\\\n",
    "\t\\vdots & & \\vdots \\\\\n",
    "\tx_n & = &\\left( b_n - (a_{n1}x_1 +  \\dots  + a_{nn-1}x_{n-1}) \\right) / a_{nn}\n",
    "\\end{eqnarray*}\n",
    "$$\n",
    "\n",
    "* Suponemos ahora que tenemos una solución inicial aproximada $\\mathbf{x}^0 = [x_1^0, \\dots, x_n^0]$. Usando esta solución inicial, es posible hacer una nueva aproximación para obtener  $\\mathbf{x}^1 = [x_1^1, \\dots, x_n^1]$ como sigue:\n",
    "\n",
    "$$\n",
    "\\begin{eqnarray*}\n",
    "\tx_1^1 & = &\\left( b_1 - (a_{12}x_2^0 +  \\dots  + a_{1n}x_n^0) \\right) / a_{11}  \\\\\n",
    "\tx_2^1 & = &\\left( b_2 - (a_{21}x_1^0 +  \\dots  + a_{2n}x_n^0) \\right) / a_{22} \\\\\n",
    "\t\\vdots & & \\vdots \\\\\n",
    "\tx_i^1 & = &\\left( b_i - (a_{i1}x_1^0 +  \\dots  + a_{in}x_n^0) \\right) / a_{ii} \\\\\n",
    "\t\\vdots & & \\vdots \\\\\n",
    "\tx_n^1 & = &\\left( b_n - (a_{n1}x_1^0 +  \\dots  + a_{nn-1}x_{n-1}^0) \\right) / a_{nn}\n",
    "\\end{eqnarray*}\n",
    "$$\n",
    "\n",
    "* En general para $i = 1, \\dots, n$ y $k = 1, 2, \\dots$ tenemos:\n",
    "\n",
    "$$\n",
    "x_i^k = \\frac{1}{a_{i,i}} \\left(b_i -  \\sum_{j \\neq i} a_{i,j} x_j^{k-1} \\right)\n",
    "$$\n",
    "\n",
    "* En términos de matrices, la **iteración de Jacobi** se escribe:\n",
    "$$\n",
    "\\mathbf{x}^k = -\\mathbf{D}^{-1} \\mathbf{B}\\mathbf{x}^{k-1} + \\mathbf{D}^{-1} \\mathbf{b}\n",
    "$$\n",
    "\n",
    "donde $\\mathbf{D}$ es la matriz diagonal y $\\mathbf{B} = \\mathbf{A} - \\mathbf{D}$.\n",
    "\n",
    "* El cálculo de cada componente $x_i^k$ es independiente de las otras componentes, por lo que este método se conoce también como de  *desplazamientos simultáneos*.\n"
   ]
  },
  {
   "cell_type": "markdown",
   "metadata": {
    "id": "CnNo6k82K2JN",
    "nbgrader": {
     "grade": false,
     "grade_id": "cell-e645baecfad85b94",
     "locked": true,
     "schema_version": 3,
     "solution": false,
     "task": false
    }
   },
   "source": [
    "## Algoritmo 1.\n",
    "En general, podemos definir el siguiente algoritmo para el método de Jacobi.\n",
    "<center>\n",
    "<img src=\"./Jacobi.png\"  width='500px'/>\n",
    "</center>\n",
    "\n",
    "## Implementación 1.\n"
   ]
  },
  {
   "cell_type": "code",
   "execution_count": null,
   "metadata": {
    "id": "kJMD5Mtr5DrY",
    "nbgrader": {
     "grade": false,
     "grade_id": "cell-bcbf62f6c782b10b",
     "locked": true,
     "schema_version": 3,
     "solution": false,
     "task": false
    },
    "tags": []
   },
   "outputs": [],
   "source": [
    "def jacobi(A,b,tol,kmax,xi, yi):\n",
    "    N = len(b[0])\n",
    "    xnew = np.zeros(N)\n",
    "    xold = np.zeros(N)\n",
    "    \n",
    "    # Solución inicial\n",
    "    xold[0] = xi\n",
    "    xold[1] = yi\n",
    "    \n",
    "    xs = [xi]\n",
    "    ys = [yi]\n",
    "    \n",
    "    e = 10\n",
    "    error = [] \n",
    "    \n",
    "    k = 0\n",
    "    print('{:^2} {:^10} {:^12} {:^12}'.format(' i ', 'Error', 'x0', 'x1'))\n",
    "    while(e > tol and k < kmax) :\n",
    "        for i in range(0,N): # se puede hacer en paralelo\n",
    "            xnew[i] = 0\n",
    "            for j in range(0,i):\n",
    "                xnew[i] += A[i,j] * xold[j]\n",
    "            for j in range(i+1,N):\n",
    "                xnew[i] += A[i,j] * xold[j]                \n",
    "            xnew[i] = (b[0,i] - xnew[i]) / A[i,i]\n",
    "        \n",
    "        # Almacenamos la solución actual\n",
    "        xs.append(xnew[0])\n",
    "        ys.append(xnew[1])\n",
    "        \n",
    "        e = np.linalg.norm(xnew-xold,1)\n",
    "        error.append(e)\n",
    "        k += 1\n",
    "        xold[:] = xnew[:]\n",
    "        print('{:2d} {:10.9f} ({:10.9f}, {:10.9f})'.format(k, e, xnew[0], xnew[1]))\n",
    "    return xnew, np.array(xs), np.array(ys), error, k"
   ]
  },
  {
   "cell_type": "markdown",
   "metadata": {
    "nbgrader": {
     "grade": false,
     "grade_id": "cell-78568f31c8738001",
     "locked": true,
     "schema_version": 3,
     "solution": false,
     "task": false
    }
   },
   "source": [
    "---\n",
    "<a name='ej-3'></a>\n",
    "### **<font color=\"DodgerBlue\">Ejercicio 3. Aplicación del método de Jacobi.</font>**\n",
    "\n",
    "<font color=\"DarkBlue\"> Haciendo uso de la función `jacobi` definida en la celda superior, aproxima la solución del sistema de ecuaciones (1). Utiliza la solución inicial `xini` = $(-2, 2)$, una tolerancia `tol` = $1 \\times 10^{-5}$ y `kmax` = $50$ iteraciones.</font>\n",
    "    \n",
    "---"
   ]
  },
  {
   "cell_type": "code",
   "execution_count": null,
   "metadata": {
    "colab": {
     "base_uri": "https://localhost:8080/"
    },
    "id": "BB9P34d-5DrY",
    "nbgrader": {
     "grade": false,
     "grade_id": "cell-a36ade6364fb9e6d",
     "locked": false,
     "schema_version": 3,
     "solution": true,
     "task": false
    },
    "outputId": "efc32185-d095-4312-d95b-9bd83e74725a",
    "tags": []
   },
   "outputs": [],
   "source": [
    "# Solución inicial\n",
    "xi, yi = -2, 2\n",
    "tol = 1e-5\n",
    "kmax = 50\n",
    "\n",
    "# Método de Jacobi\n",
    "solJ, xs, ys, eJ, itJ = jacobi(A, b, tol, kmax, xi, yi)"
   ]
  },
  {
   "cell_type": "code",
   "execution_count": null,
   "metadata": {
    "tags": []
   },
   "outputs": [],
   "source": [
    "macro.graf_sol(solJ)\n",
    "macro.graf_pasos(solJ, xs, ys, True)\n",
    "macro.graf_rectas(x, y0, y1)\n",
    "macro.savefig('Jacobi.pdf')"
   ]
  },
  {
   "cell_type": "markdown",
   "metadata": {},
   "source": [
    "## Cálculo del error\n",
    "\n",
    "* Definimos $e_i^k = x_i^k - x_i$ como la diferencia entre la $i$-ésima componente  de la solución exacta y la $i$-ésima componente de la $k$-ésima iteración, de tal manera que $\\mathbf{e} = [e_1, \\dots, e_n]^T$ es el vector error.\n",
    "\n",
    "* Aplicando una vez la iteración de Jacobi para $x_i$ y $x_i^{k+1}$ podemos escribir la diferencia como sigue:\n",
    "\n",
    "$$\n",
    "\\begin{eqnarray*}\n",
    "\\left| e_i^{k+1} \\right| & = &\\left| x_i^{k+1} - x_i  \\right| \\\\\n",
    "\\left| e_i^{k+1} \\right| & = & \\left|\n",
    "\\frac{1}{a_{i,i}} \\left(b_i - \\sum_{j \\neq i} a_{i,j} x_j^{k} \\right) -\n",
    "\\frac{1}{a_{i,i}} \\left(b_i - \\sum_{j \\neq i} a_{i,j} x_j \\right) \\right| \\\\\n",
    "\\left| e_i^{k+1} \\right| & = & \\left| -\\sum_{j \\neq i} \\frac{a_{i,j}}{a_{i,i}} (x_j^k - x_j)\\right| \\\\\n",
    "\\left| e_i^{k+1} \\right| & = & \\left| -\\sum_{j \\neq i} \\frac{a_{i,j}}{a_{i,i}} e_j^k \\right| \n",
    "\\le \\sum_{j \\neq i} \\left| \\frac{a_{i,j}}{a_{i,i}} \\right| || \\mathbf{e}^k ||_\\infty, \\qquad \\forall i, k .\n",
    "\\end{eqnarray*}\n",
    "$$\n",
    "\n",
    "* En particular:\n",
    "$$\n",
    "\\max_{1 \\le i \\le n} \\left( \\left| e_i^{k+1} \\right| \\right) =  || \\mathbf{e}^{k+1} ||_\\infty\n",
    " \\le \\sum_{j \\neq i} \\left| \\frac{a_{i,j}}{a_{i,i}} \\right| || \\mathbf{e}^k ||_\\infty\n",
    "$$\n",
    "\n",
    "* Definimos $\\displaystyle K = \\max_{1 \\le i \\le n} \\sum_{j \\neq i} \\left| \\frac{a_{i,j}}{a_{i,i}} \\right|$ entonces:\n",
    "\n",
    "$$\n",
    "\\begin{eqnarray*}\n",
    "|| \\mathbf{e}^{k+1} ||_\\infty & \\le &  K || \\mathbf{e}^{k} ||_\\infty \\le K \\left( K || \\mathbf{e}^{k-1} ||_\\infty \\right) \\le\n",
    "\\dots \\le K^k || \\mathbf{e}^{1} ||_\\infty \\\\\n",
    "|| \\mathbf{e}^{k+1} ||_\\infty & \\le &  K^k || \\mathbf{e}^{1} ||_\\infty\n",
    "\\end{eqnarray*}\n",
    "$$\n",
    "\n",
    "* Si $K < 1$ entonces $\\mathbf{e}^{k} \\rightarrow 0$ cuando $k \\rightarrow \\infty$\n",
    "\n",
    "* La condición $K < 1$ implica:\n",
    "$$\n",
    "\\sum_{j \\neq i} |a_{i,j}| < |a_{i,i}|, \\forall i\n",
    "$$"
   ]
  },
  {
   "cell_type": "code",
   "execution_count": null,
   "metadata": {
    "tags": []
   },
   "outputs": [],
   "source": [
    "d_error = {'Jacobi':eJ}\n",
    "macro.graf_error(d_error)"
   ]
  },
  {
   "cell_type": "markdown",
   "metadata": {
    "id": "sOg_5uyQOhm9",
    "nbgrader": {
     "grade": false,
     "grade_id": "cell-ed7e86ef97367932",
     "locked": true,
     "schema_version": 3,
     "solution": false,
     "task": false
    }
   },
   "source": [
    "# Método de Gauss-Seidel\n",
    "\n",
    "* La principal diferencia con el método de Jacobi es que las ecuaciones se analizan en un orden determinado.\n",
    "\n",
    "* Por ejemplo, si realizamos el cálculo en orden ascendente y ya hemos evaluado $x_1$ y $x_2$, para evaluar $x_3$ haríamos lo siguiente:}\n",
    "$$\n",
    "\\begin{eqnarray*}\n",
    "\\underline{x_1^1} & = &\\left( b_1 - (a_{12}x_2^0 + a_{13} x_3^0 + \\dots  + a_{1n}x_n^0) \\right) / a_{11}  \\\\\n",
    "\\underline{x_2^1} & = &\\left( b_2 - (a_{21}\\underline{x_1^1} + a_{23}x_3^0 + \\dots  + a_{2n}x_n^0) \\right) / a_{22} \\\\\n",
    "x_3 & = &\\left( b_3 - (a_{31}\\underline{x_1^1} + a_{32}\\underline{x_2^1} + \\dots  + a_{3n}x_n^0)\\right) / a_{22}\n",
    "\\end{eqnarray*}\n",
    "$$\n",
    "\n",
    "* En general la fórmula del método es como sigue:\n",
    "$$\n",
    "x_i^k = \\frac{1}{a_{i,i}} \\left(b_i -  \\sum_{j < i} a_{i,j} \\underline{x_j^{k}} \n",
    "- \\sum_{j > i} a_{i,j} x_j^{k-1} \\right) \n",
    "$$   \n",
    "\n",
    "* Este algoritmo es serial dado que cada componente depende de que las componentes previas se hayan calculado (*desplazamientos sucesivos*).\n",
    "\n",
    "* El valor de la nueva iteración $\\mathbf{x}^k$ depende del orden en que se examinan las componentes. Si se cambia el orden, el valor de $\\mathbf{x}^k$ cambia.\n"
   ]
  },
  {
   "cell_type": "markdown",
   "metadata": {
    "nbgrader": {
     "grade": false,
     "grade_id": "cell-84c6aaac242a8a0a",
     "locked": true,
     "schema_version": 3,
     "solution": false,
     "task": false
    }
   },
   "source": [
    "## Algoritmo 2.\n",
    "En general, podemos definir el siguiente algoritmo para el método de Gauss-Seidel.\n",
    "\n",
    "<center>\n",
    "<img src=\"./Gauss_Seidel.png\"  width='500px'/>\n",
    "</center>"
   ]
  },
  {
   "cell_type": "markdown",
   "metadata": {
    "id": "vsG5mVu55DrZ",
    "nbgrader": {
     "grade": false,
     "grade_id": "cell-939b6c9dc630938f",
     "locked": true,
     "schema_version": 3,
     "solution": false,
     "task": false
    }
   },
   "source": [
    "## Implementación 2."
   ]
  },
  {
   "cell_type": "code",
   "execution_count": null,
   "metadata": {
    "id": "QMVYEfy95DrZ",
    "nbgrader": {
     "grade": false,
     "grade_id": "cell-ad9e472a46931664",
     "locked": true,
     "schema_version": 3,
     "solution": false,
     "task": false
    },
    "tags": []
   },
   "outputs": [],
   "source": [
    "def gauss_seidel(A,b,tol,kmax,xi,yi):\n",
    "    N = len(b[0])\n",
    "    xnew = np.zeros(N)\n",
    "    xold = np.zeros(N)\n",
    "    \n",
    "    # Solución inicial\n",
    "    xold[0] = xi\n",
    "    xold[1] = yi\n",
    "\n",
    "    xs = [xi]\n",
    "    ys = [yi]\n",
    "    \n",
    "    e = 10\n",
    "    error = [] \n",
    "    \n",
    "    k = 0\n",
    "    print('{:^2} {:^10} {:^12} {:^12}'.format(' i ', 'Error', 'x0', 'x1'))\n",
    "    while(e > tol and k < kmax) :\n",
    "        for i in range(0,N): # se puede hacer en paralelo\n",
    "            xnew[i] = 0\n",
    "            for j in range(0,i):\n",
    "                xnew[i] += A[i,j] * xnew[j]\n",
    "            for j in range(i+1,N):\n",
    "                xnew[i] += A[i,j] * xold[j]                \n",
    "            xnew[i] = (b[0,i] - xnew[i]) / A[i,i]\n",
    "            \n",
    "        # Almacenamos la solución actual\n",
    "        xs.append(xnew[0])\n",
    "        ys.append(xnew[1])\n",
    "\n",
    "        e = np.linalg.norm(xnew-xold,1)\n",
    "        error.append(e)\n",
    "        k += 1\n",
    "        xold[:] = xnew[:]\n",
    "        print('{:2d} {:10.9f} ({:10.9f}, {:10.9f})'.format(k, e, xnew[0], xnew[1]))\n",
    "    return xnew, np.array(xs), np.array(ys), error, k"
   ]
  },
  {
   "cell_type": "markdown",
   "metadata": {
    "nbgrader": {
     "grade": false,
     "grade_id": "cell-e2080cd527067903",
     "locked": true,
     "schema_version": 3,
     "solution": false,
     "task": false
    }
   },
   "source": [
    "---\n",
    "<a name='ej-4'></a>\n",
    "### **<font color=\"DodgerBlue\">Ejercicio 4. Aplicación del método de Gauss-Seidel.</font>**\n",
    "\n",
    "<font color=\"DarkBlue\">Haciendo uso de la función `gauss_seidel` definida en la celda superior, aproxima la solución del sistema de ecuaciones del Ejercicio 1. Utiliza la solución inicial `xini` = $(0, 0)$, una tolerancia `tol` = $1 \\times 10^{-5}$ y `kmax` = $100$ iteraciones. Guarda la solución aproximada que devuelve la función en `solucion`.</font>\n",
    "    \n",
    "---"
   ]
  },
  {
   "cell_type": "code",
   "execution_count": null,
   "metadata": {
    "colab": {
     "base_uri": "https://localhost:8080/"
    },
    "id": "8OO0YZhw5Dra",
    "nbgrader": {
     "grade": false,
     "grade_id": "cell-97076304ca7ed9a8",
     "locked": false,
     "schema_version": 3,
     "solution": true,
     "task": false
    },
    "outputId": "7c53bde7-4bf1-4117-a763-004082033c37",
    "tags": []
   },
   "outputs": [],
   "source": [
    "# Solución inicial\n",
    "# xi, yi = \n",
    "# tol = \n",
    "# kmax = \n",
    "\n",
    "# Método de Gauss-Seidel\n",
    "# ...\n",
    "\n",
    "### BEGIN SOLUTION\n",
    "# Solución inicial\n",
    "xi, yi = -2, 2\n",
    "tol = 1e-5\n",
    "kmax = 50\n",
    "\n",
    "# Método de Gauss-Seidel\n",
    "solG, xs, ys, eG, itG = gauss_seidel(A, b, tol, kmax, xi, yi)\n",
    "\n",
    "#file_answer.write('3', solG, 'Revisa la llamada y ejecución de la función gauss_seidel()')\n",
    "### END SOLUTION"
   ]
  },
  {
   "cell_type": "code",
   "execution_count": null,
   "metadata": {
    "nbgrader": {
     "grade": true,
     "grade_id": "cell-cc83bed7ddfd9adf",
     "locked": true,
     "points": 1,
     "schema_version": 3,
     "solution": false,
     "task": false
    },
    "tags": []
   },
   "outputs": [],
   "source": [
    "quizz.eval_numeric('3', solG)"
   ]
  },
  {
   "cell_type": "code",
   "execution_count": null,
   "metadata": {
    "colab": {
     "base_uri": "https://localhost:8080/",
     "height": 323
    },
    "id": "9-NQyuI85Dra",
    "nbgrader": {
     "grade": false,
     "grade_id": "cell-f54a04b05a71fe63",
     "locked": true,
     "schema_version": 3,
     "solution": false,
     "task": false
    },
    "outputId": "011ac10b-965f-4a2c-e66f-76214d9a5eb9",
    "tags": []
   },
   "outputs": [],
   "source": [
    "macro.graf_sol(solG)\n",
    "macro.graf_pasos(solG, xs, ys, True)\n",
    "macro.graf_rectas(x, y0, y1)\n",
    "macro.savefig('Gauss_Seidel.pdf')"
   ]
  },
  {
   "cell_type": "code",
   "execution_count": null,
   "metadata": {
    "tags": []
   },
   "outputs": [],
   "source": [
    "d_error.update({'Gauss-Seidel':eG})\n",
    "macro.graf_error(d_error)"
   ]
  },
  {
   "cell_type": "markdown",
   "metadata": {},
   "source": [
    "# Método de Sobrerelajación sucesiva (*Successive Overrelaxation*, SOR)\n",
    "\n",
    "* Se obtiene apicando una extrapolación a la iteración de Gauss-Seidel.\n",
    "\n",
    "* Esta extrapolación es un promedio pesado entre la iteración actual y la anterior:\n",
    "$$\n",
    "x_i^k = \\omega \\bar{x}_i^k + (1-\\omega)x_i^{k-1}\n",
    "$$\n",
    "donde $\\bar{x}$ denota una iteraci\\'on de Gauss-Seidel y $\\omega$ es el\n",
    "factor de extrapolaci\\'on.\n",
    "\n",
    "* En términos de matrices tenemos:\n",
    "$$\n",
    "\\mathbf{x}^k = (\\mathbf{D} - \\omega \\mathbf{L})^{-1}(\\omega \\mathbf{U} + (1 - \\omega )\\mathbf{D})\\mathbf{x}^{k-1} \n",
    "+ \\omega (\\mathbf{D} - \\omega \\mathbf{L})^{-1} \\mathbf{b}\n",
    "$$\n",
    "* Elegir la $\\omega$ óptima no es simple, aunque se sabe que si $\\omega$ \n",
    "est\\'a fuera del intervalo $(0,2)$ el m\\'etodo falla.\n",
    "\n",
    "## Implementación 3."
   ]
  },
  {
   "cell_type": "code",
   "execution_count": null,
   "metadata": {
    "tags": []
   },
   "outputs": [],
   "source": [
    "def sor(A,b,tol,kmax,w,xi,yi):\n",
    "    N = len(b[0])\n",
    "    xnew = np.zeros(N)\n",
    "    xold = np.zeros(N)\n",
    "\n",
    "    # Solución inicial\n",
    "    xold[0] = xi\n",
    "    xold[1] = yi\n",
    "\n",
    "    xs = [xi]\n",
    "    ys = [yi]\n",
    "    \n",
    "    e = 10\n",
    "    error = [] \n",
    "    \n",
    "    k = 0\n",
    "    while(e > tol and k < kmax) :\n",
    "        for i in range(0,N): # se puede hacer en paralelo\n",
    "            sigma = 0\n",
    "            for j in range(0,i):\n",
    "                sigma += A[i,j] * xnew[j]\n",
    "            for j in range(i+1,N):\n",
    "                sigma += A[i,j] * xold[j]                \n",
    "            sigma = (b[0,i] - sigma) / A[i,i]\n",
    "            xnew[i] = xold[i] + w * (sigma -xold[i])\n",
    "            \n",
    "        # Almacenamos la solución actual\n",
    "        xs.append(xnew[0])\n",
    "        ys.append(xnew[1])\n",
    "        \n",
    "        e = np.linalg.norm(xnew-xold, 1)\n",
    "        \n",
    "        error.append(e)\n",
    "        k += 1\n",
    "        xold[:] = xnew[:]\n",
    "        print('{:2d} {:10.9f} ({:10.9f}, {:10.9f})'.format(k, e, xnew[0], xnew[1]))\n",
    "    return xnew, np.array(xs), np.array(ys), error, k"
   ]
  },
  {
   "cell_type": "code",
   "execution_count": null,
   "metadata": {
    "nbgrader": {
     "grade": false,
     "grade_id": "cell-b6b28a69f555324f",
     "locked": false,
     "schema_version": 3,
     "solution": true,
     "task": false
    },
    "tags": []
   },
   "outputs": [],
   "source": [
    "# Solución inicial\n",
    "# ...\n",
    "\n",
    "# Método de SOR, probar con w = 1.09, 1.8, 1.99, 2.0\n",
    "# ...\n",
    "\n",
    "### BEGIN SOLUTION\n",
    "# Solución inicial\n",
    "xi, yi = -2, 2\n",
    "tol = 1e-5\n",
    "kmax = 50\n",
    "\n",
    "# Método de SOR, probar con w = 1.09, 1.8, 1.99, 2.0\n",
    "w = 1.09\n",
    "solSOR, xs, ys, eSOR, itSOR = sor(A, b, tol, kmax, w, xi, yi)\n",
    "\n",
    "#file_answer.write('4', solSOR, 'Revisa la llamada y ejecución de la función sor()')\n",
    "### END SOLUTION"
   ]
  },
  {
   "cell_type": "code",
   "execution_count": null,
   "metadata": {
    "nbgrader": {
     "grade": true,
     "grade_id": "cell-3dcd7677d74b3a4d",
     "locked": true,
     "points": 1,
     "schema_version": 3,
     "solution": false,
     "task": false
    },
    "tags": []
   },
   "outputs": [],
   "source": [
    "quizz.eval_numeric('4', solSOR)"
   ]
  },
  {
   "cell_type": "code",
   "execution_count": null,
   "metadata": {
    "tags": []
   },
   "outputs": [],
   "source": [
    "macro.graf_sol(solSOR)\n",
    "macro.graf_pasos(solSOR, xs, ys, True)\n",
    "macro.graf_rectas(x, y0, y1)\n",
    "macro.savefig('SOR.pdf')"
   ]
  },
  {
   "cell_type": "code",
   "execution_count": null,
   "metadata": {
    "tags": []
   },
   "outputs": [],
   "source": [
    "d_error.update({'SOR':eSOR})\n",
    "macro.graf_error(d_error)"
   ]
  },
  {
   "cell_type": "markdown",
   "metadata": {},
   "source": [
    "# Métodos del subespacio de Krylov\n",
    "Una excelente referencia para comenzar con estos métodos es la siguiente:\n",
    "\n",
    "Shewchuk, J. R. (1994). [An Introduction to the Conjugate Gradient Method Without the Agonizing Pain](https://www.cs.cmu.edu/~quake-papers/painless-conjugate-gradient.pdf). Carnegie-Mellon University. Department of Computer Science."
   ]
  },
  {
   "cell_type": "markdown",
   "metadata": {},
   "source": [
    "## Cálculo de eigenvectores"
   ]
  },
  {
   "cell_type": "markdown",
   "metadata": {},
   "source": [
    "<div class=\"alert alert-success\">\n",
    "<b>Creación de arreglos.</b>\n",
    "Revisa como se calculan eigenvectores y eigenvalores, y cómo se apilan y concatenan arreglos usando <b>numpy</b> en la siguiente notebook: <a href=\"T15_Numpy.ipynb\">T15_Numpy.ipynb</a>.\n",
    "</div>"
   ]
  },
  {
   "cell_type": "code",
   "execution_count": null,
   "metadata": {
    "tags": []
   },
   "outputs": [],
   "source": [
    "# Cálculo de eigenvectores\n",
    "w, v = np.linalg.eig(A)  # w: eigenvalues, v: eigenvectors\n",
    "\n",
    "# Impresión de los eigenvalores y eigenvectores\n",
    "print('eigenvalores = {}'.format(w))\n",
    "print('eigenvectores:\\n {} \\n {}'.format(v[:,0], v[:,1]))\n",
    "\n",
    "# Cálculo del ángulo entre los vectores.\n",
    "e0 = v[:,0] / np.linalg.norm(v[:,0])\n",
    "e1 = v[:,1] / np.linalg.norm(v[:,1])\n",
    "angulo = np.arccos(np.dot(e0, e1)) * 180 / np.pi\n",
    "print('ángulo entre eigenvectores = {}'.format(angulo))"
   ]
  },
  {
   "cell_type": "code",
   "execution_count": null,
   "metadata": {
    "tags": []
   },
   "outputs": [],
   "source": [
    "xe = np.array([sol[0], sol[0]])\n",
    "ye = np.array([sol[1], sol[1]])\n",
    "macro.graf_eigen(xe, ye, v[0], v[1])"
   ]
  },
  {
   "cell_type": "code",
   "execution_count": null,
   "metadata": {
    "tags": []
   },
   "outputs": [],
   "source": [
    "macro.graf_eigen(xe, ye, v[0], v[1])\n",
    "macro.graf_rectas(x, y0, y1)\n",
    "macro.graf_sol(sol)"
   ]
  },
  {
   "cell_type": "markdown",
   "metadata": {},
   "source": [
    "## Forma cuadrática\n",
    "\n",
    "$ f(x) = \\dfrac{1}{2} \\mathbf{x}^T A \\mathbf{x} - \\mathbf{x}^T \\mathbf{b} + c $\n",
    "\n",
    "$\n",
    "A =\n",
    "\\left[\n",
    "\\begin{array}{cc}\n",
    "3 & 2 \\\\\n",
    "2 & 6\n",
    "\\end{array} \\right],\n",
    "x =\n",
    "\\left[\n",
    "\\begin{array}{c}\n",
    "x_{0} \\\\\n",
    "x_{1}\n",
    "\\end{array} \\right],\n",
    "b =\n",
    "\\left[\n",
    "\\begin{array}{c}\n",
    "2\\\\ -8\n",
    "\\end{array}\n",
    "\\right], \n",
    "c =\n",
    "\\left[\n",
    "\\begin{array}{c}\n",
    "0\\\\ 0\n",
    "\\end{array}\n",
    "\\right], \n",
    "$\n",
    "\n",
    "$ f^\\prime(x) = \\dfrac{1}{2} A^T \\mathbf{x} + \\dfrac{1}{2} A \\mathbf{x} - \\mathbf{b} $\n",
    "\n",
    "- Cuando $A$ es simétrica: $ f^\\prime(x) = A \\mathbf{x} - \\mathbf{b} $\n",
    "- Entonces un punto crítico de $f(x)$ se obtiene cuando $ f^\\prime(x) = A \\mathbf{x} - \\mathbf{b} = 0$, es decir cuando $A \\mathbf{x} = \\mathbf{b}$\n"
   ]
  },
  {
   "cell_type": "code",
   "execution_count": null,
   "metadata": {
    "tags": []
   },
   "outputs": [],
   "source": [
    "f = lambda A,b,c,x: 0.5 * x @ A @ x.T - x @ b.T + c"
   ]
  },
  {
   "cell_type": "code",
   "execution_count": null,
   "metadata": {
    "tags": []
   },
   "outputs": [],
   "source": [
    "size_grid = 30\n",
    "\n",
    "xg,yg = np.meshgrid(np.linspace(-3,6,size_grid),\n",
    "                    np.linspace(-8,6,size_grid))\n",
    "\n",
    "z = np.zeros((size_grid, size_grid))\n",
    "\n",
    "for i in range(size_grid):\n",
    "    for j in range(size_grid):\n",
    "        xc = np.array([[xg[i,j], yg[i,j]]])\n",
    "        z[i,j] = f(A,b,0,xc)"
   ]
  },
  {
   "cell_type": "code",
   "execution_count": null,
   "metadata": {
    "tags": []
   },
   "outputs": [],
   "source": [
    "macro.graf_fcuad(sol,xg, yg, z, cmap='twilight')"
   ]
  },
  {
   "cell_type": "code",
   "execution_count": null,
   "metadata": {
    "tags": []
   },
   "outputs": [],
   "source": [
    "widgets.interactive(macro.graf_fcuad,\n",
    "                    sol = widgets.fixed(sol),\n",
    "                    xg = widgets. fixed(xg), yg = widgets. fixed(yg),\n",
    "                    z = widgets. fixed(z), \n",
    "                    elev = widgets.FloatSlider(min=0, max=180, value = 5, step=5),\n",
    "                    azim = widgets.FloatSlider(min=0, max=180, value = -30, step=5),\n",
    "                    levels = widgets.fixed(0),\n",
    "                    cmap = widgets.fixed('twilight')) "
   ]
  },
  {
   "cell_type": "code",
   "execution_count": null,
   "metadata": {
    "tags": []
   },
   "outputs": [],
   "source": [
    "macro.graf_eigen(xe, ye, v[0], v[1])\n",
    "macro.graf_sol(sol)\n",
    "macro.graf_fcuad(sol, xg, yg, z, levels=25, cmap='twilight')\n",
    "macro.graf_rectas(x, y0, y1)"
   ]
  },
  {
   "cell_type": "markdown",
   "metadata": {},
   "source": [
    "## Algoritmo de descenso por el gradiente.\n",
    "\n",
    "$\n",
    "\\begin{array}{l}\n",
    "\\text{Input} : \\mathbf{x}_0, tol \\\\\n",
    "\\mathbf{r}_0 = \\mathbf{b}-A\\mathbf{x}_0 \\\\\n",
    "k = 0 \\\\\n",
    "\\text{WHILE}(\\mathbf{r}_k > tol) \\\\\n",
    "\\qquad \\mathbf{r}_k \\leftarrow \\mathbf{b}-A\\mathbf{x}_k \\\\\n",
    "\\qquad \\alpha_k \\leftarrow \\dfrac{\\mathbf{r}_k^T\\mathbf{r}_k}{\\mathbf{r}_k^T A \\mathbf{r}_k} \\\\\n",
    "\\qquad \\mathbf{x}_{k+1} \\leftarrow \\mathbf{x}_k + \\alpha_k \\mathbf{r}_k \\\\\n",
    "\\qquad k \\leftarrow k + 1 \\\\\n",
    "\\text{ENDWHILE}\n",
    "\\end{array}\n",
    "$\n",
    "\n",
    "### Implementación 4."
   ]
  },
  {
   "cell_type": "code",
   "execution_count": null,
   "metadata": {
    "tags": []
   },
   "outputs": [],
   "source": [
    "def steepest(A,b,x,tol,kmax):\n",
    "    xs, ys = [x[0,0]], [x[1,0]]\n",
    "    r = b.T - A @ x\n",
    "    res = np.linalg.norm(r)\n",
    "    res_list = []\n",
    "    k = 0\n",
    "    while(res > tol and k < kmax):\n",
    "        alpha = r.T @ r / (r.T @ A @ r)\n",
    "        x = x + r * alpha\n",
    "        xs.append(x[0,0])\n",
    "        ys.append(x[1,0])\n",
    "        r = b.T - A @ x\n",
    "        res = np.linalg.norm(r,1)\n",
    "        res_list.append(res)\n",
    "        k += 1\n",
    "        print('{:2d} {:10.9f} ({:10.9f}, {:10.9f})'.format(k, res, x[0,0], x[1,0]))\n",
    "    return x, np.array(xs), np.array(ys), res_list, k"
   ]
  },
  {
   "cell_type": "code",
   "execution_count": null,
   "metadata": {
    "nbgrader": {
     "grade": false,
     "grade_id": "cell-bd4e9217b18d4b06",
     "locked": false,
     "schema_version": 3,
     "solution": true,
     "task": false
    },
    "tags": []
   },
   "outputs": [],
   "source": [
    "# Solución inicial (debe darse como un arreglo tipo columna)\n",
    "# xini = ...\n",
    "\n",
    "# Método Steepest descend\n",
    "# ...\n",
    "\n",
    "### BEGIN SOLUTION\n",
    "# Solución inicial\n",
    "xi, yi = -2., 2.\n",
    "xini = np.array([xi, yi]).reshape(-1,1) \n",
    "tol = 1e-5\n",
    "kmax = 50\n",
    "\n",
    "# Método Steepest descend\n",
    "solGrad, xs, ys, resGrad, itGrad = steepest(A, b, xini, tol, kmax)\n",
    "\n",
    "#file_answer.write('5', solGrad, 'Revisa la llamada y ejecución de la función steepest()')\n",
    "### END SOLUTION"
   ]
  },
  {
   "cell_type": "code",
   "execution_count": null,
   "metadata": {
    "nbgrader": {
     "grade": true,
     "grade_id": "cell-bae5df2acd53dde0",
     "locked": true,
     "points": 0,
     "schema_version": 3,
     "solution": false,
     "task": false
    },
    "tags": []
   },
   "outputs": [],
   "source": [
    "quizz.eval_numeric('5', solGrad)"
   ]
  },
  {
   "cell_type": "code",
   "execution_count": null,
   "metadata": {
    "tags": []
   },
   "outputs": [],
   "source": [
    "macro.graf_sol(solGrad)\n",
    "macro.graf_fcuad(solGrad, xg, yg, z, levels=25, cmap='twilight')\n",
    "macro.graf_pasos(solGrad, xs, ys, True)\n",
    "macro.graf_rectas(x, y0, y1)\n",
    "macro.savefig('Steepest.pdf')"
   ]
  },
  {
   "cell_type": "code",
   "execution_count": null,
   "metadata": {
    "tags": []
   },
   "outputs": [],
   "source": [
    "d_error.update({'Descenso Grad':resGrad})\n",
    "macro.graf_error(d_error)"
   ]
  },
  {
   "cell_type": "markdown",
   "metadata": {},
   "source": [
    "## Algoritmo de Gradiente Conjugado\n",
    "\n",
    "$\n",
    "\\begin{array}{l}\n",
    "\\text{Input} : A, \\mathbf{b}, \\mathbf{x}_0, k_{max}, tol \\\\\n",
    "\\mathbf{d_0} = \\mathbf{r}_0 = \\mathbf{b} - A \\mathbf{x}_0 \\\\ \n",
    "k = 0 \\\\\n",
    "\\text{While} (||\\mathbf{r}|| > tol \\quad \\text{AND} \\quad k < k_{max} ) \\\\\n",
    "\\qquad \\alpha_k = \\frac{\\mathbf{r}_k^T \\mathbf{r}_k}{\\mathbf{d}_k^T A \\mathbf{d}_k} \\\\\n",
    "\\qquad \\mathbf{x}_{k+1} = \\mathbf{x}_{k} + \\alpha_k \\mathbf{d}_{k} \\\\\n",
    "\\qquad \\mathbf{r}_{k+1} = \\mathbf{r}_{k} - \\alpha_k A \\mathbf{d}_{k} \\\\\n",
    "\\qquad \\beta_{k+1} = \\frac{\\mathbf{r}_{k+1}^T \\mathbf{r}_{k+1}}{\\mathbf{r}_{k}^T \\mathbf{r}_{k}}  \\\\\n",
    "\\qquad \\mathbf{d}_{k+1} = \\mathbf{r}_{k+1} + \\beta_{k+1} \\mathbf{d}_{k} \\\\\n",
    "\\qquad k = k + 1  \\\\\n",
    "\\text{End While}\n",
    "\\end{array}\n",
    "$\n",
    "\n",
    "### Implementación 5."
   ]
  },
  {
   "cell_type": "code",
   "execution_count": null,
   "metadata": {
    "tags": []
   },
   "outputs": [],
   "source": [
    "def conjugateGradient(A,b,x,tol,kmax):\n",
    "    xs, ys = [x[0,0]], [x[1,0]]\n",
    "    \n",
    "    r = b.T - A @ x\n",
    "    d = r\n",
    "    rk_norm = r.T @ r\n",
    "    res = np.linalg.norm(rk_norm)\n",
    "    res_list = []\n",
    "\n",
    "    k = 0\n",
    "    while(res > tol and k < kmax):\n",
    "        alpha = float(rk_norm) / float(d.T @ A @ d)\n",
    "        x = x + alpha * d\n",
    "        xs.append(x[0,0])\n",
    "        ys.append(x[1,0])\n",
    "        r = r - alpha * A @ d\n",
    "        res = np.linalg.norm(r)\n",
    "        res_list.append(res)\n",
    "        \n",
    "        rk_old = rk_norm\n",
    "        rk_norm = r.T @ r\n",
    "        beta = float(rk_norm) / float(rk_old)\n",
    "        d = r + beta * d\n",
    "        k += 1\n",
    "        print('{:2d} {:10.9f} ({:10.9f}, {:10.9f})'.format(k, res, x[0,0], x[1,0]))\n",
    "    return x, np.array(xs), np.array(ys), res_list, k"
   ]
  },
  {
   "cell_type": "code",
   "execution_count": null,
   "metadata": {
    "nbgrader": {
     "grade": false,
     "grade_id": "cell-9899c71546a7d74b",
     "locked": false,
     "schema_version": 3,
     "solution": true,
     "task": false
    },
    "tags": []
   },
   "outputs": [],
   "source": [
    "# Solución inicial (debe darse como un arreglo tipo columna)\n",
    "# xini = ...\n",
    "\n",
    "# Método CGM\n",
    "# ...\n",
    "\n",
    "### BEGIN SOLUTION\n",
    "# Solución inicial\n",
    "xi, yi = -2., 2.\n",
    "xini = np.array([xi, yi]).reshape(-1,1) \n",
    "tol = 1e-5\n",
    "kmax = 50\n",
    "\n",
    "# Método CGM\n",
    "solCGM, xs, ys, resCGM, itCGM = conjugateGradient(A, b, xini, tol, kmax)\n",
    "\n",
    "#file_answer.write('6', solCGM, 'Revisa la llamada y ejecución de la función conjugateGradient()')\n",
    "### END SOLUTION"
   ]
  },
  {
   "cell_type": "code",
   "execution_count": null,
   "metadata": {
    "nbgrader": {
     "grade": true,
     "grade_id": "cell-1baccd0337c1d761",
     "locked": true,
     "points": 1,
     "schema_version": 3,
     "solution": false,
     "task": false
    },
    "tags": []
   },
   "outputs": [],
   "source": [
    "quizz.eval_numeric('6',solCGM)"
   ]
  },
  {
   "cell_type": "code",
   "execution_count": null,
   "metadata": {
    "tags": []
   },
   "outputs": [],
   "source": [
    "macro.graf_sol(solGrad)\n",
    "macro.graf_fcuad(solGrad, xg, yg, z, levels=25, cmap='twilight')\n",
    "macro.graf_pasos(solGrad, xs, ys, True)\n",
    "macro.graf_rectas(x, y0, y1)\n",
    "macro.savefig('CGM.pdf')"
   ]
  },
  {
   "cell_type": "code",
   "execution_count": null,
   "metadata": {
    "tags": []
   },
   "outputs": [],
   "source": [
    "d_error.update({'Gradiente Conjugado':resCGM})\n",
    "macro.graf_error(d_error)"
   ]
  },
  {
   "cell_type": "code",
   "execution_count": null,
   "metadata": {},
   "outputs": [],
   "source": []
  }
 ],
 "metadata": {
  "kernelspec": {
   "display_name": "Python 3 (ipykernel)",
   "language": "python",
   "name": "python3"
  },
  "language_info": {
   "codemirror_mode": {
    "name": "ipython",
    "version": 3
   },
   "file_extension": ".py",
   "mimetype": "text/x-python",
   "name": "python",
   "nbconvert_exporter": "python",
   "pygments_lexer": "ipython3",
   "version": "3.11.3"
  }
 },
 "nbformat": 4,
 "nbformat_minor": 4
}
