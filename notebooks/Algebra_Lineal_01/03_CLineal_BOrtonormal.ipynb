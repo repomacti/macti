{
 "cells": [
  {
   "cell_type": "markdown",
   "id": "93ae67ec-2998-465f-a13e-ed9997afdcc6",
   "metadata": {},
   "source": [
    "# Independencia lineal, base ortonormal, combinación lineal.\n",
    "\n",
    "**Objetivo.** Revisar e ilustrar los conceptos de independencia lineal y base ortonormal para $\\mathbb{R}^2$ usando la biblioteca `numpy`.\n",
    "\n",
    " <p xmlns:cc=\"http://creativecommons.org/ns#\" xmlns:dct=\"http://purl.org/dc/terms/\"><a property=\"dct:title\" rel=\"cc:attributionURL\" href=\"https://github.com/repomacti/macti/tree/main/notebooks/Algebra_Lineal_01\">MACTI-Algebra_Lineal_01</a> by <a rel=\"cc:attributionURL dct:creator\" property=\"cc:attributionName\" href=\"https://www.macti.unam.mx\">Luis M. de la Cruz</a> is licensed under <a href=\"http://creativecommons.org/licenses/by-sa/4.0/?ref=chooser-v1\" target=\"_blank\" rel=\"license noopener noreferrer\" style=\"display:inline-block;\">Attribution-ShareAlike 4.0 International<img style=\"height:22px!important;margin-left:3px;vertical-align:text-bottom;\" src=\"https://mirrors.creativecommons.org/presskit/icons/cc.svg?ref=chooser-v1\"><img style=\"height:22px!important;margin-left:3px;vertical-align:text-bottom;\" src=\"https://mirrors.creativecommons.org/presskit/icons/by.svg?ref=chooser-v1\"><img style=\"height:22px!important;margin-left:3px;vertical-align:text-bottom;\" src=\"https://mirrors.creativecommons.org/presskit/icons/sa.svg?ref=chooser-v1\"></a></p> \n",
    "\n",
    "Trabajo realizado con el apoyo del Programa UNAM-DGAPA-PAPIME PE101922"
   ]
  },
  {
   "cell_type": "code",
   "execution_count": 15,
   "id": "ee1440ca-ac8e-40ae-b621-9f96335840e1",
   "metadata": {
    "tags": []
   },
   "outputs": [],
   "source": [
    "# Importamos las bibliotecas requeridas\n",
    "import numpy as np\n",
    "import ipywidgets as widgets\n",
    "import macti.visual as mvis\n",
    "from macti.evaluation import *"
   ]
  },
  {
   "cell_type": "markdown",
   "id": "ba7c4135-dacd-4989-831c-ea445b6b5160",
   "metadata": {},
   "source": [
    "## Independencia lineal.\n",
    "\n",
    "Los vectores $\\vec{x}_1, \\vec{x}_2, \\dots, \\vec{x}_n$ son **linealmente independientes** si de la ecuación:\n",
    "$$\n",
    "\\sum_{i=1}^n \\alpha_i \\vec{x}_i =  0 \\tag{1}\n",
    "$$\n",
    "\n",
    "se deduce que $\\alpha_i = 0$, para toda $i$. \n",
    "\n",
    "Si por lo menos una de las $\\alpha_i$ es distinta de cero, entonces los vectores son **linealmente dependientes**."
   ]
  },
  {
   "cell_type": "markdown",
   "id": "c785c487-2bfa-4641-8842-57cd44cecd39",
   "metadata": {},
   "source": [
    "<div class=\"alert alert-info\">\n",
    "\n",
    "## Ejemplo 1.\n",
    "\n",
    "Definimos dos vectores, $\\vec{x}_1 = (2, 3)$ y $\\vec{x}_2 = (3, 1)$ en $\\mathbb{R}^2$ usando `numpy` como sigue:\n",
    "</div>"
   ]
  },
  {
   "cell_type": "code",
   "execution_count": 10,
   "id": "04bfb50a-7b50-41d4-a233-2766d9ecb140",
   "metadata": {
    "tags": []
   },
   "outputs": [
    {
     "name": "stdout",
     "output_type": "stream",
     "text": [
      "x1 = [2 3]\n",
      "x2 = [3 1]\n"
     ]
    },
    {
     "data": {
      "image/png": "[encoded data removed]",
      "text/plain": [
       "<Figure size 512x384 with 1 Axes>"
      ]
     },
     "metadata": {},
     "output_type": "display_data"
    }
   ],
   "source": [
    "# Definimos de los vectores\n",
    "x1 = np.array([2, 3]) \n",
    "x2 = np.array([3, 1])\n",
    "\n",
    "# Imprimimos los vectores\n",
    "print('x1 = {}'.format(x1))\n",
    "print('x2 = {}'.format(x2))\n",
    "\n",
    "# Visualizamos los vectores.\n",
    "v = mvis.Plotter()  # Definición de un objeto para crear figuras.\n",
    "v.set_coordsys(1)   # Definición del sistema de coordenadas.\n",
    "v.plot_vectors(1, [x1, x2], ['x1 = (2,3)', 'x2 = (3,1)'], ofx=-0.1) # Graficación de los vectores 'x' y 'y'.\n",
    "v.grid()  # Muestra la rejilla del sistema de coordenadas."
   ]
  },
  {
   "cell_type": "markdown",
   "id": "c9b8db9c-4d7d-4d89-a2e7-55a40b713358",
   "metadata": {},
   "source": [
    "Observa que los vectores **no son paralelos**, esto es equivalente a que los vectores sean **linealmente independientes**.\n",
    "    \n",
    "Ahora, de acuerdo con la definión $(1)$ tenemos que $\\alpha_1 \\vec{x}_1 + \\alpha_2 \\vec{x}_2 = 0$ solo se cumple cuando $\\alpha_1 = \\alpha_2 = 0$. \n",
    "\n",
    "<div class=\"alert alert-info\">\n",
    "\n",
    "**Interactivo**.\n",
    "La siguiente celda de código, genera un interactivo en donde se muestra lo anterior de manera gráfica para $\\alpha_1, \\alpha_2 \\in [-2, 2]$. Ejecuta la celda y posteriormente mueve el valor de $\\alpha_1$ y $\\alpha_2$. Observa lo que sucede con los vectores $\\alpha_1 \\vec{x}_1$ y $\\alpha_2 \\vec{x}_2$ y con la suma $\\alpha_1 \\vec{x}_1 + \\alpha_2 \\vec{x}_2$.\n",
    "</div>"
   ]
  },
  {
   "cell_type": "code",
   "execution_count": 3,
   "id": "8a58d235-0c06-4537-90b8-a47bdf18986b",
   "metadata": {
    "tags": []
   },
   "outputs": [
    {
     "data": {
      "application/vnd.jupyter.widget-view+json": {
       "model_id": "82a8bb7b61b9437da5ae266a38acb69d",
       "version_major": 2,
       "version_minor": 0
      },
      "text/plain": [
       "interactive(children=(FloatSlider(value=1.0, description='α1', max=2.0, min=-2.0, step=0.5), FloatSlider(value…"
      ]
     },
     "execution_count": 3,
     "metadata": {},
     "output_type": "execute_result"
    }
   ],
   "source": [
    "def dependencial_lineal(x1, x2, α1, α2):\n",
    "    print('x1 = {} \\t\\t x2 = {}'.format(x1, x2))\n",
    "    print('α1 * x1 = {} \\t α2 * x2 = {}'.format(α1 * x1, α2 * x2))\n",
    "    print('\\nα1 * x1 + α2 * x2 = {}'.format(α1 * x1 + α2 * x2))\n",
    "    # Visualizamos los vectores.\n",
    "    v = mvis.Plotter()  # Definición de un objeto para crear figuras.\n",
    "    v.set_coordsys(1)   # Definición del sistema de coordenadas.\n",
    "    v.plot_vectors_sum(1, [α1 * x1, α2 * x2], ['α1 * x1', 'α2 * x2'], ofx=-0.1) # Graficación de los vectores 'x' y 'y'.\n",
    "    v.grid()  # Muestra la rejilla del sistema de coordenadas.\n",
    "    return \n",
    "\n",
    "widgets.interactive(dependencial_lineal,\n",
    "                    x1 = widgets.fixed(x1),\n",
    "                    x2 = widgets.fixed(x2),\n",
    "                    α1 = widgets.FloatSlider(min=-2.0, max=2.0, step=0.5, value=1),\n",
    "                    α2 = widgets.FloatSlider(min=-2.0, max=2.0, step=0.5, value=1))"
   ]
  },
  {
   "cell_type": "markdown",
   "id": "d30681c9-7f0e-4060-9680-dba7ecf30e36",
   "metadata": {},
   "source": [
    "## Base ortonormal\n",
    "\n",
    "En el espacio euclidiano $\\mathbb{R}^n$, los vectores $\\vec{e}_1 = (1,0,\\dots,0)$, $\\vec{e}_2 = (0,1,\\dots,0), \\dots, \\vec{e}_n = (0,0,\\dots,n)$, son linealmente independientes y representan una **base ortonormal**. Además, cualquier vector $\\vec{z} = (z_1, z_2, \\dots, z_n) \\in \\mathbb{R}^n$ se puede representar como \n",
    "$$\n",
    "\\vec{z} = \\sum_{i=1}^n z_i \\vec{e}_i \\tag{2}\n",
    "$$\n",
    "\n",
    "<div class=\"alert alert-info\">\n",
    "    \n",
    "## Ejemplo 2.\n",
    "\n",
    "Definimos los vectores: $\\vec{e}_1 = (1,0)$ y $\\vec{e}_1 = (1,0)$ y los visualizamos como sigue:\n",
    "</div>"
   ]
  },
  {
   "cell_type": "code",
   "execution_count": 4,
   "id": "9ba7d623-b26c-4ca3-aebb-d8a16d16ac3d",
   "metadata": {
    "tags": []
   },
   "outputs": [
    {
     "name": "stdout",
     "output_type": "stream",
     "text": [
      "e1 = [1 0]\n",
      "e2 = [0 1]\n"
     ]
    },
    {
     "data": {
      "image/png": "[encoded data removed]",
      "text/plain": [
       "<Figure size 512x384 with 1 Axes>"
      ]
     },
     "metadata": {},
     "output_type": "display_data"
    }
   ],
   "source": [
    "e1 = np.array([1, 0])\n",
    "e2 = np.array([0, 1])\n",
    "\n",
    "# Imprimimos los vectores\n",
    "print('e1 = {}'.format(e1))\n",
    "print('e2 = {}'.format(e2))\n",
    "\n",
    "# Visualizamos los vectores.\n",
    "v = mvis.Plotter()  # Definición de un objeto para crear figuras.\n",
    "v.set_coordsys(1)   # Definición del sistema de coordenadas.\n",
    "v.plot_vectors(1, [e1, e2], ['e1 = (1,0)', 'e2 = (0,1)'],ofx=-0.2) # Graficación de los vectores 'x' y 'y'.\n",
    "v.grid()  # Muestra la rejilla del sistema de coordenadas."
   ]
  },
  {
   "cell_type": "markdown",
   "id": "3220c709-e500-4d30-b9db-ba9ac2bb5409",
   "metadata": {},
   "source": [
    "Observa que los vectores **son ortogonales** y de tamaño unitario, por lo que representan una base ortonormal de $\\mathbb{R}^2$.\n",
    "    \n",
    "Con esta base podemos representar cualquier vector de $\\mathbb{R}^2$.\n",
    "\n",
    "<div class=\"alert alert-info\">\n",
    "\n",
    "## Ejemplo 3.\n",
    "Construir el vector $\\vec{z} = (z_1, z_2) = (3.1416, 2.7182)$ usando la base ortonormal definida en el Ejemplo 2.\n",
    "\n",
    "De acuerdo con la ecuación $(2)$ podemos escribir:\n",
    "\n",
    "$$\n",
    "\\begin{eqnarray}\n",
    "\\vec{z} & = & \\sum_{i=1}^2 z_i \\vec{e}_i \\\\\n",
    "\\vec{z} & = & z_1 \\vec{e}_1 + z_2 \\vec{e}_2 \\\\\n",
    "\\vec{z} & = & 3.1416 * \\vec{e}_1 + 2.7182 * \\vec{e}_2 \\\\ \n",
    "\\vec{z} & = & 3.1416 * (1, 0) + 2.7182 * (0, 1) \\\\\n",
    "\\vec{z} & = & (3.1416, 2.7182) \n",
    "\\end{eqnarray}\n",
    "$$\n",
    "\n",
    "</div>"
   ]
  },
  {
   "cell_type": "code",
   "execution_count": 7,
   "id": "ab8fcaad-5393-48d4-b426-612c58bafbfc",
   "metadata": {
    "tags": []
   },
   "outputs": [
    {
     "name": "stdout",
     "output_type": "stream",
     "text": [
      "z = [3.1416 2.7182]\n"
     ]
    },
    {
     "data": {
      "image/png": "[encoded data removed]",
      "text/plain": [
       "<Figure size 512x384 with 1 Axes>"
      ]
     },
     "metadata": {},
     "output_type": "display_data"
    }
   ],
   "source": [
    "# Componentes del vector 'z'\n",
    "z1 = 3.1416\n",
    "z2 = 2.7182\n",
    "\n",
    "# Construcción de 'z' usando la combinación lineal\n",
    "z = z1 * e1 + z2 * e2\n",
    "\n",
    "# Imprimimos el vector\n",
    "print('z = {}'.format(z))\n",
    "\n",
    "# Visualizamos los vectores.\n",
    "v = mvis.Plotter()  # Definición de un objeto para crear figuras.\n",
    "v.set_coordsys(1)   # Definición del sistema de coordenadas.\n",
    "v.plot_vectors_sum(1, [z1 * e1, z2 * e2], ['z1 * e1', 'z2 * e2'],ofx=-0.0) # Graficación de los vectores 'x' y 'y'.\n",
    "v.grid()  # Muestra la rejilla del sistema de coordenadas."
   ]
  },
  {
   "cell_type": "markdown",
   "id": "a4e0dedb-ddc7-4a18-aa33-344ce41462e8",
   "metadata": {},
   "source": [
    "<div class=\"alert alert-success\">\n",
    "\n",
    "## Ejercicio 1.\n",
    "\n",
    "Usando `numpy` define la base ortonormal $\\{\\vec{e}_1, \\vec{e}_2, \\vec{e}_3, \\vec{e}_4\\} \\in \\mathbb{R}^4$ y con ella construye el vector $\\vec{y} = (1.5, 1.0, 2.3, -1.0)$. Imprime la base ortonormal y el resultado de construir el vector $\\vec{y}$.\n",
    "\n",
    "**Nota**. Almacena los vectores en las variables `e1`, `e2`, `e3`, `e4` y `y`.\n",
    "\n",
    "</div>"
   ]
  },
  {
   "cell_type": "code",
   "execution_count": 21,
   "id": "b6f77e94-98b8-4440-bb05-470718911069",
   "metadata": {
    "tags": []
   },
   "outputs": [
    {
     "name": "stdout",
     "output_type": "stream",
     "text": [
      "e1 = [1 0 0 0]\n",
      "e2 = [0 1 0 0]\n",
      "e3 = [0 0 1 0]\n",
      "e4 = [0 0 0 1]\n",
      " y = [ 1.5  1.   2.3 -1. ]\n",
      "El directorio :/home/jovyan/MACTI/macti/notebooks/.ans/Algebra_Lineal_01/ ya existe\n",
      "Respuestas y retroalimentación almacenadas.\n"
     ]
    }
   ],
   "source": [
    "### BEGIN SOLUTION\n",
    "e1 = np.array([1, 0, 0, 0])\n",
    "e2 = np.array([0, 1, 0, 0])\n",
    "e3 = np.array([0, 0, 1, 0])\n",
    "e4 = np.array([0, 0, 0, 1])\n",
    "\n",
    "# Imprimimos los vectores\n",
    "print('e1 = {}'.format(e1))\n",
    "print('e2 = {}'.format(e2))\n",
    "print('e3 = {}'.format(e3))\n",
    "print('e4 = {}'.format(e4))\n",
    "\n",
    "y = 1.5 * e1 + 1.0 * e2 + 2.3 * e3 - 1.0 * e4\n",
    "print(' y = {}'.format(y))\n",
    "\n",
    "file_answer =FileAnswer()\n",
    "file_answer.write('1', e1, 'e1 es incorrecto: revisa la construcción del vector.')\n",
    "file_answer.write('2', e2, 'e2 es incorrecto: revisa la construcción del vector.')\n",
    "file_answer.write('3', e3, 'e3 es incorrecto: revisa la construcción del vector.')\n",
    "file_answer.write('4', e4, 'e4 es incorrecto: revisa la construcción del vector.')\n",
    "file_answer.write('5', y, 'y es incorrecto: revisa la construcción del vector.')\n",
    "file_answer.to_file('al_03')\n",
    "### END SOLUTION\n"
   ]
  },
  {
   "cell_type": "code",
   "execution_count": 22,
   "id": "c9325cf4-504a-4de0-b208-ca348bfe84c4",
   "metadata": {},
   "outputs": [],
   "source": [
    "quizz = Quizz('al_03', 'notebooks', 'local')"
   ]
  },
  {
   "cell_type": "code",
   "execution_count": 24,
   "id": "cb5af012-93bf-49ff-b678-8d808c69e0b8",
   "metadata": {},
   "outputs": [
    {
     "name": "stdout",
     "output_type": "stream",
     "text": [
      "\u001b[39m----------------------------------------\n",
      "\u001b[32m1 | Tu resultado es correcto.\n",
      "\u001b[39m----------------------------------------\n",
      "\u001b[39m----------------------------------------\n",
      "\u001b[32m2 | Tu resultado es correcto.\n",
      "\u001b[39m----------------------------------------\n",
      "\u001b[39m----------------------------------------\n",
      "\u001b[32m3 | Tu resultado es correcto.\n",
      "\u001b[39m----------------------------------------\n",
      "\u001b[39m----------------------------------------\n",
      "\u001b[32m4 | Tu resultado es correcto.\n",
      "\u001b[39m----------------------------------------\n",
      "\u001b[39m----------------------------------------\n",
      "\u001b[32m5 | Tu resultado es correcto.\n",
      "\u001b[39m----------------------------------------\n"
     ]
    }
   ],
   "source": [
    "quizz.eval_numeric('1', e1)\n",
    "quizz.eval_numeric('2', e2)\n",
    "quizz.eval_numeric('3', e3)\n",
    "quizz.eval_numeric('4', e4)\n",
    "quizz.eval_numeric('5', y)"
   ]
  },
  {
   "cell_type": "code",
   "execution_count": null,
   "id": "fa38464f-0d58-4710-9ca1-301189613f8b",
   "metadata": {},
   "outputs": [],
   "source": []
  }
 ],
 "metadata": {
  "kernelspec": {
   "display_name": "Python 3 (ipykernel)",
   "language": "python",
   "name": "python3"
  },
  "language_info": {
   "codemirror_mode": {
    "name": "ipython",
    "version": 3
   },
   "file_extension": ".py",
   "mimetype": "text/x-python",
   "name": "python",
   "nbconvert_exporter": "python",
   "pygments_lexer": "ipython3",
   "version": "3.11.6"
  }
 },
 "nbformat": 4,
 "nbformat_minor": 5
}
