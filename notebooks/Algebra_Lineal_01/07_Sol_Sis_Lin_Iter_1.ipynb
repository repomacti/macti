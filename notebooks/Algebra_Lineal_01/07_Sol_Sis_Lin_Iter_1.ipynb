{
 "cells": [
  {
   "cell_type": "markdown",
   "metadata": {},
   "source": [
    "# Métodos iterativos para la solución de sistemas de ecuaciones lineales\n",
    "\n",
    "**Objetivo.**\n",
    "\n",
    "Describir e implementar los algoritmos de Jacobi, Gauss-Seidel y SOR para la solución de sistemas de ecuaciones lineales.\n",
    "\n",
    " <p xmlns:cc=\"http://creativecommons.org/ns#\" xmlns:dct=\"http://purl.org/dc/terms/\"><a property=\"dct:title\" rel=\"cc:attributionURL\" href=\"https://github.com/repomacti/macti/tree/main/notebooks/Algebra_Lineal_01\">MACTI-Algebra_Lineal_01</a> by <a rel=\"cc:attributionURL dct:creator\" property=\"cc:attributionName\" href=\"https://www.macti.unam.mx\">Luis M. de la Cruz</a> is licensed under <a href=\"http://creativecommons.org/licenses/by-sa/4.0/?ref=chooser-v1\" target=\"_blank\" rel=\"license noopener noreferrer\" style=\"display:inline-block;\">Attribution-ShareAlike 4.0 International<img style=\"height:22px!important;margin-left:3px;vertical-align:text-bottom;\" src=\"https://mirrors.creativecommons.org/presskit/icons/cc.svg?ref=chooser-v1\"><img style=\"height:22px!important;margin-left:3px;vertical-align:text-bottom;\" src=\"https://mirrors.creativecommons.org/presskit/icons/by.svg?ref=chooser-v1\"><img style=\"height:22px!important;margin-left:3px;vertical-align:text-bottom;\" src=\"https://mirrors.creativecommons.org/presskit/icons/sa.svg?ref=chooser-v1\"></a></p> \n",
    "\n",
    "Trabajo realizado con el apoyo del Programa UNAM-DGAPA-PAPIME PE101922"
   ]
  },
  {
   "cell_type": "code",
   "execution_count": 1,
   "metadata": {
    "tags": []
   },
   "outputs": [],
   "source": [
    "import numpy as np\n",
    "import ipywidgets as widgets\n",
    "import macti.visual as mvis"
   ]
  },
  {
   "cell_type": "markdown",
   "metadata": {},
   "source": [
    "# Cruce de dos rectas.\n",
    "\n",
    "Las siguientes dos rectas se cruzan en algún punto.\n",
    "\n",
    "$$\n",
    "\\begin{array}{ccc}\n",
    "3x + 2y & = &2 \\\\\n",
    "2x + 6y & = &-8\n",
    "\\end{array}\n",
    "$$\n",
    "\n",
    "Las ecuaciones de las rectas se pueden escribir como:\n",
    "\n",
    "$$\n",
    "\\begin{array}{ccc}\n",
    "\\dfrac{3}{2}x + y & = & 1 \\\\\n",
    "\\dfrac{2}{6}x + y & = & -\\dfrac{8}{6}\n",
    "\\end{array} \\Longrightarrow\n",
    "\\begin{array}{ccc}\n",
    "y = m_1 x + b_1 \\\\\n",
    "y = m_2 x + b_2\n",
    "\\end{array} \\text{ donde }\n",
    "\\begin{array}{ccc}\n",
    "m_1 = -\\dfrac{3}{2} & b_1 = 1 \\\\\n",
    "m_2 = -\\dfrac{2}{6} & b_2 = -\\dfrac{8}{6}\n",
    "\\end{array}\n",
    "$$\n",
    "\n",
    "Ahora realizaremos la gráfica de las rectas:"
   ]
  },
  {
   "cell_type": "markdown",
   "metadata": {},
   "source": [
    "## Definición y gráfica de las rectas"
   ]
  },
  {
   "cell_type": "markdown",
   "metadata": {},
   "source": [
    "<div class=\"alert alert-success\">\n",
    "\n",
    "## **Ejercicio 1.**\n",
    "\n",
    "<font color=\"Black\"> En la siguiente celda se define el domino $x$ para las líneas rectas, los parámetros para construir la línea recta 1 y su construcción. De la misma manera define los parámetros y construye la recta 2. Si todo lo  hiciste correctamente, la celda de graficación mostrará las gráficas de las líneas rectas.</font>\n",
    "</div>"
   ]
  },
  {
   "cell_type": "code",
   "execution_count": 2,
   "metadata": {},
   "outputs": [],
   "source": [
    "from macti.evaluation import FileAnswer, Quizz\n",
    "#file_anser = FileAnswer()\n",
    "#quizz = Quizz()"
   ]
  },
  {
   "cell_type": "code",
   "execution_count": 3,
   "metadata": {
    "nbgrader": {
     "grade": false,
     "grade_id": "cell-d0239a6a16514f5f",
     "locked": false,
     "schema_version": 3,
     "solution": true,
     "task": false
    },
    "tags": []
   },
   "outputs": [],
   "source": [
    "# Dominio\n",
    "x = np.linspace(-3,6,10)\n",
    "\n",
    "# Línea recta 1\n",
    "m1 = -3/2\n",
    "b1 = 1\n",
    "y1 = m1 * x + b1\n",
    "\n",
    "# Línea recta 2\n",
    "# m2 = ...\n",
    "# b2 = ...\n",
    "# y2 = ...\n",
    "\n",
    "### BEGIN SOLUTION\n",
    "m2 = -2/6\n",
    "b2 = -8/6\n",
    "y2 = m2 * x + b2\n",
    "\n",
    "#file_answer('1', m2, 'm2 incorrecta revisa el valor del parámetro.')\n",
    "#file_answer('2', b2, 'b2 incorrecta revisa el valor del parámetro.')\n",
    "#file_answer('3', y2, 'y2 no está definida correctamente.')\n",
    "### END SOLUTION"
   ]
  },
  {
   "cell_type": "code",
   "execution_count": 4,
   "metadata": {
    "tags": []
   },
   "outputs": [],
   "source": [
    "#quizz.eval_numeric('1', m2)\n",
    "#quizz.eval_numeric('2', b2)\n",
    "#quizz.eval_numeric('3', y2)"
   ]
  },
  {
   "cell_type": "markdown",
   "metadata": {},
   "source": [
    "**Gráfica de las líneas rectas.**"
   ]
  },
  {
   "cell_type": "code",
   "execution_count": 5,
   "metadata": {
    "tags": []
   },
   "outputs": [
    {
     "data": {
      "image/png": "[encoded data removed]",
      "text/plain": [
       "<Figure size 512x384 with 1 Axes>"
      ]
     },
     "metadata": {},
     "output_type": "display_data"
    }
   ],
   "source": [
    "v = mvis.Plotter(1,1,[dict(aspect='equal')],title='Cruce de rectas') \n",
    "v.set_coordsys(1)\n",
    "v.plot(1, x, y1, lw = 3, c = 'seagreen', label = '$3x+2y=2$') # Línea recta 1\n",
    "v.plot(1, x, y2, lw = 3, c = 'mediumorchid',label = '$2x+6y=-8$') # Línea recta 2\n",
    "v.legend(ncol = 1, frameon=True, loc='best', bbox_to_anchor=(1.75, 1.05))\n",
    "v.grid()\n",
    "v.show()"
   ]
  },
  {
   "cell_type": "markdown",
   "metadata": {},
   "source": [
    "## Sistemas lineales.\n",
    "\n",
    "Las ecuaciones de las rectas se pueden escribir en forma de un sistema lineal:\n",
    "\n",
    "$$\n",
    "\\left[\n",
    "\\begin{array}{cc}\n",
    "3 & 2 \\\\\n",
    "2 & 6\n",
    "\\end{array} \\right]\n",
    "\\left[\n",
    "\\begin{array}{c}\n",
    "x_{0} \\\\\n",
    "x_{1}\n",
    "\\end{array} \\right] =\n",
    "\\left[\n",
    "\\begin{array}{c}\n",
    "2 \\\\ \n",
    "-8\n",
    "\\end{array} \\right]\n",
    "\\tag{1}\n",
    "$$\n",
    "\n",
    "Podemos calcular el cruce de las rectas resolviendo el sistema lineal:"
   ]
  },
  {
   "cell_type": "markdown",
   "metadata": {},
   "source": [
    "<div class=\"alert alert-info\">\n",
    "\n",
    "## **Ejemplo 1.**\n",
    "\n",
    "<font color=\"Black\"> Definir el sistema lineal y resolverlo. Posteriomente graficar las rectas y el punto solución.</font>\n",
    "</div>\n",
    "\n",
    "El sistema lineal se puede resolver directamente con la función `np.linalg.solve()` como sigue:"
   ]
  },
  {
   "cell_type": "code",
   "execution_count": 6,
   "metadata": {
    "tags": []
   },
   "outputs": [
    {
     "name": "stdout",
     "output_type": "stream",
     "text": [
      "Matriz A : \n",
      " [[3 2]\n",
      " [2 6]]\n",
      "Vector b : \n",
      " [[ 2 -8]]\n",
      "Solución del sistema:  [ 2. -2.]\n"
     ]
    }
   ],
   "source": [
    "A = np.array([[3, 2],[2,6]] )\n",
    "b = np.array([[2,-8]])\n",
    "print(\"Matriz A : \\n\",A)\n",
    "print(\"Vector b : \\n\", b)\n",
    "\n",
    "sol = np.linalg.solve(A,b[0]) # Función del módulo linalg para resolver el sistema\n",
    "print(\"Solución del sistema: \", sol)"
   ]
  },
  {
   "cell_type": "markdown",
   "metadata": {},
   "source": [
    "**Gráfica de las líneas rectas y el punto de cruce (solución).**"
   ]
  },
  {
   "cell_type": "code",
   "execution_count": 7,
   "metadata": {
    "tags": []
   },
   "outputs": [
    {
     "data": {
      "image/png": "[encoded data removed]",
      "text/plain": [
       "<Figure size 512x384 with 1 Axes>"
      ]
     },
     "metadata": {},
     "output_type": "display_data"
    }
   ],
   "source": [
    "v = mvis.Plotter(1,1,[dict(aspect='equal')],title='Cruce de rectas') \n",
    "v.set_coordsys(1)\n",
    "v.plot(1, x, y1, lw = 3, c = 'seagreen', label = '$3x+2y=2$') # Línea recta 1\n",
    "v.plot(1, x, y2, lw = 3, c = 'mediumorchid', label = '$2x+6y=-8$') # Línea recta 2\n",
    "v.scatter(1, sol[0], sol[1], fc='sandybrown', ec='k', s = 75, alpha=0.75, zorder=5, label='Sol. final') # Solución\n",
    "v.legend(ncol = 1, frameon=True, loc='best', bbox_to_anchor=(1.75, 1.05))\n",
    "v.grid()\n",
    "v.show()"
   ]
  },
  {
   "cell_type": "markdown",
   "metadata": {},
   "source": [
    "En general, un sistema de ecuaciones lineales de $n \\times n$ se escribe como sigue:\n",
    "\n",
    "$$\n",
    "\\begin{array}{ccccccc}\n",
    "a_{11}x_1 & + & a_{12}x_2 & +  \\dots  + & a_{1n}x_n & = & b_1 \\\\\n",
    "a_{21}x_1 & + & a_{22}x_2 & +  \\dots + & a_{2n}x_n & = & b_2 \\\\\n",
    "\\vdots & & \\vdots &  & \\vdots & & \\vdots \\\\\n",
    "a_{i1}x_1 & + & a_{i2}x_2 & +  \\dots + & a_{in}x_n & = & b_i \\\\\n",
    "\\vdots & & \\vdots &  & \\vdots & & \\vdots \\\\\n",
    "a_{n1}x_1 & + & a_{n2}x_2 & + \\dots + & a_{nn}x_n & = & b_n\n",
    "\\end{array}\n",
    "$$\n",
    "\n",
    "Es posible usar diferentes métodos para resolver este tipo de sistemas. Veamos tres de ellos."
   ]
  },
  {
   "cell_type": "markdown",
   "metadata": {},
   "source": [
    "# Método de Jacobi\n",
    "\n",
    "* En este método, de la primera ecuación se despeja $x_1$; de la segunda ecuación se despeja $x_2$; y a sí sucesivamente, de tal manera que obtenemos:\n",
    "$$\n",
    "\\begin{eqnarray*}\n",
    "\tx_1 & = &\\left( b_1 - (a_{12}x_2 +  \\dots  + a_{1n}x_n) \\right) / a_{11}  \\\\\n",
    "\tx_2 & = &\\left( b_2 - (a_{21}x_1 +  \\dots  + a_{2n}x_n) \\right) / a_{22} \\\\\n",
    "\t\\vdots & & \\vdots \\\\\n",
    "\tx_i & = &\\left( b_i - (a_{i1}x_1 +  \\dots  + a_{in}x_n) \\right) / a_{ii} \\\\\n",
    "\t\\vdots & & \\vdots \\\\\n",
    "\tx_n & = &\\left( b_n - (a_{n1}x_1 +  \\dots  + a_{nn-1}x_{n-1}) \\right) / a_{nn}\n",
    "\\end{eqnarray*}\n",
    "$$\n",
    "\n",
    "* Suponemos ahora que tenemos una solución inicial aproximada $\\mathbf{x}^0 = [x_1^0, \\dots, x_n^0]$. Usando esta solución inicial, es posible hacer una nueva aproximación para obtener  $\\mathbf{x}^1 = [x_1^1, \\dots, x_n^1]$ como sigue:\n",
    "\n",
    "$$\n",
    "\\begin{eqnarray*}\n",
    "\tx_1^1 & = &\\left( b_1 - (a_{12}x_2^0 +  \\dots  + a_{1n}x_n^0) \\right) / a_{11}  \\\\\n",
    "\tx_2^1 & = &\\left( b_2 - (a_{21}x_1^0 +  \\dots  + a_{2n}x_n^0) \\right) / a_{22} \\\\\n",
    "\t\\vdots & & \\vdots \\\\\n",
    "\tx_i^1 & = &\\left( b_i - (a_{i1}x_1^0 +  \\dots  + a_{in}x_n^0) \\right) / a_{ii} \\\\\n",
    "\t\\vdots & & \\vdots \\\\\n",
    "\tx_n^1 & = &\\left( b_n - (a_{n1}x_1^0 +  \\dots  + a_{nn-1}x_{n-1}^0) \\right) / a_{nn}\n",
    "\\end{eqnarray*}\n",
    "$$\n",
    "\n",
    "* En general para $i = 1, \\dots, n$ y $k = 1, 2, \\dots$ tenemos:\n",
    "\n",
    "$$\n",
    "x_i^k = \\frac{1}{a_{i,i}} \\left(b_i -  \\sum_{j \\neq i} a_{i,j} x_j^{k-1} \\right)\n",
    "$$\n",
    "\n",
    "* En términos de matrices, la **iteración de Jacobi** se escribe:\n",
    "$$\n",
    "\\mathbf{x}^k = -\\mathbf{D}^{-1} \\mathbf{B}\\mathbf{x}^{k-1} + \\mathbf{D}^{-1} \\mathbf{b}\n",
    "$$\n",
    "\n",
    "donde $\\mathbf{D}$ es la matriz diagonal y $\\mathbf{B} = \\mathbf{A} - \\mathbf{D}$.\n",
    "\n",
    "* El cálculo de cada componente $x_i^k$ es independiente de las otras componentes, por lo que este método se conoce también como de  *desplazamientos simultáneos*.\n"
   ]
  },
  {
   "cell_type": "markdown",
   "metadata": {
    "id": "CnNo6k82K2JN",
    "nbgrader": {
     "grade": false,
     "grade_id": "cell-e645baecfad85b94",
     "locked": true,
     "schema_version": 3,
     "solution": false,
     "task": false
    }
   },
   "source": [
    "## Algoritmo Jacobi.\n",
    "En general, podemos definir el siguiente algoritmo para el método de Jacobi.\n",
    "<center>\n",
    "<img src=\"./Jacobi.png\"  width='500px'/>\n",
    "</center>\n",
    "\n",
    "<div class=\"alert alert-info\">\n",
    "\n",
    "Observa que en este algoritmo hay un ciclo `while` el cual termina cuando el error es menor o igual que una tolerancia `tol` o se ha alcanzado un número máximo de iteraciones `kmax`. En la línea **11** se calcula el error, que en términos matemáticos se define como $error = || \\mathbf{x}^k - \\mathbf{x}||$ donde $\\mathbf{x}^k$ es la aproximación de la iteración $k$-ésima y $\\mathbf{x}$ es la solución exacta. En muchas ocasiones no se tiene acceso a la solución exacta por lo que se compara con la solución de la iteración anterior, es decir $error = || \\mathbf{x}^k - \\mathbf{x}^{k-1}||$. En los ejemplos que siguen si tenemos la solución exacta, por lo que haremos la comparación con ella.\n",
    "</div>\n",
    "\n",
    "## Implementación."
   ]
  },
  {
   "cell_type": "code",
   "execution_count": 8,
   "metadata": {
    "id": "kJMD5Mtr5DrY",
    "nbgrader": {
     "grade": false,
     "grade_id": "cell-bcbf62f6c782b10b",
     "locked": true,
     "schema_version": 3,
     "solution": false,
     "task": false
    },
    "tags": []
   },
   "outputs": [],
   "source": [
    "def jacobi(A,b,tol,kmax,xi, yi):\n",
    "    N = len(b[0])\n",
    "    xnew = np.zeros(N)\n",
    "    xold = np.zeros(N)\n",
    "    x = np.array([2, -2]) # Solución exacta\n",
    "    \n",
    "    # Solución inicial\n",
    "    xold[0] = xi\n",
    "    xold[1] = yi\n",
    "    \n",
    "    xs = [xi]\n",
    "    ys = [yi]\n",
    "    \n",
    "    e = 10\n",
    "    error = [] \n",
    "    \n",
    "    k = 0\n",
    "    print('{:^2} {:^10} {:^12} {:^12}'.format(' i ', 'Error', 'x0', 'x1'))\n",
    "    while(e > tol and k < kmax) :\n",
    "        for i in range(0,N): # se puede hacer en paralelo\n",
    "            xnew[i] = 0\n",
    "            for j in range(0,i):\n",
    "                xnew[i] += A[i,j] * xold[j]\n",
    "            for j in range(i+1,N):\n",
    "                xnew[i] += A[i,j] * xold[j]                \n",
    "            xnew[i] = (b[0,i] - xnew[i]) / A[i,i]\n",
    "        \n",
    "        # Almacenamos la solución actual\n",
    "        xs.append(xnew[0])\n",
    "        ys.append(xnew[1])\n",
    "        \n",
    "        e = np.linalg.norm(xnew-x, 2) # Cálculo del error\n",
    "        error.append(e)\n",
    "        k += 1\n",
    "        xold[:] = xnew[:]\n",
    "        print('{:2d} {:10.9f} ({:10.9f}, {:10.9f})'.format(k, e, xnew[0], xnew[1]))\n",
    "    return xnew, np.array(xs), np.array(ys), error, k"
   ]
  },
  {
   "cell_type": "markdown",
   "metadata": {
    "nbgrader": {
     "grade": false,
     "grade_id": "cell-78568f31c8738001",
     "locked": true,
     "schema_version": 3,
     "solution": false,
     "task": false
    }
   },
   "source": [
    "<div class=\"alert alert-info\">\n",
    "\n",
    "## **Ejemplo 3. Aplicación del método de Jacobi.**\n",
    "\n",
    "<font color=\"Black\"> Haciendo uso de la función `jacobi` definida en la celda anterior, aproxima la solución del sistema de ecuaciones (1). Utiliza la solución inicial `(xi, yi)` = $(-2, 2)$, una tolerancia `tol` = $1 \\times 10^{-5}$ y `kmax` = $50$ iteraciones.</font>\n",
    "</div>"
   ]
  },
  {
   "cell_type": "code",
   "execution_count": 9,
   "metadata": {
    "colab": {
     "base_uri": "https://localhost:8080/"
    },
    "id": "BB9P34d-5DrY",
    "nbgrader": {
     "grade": false,
     "grade_id": "cell-a36ade6364fb9e6d",
     "locked": false,
     "schema_version": 3,
     "solution": true,
     "task": false
    },
    "outputId": "efc32185-d095-4312-d95b-9bd83e74725a",
    "tags": []
   },
   "outputs": [
    {
     "name": "stdout",
     "output_type": "stream",
     "text": [
      " i    Error         x0           x1     \n",
      " 1 2.981423970 (-0.666666667, -0.666666667)\n",
      " 2 1.257078722 (1.111111111, -1.111111111)\n",
      " 3 0.662538660 (1.407407407, -1.703703704)\n",
      " 4 0.279350827 (1.802469136, -1.802469136)\n",
      " 5 0.147230813 (1.868312757, -1.934156379)\n",
      " 6 0.062077962 (1.956104252, -1.956104252)\n",
      " 7 0.032717959 (1.970736168, -1.985368084)\n",
      " 8 0.013795103 (1.990245389, -1.990245389)\n",
      " 9 0.007270657 (1.993496926, -1.996748463)\n",
      "10 0.003065578 (1.997832309, -1.997832309)\n",
      "11 0.001615702 (1.998554873, -1.999277436)\n",
      "12 0.000681240 (1.999518291, -1.999518291)\n",
      "13 0.000359045 (1.999678861, -1.999839430)\n",
      "14 0.000151387 (1.999892954, -1.999892954)\n",
      "15 0.000079788 (1.999928636, -1.999964318)\n",
      "16 0.000033641 (1.999976212, -1.999976212)\n",
      "17 0.000017731 (1.999984141, -1.999992071)\n",
      "18 0.000007476 (1.999994714, -1.999994714)\n"
     ]
    }
   ],
   "source": [
    "# Solución inicial\n",
    "(xi, yi) = (-2, 2)\n",
    "tol = 1e-5\n",
    "kmax = 50\n",
    "\n",
    "# Ejecución del método de Jacobi\n",
    "solJ, xs, ys, eJ, itJ = jacobi(A, b, tol, kmax, xi, yi)"
   ]
  },
  {
   "cell_type": "markdown",
   "metadata": {},
   "source": [
    "<div class=\"alert alert-info\">\n",
    "\n",
    "Observa que la función `jacobi()` regresa 5 valores: \n",
    "* `solJ` la solución obtenida, \n",
    "* `xs` y `ys` componentes de las soluciones aproximadas en cada paso, \n",
    "* `eJ` el error con respecto a la solución exacta e \n",
    "* `itJ` el número de iteraciones realizadas.\n",
    "</div>\n",
    "\n",
    "A continuación graficamos como es que la solución se va aproximando con este método."
   ]
  },
  {
   "cell_type": "code",
   "execution_count": 10,
   "metadata": {
    "tags": []
   },
   "outputs": [
    {
     "data": {
      "image/png": "[encoded data removed]",
      "text/plain": [
       "<Figure size 512x384 with 1 Axes>"
      ]
     },
     "metadata": {},
     "output_type": "display_data"
    }
   ],
   "source": [
    "v = mvis.Plotter(1,1,[dict(aspect='equal')],title='Cruce de rectas') \n",
    "v.set_coordsys(1)\n",
    "v.plot(1, x, y1, lw = 3, c = 'seagreen', label = '$3x+2y=2$') # Línea recta 1\n",
    "v.plot(1, x, y2, lw = 3, c = 'mediumorchid', label = '$2x+6y=-8$') # Línea recta 2\n",
    "v.scatter(1, sol[0], sol[1], fc='sandybrown', ec='k', s = 75, alpha=0.75, zorder=5, label='Sol. final') # Solución\n",
    "\n",
    "# Graficamos los pasos\n",
    "v.scatter(1, xs[0], ys[0], fc='yellow', ec='k', s = 75, alpha=0.75, zorder=8, label='Sol. inicial')\n",
    "v.scatter(1, xs[1:], ys[1:], c='navy', s = 10, alpha=0.5, zorder=8)\n",
    "v.plot(1, xs, ys, c='grey', ls = '--', lw=1.0, zorder=8, label='Pasos de Jacobi')\n",
    "\n",
    "v.legend(ncol = 1, frameon=True, loc='best', bbox_to_anchor=(1.80, 1.01))\n",
    "v.grid()\n",
    "v.show()"
   ]
  },
  {
   "cell_type": "markdown",
   "metadata": {},
   "source": [
    "## Cálculo del error\n",
    "\n",
    "* Definimos $e_i^k = x_i^k - x_i$ como la diferencia entre la $i$-ésima componente  de la solución exacta y la $i$-ésima componente de la $k$-ésima iteración, de tal manera que $\\mathbf{e} = [e_1, \\dots, e_n]^T$ es el vector error.\n",
    "\n",
    "* Aplicando una vez la iteración de Jacobi para $x_i$ y $x_i^{k+1}$ podemos escribir la diferencia como sigue:\n",
    "\n",
    "$$\n",
    "\\begin{eqnarray*}\n",
    "\\left| e_i^{k+1} \\right| & = &\\left| x_i^{k+1} - x_i  \\right| \\\\\n",
    "\\left| e_i^{k+1} \\right| & = & \\left|\n",
    "\\frac{1}{a_{i,i}} \\left(b_i - \\sum_{j \\neq i} a_{i,j} x_j^{k} \\right) -\n",
    "\\frac{1}{a_{i,i}} \\left(b_i - \\sum_{j \\neq i} a_{i,j} x_j \\right) \\right| \\\\\n",
    "\\left| e_i^{k+1} \\right| & = & \\left| -\\sum_{j \\neq i} \\frac{a_{i,j}}{a_{i,i}} (x_j^k - x_j)\\right| \\\\\n",
    "\\left| e_i^{k+1} \\right| & = & \\left| -\\sum_{j \\neq i} \\frac{a_{i,j}}{a_{i,i}} e_j^k \\right| \n",
    "\\le \\sum_{j \\neq i} \\left| \\frac{a_{i,j}}{a_{i,i}} \\right| || \\mathbf{e}^k ||_\\infty, \\qquad \\forall i, k .\n",
    "\\end{eqnarray*}\n",
    "$$\n",
    "\n",
    "* En particular:\n",
    "$$\n",
    "\\max_{1 \\le i \\le n} \\left( \\left| e_i^{k+1} \\right| \\right) =  || \\mathbf{e}^{k+1} ||_\\infty\n",
    " \\le \\sum_{j \\neq i} \\left| \\frac{a_{i,j}}{a_{i,i}} \\right| || \\mathbf{e}^k ||_\\infty\n",
    "$$\n",
    "\n",
    "* Definimos $\\displaystyle K = \\max_{1 \\le i \\le n} \\sum_{j \\neq i} \\left| \\frac{a_{i,j}}{a_{i,i}} \\right|$ entonces:\n",
    "\n",
    "$$\n",
    "\\begin{eqnarray*}\n",
    "|| \\mathbf{e}^{k+1} ||_\\infty & \\le &  K || \\mathbf{e}^{k} ||_\\infty \\le K \\left( K || \\mathbf{e}^{k-1} ||_\\infty \\right) \\le\n",
    "\\dots \\le K^k || \\mathbf{e}^{1} ||_\\infty \\\\\n",
    "|| \\mathbf{e}^{k+1} ||_\\infty & \\le &  K^k || \\mathbf{e}^{1} ||_\\infty\n",
    "\\end{eqnarray*}\n",
    "$$\n",
    "\n",
    "* Si $K < 1$ entonces $\\mathbf{e}^{k} \\rightarrow 0$ cuando $k \\rightarrow \\infty$\n",
    "\n",
    "* La condición $K < 1$ implica:\n",
    "$$\n",
    "\\sum_{j \\neq i} |a_{i,j}| < |a_{i,i}|, \\forall i\n",
    "$$\n",
    "\n",
    "A continuación graficamos el error que se va obteniendo en cada paso del método:"
   ]
  },
  {
   "cell_type": "code",
   "execution_count": 11,
   "metadata": {
    "tags": []
   },
   "outputs": [
    {
     "data": {
      "image/png": "[encoded data removed]",
      "text/plain": [
       "<Figure size 512x384 with 1 Axes>"
      ]
     },
     "metadata": {},
     "output_type": "display_data"
    }
   ],
   "source": [
    "# Lista con el número de las iteraciones\n",
    "l_itJ = list(range(1,itJ+1)) \n",
    "\n",
    "# Parámetros para los ejes\n",
    "a_p = dict(yscale='log', xlabel='Iteraciones', xticks = l_itJ)\n",
    "\n",
    "# Gráfica del error\n",
    "v = mvis.Plotter(1,1,[a_p]) \n",
    "v.axes(1).set_title('Error', loc='left')\n",
    "v.plot(1, l_itJ, eJ, marker='.', label='Jacobi') # Error eJ\n",
    "v.legend()\n",
    "v.grid()"
   ]
  },
  {
   "cell_type": "markdown",
   "metadata": {
    "id": "sOg_5uyQOhm9",
    "nbgrader": {
     "grade": false,
     "grade_id": "cell-ed7e86ef97367932",
     "locked": true,
     "schema_version": 3,
     "solution": false,
     "task": false
    }
   },
   "source": [
    "# Método de Gauss-Seidel\n",
    "\n",
    "* La principal diferencia con el método de Jacobi es que las ecuaciones se analizan en un orden determinado.\n",
    "\n",
    "* Por ejemplo, si realizamos el cálculo en orden ascendente y ya hemos evaluado $x_1$ y $x_2$, para evaluar $x_3$ haríamos lo siguiente:}\n",
    "$$\n",
    "\\begin{eqnarray*}\n",
    "\\underline{x_1^1} & = &\\left( b_1 - (a_{12}x_2^0 + a_{13} x_3^0 + \\dots  + a_{1n}x_n^0) \\right) / a_{11}  \\\\\n",
    "\\underline{x_2^1} & = &\\left( b_2 - (a_{21}\\underline{x_1^1} + a_{23}x_3^0 + \\dots  + a_{2n}x_n^0) \\right) / a_{22} \\\\\n",
    "x_3 & = &\\left( b_3 - (a_{31}\\underline{x_1^1} + a_{32}\\underline{x_2^1} + \\dots  + a_{3n}x_n^0)\\right) / a_{22}\n",
    "\\end{eqnarray*}\n",
    "$$\n",
    "\n",
    "* En general la fórmula del método es como sigue:\n",
    "$$\n",
    "x_i^k = \\frac{1}{a_{i,i}} \\left(b_i -  \\sum_{j < i} a_{i,j} \\underline{x_j^{k}} \n",
    "- \\sum_{j > i} a_{i,j} x_j^{k-1} \\right) \n",
    "$$   \n",
    "\n",
    "* Este algoritmo es serial dado que cada componente depende de que las componentes previas se hayan calculado (*desplazamientos sucesivos*).\n",
    "\n",
    "* El valor de la nueva iteración $\\mathbf{x}^k$ depende del orden en que se examinan las componentes. Si se cambia el orden, el valor de $\\mathbf{x}^k$ cambia.\n"
   ]
  },
  {
   "cell_type": "markdown",
   "metadata": {
    "nbgrader": {
     "grade": false,
     "grade_id": "cell-84c6aaac242a8a0a",
     "locked": true,
     "schema_version": 3,
     "solution": false,
     "task": false
    }
   },
   "source": [
    "## Algoritmo Gauss-Seidel.\n",
    "En general, podemos definir el siguiente algoritmo para el método de Gauss-Seidel.\n",
    "\n",
    "<center>\n",
    "<img src=\"./Gauss_Seidel.png\"  width='500px'/>\n",
    "</center>\n",
    "\n",
    "<div class=\"alert alert-info\">\n",
    "Se aplican los mismo comentarios que para el algoritmo de Jacobi.\n",
    "</div>\n",
    "\n",
    "## Implementación."
   ]
  },
  {
   "cell_type": "code",
   "execution_count": 12,
   "metadata": {
    "id": "QMVYEfy95DrZ",
    "nbgrader": {
     "grade": false,
     "grade_id": "cell-ad9e472a46931664",
     "locked": true,
     "schema_version": 3,
     "solution": false,
     "task": false
    },
    "tags": []
   },
   "outputs": [],
   "source": [
    "def gauss_seidel(A,b,tol,kmax,xi,yi):\n",
    "    N = len(b[0])\n",
    "    xnew = np.zeros(N)\n",
    "    xold = np.zeros(N)\n",
    "    x = np.array([2, -2]) # Solución exacta\n",
    "\n",
    "    # Solución inicial\n",
    "    xold[0] = xi\n",
    "    xold[1] = yi\n",
    "\n",
    "    xs = [xi]\n",
    "    ys = [yi]\n",
    "    \n",
    "    e = 10\n",
    "    error = [] \n",
    "    \n",
    "    k = 0\n",
    "    print('{:^2} {:^10} {:^12} {:^12}'.format(' i ', 'Error', 'x0', 'x1'))\n",
    "    while(e > tol and k < kmax) :\n",
    "        for i in range(0,N): # se puede hacer en paralelo\n",
    "            xnew[i] = 0\n",
    "            for j in range(0,i):\n",
    "                xnew[i] += A[i,j] * xnew[j]\n",
    "            for j in range(i+1,N):\n",
    "                xnew[i] += A[i,j] * xold[j]                \n",
    "            xnew[i] = (b[0,i] - xnew[i]) / A[i,i]\n",
    "            \n",
    "        # Almacenamos la solución actual\n",
    "        xs.append(xnew[0])\n",
    "        ys.append(xnew[1])\n",
    "\n",
    "        e = np.linalg.norm(xnew-x,2) # Cálculo del error\n",
    "        error.append(e)\n",
    "        k += 1\n",
    "        xold[:] = xnew[:]\n",
    "        print('{:2d} {:10.9f} ({:10.9f}, {:10.9f})'.format(k, e, xnew[0], xnew[1]))\n",
    "    return xnew, np.array(xs), np.array(ys), error, k"
   ]
  },
  {
   "cell_type": "markdown",
   "metadata": {
    "nbgrader": {
     "grade": false,
     "grade_id": "cell-e2080cd527067903",
     "locked": true,
     "schema_version": 3,
     "solution": false,
     "task": false
    }
   },
   "source": [
    "<div class=\"alert alert-success\">\n",
    "\n",
    "## **Ejercicio 2.**\n",
    "\n",
    "<font color=\"Black\">Haciendo uso de la función `gauss_seidel()` definida en la celda anterior, aproxima la solución del sistema de ecuaciones del Ejemplo 1. Utiliza la solución inicial `(xi, yi) =` $(-2, 2)$, una tolerancia `tol` = $1 \\times 10^{-5}$ y `kmax` = $50$ iteraciones. \n",
    "Utiliza las variables `solG`, `xs`, `ys`, `eG` e `itG` para almacenar la salida de la función `gauss_seidel()`.\n",
    "Posteriormente grafica las rectas y cómo se va calculando la solución con este método (puedes usar el mismo código que en el caso de Jacobi). Grafica también los errores para el método de Jacobi y para el de Gauss-Seidel, deberías obtener una imagen como la siguiente:\n",
    "    \n",
    "<img src='error_JGS.png' width=450px height=auto>\n",
    "</font>\n",
    "\n",
    "</div>"
   ]
  },
  {
   "cell_type": "markdown",
   "metadata": {},
   "source": [
    "**Cálculo de la solución con Gauss-Seidel**"
   ]
  },
  {
   "cell_type": "code",
   "execution_count": 13,
   "metadata": {
    "colab": {
     "base_uri": "https://localhost:8080/"
    },
    "id": "8OO0YZhw5Dra",
    "nbgrader": {
     "grade": false,
     "grade_id": "cell-97076304ca7ed9a8",
     "locked": false,
     "schema_version": 3,
     "solution": true,
     "task": false
    },
    "outputId": "7c53bde7-4bf1-4117-a763-004082033c37",
    "tags": []
   },
   "outputs": [
    {
     "name": "stdout",
     "output_type": "stream",
     "text": [
      " i    Error         x0           x1     \n",
      " 1 2.810913476 (-0.666666667, -1.111111111)\n",
      " 2 0.624647439 (1.407407407, -1.802469136)\n",
      " 3 0.138810542 (1.868312757, -1.956104252)\n",
      " 4 0.030846787 (1.970736168, -1.990245389)\n",
      " 5 0.006854842 (1.993496926, -1.997832309)\n",
      " 6 0.001523298 (1.998554873, -1.999518291)\n",
      " 7 0.000338511 (1.999678861, -1.999892954)\n",
      " 8 0.000075225 (1.999928636, -1.999976212)\n",
      " 9 0.000016717 (1.999984141, -1.999994714)\n",
      "10 0.000003715 (1.999996476, -1.999998825)\n"
     ]
    }
   ],
   "source": [
    "# Solución inicial\n",
    "# xi, yi = \n",
    "# tol = \n",
    "# kmax = \n",
    "\n",
    "# Método de Gauss-Seidel\n",
    "# ...\n",
    "\n",
    "### BEGIN SOLUTION\n",
    "# Solución inicial\n",
    "xi, yi = -2, 2\n",
    "tol = 1e-5\n",
    "kmax = 50\n",
    "\n",
    "# Método de Gauss-Seidel\n",
    "solG, xs, ys, eG, itG = gauss_seidel(A, b, tol, kmax, xi, yi)\n",
    "\n",
    "#file_answer.write('4', solG, 'solG es incorrecta: revisa la llamada y ejecución de la función gauss_seidel() así como sus parámetros de entrada.')\n",
    "#file_answer.write('5', eG[-1], 'eG[-1] es incorrecto: revisa la llamada y ejecución de la función gauss_seidel() así como sus parámetros de entrada.')\n",
    "#file_answer.write('6', itG, 'itG es incorrector: revisa la llamada y ejecución de la función gauss_seidel() así como sus parámetros de entrada.')\n",
    "\n",
    "### END SOLUTION"
   ]
  },
  {
   "cell_type": "code",
   "execution_count": 14,
   "metadata": {
    "nbgrader": {
     "grade": true,
     "grade_id": "cell-cc83bed7ddfd9adf",
     "locked": true,
     "points": 1,
     "schema_version": 3,
     "solution": false,
     "task": false
    },
    "tags": []
   },
   "outputs": [],
   "source": [
    "#quizz.eval_numeric('4', solG)\n",
    "#quizz.eval_numeric('5', eG[-1])\n",
    "#quizz.eval_numeric('6', itG)"
   ]
  },
  {
   "cell_type": "markdown",
   "metadata": {},
   "source": [
    "**Gráfica de las rectas, la solución y los pasos realizados**"
   ]
  },
  {
   "cell_type": "code",
   "execution_count": 15,
   "metadata": {
    "tags": []
   },
   "outputs": [
    {
     "data": {
      "image/png": "[encoded data removed]",
      "text/plain": [
       "<Figure size 512x384 with 1 Axes>"
      ]
     },
     "metadata": {},
     "output_type": "display_data"
    }
   ],
   "source": [
    "# Puedes usar el mismo código que en el caso anterior.\n",
    "\n",
    "### BEGIN SOLUTION\n",
    "v = mvis.Plotter(1,1,[dict(aspect='equal')],title='Cruce de rectas') \n",
    "v.set_coordsys(1)\n",
    "v.plot(1, x, y1, lw = 3, c = 'seagreen', label = '$3x+2y=2$') # Línea recta 1\n",
    "v.plot(1, x, y2, lw = 3, c = 'mediumorchid', label = '$2x+6y=-8$') # Línea recta 2\n",
    "\n",
    "# Graficamos los pasos\n",
    "v.scatter(1, xs[0], ys[0], fc='yellow', ec='k', s = 75, alpha=0.75, zorder=8, label='Sol. inicial')\n",
    "v.scatter(1, xs[1:], ys[1:], c='navy', s = 10, alpha=0.5, zorder=8)\n",
    "v.plot(1, xs, ys, c='grey', ls = '--', lw=1.0, zorder=8, label='Pasos de Gauss-Seidel')\n",
    "\n",
    "v.legend(ncol = 1, frameon=True, loc='best', bbox_to_anchor=(2.05, 1.01))\n",
    "v.grid()\n",
    "v.show()\n",
    "### END SOLUTION"
   ]
  },
  {
   "cell_type": "markdown",
   "metadata": {},
   "source": [
    "**Graficación de los errores de Jacobi y Gauss-Seidel**"
   ]
  },
  {
   "cell_type": "code",
   "execution_count": 16,
   "metadata": {
    "tags": []
   },
   "outputs": [
    {
     "data": {
      "image/png": "[encoded data removed]",
      "text/plain": [
       "<Figure size 512x384 with 1 Axes>"
      ]
     },
     "metadata": {},
     "output_type": "display_data"
    }
   ],
   "source": [
    "# Utiliza el código del caso anterior adaptado para que pueda graficar ambos errores.\n",
    "\n",
    "### BEGIN SOLUTION\n",
    "# Lista con el número de las iteraciones máxima\n",
    "it_max = max(itJ, itG)+1\n",
    "l_it_max = list(range(1,it_max)) \n",
    "\n",
    "# Listas con el número de las iteraciones para cada algoritmo\n",
    "l_itJ = list(range(1,itJ+1)) \n",
    "l_itG = list(range(1,itG+1)) \n",
    "\n",
    "# Parámetros para los ejes\n",
    "a_p = dict(yscale='log', xlabel='Iteraciones', xticks = l_it_max)\n",
    "\n",
    "# Gráficas del error\n",
    "v = mvis.Plotter(1,1,[a_p]) \n",
    "v.axes(1).set_title('Error', loc='left')\n",
    "v.plot(1, l_itJ, eJ, marker='.', label='Jacobi')\n",
    "v.plot(1, l_itG, eG, marker='.', label='Gauss-Seidel')\n",
    "v.legend()\n",
    "v.grid()\n",
    "### END SOLUTION"
   ]
  },
  {
   "cell_type": "markdown",
   "metadata": {},
   "source": [
    "# Método de Sobrerrelajación sucesiva (*Successive Overrelaxation*, SOR)\n",
    "\n",
    "* Se obtiene apicando una extrapolación a la iteración de Gauss-Seidel.\n",
    "\n",
    "* Esta extrapolación es un promedio pesado entre la iteración actual y la anterior:\n",
    "$$\n",
    "x_i^k = \\omega \\bar{x}_i^k + (1-\\omega)x_i^{k-1}\n",
    "$$\n",
    "donde $\\bar{x}$ denota una iteración de Gauss-Seidel y $\\omega$ es el\n",
    "factor de extrapolación.\n",
    "\n",
    "* En términos de matrices tenemos:\n",
    "$$\n",
    "\\mathbf{x}^k = (\\mathbf{D} - \\omega \\mathbf{L})^{-1}(\\omega \\mathbf{U} + (1 - \\omega )\\mathbf{D})\\mathbf{x}^{k-1} \n",
    "+ \\omega (\\mathbf{D} - \\omega \\mathbf{L})^{-1} \\mathbf{b}\n",
    "$$\n",
    "* Elegir la $\\omega$ óptima no es simple, aunque se sabe que si $\\omega$ \n",
    "está fuera del intervalo $(0,2)$ el método falla.\n",
    "\n",
    "## Implementación 3."
   ]
  },
  {
   "cell_type": "code",
   "execution_count": 17,
   "metadata": {
    "tags": []
   },
   "outputs": [],
   "source": [
    "def sor(A,b,tol,kmax,w,xi,yi):\n",
    "    N = len(b[0])\n",
    "    xnew = np.zeros(N)\n",
    "    xold = np.zeros(N)\n",
    "    x = np.array([2, -2]) # Solución exacta\n",
    "\n",
    "    # Solución inicial\n",
    "    xold[0] = xi\n",
    "    xold[1] = yi\n",
    "\n",
    "    xs = [xi]\n",
    "    ys = [yi]\n",
    "    \n",
    "    e = 10\n",
    "    error = [] \n",
    "    \n",
    "    k = 0\n",
    "    while(e > tol and k < kmax) :\n",
    "        for i in range(0,N): # se puede hacer en paralelo\n",
    "            sigma = 0\n",
    "            for j in range(0,i):\n",
    "                sigma += A[i,j] * xnew[j]\n",
    "            for j in range(i+1,N):\n",
    "                sigma += A[i,j] * xold[j]                \n",
    "            sigma = (b[0,i] - sigma) / A[i,i]\n",
    "            xnew[i] = xold[i] + w * (sigma -xold[i])\n",
    "            \n",
    "        # Almacenamos la solución actual\n",
    "        xs.append(xnew[0])\n",
    "        ys.append(xnew[1])\n",
    "        \n",
    "        e = np.linalg.norm(xnew-x, 2) # Cálculo del error\n",
    "        error.append(e)\n",
    "        k += 1\n",
    "        xold[:] = xnew[:]\n",
    "        print('{:2d} {:10.9f} ({:10.9f}, {:10.9f})'.format(k, e, xnew[0], xnew[1]))\n",
    "    return xnew, np.array(xs), np.array(ys), error, k"
   ]
  },
  {
   "cell_type": "markdown",
   "metadata": {},
   "source": [
    "<div class=\"alert alert-success\">\n",
    "\n",
    "## **Ejercicio 3.**\n",
    "\n",
    "<font color=\"Black\">Haciendo uso de la función `sor()` definida en la celda anterior, aproxima la solución del sistema de ecuaciones del Ejercicio 1. Utiliza la solución inicial `(xi, yi) =` $(-2, 2)$, una tolerancia `tol` = $1 \\times 10^{-5}$ y `kmax` = $50$ iteraciones. \n",
    "Elije el valor de $\\omega = 1.09$. Utiliza las variables `solSOR`, `xs`, `ys`, `eSOR` e `itSOR` para almacenar la salida de la función `gauss_seidel()`. Posteriormente grafica las rectas y cómo se va calculando la solución con este método (puedes usar el mismo código que en el caso de Jacobi). Grafica también los errores para los tres métodos (Jacobi, Gauss-Seidel y SOR).\n",
    "    \n",
    "<img src='error_JGSSOR.png' width=450px height=auto>\n",
    "\n",
    "</font>\n",
    "\n",
    "</div>"
   ]
  },
  {
   "cell_type": "markdown",
   "metadata": {},
   "source": [
    "**Cálculo de la solución con SOR**"
   ]
  },
  {
   "cell_type": "code",
   "execution_count": 18,
   "metadata": {
    "nbgrader": {
     "grade": false,
     "grade_id": "cell-b6b28a69f555324f",
     "locked": false,
     "schema_version": 3,
     "solution": true,
     "task": false
    },
    "tags": []
   },
   "outputs": [
    {
     "name": "stdout",
     "output_type": "stream",
     "text": [
      " 1 2.608651498 (-0.546666667, -1.434711111)\n",
      " 2 0.182203110 (1.818423407, -1.984903171)\n",
      " 3 0.006309667 (2.005371531, -2.003310371)\n",
      " 4 0.001963366 (2.001922098, -2.000400429)\n",
      " 5 0.000118187 (2.000117990, -2.000006831)\n",
      " 6 0.000006254 (1.999994345, -1.999997330)\n"
     ]
    }
   ],
   "source": [
    "# Solución inicial\n",
    "# xi, yi = \n",
    "# tol = \n",
    "# kmax = \n",
    "\n",
    "# Método de SOR, probar con w = 1.09, 1.8, 1.99, 2.0\n",
    "# w = ...\n",
    "# ...\n",
    "\n",
    "### BEGIN SOLUTION\n",
    "# Solución inicial\n",
    "xi, yi = -2, 2\n",
    "tol = 1e-5\n",
    "kmax = 50\n",
    "\n",
    "# Método de SOR, probar con w = 1.09, 1.8, 1.99, 2.0\n",
    "w = 1.09\n",
    "solSOR, xs, ys, eSOR, itSOR = sor(A, b, tol, kmax, w, xi, yi)\n",
    "\n",
    "#file_answer.write('7', solSOR, 'solSOR es incorrecta: revisa la llamada y ejecución de la función sor() así como sus parámetros de entrada.')\n",
    "#file_answer.write('8', eSOR[-1], 'eSOR[-1] es incorrecto: revisa la llamada y ejecución de la función sor() así como sus parámetros de entrada.')\n",
    "#file_answer.write('9', itSOR, 'itSOR es incorrector: revisa la llamada y ejecución de la función sor() así como sus parámetros de entrada.')\n",
    "\n",
    "### END SOLUTION"
   ]
  },
  {
   "cell_type": "code",
   "execution_count": 19,
   "metadata": {
    "nbgrader": {
     "grade": true,
     "grade_id": "cell-3dcd7677d74b3a4d",
     "locked": true,
     "points": 1,
     "schema_version": 3,
     "solution": false,
     "task": false
    },
    "tags": []
   },
   "outputs": [],
   "source": [
    "#quizz.eval_numeric('7', solSOR)\n",
    "#quizz.eval_numeric('8', eSOR[-1])\n",
    "#quizz.eval_numeric('9', itSOR)"
   ]
  },
  {
   "cell_type": "markdown",
   "metadata": {},
   "source": [
    "**Gráfica de las rectas, la solución y los pasos realizados**"
   ]
  },
  {
   "cell_type": "code",
   "execution_count": 20,
   "metadata": {
    "tags": []
   },
   "outputs": [
    {
     "data": {
      "image/png": "[encoded data removed]",
      "text/plain": [
       "<Figure size 512x384 with 1 Axes>"
      ]
     },
     "metadata": {},
     "output_type": "display_data"
    }
   ],
   "source": [
    "# Puedes usar el mismo código que en el caso anterior.\n",
    "\n",
    "### BEGIN SOLUTION\n",
    "v = mvis.Plotter(1,1,[dict(aspect='equal')],title='Cruce de rectas') \n",
    "v.set_coordsys(1)\n",
    "v.plot(1, x, y1, lw = 3, c = 'seagreen', label = '$3x+2y=2$') # Línea recta 1\n",
    "v.plot(1, x, y2, lw = 3, c = 'mediumorchid', label = '$2x+6y=-8$') # Línea recta 2\n",
    "v.scatter(1, sol[0], sol[1], fc='sandybrown', ec='k', s = 75, alpha=0.75, zorder=5, label='Sol. final') # Solución\n",
    "\n",
    "# Graficamos los pasos\n",
    "v.scatter(1, xs[0], ys[0], fc='yellow', ec='k', s = 75, alpha=0.75, zorder=8, label='Sol. inicial')\n",
    "v.scatter(1, xs[1:], ys[1:], c='navy', s = 10, alpha=0.5, zorder=8)\n",
    "v.plot(1, xs, ys, c='grey', ls = '--', lw=1.0, zorder=8, label='Pasos del SOR')\n",
    "        \n",
    "v.legend(ncol = 1, frameon=True, loc='best', bbox_to_anchor=(1.78, 1.01))\n",
    "v.grid()\n",
    "v.show()\n",
    "### END SOLUTION"
   ]
  },
  {
   "cell_type": "code",
   "execution_count": 21,
   "metadata": {
    "tags": []
   },
   "outputs": [
    {
     "data": {
      "image/png": "[encoded data removed]",
      "text/plain": [
       "<Figure size 512x384 with 1 Axes>"
      ]
     },
     "metadata": {},
     "output_type": "display_data"
    }
   ],
   "source": [
    "# Utiliza el código del caso anterior adaptado para que pueda graficar los tres errores.\n",
    "\n",
    "### BEGIN SOLUTION\n",
    "# Lista con el número de las iteraciones máxima\n",
    "it_max = max(itJ, itG, itSOR)+1\n",
    "l_it_max = list(range(1,it_max)) \n",
    "\n",
    "# Listas con el número de las iteraciones para cada algoritmo\n",
    "l_itJ = list(range(1,itJ+1)) \n",
    "l_itG = list(range(1,itG+1)) \n",
    "l_itSOR = list(range(1,itSOR+1)) \n",
    "\n",
    "# Parámetros para los ejes\n",
    "a_p = dict(yscale='log', xlabel='Iteraciones', xticks = l_it_max)\n",
    "\n",
    "# Gráficas del error\n",
    "v = mvis.Plotter(1,1,[a_p]) \n",
    "v.axes(1).set_title('Error', loc='left')\n",
    "v.plot(1, l_itJ, eJ, marker='.', label='Jacobi')\n",
    "v.plot(1, l_itG, eG, marker='.', label='Gauss-Seidel')\n",
    "v.plot(1, l_itSOR, eSOR, marker='.', label='SOR')\n",
    "v.legend()\n",
    "v.grid()\n",
    "### END SOLUTION"
   ]
  },
  {
   "cell_type": "markdown",
   "metadata": {},
   "source": [
    "<div class=\"alert alert-success\">\n",
    "\n",
    "## **Ejercicio 4.**\n",
    "\n",
    "<font color=\"Black\">Almacena los errores de los tres métodos en los archivos: `errorJacobi.npy`, `errorGaussSeidel.npy` y `errorSOR.npy` usando la función `np.save()`, checa la documentación [aquí](https://numpy.org/doc/stable/reference/generated/numpy.save.html). </font>\n",
    "</div>\n",
    "\n",
    "<div class=\"alert alert-info\">\n",
    "\n",
    "<font color=\"Black\">\n",
    "\n",
    "Prueba que tu código funciona usando:\n",
    "```\n",
    "print('Error Jacobi = \\n{}\\n'.format(np.load('errorJacobi.npy')))\n",
    "print('Error Gauss-Seidel = \\n{}\\n'.format(np.load('errorGaussSeidel.npy')))\n",
    "print('Error SOR = \\n{}\\n'.format(np.load('errorSOR.npy')))\n",
    "\n",
    "```\n",
    "\n",
    "<br>La salida debería ser:\n",
    "    \n",
    "```\n",
    "Error Jacobi = \n",
    "[2.98142397e+00 1.25707872e+00 ...]\n",
    "\n",
    "Error Gauss-Seidel = \n",
    "[2.81091348e+00 6.24647439e-01 ...]\n",
    "\n",
    "Error SOR = \n",
    "[2.60865150e+00 1.82203110e-01 ...]\n",
    "```\n",
    "</font>\n",
    "\n",
    "</div>"
   ]
  },
  {
   "cell_type": "code",
   "execution_count": 22,
   "metadata": {
    "tags": []
   },
   "outputs": [],
   "source": [
    "# np.save( ... )\n",
    "#\n",
    "\n",
    "### BEGIN SOLUTION\n",
    "np.save('errorJacobi.npy',eJ)\n",
    "np.save('errorGaussSeidel.npy', eG)\n",
    "np.save('errorSOR.npy', eSOR)\n",
    "### END SOLUTION"
   ]
  },
  {
   "cell_type": "code",
   "execution_count": 23,
   "metadata": {},
   "outputs": [
    {
     "name": "stdout",
     "output_type": "stream",
     "text": [
      "Error Jacobi = \n",
      "[2.98142397e+00 1.25707872e+00 6.62538660e-01 2.79350827e-01\n",
      " 1.47230813e-01 6.20779616e-02 3.27179585e-02 1.37951026e-02\n",
      " 7.27065745e-03 3.06557835e-03 1.61570166e-03 6.81239633e-04\n",
      " 3.59044812e-04 1.51386585e-04 7.97877361e-05 3.36414634e-05\n",
      " 1.77306080e-05 7.47588075e-06]\n",
      "\n",
      "Error Gauss-Seidel = \n",
      "[2.81091348e+00 6.24647439e-01 1.38810542e-01 3.08467871e-02\n",
      " 6.85484158e-03 1.52329813e-03 3.38510695e-04 7.52245990e-05\n",
      " 1.67165775e-05 3.71479501e-06]\n",
      "\n",
      "Error SOR = \n",
      "[2.60865150e+00 1.82203110e-01 6.30966741e-03 1.96336589e-03\n",
      " 1.18187146e-04 6.25365681e-06]\n",
      "\n"
     ]
    }
   ],
   "source": [
    "print('Error Jacobi = \\n{}\\n'.format(np.load('errorJacobi.npy')))\n",
    "print('Error Gauss-Seidel = \\n{}\\n'.format(np.load('errorGaussSeidel.npy')))\n",
    "print('Error SOR = \\n{}\\n'.format(np.load('errorSOR.npy')))"
   ]
  }
 ],
 "metadata": {
  "kernelspec": {
   "display_name": "Python 3 (ipykernel)",
   "language": "python",
   "name": "python3"
  },
  "language_info": {
   "codemirror_mode": {
    "name": "ipython",
    "version": 3
   },
   "file_extension": ".py",
   "mimetype": "text/x-python",
   "name": "python",
   "nbconvert_exporter": "python",
   "pygments_lexer": "ipython3",
   "version": "3.11.6"
  }
 },
 "nbformat": 4,
 "nbformat_minor": 4
}
