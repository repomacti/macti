{
 "cells": [
  {
   "cell_type": "markdown",
   "id": "ff0e6ff1-fcfc-41bc-abc8-cbfba5212b5b",
   "metadata": {},
   "source": [
    "# Producto escalar.\n",
    "\n",
    "**Objetivo.**\n",
    "Revisar e ilustrar las propiedades del producto escalar en $\\mathbb{R}^n$, para $n>=2$ usando la biblioteca `numpy`.\n",
    "\n",
    "\n",
    " <p xmlns:cc=\"http://creativecommons.org/ns#\" xmlns:dct=\"http://purl.org/dc/terms/\"><a property=\"dct:title\" rel=\"cc:attributionURL\" href=\"https://github.com/repomacti/macti/tree/main/notebooks/Algebra_Lineal_01\">MACTI-Algebra_Lineal_01</a> by <a rel=\"cc:attributionURL dct:creator\" property=\"cc:attributionName\" href=\"https://www.macti.unam.mx\">Luis M. de la Cruz</a> is licensed under <a href=\"http://creativecommons.org/licenses/by-sa/4.0/?ref=chooser-v1\" target=\"_blank\" rel=\"license noopener noreferrer\" style=\"display:inline-block;\">Attribution-ShareAlike 4.0 International<img style=\"height:22px!important;margin-left:3px;vertical-align:text-bottom;\" src=\"https://mirrors.creativecommons.org/presskit/icons/cc.svg?ref=chooser-v1\"><img style=\"height:22px!important;margin-left:3px;vertical-align:text-bottom;\" src=\"https://mirrors.creativecommons.org/presskit/icons/by.svg?ref=chooser-v1\"><img style=\"height:22px!important;margin-left:3px;vertical-align:text-bottom;\" src=\"https://mirrors.creativecommons.org/presskit/icons/sa.svg?ref=chooser-v1\"></a></p> "
   ]
  },
  {
   "cell_type": "code",
   "execution_count": null,
   "id": "329b3227-daf3-4126-bc29-e6d51bf39367",
   "metadata": {
    "tags": []
   },
   "outputs": [],
   "source": [
    "# Importamos las bibliotecas requeridas\n",
    "import numpy as np\n",
    "import macti.visual as mvis"
   ]
  },
  {
   "cell_type": "markdown",
   "id": "0f7df42e-5c00-4d83-86be-634138cb88fb",
   "metadata": {},
   "source": [
    "## Definición y propiedades.\n",
    "Producto escalar es una operación algebraica que toma dos vectores y retorna un escalar. También se conoce como producto interno o producto punto. Su definición matemática es la siguiente:\n",
    "\n",
    "$$\n",
    "\\langle \\vec{x}, \\vec{y} \\rangle = \\vec{y}^T \\cdot \\vec{x} = \\sum_{i=1}^n x_i y_i \\tag{1}\n",
    "$$\n",
    "\n",
    "**Propiedades**:\n",
    "1. $\\langle \\vec{x}, \\vec{y} \\rangle = 0$ si y solo si $\\vec{x}$ y $\\vec{y}$ son ortogonales.\n",
    "2. $\\langle \\vec{x}, \\vec{x} \\rangle \\ge 0$, además $\\langle \\vec{x}, \\vec{x} \\rangle = 0$ si y solo si $\\vec{x} = 0$\n",
    "3. $\\langle \\alpha \\vec{x}, \\vec{y} \\rangle = \\alpha \\langle \\vec{x}, \\vec{y} \\rangle$\n",
    "4. $\\langle \\vec{x}+\\vec{y}, \\vec{z} \\rangle = \\langle \\vec{x}, \\vec{z} \\rangle + \\langle \\vec{y}, \\vec{z} \\rangle$\n",
    "5. $\\langle \\vec{x}, \\vec{y} \\rangle = \\langle \\vec{y}, \\vec{x} \\rangle $\n",
    "6. Desigualdad de Schwarz : $||\\langle \\vec{x}, \\vec{y} \\rangle|| \\le ||\\vec{x}|| ||\\vec{y}||$"
   ]
  },
  {
   "cell_type": "markdown",
   "id": "27d98af4-a1a0-460d-ba23-5604760ad088",
   "metadata": {},
   "source": [
    "En lo que sigue realizaremos ejemplos en $\\mathbb{R}^2$ de las propiedades antes descritas usando vectores (arreglos) construidos con la biblioteca `numpy`."
   ]
  },
  {
   "cell_type": "code",
   "execution_count": null,
   "id": "72fd1c2f-2ce7-41c9-8961-e5150b602e46",
   "metadata": {
    "tags": []
   },
   "outputs": [],
   "source": [
    "# Definimos dos vectores en R^2 usando numpy\n",
    "x = np.array([2, 3]) \n",
    "y = np.array([3, 1])\n",
    "\n",
    "# Imprimimos los vectores\n",
    "print('x = {}'.format(x))\n",
    "print('y = {}'.format(y))"
   ]
  },
  {
   "cell_type": "code",
   "execution_count": null,
   "id": "bb707548-a12d-4fbd-afff-525cdd58f982",
   "metadata": {
    "tags": []
   },
   "outputs": [],
   "source": [
    "# Visualizamos los vectores.\n",
    "v = mvis.Plotter()  # Definición de un objeto para crear figuras.\n",
    "v.set_coordsys(1)   # Definición del sistema de coordenadas.\n",
    "v.plot_vectors(1, [x, y], ['x = (2,3)', 'y = (3,1)'], ofx=-0.1) # Graficación de los vectores 'x' y 'y'.\n",
    "v.grid()  # Muestra la rejilla del sistema de coordenadas."
   ]
  },
  {
   "cell_type": "markdown",
   "id": "be1a22a1-fdda-4447-ad2d-c4332b3759d3",
   "metadata": {},
   "source": [
    "## Implementación.\n",
    "En Python es posible implementar el producto escalar de varias maneras, a continuación presentamos algunas de ellas."
   ]
  },
  {
   "cell_type": "markdown",
   "id": "9caf5864-76ad-4245-8ee8-5b24018114d2",
   "metadata": {},
   "source": [
    "### Usando el ciclo `for`.\n",
    "Es posible hacer una implementación del producto escalar usando ciclos `for`. De acuerdo con la definición $\\langle \\vec{x}, \\vec{y} \\rangle = \\sum_{i=1}^n x_i y_i$  una implementación es como sigue:"
   ]
  },
  {
   "cell_type": "code",
   "execution_count": null,
   "id": "ef46b4cd-3f55-42b7-8029-aa450e8674a8",
   "metadata": {
    "tags": []
   },
   "outputs": [],
   "source": [
    "dot_prod = 0.0\n",
    "\n",
    "for i in range(len(x)):\n",
    "    dot_prod += x[i] * y[i]\n",
    "    \n",
    "print('for cycle →  <x, y> = {:0.2f}'.format(dot_prod))"
   ]
  },
  {
   "cell_type": "markdown",
   "id": "6dde3a9e-566b-48bb-bf98-82f8f6ef21c9",
   "metadata": {},
   "source": [
    "### Usando la función [`numpy.dot()`](https://numpy.org/doc/stable/reference/generated/numpy.dot.html).\n",
    "Esta función implementa un producto generalizado entre matrices cuyos elementos pueden ser flotantes o números complejos. Cuando se usa con arreglos de flotantes se obtiene el producto escalar. Usando esta función el ejemplo anterior se implementa cómo sigue:"
   ]
  },
  {
   "cell_type": "code",
   "execution_count": null,
   "id": "09b85686-d597-4ece-8507-c9af2556da89",
   "metadata": {
    "tags": []
   },
   "outputs": [],
   "source": [
    "dot_prod = np.dot(x,y)\n",
    "print('np.dot → <x, y> = {:0.2f}'.format(dot_prod))"
   ]
  },
  {
   "cell_type": "markdown",
   "id": "6295019a-296d-42f2-b85b-290b89d5be6b",
   "metadata": {},
   "source": [
    "### Usando la función [`np.inner()`](https://numpy.org/doc/stable/reference/generated/numpy.inner.html).\n",
    "Esta función implementa el producto interno entre dos arreglos.\n",
    "Usando esta función el ejemplo anterior se implementa cómo sigue:\n"
   ]
  },
  {
   "cell_type": "code",
   "execution_count": null,
   "id": "2bf08895-27c0-4efb-9412-60173ac9b9ef",
   "metadata": {
    "tags": []
   },
   "outputs": [],
   "source": [
    "dot_prod = np.inner(x,y)\n",
    "print('np.inner → <x, y> = {:0.2f}'.format(dot_prod))"
   ]
  },
  {
   "cell_type": "markdown",
   "id": "912727a1-20c3-4132-b19f-4d3a378fa089",
   "metadata": {},
   "source": [
    "### Usando el operador `@` .\n",
    "El operador `@`, disponible desde la versión Python 3.5, se puede usar para realizar la multiplicación de matrices convencional. Cuando se usa con arreglos de 1D se obtiene el producto escalar."
   ]
  },
  {
   "cell_type": "code",
   "execution_count": null,
   "id": "615739d5-1bef-4fbc-a38a-ceca93b76e32",
   "metadata": {
    "tags": []
   },
   "outputs": [],
   "source": [
    "dot_prod = x @ y\n",
    "print('Operador @ → <x, y> = {:0.2f}'.format(dot_prod))"
   ]
  },
  {
   "cell_type": "markdown",
   "id": "0e024854-c77e-4544-bf38-de99bbca28af",
   "metadata": {},
   "source": [
    "Lo conveniente es usar el operador `@` o alguna de las funciones de biblioteca que ya están implementadas, como `dot()` o `inner()`  y evitar la implementación usando el ciclo `for`. La razón es que la biblioteca \n",
    "[Linear algebra](https://numpy.org/doc/stable/reference/routines.linalg.html#module-numpy.linalg), cuando es posible utiliza la biblioteca [BLAS](https://www.netlib.org/blas/) optimizada.\n",
    "\n",
    "En lo que sigue usaremos el operador `@` para calcular el producto escalar y probar las propiedades descritas al principio."
   ]
  },
  {
   "cell_type": "markdown",
   "id": "2ab2b3e6-d69c-4292-8e1f-4c5191b51d93",
   "metadata": {},
   "source": [
    "## Propiedad 1: Ortogonalidad."
   ]
  },
  {
   "cell_type": "code",
   "execution_count": null,
   "id": "fa975307-82dd-46d0-836c-fc0c20eb1ab6",
   "metadata": {
    "tags": []
   },
   "outputs": [],
   "source": [
    "# Definimos otro vector en R^2\n",
    "z = np.array([-3, 2])"
   ]
  },
  {
   "cell_type": "code",
   "execution_count": null,
   "id": "04935aca-692e-421f-bc3f-86dafe74c00e",
   "metadata": {
    "tags": []
   },
   "outputs": [],
   "source": [
    "# Calculamos el producto escalar entre los vectores x, y, z\n",
    "print('<x, y> = {:>5.2f}'.format(x @ y))\n",
    "print('<x, z> = {:>5.2f}'.format(x @ z))\n",
    "print('<z, y> = {:>5.2f}'.format(z @ y))"
   ]
  },
  {
   "cell_type": "markdown",
   "id": "5f7d2e45-f6c3-4c1e-92bd-0422aa444ee1",
   "metadata": {},
   "source": [
    "Como se puede observar, solo el producto $\\langle \\vec{x}, \\vec{z} \\rangle = 0$, lo cual significa que son ortogonales. Veamos los vectores gráficamente:"
   ]
  },
  {
   "cell_type": "code",
   "execution_count": null,
   "id": "89cfb6f0-6d0c-4c45-9909-2a0214c2d371",
   "metadata": {
    "tags": []
   },
   "outputs": [],
   "source": [
    "v = mvis.Plotter()  # Definición de un objeto para crear figuras.\n",
    "v.set_coordsys(1)   # Definición del sistema de coordenadas.\n",
    "v.plot_vectors(1, [x, y, z], ['x = (2,3)', 'y = (3,1)', 'z = (-3,2)'],ofx=-0.2) # Graficación de los vectores 'x' y 'y'.\n",
    "v.grid()  # Muestra la rejilla del sistema de coordenadas."
   ]
  },
  {
   "cell_type": "markdown",
   "id": "cb88a21a-af2a-4b4a-b49c-7cf0091e2ed6",
   "metadata": {},
   "source": [
    "<div class=\"alert alert-info\" role=\"alert\">\n",
    "    \n",
    "La función `calc_angle(a, b)`, definida en la siguiente celda, calcula el ángulo entre los vectores $\\vec{a}$ y $\\vec{b}$ utilizando la siguiente fórmula\n",
    "\n",
    "$$\n",
    "\\cos(\\alpha)  = \\dfrac{\\langle \\vec{a}, \\vec{b} \\rangle}{||\\vec{a}|| \\; || \\vec{b}||}\n",
    "\\Longrightarrow \\alpha = \\arccos \\left(\\dfrac{\\langle \\vec{a}, \\vec{b} \\rangle}{||\\vec{a}|| \\; || \\vec{b}||} \\right)\n",
    "$$\n",
    "\n",
    "Se usan las funciones `np.linalg.norm()` que calcula la norma de un vector, `np.arccos()` que es la función inversa del coseno y la constante `np.pi` que proporciona el valor de $\\pi$.\n",
    "</div>"
   ]
  },
  {
   "cell_type": "code",
   "execution_count": null,
   "id": "f84a1e26-0de6-418e-91da-2c1cf39586aa",
   "metadata": {
    "tags": []
   },
   "outputs": [],
   "source": [
    "def calc_angle(a, b):\n",
    "    return np.arccos(a @ b / (np.linalg.norm(a) * np.linalg.norm(b))) * 180 / np.pi"
   ]
  },
  {
   "cell_type": "code",
   "execution_count": null,
   "id": "4566af13-5fbd-4cee-8bd5-927d4bc4d716",
   "metadata": {
    "tags": []
   },
   "outputs": [],
   "source": [
    "# Calculamos el ángulo entre los vectores x, y, z\n",
    "print('Ángulo entre x y y : {}'.format(calc_angle(x, y)))\n",
    "print('Ángulo entre x y z : {}'.format(calc_angle(x, z)))\n",
    "print('Ángulo entre z y y : {}'.format(calc_angle(z, y)))"
   ]
  },
  {
   "cell_type": "markdown",
   "id": "754c368a-13d8-4547-83fc-210a008c80be",
   "metadata": {},
   "source": [
    "Observamos que efectivamente el ángulo entre $\\vec{x}$ y $\\vec{z}$ es de $90^o$."
   ]
  },
  {
   "cell_type": "markdown",
   "id": "4ea4856d-8339-4603-a1b2-d95e8c7292a1",
   "metadata": {},
   "source": [
    "## Propiedad 2. $\\langle \\vec{x}, \\vec{x} \\rangle \\ge 0$\n",
    "\n",
    "Verficamos que se cumple para los vectores $\\vec{x}$, $\\vec{y}$ y $\\vec{z}$:"
   ]
  },
  {
   "cell_type": "code",
   "execution_count": null,
   "id": "f40e561f-a0dd-4b89-81c2-bf7f3ceed548",
   "metadata": {
    "tags": []
   },
   "outputs": [],
   "source": [
    "print('<x, x> = {:>5.2f}'.format(x @ x))\n",
    "print('<y, y> = {:>5.2f}'.format(y @ y))\n",
    "print('<z, z> = {:>5.2f}'.format(z @ z))"
   ]
  },
  {
   "cell_type": "markdown",
   "id": "f58178ca-b444-4b87-bce0-d4f4dc2b1a7a",
   "metadata": {},
   "source": [
    "## Propiedad 3. Multiplicación por un escalar.\n",
    "\n",
    "$\\langle \\alpha \\vec{x}, \\vec{y} \\rangle = \\alpha \\langle \\vec{x}, \\vec{y} \\rangle$"
   ]
  },
  {
   "cell_type": "code",
   "execution_count": null,
   "id": "04c19fda-6bc7-4776-b470-b9b236a334ae",
   "metadata": {
    "tags": []
   },
   "outputs": [],
   "source": [
    "# Definimos un escalar\n",
    "α = 1.5\n",
    "\n",
    "print('<α * x, y> = {}'.format((α * x) @ y))\n",
    "print('α * <x, y> = {}'.format(α * x @ y))\n",
    "print(' ¿ <α * x, y> == α * <x,y> ? : {}'.format(np.isclose((α * x) @ y, α * x @ y)))"
   ]
  },
  {
   "cell_type": "markdown",
   "id": "8d8c6675-965f-4b17-a1f0-cb744d641c34",
   "metadata": {},
   "source": [
    "## Propiedad 4. Asociatividad.\n",
    "\n",
    "$\\langle \\vec{x}+\\vec{y}, \\vec{z} \\rangle = \\langle \\vec{x}, \\vec{z} \\rangle + \\langle \\vec{y}, \\vec{z} \\rangle$"
   ]
  },
  {
   "cell_type": "code",
   "execution_count": null,
   "id": "6785ed65-6eb9-4174-9376-1d084832ab6b",
   "metadata": {
    "tags": []
   },
   "outputs": [],
   "source": [
    "print('     <x + y, z> = {}'.format((x + y) @ z))\n",
    "print('<x, z> + <y, z> = {}'.format(x @ z + y @ z))\n",
    "print(' ¿ <x + y, z> == <x, z> + <y, z>? : {}'.format(np.isclose((x + y) @ z, x @ z + y @ z)))"
   ]
  },
  {
   "cell_type": "markdown",
   "id": "9db16e00-ee15-421d-b456-74f2b853528c",
   "metadata": {},
   "source": [
    "## Propiedad 5. Conmutatividad.\n",
    "\n",
    "$\\langle \\vec{x}, \\vec{y} \\rangle = \\langle \\vec{y}, \\vec{x} \\rangle $"
   ]
  },
  {
   "cell_type": "code",
   "execution_count": null,
   "id": "a7e1b9bd-b222-4bd7-b498-44ab3a7c6d33",
   "metadata": {
    "tags": []
   },
   "outputs": [],
   "source": [
    "print('<x, y> = {}'.format(x @ y))\n",
    "print('<y, x> = {}'.format(y @ x))\n",
    "print(' ¿ <x, y> == <y, x> ? : {}'.format(np.isclose(x @ y, y @ x)))"
   ]
  },
  {
   "cell_type": "markdown",
   "id": "914bce1d-0869-4257-be4a-a6ad283bf871",
   "metadata": {},
   "source": [
    "\n",
    "## Propiedad 6. Desigualdad de Schwarz. \n",
    "\n",
    "$||\\langle \\vec{x}, \\vec{y} \\rangle|| \\le ||\\vec{x}|| ||\\vec{y}||$"
   ]
  },
  {
   "cell_type": "code",
   "execution_count": null,
   "id": "3f05accd-3416-4bae-91f1-3461dc913eb6",
   "metadata": {
    "tags": []
   },
   "outputs": [],
   "source": [
    "print('||<x, y>|| = {}'.format(np.abs(z @ y)))\n",
    "print('||x|| ||y||= {}'.format(np.linalg.norm(z) * np.linalg.norm(y)))\n",
    "print('¿||<x, y>|| ≤ ||x|| ||y||? : {}'.format( np.abs(z @ y) <= np.linalg.norm(z) * np.linalg.norm(y)))"
   ]
  },
  {
   "cell_type": "markdown",
   "id": "cfa99c60-9076-477a-a83c-1eb37846d271",
   "metadata": {},
   "source": [
    "<div class=\"alert alert-success\">\n",
    "\n",
    "## **Ejercicio 1.**\n",
    "\n",
    "<font color=\"Black\"> Definimos los siguientes vectores $\\vec{x} = (3.5, 0, -3.5, 0)$, $\\vec{y} = (1.5, 1.0, 2.3, -1.0)$ y $\\vec{z} = (1.0, 1.0, 1.0, 1.0)$ en $\\mathbb{R}^4$ y $\\alpha = 0.5$ un escalar. Verifica que se cumplen las propiedades 1 a 6.\n",
    "<br><br>\n",
    "<b>Hint</b>. Define los vectores $\\vec{x}$, $\\vec{y}$ y $\\vec{z}$ usando `numpy` y posteriormente copia los códigos utilizados en el ejemplo de $\\mathbb{R}^2$ para cada propiedad.<br><br>\n",
    "<b>Obervación</b>. En este caso no es posible realizar gráficas.\n",
    "</font>\n",
    "\n",
    "</div>"
   ]
  },
  {
   "cell_type": "markdown",
   "id": "a845afda-f8aa-4fa3-a163-11848b6031c5",
   "metadata": {},
   "source": [
    "**Definición de los vectores.**\n",
    "\n",
    "<div class=\"alert alert-info\">\n",
    "\n",
    "Deberías obtener un resultado como el siguiente al imprimir los tres vectores:\n",
    "\n",
    "```\n",
    "x = [ 3.5  0.  -3.5  0. ]\n",
    "y = [ 1.5  1.   2.3 -1. ]\n",
    "z = [1. 1. 1. 1.]\n",
    "```\n",
    "</div>"
   ]
  },
  {
   "cell_type": "code",
   "execution_count": null,
   "id": "f8f797db-ab2e-46f0-8ad8-348d9cd3eb05",
   "metadata": {
    "tags": []
   },
   "outputs": [],
   "source": [
    "### Definición de los vectores en R^4 con numpy\n",
    "### BEGIN SOLUTION\n",
    "x = np.array([3.5, 0, -3.5, 0])\n",
    "y = np.array([1.5, 1.0, 2.3, -1.0])\n",
    "z = np.array([1.0, 1.0, 1.0, 1.0])\n",
    "\n",
    "print('x = {}'.format(x))\n",
    "print('y = {}'.format(y))\n",
    "print('z = {}'.format(z))\n",
    "### END SOLUTION"
   ]
  },
  {
   "cell_type": "markdown",
   "id": "473430c4-c481-4635-a0ec-fa07ca09cff9",
   "metadata": {},
   "source": [
    "**Propiedad 1.**\n",
    "\n",
    "<div class=\"alert alert-info\">\n",
    "\n",
    "El resultado debería ser:\n",
    "\n",
    "```\n",
    "<x, y> = -2.80\n",
    "<x, z> =  0.00\n",
    "<z, y> =  3.80\n",
    "```\n",
    "</div>"
   ]
  },
  {
   "cell_type": "code",
   "execution_count": null,
   "id": "798b8fd5-1a80-4260-9eb9-fadd12f065da",
   "metadata": {
    "tags": []
   },
   "outputs": [],
   "source": [
    "# Calculamos el producto escalar entre los vectores x, y, z\n",
    "### BEGIN SOLUTION\n",
    "print('<x, y> = {:>5.2f}'.format(x @ y))\n",
    "print('<x, z> = {:>5.2f}'.format(x @ z))\n",
    "print('<z, y> = {:>5.2f}'.format(z @ y))\n",
    "### END SOLUTION"
   ]
  },
  {
   "cell_type": "markdown",
   "id": "9dea7fe8-0da8-4e60-98ef-718f20132bea",
   "metadata": {},
   "source": [
    "**Propiedad 2.**\n",
    "\n",
    "<div class=\"alert alert-info\">\n",
    "\n",
    "El resultado debería ser:\n",
    "\n",
    "```\n",
    "<x, x> = 24.50\n",
    "<y, y> =  9.54\n",
    "<z, z> =  4.00\n",
    "```\n",
    "</div>"
   ]
  },
  {
   "cell_type": "code",
   "execution_count": null,
   "id": "860df346-f3dd-41a8-8db6-0c433c15272f",
   "metadata": {
    "tags": []
   },
   "outputs": [],
   "source": [
    "### BEGIN SOLUTION\n",
    "print('<x, x> = {:>5.2f}'.format(x @ x))\n",
    "print('<y, y> = {:>5.2f}'.format(y @ y))\n",
    "print('<z, z> = {:>5.2f}'.format(z @ z))\n",
    "### END SOLUTION"
   ]
  },
  {
   "cell_type": "markdown",
   "id": "8ca38a3e-cead-4fb8-b9a4-c0403d2be500",
   "metadata": {},
   "source": [
    "**Propiedad 3.**\n",
    "\n",
    "<div class=\"alert alert-info\">\n",
    "\n",
    "El resultado debería ser:\n",
    "\n",
    "```\n",
    "<α * x, y> = -1.3999999999999997\n",
    "α * <x, y> = -1.3999999999999997\n",
    " ¿ <α * x, y> == α * <x,y> ? : True\n",
    "```\n",
    "</div>"
   ]
  },
  {
   "cell_type": "code",
   "execution_count": null,
   "id": "e7703055-21a0-41d7-8e25-604e0fe17fd5",
   "metadata": {
    "tags": []
   },
   "outputs": [],
   "source": [
    "# Definimos un escalar\n",
    "### BEGIN SOLUTION\n",
    "α = 0.5\n",
    "\n",
    "print('<α * x, y> = {}'.format((α * x) @ y))\n",
    "print('α * <x, y> = {}'.format(α * x @ y))\n",
    "print(' ¿ <α * x, y> == α * <x,y> ? : {}'.format(np.isclose((α * x) @ y, α * x @ y)))\n",
    "### END SOLUTION"
   ]
  },
  {
   "cell_type": "markdown",
   "id": "815d38cf-d66c-4ba4-8ff4-43f6df698bd1",
   "metadata": {},
   "source": [
    "**Propiedad 4.**\n",
    "\n",
    "<div class=\"alert alert-info\">\n",
    "\n",
    "El resultado debería ser:\n",
    "\n",
    "```\n",
    "     <x + y, z> = 3.8\n",
    "<x, z> + <y, z> = 3.8\n",
    " ¿ <x + y, z> == <x, z> + <y, z>? : True\n",
    "```\n",
    "</div>"
   ]
  },
  {
   "cell_type": "code",
   "execution_count": null,
   "id": "b0089a73-f255-4006-91d7-978a3b23cab8",
   "metadata": {
    "tags": []
   },
   "outputs": [],
   "source": [
    "### BEGIN SOLUTION\n",
    "print('     <x + y, z> = {}'.format((x + y) @ z))\n",
    "print('<x, z> + <y, z> = {}'.format(x @ z + y @ z))\n",
    "print(' ¿ <x + y, z> == <x, z> + <y, z>? : {}'.format(np.isclose((x + y) @ z, x @ z + y @ z)))\n",
    "### END SOLUTION"
   ]
  },
  {
   "cell_type": "markdown",
   "id": "37299a6f-1040-4864-8d6e-8c8a6ed117e2",
   "metadata": {},
   "source": [
    "**Propiedad 5.**\n",
    "\n",
    "<div class=\"alert alert-info\">\n",
    "\n",
    "El resultado debería ser:\n",
    "\n",
    "```\n",
    "<x, y> = -2.7999999999999994\n",
    "<y, x> = -2.7999999999999994\n",
    " ¿ <x, y> == <y, x> ? : True\n",
    "```\n",
    "</div>"
   ]
  },
  {
   "cell_type": "code",
   "execution_count": null,
   "id": "39e53fac-1cc0-4cc4-9c23-288e16f8aa7d",
   "metadata": {
    "tags": []
   },
   "outputs": [],
   "source": [
    "### BEGIN SOLUTION\n",
    "print('<x, y> = {}'.format(x @ y))\n",
    "print('<y, x> = {}'.format(y @ x))\n",
    "print(' ¿ <x, y> == <y, x> ? : {}'.format(np.isclose(x @ y, y @ x)))\n",
    "### END SOLUTION"
   ]
  },
  {
   "cell_type": "markdown",
   "id": "09b94d63-f454-4db7-a02a-c0998d9e7029",
   "metadata": {},
   "source": [
    "**Propiedad 6.**\n",
    "\n",
    "<div class=\"alert alert-info\">\n",
    "\n",
    "El resultado debería ser:\n",
    "\n",
    "```\n",
    "||<x, y>|| = 3.8\n",
    "||x|| ||y||= 6.1773780845922\n",
    "¿||<x, y>|| ≤ ||x|| ||y|? : True\n",
    "```\n",
    "</div>"
   ]
  },
  {
   "cell_type": "code",
   "execution_count": null,
   "id": "7637c6cb-4bc2-462c-a96e-1bc8c1f905ff",
   "metadata": {
    "tags": []
   },
   "outputs": [],
   "source": [
    "### BEGIN SOLUTION\n",
    "print('∥<x, y>∥ = {}'.format(np.abs(z @ y)))\n",
    "print('∥x∥∥y∥= {}'.format(np.linalg.norm(z) * np.linalg.norm(y)))\n",
    "print('¿∥<x, y>∥ ≤ ∥x∥ ∥y∥? : {}'.format( np.abs(z @ y) <= np.linalg.norm(z) * np.linalg.norm(y)))\n",
    "### END SOLUTION"
   ]
  },
  {
   "cell_type": "code",
   "execution_count": null,
   "id": "a60b3b97-e48b-45df-bb9b-53702a51f232",
   "metadata": {},
   "outputs": [],
   "source": []
  },
  {
   "cell_type": "code",
   "execution_count": null,
   "id": "3cb65d30-5c67-4f65-bc7c-2d3ec4e1ac41",
   "metadata": {},
   "outputs": [],
   "source": []
  }
 ],
 "metadata": {
  "kernelspec": {
   "display_name": "Python 3 (ipykernel)",
   "language": "python",
   "name": "python3"
  },
  "language_info": {
   "codemirror_mode": {
    "name": "ipython",
    "version": 3
   },
   "file_extension": ".py",
   "mimetype": "text/x-python",
   "name": "python",
   "nbconvert_exporter": "python",
   "pygments_lexer": "ipython3",
   "version": "3.11.3"
  }
 },
 "nbformat": 4,
 "nbformat_minor": 5
}
