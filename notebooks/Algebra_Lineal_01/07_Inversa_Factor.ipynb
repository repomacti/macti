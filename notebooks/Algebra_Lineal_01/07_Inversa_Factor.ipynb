{
 "cells": [
  {
   "cell_type": "markdown",
   "id": "19e5a3a2-7c5e-4637-99f6-8d5ceb86df15",
   "metadata": {},
   "source": [
    "# Matrices: inversa y factorizaciones.\n",
    "\n",
    "**Objetivo.** Revisar e ilustrar los conceptos de la matriz inversa y algunas factorizaciones usando las bibliotecas `sympy` y `numpy`.\n",
    "\n",
    " <p xmlns:cc=\"http://creativecommons.org/ns#\" xmlns:dct=\"http://purl.org/dc/terms/\"><a property=\"dct:title\" rel=\"cc:attributionURL\" href=\"https://github.com/repomacti/macti/tree/main/notebooks/Algebra_Lineal_01\">MACTI-Algebra_Lineal_01</a> by <a rel=\"cc:attributionURL dct:creator\" property=\"cc:attributionName\" href=\"https://www.macti.unam.mx\">Luis M. de la Cruz</a> is licensed under <a href=\"http://creativecommons.org/licenses/by-sa/4.0/?ref=chooser-v1\" target=\"_blank\" rel=\"license noopener noreferrer\" style=\"display:inline-block;\">Attribution-ShareAlike 4.0 International<img style=\"height:22px!important;margin-left:3px;vertical-align:text-bottom;\" src=\"https://mirrors.creativecommons.org/presskit/icons/cc.svg?ref=chooser-v1\"><img style=\"height:22px!important;margin-left:3px;vertical-align:text-bottom;\" src=\"https://mirrors.creativecommons.org/presskit/icons/by.svg?ref=chooser-v1\"><img style=\"height:22px!important;margin-left:3px;vertical-align:text-bottom;\" src=\"https://mirrors.creativecommons.org/presskit/icons/sa.svg?ref=chooser-v1\"></a></p> \n",
    "\n",
    "**Trabajo realizado con el apoyo del Programa UNAM-DGAPA-PAPIME, proyectos PE101019 y PE101922.**"
   ]
  },
  {
   "cell_type": "markdown",
   "id": "c0724ff0-7fa4-4735-8298-7deef1b18d2e",
   "metadata": {
    "tags": []
   },
   "source": [
    "### Inversa\n",
    "\n",
    "$$\n",
    "\\left[\n",
    "\\begin{array}{ccc}\n",
    "1 & 2 & 3 \\\\\n",
    "3 & 6 & 2 \\\\\n",
    "2 & 0 & 1\n",
    "\\end{array}\n",
    "\\right] \n",
    "\\left[ \n",
    "\\begin{array}{c}\n",
    "x \\\\ y \\\\ z \n",
    "\\end{array}\n",
    "\\right]\n",
    "= \n",
    "\\left[ \n",
    "\\begin{array}{c}\n",
    "1 \\\\ 2 \\\\ 3 \n",
    "\\end{array}\n",
    "\\right]\n",
    "$$"
   ]
  },
  {
   "cell_type": "code",
   "execution_count": 1,
   "id": "72293eea-77fe-4635-af4b-d16473a536ed",
   "metadata": {},
   "outputs": [],
   "source": [
    "import numpy as np\n",
    "import sympy"
   ]
  },
  {
   "cell_type": "code",
   "execution_count": 2,
   "id": "747bc49f-32c8-4ba0-ad81-a3a5cec7bafb",
   "metadata": {
    "tags": []
   },
   "outputs": [
    {
     "data": {
      "text/latex": [
       "$\\displaystyle \\left[\\begin{matrix}1 & 2 & 3\\\\3 & 6 & 2\\\\2 & 0 & 1\\end{matrix}\\right]$"
      ],
      "text/plain": [
       "Matrix([\n",
       "[1, 2, 3],\n",
       "[3, 6, 2],\n",
       "[2, 0, 1]])"
      ]
     },
     "execution_count": 2,
     "metadata": {},
     "output_type": "execute_result"
    }
   ],
   "source": [
    "M = sympy.Matrix([[1, 2, 3], [3, 6, 2], [2, 0, 1]])\n",
    "M"
   ]
  },
  {
   "cell_type": "code",
   "execution_count": 3,
   "id": "b3464621-1ae7-4d75-9e18-83079f902b8d",
   "metadata": {
    "tags": []
   },
   "outputs": [
    {
     "data": {
      "text/latex": [
       "$\\displaystyle \\left[\\begin{matrix}- \\frac{3}{14} & \\frac{1}{14} & \\frac{1}{2}\\\\- \\frac{1}{28} & \\frac{5}{28} & - \\frac{1}{4}\\\\\\frac{3}{7} & - \\frac{1}{7} & 0\\end{matrix}\\right]$"
      ],
      "text/plain": [
       "Matrix([\n",
       "[-3/14, 1/14,  1/2],\n",
       "[-1/28, 5/28, -1/4],\n",
       "[  3/7, -1/7,    0]])"
      ]
     },
     "execution_count": 3,
     "metadata": {},
     "output_type": "execute_result"
    }
   ],
   "source": [
    "MI = M.inv()\n",
    "MI"
   ]
  },
  {
   "cell_type": "code",
   "execution_count": 4,
   "id": "e733b17a-cb4d-4ae4-a333-9b5f0b9f52f8",
   "metadata": {
    "tags": []
   },
   "outputs": [
    {
     "data": {
      "text/latex": [
       "$\\displaystyle \\left[\\begin{matrix}1 & 0 & 0\\\\0 & 1 & 0\\\\0 & 0 & 1\\end{matrix}\\right]$"
      ],
      "text/plain": [
       "Matrix([\n",
       "[1, 0, 0],\n",
       "[0, 1, 0],\n",
       "[0, 0, 1]])"
      ]
     },
     "execution_count": 4,
     "metadata": {},
     "output_type": "execute_result"
    }
   ],
   "source": [
    "M * MI"
   ]
  },
  {
   "cell_type": "code",
   "execution_count": 5,
   "id": "4fc9e158-f626-4003-9fe1-9c376516f6fd",
   "metadata": {
    "tags": []
   },
   "outputs": [
    {
     "data": {
      "text/latex": [
       "$\\displaystyle \\left[\\begin{matrix}1\\\\2\\\\3\\end{matrix}\\right]$"
      ],
      "text/plain": [
       "Matrix([\n",
       "[1],\n",
       "[2],\n",
       "[3]])"
      ]
     },
     "execution_count": 5,
     "metadata": {},
     "output_type": "execute_result"
    }
   ],
   "source": [
    "b = sympy.Matrix([1, 2, 3])\n",
    "b"
   ]
  },
  {
   "cell_type": "code",
   "execution_count": 6,
   "id": "fef3b584-9f90-4f84-9b12-88c8b6bf6465",
   "metadata": {
    "tags": []
   },
   "outputs": [
    {
     "data": {
      "text/latex": [
       "$\\displaystyle \\left[\\begin{matrix}\\frac{10}{7}\\\\- \\frac{3}{7}\\\\\\frac{1}{7}\\end{matrix}\\right]$"
      ],
      "text/plain": [
       "Matrix([\n",
       "[10/7],\n",
       "[-3/7],\n",
       "[ 1/7]])"
      ]
     },
     "execution_count": 6,
     "metadata": {},
     "output_type": "execute_result"
    }
   ],
   "source": [
    "sol = MI * b \n",
    "sol"
   ]
  },
  {
   "cell_type": "code",
   "execution_count": 7,
   "id": "0aed43a1-5cb2-4fb4-b019-faa178859620",
   "metadata": {
    "tags": []
   },
   "outputs": [
    {
     "data": {
      "text/latex": [
       "$\\displaystyle \\left[\\begin{matrix}1\\\\2\\\\3\\end{matrix}\\right]$"
      ],
      "text/plain": [
       "Matrix([\n",
       "[1],\n",
       "[2],\n",
       "[3]])"
      ]
     },
     "execution_count": 7,
     "metadata": {},
     "output_type": "execute_result"
    }
   ],
   "source": [
    "M * sol"
   ]
  },
  {
   "cell_type": "markdown",
   "id": "2a0bd871-03b4-47ec-a6a3-794f586acce2",
   "metadata": {},
   "source": [
    "### Descomposición LU"
   ]
  },
  {
   "cell_type": "code",
   "execution_count": 8,
   "id": "c60af9e7-96cf-4ceb-bbb1-93526c041abb",
   "metadata": {
    "tags": []
   },
   "outputs": [
    {
     "data": {
      "text/latex": [
       "$\\displaystyle \\left[\\begin{matrix}1 & 0 & 0\\\\2 & 1 & 0\\\\3 & 0 & 1\\end{matrix}\\right]$"
      ],
      "text/plain": [
       "Matrix([\n",
       "[1, 0, 0],\n",
       "[2, 1, 0],\n",
       "[3, 0, 1]])"
      ]
     },
     "execution_count": 8,
     "metadata": {},
     "output_type": "execute_result"
    }
   ],
   "source": [
    "L, U, perm = M.LUdecomposition()\n",
    "L"
   ]
  },
  {
   "cell_type": "code",
   "execution_count": 9,
   "id": "68f06d86-8f9e-429c-a56a-00960bfd776c",
   "metadata": {
    "tags": []
   },
   "outputs": [
    {
     "data": {
      "text/latex": [
       "$\\displaystyle \\left[\\begin{matrix}1 & 2 & 3\\\\0 & -4 & -5\\\\0 & 0 & -7\\end{matrix}\\right]$"
      ],
      "text/plain": [
       "Matrix([\n",
       "[1,  2,  3],\n",
       "[0, -4, -5],\n",
       "[0,  0, -7]])"
      ]
     },
     "execution_count": 9,
     "metadata": {},
     "output_type": "execute_result"
    }
   ],
   "source": [
    "U"
   ]
  },
  {
   "cell_type": "code",
   "execution_count": 10,
   "id": "90691ac1-6b51-42dc-85e4-2ca4658baf41",
   "metadata": {
    "tags": []
   },
   "outputs": [
    {
     "data": {
      "text/plain": [
       "[[1, 2]]"
      ]
     },
     "execution_count": 10,
     "metadata": {},
     "output_type": "execute_result"
    }
   ],
   "source": [
    "perm"
   ]
  },
  {
   "cell_type": "code",
   "execution_count": 11,
   "id": "cd0d3ba9-19c0-4814-af3f-fe913adbd5fb",
   "metadata": {
    "tags": []
   },
   "outputs": [
    {
     "data": {
      "text/latex": [
       "$\\displaystyle \\left[\\begin{matrix}1 & 2 & 3\\\\2 & 0 & 1\\\\3 & 6 & 2\\end{matrix}\\right]$"
      ],
      "text/plain": [
       "Matrix([\n",
       "[1, 2, 3],\n",
       "[2, 0, 1],\n",
       "[3, 6, 2]])"
      ]
     },
     "execution_count": 11,
     "metadata": {},
     "output_type": "execute_result"
    }
   ],
   "source": [
    "L * U"
   ]
  },
  {
   "cell_type": "code",
   "execution_count": 12,
   "id": "d1e66996-36c0-4232-ae73-81cc5d22a10a",
   "metadata": {
    "tags": []
   },
   "outputs": [
    {
     "data": {
      "text/latex": [
       "$\\displaystyle \\left[\\begin{matrix}1 & 2 & 3\\\\3 & 6 & 2\\\\2 & 0 & 1\\end{matrix}\\right]$"
      ],
      "text/plain": [
       "Matrix([\n",
       "[1, 2, 3],\n",
       "[3, 6, 2],\n",
       "[2, 0, 1]])"
      ]
     },
     "execution_count": 12,
     "metadata": {},
     "output_type": "execute_result"
    }
   ],
   "source": [
    "M"
   ]
  },
  {
   "cell_type": "code",
   "execution_count": 13,
   "id": "7dda241e-69c3-4ab6-8df9-368bb5ac044f",
   "metadata": {
    "tags": []
   },
   "outputs": [
    {
     "data": {
      "text/latex": [
       "$\\displaystyle \\left[\\begin{matrix}1\\\\2\\\\3\\end{matrix}\\right]$"
      ],
      "text/plain": [
       "Matrix([\n",
       "[1],\n",
       "[2],\n",
       "[3]])"
      ]
     },
     "execution_count": 13,
     "metadata": {},
     "output_type": "execute_result"
    }
   ],
   "source": [
    "b"
   ]
  },
  {
   "cell_type": "code",
   "execution_count": 14,
   "id": "98783801-206e-4a26-a4e4-c516c12a6a41",
   "metadata": {
    "tags": []
   },
   "outputs": [
    {
     "data": {
      "text/latex": [
       "$\\displaystyle \\left[\\begin{matrix}\\frac{10}{7}\\\\- \\frac{3}{7}\\\\\\frac{1}{7}\\end{matrix}\\right]$"
      ],
      "text/plain": [
       "Matrix([\n",
       "[10/7],\n",
       "[-3/7],\n",
       "[ 1/7]])"
      ]
     },
     "execution_count": 14,
     "metadata": {},
     "output_type": "execute_result"
    }
   ],
   "source": [
    "sol_LU = M.LUsolve(b)\n",
    "sol_LU"
   ]
  },
  {
   "cell_type": "code",
   "execution_count": 15,
   "id": "7d433699-2892-432f-b629-65ce6bb7e4bf",
   "metadata": {
    "tags": []
   },
   "outputs": [
    {
     "data": {
      "text/latex": [
       "$\\displaystyle \\left[\\begin{matrix}1\\\\2\\\\3\\end{matrix}\\right]$"
      ],
      "text/plain": [
       "Matrix([\n",
       "[1],\n",
       "[2],\n",
       "[3]])"
      ]
     },
     "execution_count": 15,
     "metadata": {},
     "output_type": "execute_result"
    }
   ],
   "source": [
    "M * sol_LU"
   ]
  },
  {
   "cell_type": "code",
   "execution_count": 32,
   "id": "e5e4b28b-1ce7-4dcd-ab16-c5de421394e4",
   "metadata": {
    "tags": []
   },
   "outputs": [],
   "source": [
    "from scipy.linalg import lu\n",
    "\n",
    "M_np = np.array(M).astype(np.float64)"
   ]
  },
  {
   "cell_type": "code",
   "execution_count": 33,
   "id": "29df1bda-ebfb-4919-a1d7-958c3108945e",
   "metadata": {},
   "outputs": [],
   "source": [
    "p, l, u = lu(M_np)"
   ]
  },
  {
   "cell_type": "code",
   "execution_count": 34,
   "id": "93ead19e-dfa3-4556-befe-866a16f20e68",
   "metadata": {
    "tags": []
   },
   "outputs": [
    {
     "data": {
      "text/plain": [
       "array([[0., 0., 1.],\n",
       "       [1., 0., 0.],\n",
       "       [0., 1., 0.]])"
      ]
     },
     "execution_count": 34,
     "metadata": {},
     "output_type": "execute_result"
    }
   ],
   "source": [
    "p"
   ]
  },
  {
   "cell_type": "code",
   "execution_count": 35,
   "id": "7da3f8fc-2113-491a-9aa4-8c19e854fa1a",
   "metadata": {
    "tags": []
   },
   "outputs": [
    {
     "data": {
      "text/plain": [
       "array([[ 1.        ,  0.        ,  0.        ],\n",
       "       [ 0.66666667,  1.        ,  0.        ],\n",
       "       [ 0.33333333, -0.        ,  1.        ]])"
      ]
     },
     "execution_count": 35,
     "metadata": {},
     "output_type": "execute_result"
    }
   ],
   "source": [
    "l"
   ]
  },
  {
   "cell_type": "code",
   "execution_count": 36,
   "id": "7a8f2eb8-2efb-4b85-a5fd-025f1091ff78",
   "metadata": {
    "tags": []
   },
   "outputs": [
    {
     "data": {
      "text/plain": [
       "array([[ 3.        ,  6.        ,  2.        ],\n",
       "       [ 0.        , -4.        , -0.33333333],\n",
       "       [ 0.        ,  0.        ,  2.33333333]])"
      ]
     },
     "execution_count": 36,
     "metadata": {},
     "output_type": "execute_result"
    }
   ],
   "source": [
    "u"
   ]
  },
  {
   "cell_type": "code",
   "execution_count": 37,
   "id": "5722d01e-d992-4c1d-a09f-01a3cf2e7c95",
   "metadata": {
    "tags": []
   },
   "outputs": [
    {
     "data": {
      "text/plain": [
       "array([[3., 6., 2.],\n",
       "       [2., 0., 1.],\n",
       "       [1., 2., 3.]])"
      ]
     },
     "execution_count": 37,
     "metadata": {},
     "output_type": "execute_result"
    }
   ],
   "source": [
    "l @ u"
   ]
  },
  {
   "cell_type": "markdown",
   "id": "9d61dc5e-558c-4771-87bb-9392645a69ca",
   "metadata": {},
   "source": [
    "### Descomposición QR"
   ]
  },
  {
   "cell_type": "code",
   "execution_count": 17,
   "id": "9065d9f1-eb89-4ca6-847f-2a8a1efb4d77",
   "metadata": {
    "tags": []
   },
   "outputs": [],
   "source": [
    "Q, R = M.QRdecomposition()"
   ]
  },
  {
   "cell_type": "code",
   "execution_count": 18,
   "id": "ce6500d4-d4ef-49a6-a8d5-17ce474ca975",
   "metadata": {
    "tags": []
   },
   "outputs": [
    {
     "data": {
      "text/latex": [
       "$\\displaystyle \\left[\\begin{matrix}\\frac{\\sqrt{14}}{14} & \\frac{\\sqrt{35}}{35} & \\frac{3 \\sqrt{10}}{10}\\\\\\frac{3 \\sqrt{14}}{14} & \\frac{3 \\sqrt{35}}{35} & - \\frac{\\sqrt{10}}{10}\\\\\\frac{\\sqrt{14}}{7} & - \\frac{\\sqrt{35}}{7} & 0\\end{matrix}\\right]$"
      ],
      "text/plain": [
       "Matrix([\n",
       "[  sqrt(14)/14,   sqrt(35)/35, 3*sqrt(10)/10],\n",
       "[3*sqrt(14)/14, 3*sqrt(35)/35,  -sqrt(10)/10],\n",
       "[   sqrt(14)/7,   -sqrt(35)/7,             0]])"
      ]
     },
     "execution_count": 18,
     "metadata": {},
     "output_type": "execute_result"
    }
   ],
   "source": [
    "Q"
   ]
  },
  {
   "cell_type": "code",
   "execution_count": 19,
   "id": "cbf055f6-d057-4dc5-858a-f748b281233f",
   "metadata": {
    "tags": []
   },
   "outputs": [
    {
     "data": {
      "text/latex": [
       "$\\displaystyle \\left[\\begin{matrix}\\sqrt{14} & \\frac{10 \\sqrt{14}}{7} & \\frac{11 \\sqrt{14}}{14}\\\\0 & \\frac{4 \\sqrt{35}}{7} & \\frac{4 \\sqrt{35}}{35}\\\\0 & 0 & \\frac{7 \\sqrt{10}}{10}\\end{matrix}\\right]$"
      ],
      "text/plain": [
       "Matrix([\n",
       "[sqrt(14), 10*sqrt(14)/7, 11*sqrt(14)/14],\n",
       "[       0,  4*sqrt(35)/7,  4*sqrt(35)/35],\n",
       "[       0,             0,  7*sqrt(10)/10]])"
      ]
     },
     "execution_count": 19,
     "metadata": {},
     "output_type": "execute_result"
    }
   ],
   "source": [
    "R"
   ]
  },
  {
   "cell_type": "code",
   "execution_count": 20,
   "id": "6a440982-6590-4b8f-8837-fc04c86ecbf0",
   "metadata": {
    "tags": []
   },
   "outputs": [
    {
     "data": {
      "text/latex": [
       "$\\displaystyle \\left[\\begin{matrix}1 & 2 & 3\\\\3 & 6 & 2\\\\2 & 0 & 1\\end{matrix}\\right]$"
      ],
      "text/plain": [
       "Matrix([\n",
       "[1, 2, 3],\n",
       "[3, 6, 2],\n",
       "[2, 0, 1]])"
      ]
     },
     "execution_count": 20,
     "metadata": {},
     "output_type": "execute_result"
    }
   ],
   "source": [
    "Q * R"
   ]
  },
  {
   "cell_type": "code",
   "execution_count": 21,
   "id": "92194cf0-a22b-4b1d-ba34-d4fdbafb19de",
   "metadata": {
    "tags": []
   },
   "outputs": [],
   "source": [
    "q, r = np.linalg.qr(M)"
   ]
  },
  {
   "cell_type": "code",
   "execution_count": 22,
   "id": "bb53707b-8ee8-4c05-89c9-e113cacea465",
   "metadata": {
    "tags": []
   },
   "outputs": [
    {
     "data": {
      "text/plain": [
       "array([[-2.67261242e-01, -1.69030851e-01, -9.48683298e-01],\n",
       "       [-8.01783726e-01, -5.07092553e-01,  3.16227766e-01],\n",
       "       [-5.34522484e-01,  8.45154255e-01, -6.66133815e-16]])"
      ]
     },
     "execution_count": 22,
     "metadata": {},
     "output_type": "execute_result"
    }
   ],
   "source": [
    "q"
   ]
  },
  {
   "cell_type": "code",
   "execution_count": 23,
   "id": "9a9a2b0b-1dd4-4fc7-9c0b-c61639cb6435",
   "metadata": {
    "tags": []
   },
   "outputs": [
    {
     "data": {
      "text/plain": [
       "array([[-3.74165739, -5.34522484, -2.93987366],\n",
       "       [ 0.        , -3.38061702, -0.6761234 ],\n",
       "       [ 0.        ,  0.        , -2.21359436]])"
      ]
     },
     "execution_count": 23,
     "metadata": {},
     "output_type": "execute_result"
    }
   ],
   "source": [
    "r"
   ]
  },
  {
   "cell_type": "code",
   "execution_count": 24,
   "id": "2c68db88-16c0-448e-a695-b13045802e17",
   "metadata": {
    "tags": []
   },
   "outputs": [
    {
     "data": {
      "text/plain": [
       "array([[1., 2., 3.],\n",
       "       [3., 6., 2.],\n",
       "       [2., 0., 1.]])"
      ]
     },
     "execution_count": 24,
     "metadata": {},
     "output_type": "execute_result"
    }
   ],
   "source": [
    "q @ r"
   ]
  },
  {
   "cell_type": "markdown",
   "id": "8cbd0f86-77d8-4f41-ad85-3066ce307a80",
   "metadata": {},
   "source": [
    "### Descomposición de Cholesky"
   ]
  },
  {
   "cell_type": "code",
   "execution_count": 39,
   "id": "6f219d86-6484-466c-8458-1206df33e97c",
   "metadata": {},
   "outputs": [],
   "source": [
    "C = np.array([[6, 3, 4, 8], [3, 6, 5, 1], [4, 5, 10, 7], [8, 1, 7, 25]])"
   ]
  },
  {
   "cell_type": "code",
   "execution_count": 40,
   "id": "737b51d6-087b-4daf-ba9d-5fe5be1c4034",
   "metadata": {
    "tags": []
   },
   "outputs": [],
   "source": [
    "L = np.linalg.cholesky(C)"
   ]
  },
  {
   "cell_type": "code",
   "execution_count": 41,
   "id": "8e2992a7-ad44-45cb-8049-5c16a156a90b",
   "metadata": {
    "tags": []
   },
   "outputs": [
    {
     "data": {
      "text/plain": [
       "array([[ 2.44948974,  0.        ,  0.        ,  0.        ],\n",
       "       [ 1.22474487,  2.12132034,  0.        ,  0.        ],\n",
       "       [ 1.63299316,  1.41421356,  2.30940108,  0.        ],\n",
       "       [ 3.26598632, -1.41421356,  1.58771324,  3.13249102]])"
      ]
     },
     "execution_count": 41,
     "metadata": {},
     "output_type": "execute_result"
    }
   ],
   "source": [
    "L"
   ]
  },
  {
   "cell_type": "code",
   "execution_count": 43,
   "id": "0421ba99-f526-4228-ac95-c4050f8791c9",
   "metadata": {},
   "outputs": [
    {
     "data": {
      "text/plain": [
       "array([[ 2.44948974,  1.22474487,  1.63299316,  3.26598632],\n",
       "       [ 0.        ,  2.12132034,  1.41421356, -1.41421356],\n",
       "       [ 0.        ,  0.        ,  2.30940108,  1.58771324],\n",
       "       [ 0.        ,  0.        ,  0.        ,  3.13249102]])"
      ]
     },
     "execution_count": 43,
     "metadata": {},
     "output_type": "execute_result"
    }
   ],
   "source": [
    "L.T"
   ]
  },
  {
   "cell_type": "code",
   "execution_count": 42,
   "id": "18bad866-56c3-4328-ab92-9361c0ac9bf2",
   "metadata": {
    "tags": []
   },
   "outputs": [
    {
     "data": {
      "text/plain": [
       "array([[ 6.,  3.,  4.,  8.],\n",
       "       [ 3.,  6.,  5.,  1.],\n",
       "       [ 4.,  5., 10.,  7.],\n",
       "       [ 8.,  1.,  7., 25.]])"
      ]
     },
     "execution_count": 42,
     "metadata": {},
     "output_type": "execute_result"
    }
   ],
   "source": [
    "L @ L.T"
   ]
  },
  {
   "cell_type": "code",
   "execution_count": null,
   "id": "03580858-1baa-4089-968d-bc1a87f2299b",
   "metadata": {},
   "outputs": [],
   "source": []
  }
 ],
 "metadata": {
  "kernelspec": {
   "display_name": "Python 3 (ipykernel)",
   "language": "python",
   "name": "python3"
  },
  "language_info": {
   "codemirror_mode": {
    "name": "ipython",
    "version": 3
   },
   "file_extension": ".py",
   "mimetype": "text/x-python",
   "name": "python",
   "nbconvert_exporter": "python",
   "pygments_lexer": "ipython3",
   "version": "3.11.6"
  }
 },
 "nbformat": 4,
 "nbformat_minor": 5
}
