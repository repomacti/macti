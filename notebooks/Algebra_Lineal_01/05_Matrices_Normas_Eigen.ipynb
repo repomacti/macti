{
 "cells": [
  {
   "cell_type": "markdown",
   "id": "93ae67ec-2998-465f-a13e-ed9997afdcc6",
   "metadata": {},
   "source": [
    "# Matrices, normas y eigenvalores/eigenvectores.\n",
    "\n",
    "**Objetivo.** Revisar e ilustrar los conceptos de matrices, sus normas, sus eigenvalores y sus eigenvectores usando la biblioteca `numpy`.\n",
    "\n",
    " <p xmlns:cc=\"http://creativecommons.org/ns#\" xmlns:dct=\"http://purl.org/dc/terms/\"><a property=\"dct:title\" rel=\"cc:attributionURL\" href=\"https://github.com/repomacti/macti/tree/main/notebooks/Algebra_Lineal_01\">MACTI-Algebra_Lineal_01</a> by <a rel=\"cc:attributionURL dct:creator\" property=\"cc:attributionName\" href=\"https://www.macti.unam.mx\">Luis M. de la Cruz</a> is licensed under <a href=\"http://creativecommons.org/licenses/by-sa/4.0/?ref=chooser-v1\" target=\"_blank\" rel=\"license noopener noreferrer\" style=\"display:inline-block;\">Attribution-ShareAlike 4.0 International<img style=\"height:22px!important;margin-left:3px;vertical-align:text-bottom;\" src=\"https://mirrors.creativecommons.org/presskit/icons/cc.svg?ref=chooser-v1\"><img style=\"height:22px!important;margin-left:3px;vertical-align:text-bottom;\" src=\"https://mirrors.creativecommons.org/presskit/icons/by.svg?ref=chooser-v1\"><img style=\"height:22px!important;margin-left:3px;vertical-align:text-bottom;\" src=\"https://mirrors.creativecommons.org/presskit/icons/sa.svg?ref=chooser-v1\"></a></p> \n",
    "\n",
    "Trabajo realizado con el apoyo del Programa UNAM-DGAPA-PAPIME PE101922"
   ]
  },
  {
   "cell_type": "code",
   "execution_count": 2,
   "id": "ee1440ca-ac8e-40ae-b621-9f96335840e1",
   "metadata": {
    "tags": []
   },
   "outputs": [],
   "source": [
    "# Importamos las bibliotecas requeridas\n",
    "import numpy as np\n",
    "import sympy\n",
    "import ipywidgets as widgets\n",
    "import macti.visual as mvis\n",
    "import macti.matem as mmat"
   ]
  },
  {
   "cell_type": "markdown",
   "id": "fe0fc92f-75a4-4adf-a9e9-b7ccdbf487b5",
   "metadata": {
    "tags": []
   },
   "source": [
    "\n",
    "Sea $A = a_{ij}$ una matriz de $n \\times n$, donde $n$ indica la dimensión de la matriz ($n$ renglones por $n$ columnas). Los números $a_{ij}$ son los elementos de la matriz, donde $i,j = 1,\\dots,n$. $A$ y sus elementos se escriben como sigue:\n",
    "\n",
    "$$\n",
    "A = \n",
    "\\left(\n",
    "\\begin{array}{cccc}\n",
    "a_{11} & a_{12} & \\dots & a_{1n}\\\\\n",
    "a_{21} & a_{22} & \\dots & a_{2n}\\\\\n",
    "\\vdots & \\vdots& \\ddots & \\vdots \\\\\n",
    "a_{n1} & a_{n2} & \\dots & a_{nn}\\\\\n",
    "\\end{array}\n",
    "\\right)\n",
    "$$\n",
    "\n",
    "La matriz $A^T = {a_{ji}}$ es la matriz transpuesta.\n",
    "$$\n",
    "A^T = \n",
    "\\left(\n",
    "\\begin{array}{cccc}\n",
    "a_{11} & a_{21} & \\dots & a_{n1}\\\\\n",
    "a_{12} & a_{22} & \\dots & a_{n2}\\\\\n",
    "\\vdots & \\vdots& \\ddots & \\vdots \\\\\n",
    "a_{1n} & a_{2n} & \\dots & a_{nn}\\\\\n",
    "\\end{array}\n",
    "\\right)\n",
    "$$\n",
    "\n",
    "Definamos una matriz usando `numpy`:"
   ]
  },
  {
   "cell_type": "code",
   "execution_count": 3,
   "id": "0ab7ab1d-4527-4840-b76c-9ef3c07e22f9",
   "metadata": {
    "tags": []
   },
   "outputs": [
    {
     "name": "stdout",
     "output_type": "stream",
     "text": [
      "[[ 2  3  5]\n",
      " [ 1 -4  8]\n",
      " [ 8  6  3]]\n"
     ]
    }
   ],
   "source": [
    "A = np.array([[2, 3, 5],\n",
    "              [1, -4, 8],\n",
    "              [8, 6, 3]])\n",
    "print(A)"
   ]
  },
  {
   "cell_type": "markdown",
   "id": "10f6410c-52a2-464f-b286-e239e49066e6",
   "metadata": {},
   "source": [
    "## Matriz transpuesta\n",
    "La matriz $A^T = {a_{ji}}$ es la matriz transpuesta."
   ]
  },
  {
   "cell_type": "code",
   "execution_count": 5,
   "id": "461f7d1e-d2af-4ee8-bc17-a8276ee16f91",
   "metadata": {
    "tags": []
   },
   "outputs": [
    {
     "name": "stdout",
     "output_type": "stream",
     "text": [
      "[[ 2  1  8]\n",
      " [ 3 -4  6]\n",
      " [ 5  8  3]]\n"
     ]
    }
   ],
   "source": [
    "# Calcular la matriz transpuesta\n",
    "AT = A.T\n",
    "\n",
    "print(AT)"
   ]
  },
  {
   "cell_type": "markdown",
   "id": "9f9852bf-ee35-46f6-99ce-cbcbd8011e74",
   "metadata": {},
   "source": [
    "## Matriz identidad\n",
    "La matriz identidad $I$ es aquella donde todas sus entradas son cero excepto en la diagonal donde sus entradas son 1."
   ]
  },
  {
   "cell_type": "code",
   "execution_count": 6,
   "id": "4817fe73-548a-410a-a0ed-f642223adccb",
   "metadata": {
    "tags": []
   },
   "outputs": [
    {
     "name": "stdout",
     "output_type": "stream",
     "text": [
      "[[1. 0. 0.]\n",
      " [0. 1. 0.]\n",
      " [0. 0. 1.]]\n"
     ]
    }
   ],
   "source": [
    "# Definimos una matriz identidad\n",
    "I = np.eye(3)\n",
    "\n",
    "print(I)"
   ]
  },
  {
   "cell_type": "markdown",
   "id": "dd101822-4efd-4723-9a2a-92a6b2fc96d6",
   "metadata": {},
   "source": [
    "## Matriz inversa\n",
    "La matriz inversa de $A$ se denota por $A^{-1}$ y es tal que $A^{-1}A = I$."
   ]
  },
  {
   "cell_type": "code",
   "execution_count": 7,
   "id": "915eec37-8b57-4220-9371-9885a574648d",
   "metadata": {
    "tags": []
   },
   "outputs": [
    {
     "name": "stdout",
     "output_type": "stream",
     "text": [
      "[[-0.23715415  0.08300395  0.17391304]\n",
      " [ 0.24110672 -0.13438735 -0.04347826]\n",
      " [ 0.15019763  0.04743083 -0.04347826]]\n"
     ]
    }
   ],
   "source": [
    "# Calculamos la matriz inversa\n",
    "Ainv = np.linalg.inv(A)\n",
    "\n",
    "print(Ainv)"
   ]
  },
  {
   "cell_type": "code",
   "execution_count": 10,
   "id": "2de7818b-cdb0-49d2-bae8-92daa50c1044",
   "metadata": {
    "tags": []
   },
   "outputs": [
    {
     "name": "stdout",
     "output_type": "stream",
     "text": [
      "[[ 1.00000000e+00 -6.93889390e-18  2.77555756e-17]\n",
      " [ 2.22044605e-16  1.00000000e+00  0.00000000e+00]\n",
      " [ 8.32667268e-17  3.46944695e-17  1.00000000e+00]]\n"
     ]
    }
   ],
   "source": [
    "# Comprobar que Ainv es la inversa de A\n",
    "AA = np.dot(A, Ainv)\n",
    "\n",
    "print(AA)"
   ]
  },
  {
   "cell_type": "markdown",
   "id": "481c2b56-d75c-4da2-ba62-b3ae0d90fb68",
   "metadata": {},
   "source": [
    "## Matriz diagonal\n",
    "Una matriz $A = {a_{ij}}$ se llama diagonal si $a_{ij}=0, \\forall i \\ne j$ y se denota por $A = \\mbox{diag}$ ${a_{ii}}$."
   ]
  },
  {
   "cell_type": "code",
   "execution_count": 11,
   "id": "0ad79cdd-fdc1-443b-b52c-541383203735",
   "metadata": {
    "tags": []
   },
   "outputs": [
    {
     "name": "stdout",
     "output_type": "stream",
     "text": [
      "[[ 2  3  5]\n",
      " [ 1 -4  8]\n",
      " [ 8  6  3]]\n"
     ]
    }
   ],
   "source": [
    "print(A)"
   ]
  },
  {
   "cell_type": "code",
   "execution_count": 16,
   "id": "075cd2f4-9a3b-4e8c-99ff-5a285c0322ae",
   "metadata": {
    "tags": []
   },
   "outputs": [
    {
     "name": "stdout",
     "output_type": "stream",
     "text": [
      "[ 2 -4  3]\n"
     ]
    }
   ],
   "source": [
    "AD = np.diagonal(A)\n",
    "print(AD)"
   ]
  },
  {
   "cell_type": "code",
   "execution_count": 17,
   "id": "394d0f51-f390-44e9-855a-a1899af36a35",
   "metadata": {
    "tags": []
   },
   "outputs": [
    {
     "name": "stdout",
     "output_type": "stream",
     "text": [
      "[3 8]\n"
     ]
    }
   ],
   "source": [
    "# Diagonales inferiores\n",
    "AD = np.diagonal(A,1)\n",
    "print(AD)"
   ]
  },
  {
   "cell_type": "code",
   "execution_count": 18,
   "id": "e0c0adcd-9073-430d-b151-780f070fc098",
   "metadata": {
    "tags": []
   },
   "outputs": [
    {
     "name": "stdout",
     "output_type": "stream",
     "text": [
      "[1 6]\n"
     ]
    }
   ],
   "source": [
    "# Diagonales superiores\n",
    "AD = np.diagonal(A,-1)\n",
    "print(AD)"
   ]
  },
  {
   "cell_type": "markdown",
   "id": "742525c5-84f2-4525-890c-4390c86ce40b",
   "metadata": {},
   "source": [
    "## Matriz triangular superior e inferior\n",
    "Una matriz $A = {a_{ij}}$ se llama triangular superior si $a_{ij} = 0, \\forall i > j$ y triangular inferior si $a_{ij} = 0, \\forall i < j$."
   ]
  },
  {
   "cell_type": "code",
   "execution_count": 19,
   "id": "f6bc9ee3-1fd9-4cc7-8dc0-c3cac7489654",
   "metadata": {
    "tags": []
   },
   "outputs": [
    {
     "name": "stdout",
     "output_type": "stream",
     "text": [
      "[[ 2  3  5]\n",
      " [ 0 -4  8]\n",
      " [ 0  0  3]]\n"
     ]
    }
   ],
   "source": [
    "# Matriz triangular superior\n",
    "ATS = np.triu(A)\n",
    "print(ATS)"
   ]
  },
  {
   "cell_type": "code",
   "execution_count": 20,
   "id": "a15b9fb4-b99b-4201-afd9-9d0f2d848cfd",
   "metadata": {
    "tags": []
   },
   "outputs": [
    {
     "name": "stdout",
     "output_type": "stream",
     "text": [
      "[[ 2  0  0]\n",
      " [ 1 -4  0]\n",
      " [ 8  6  3]]\n"
     ]
    }
   ],
   "source": [
    "# Matriz triangular inferior\n",
    "ATI = np.tril(A)\n",
    "print(ATI)"
   ]
  },
  {
   "cell_type": "markdown",
   "id": "76e31a7a-e075-4023-8878-9aaa12248ef4",
   "metadata": {},
   "source": [
    "## Matrices simétricas\n",
    "Una matriz $A$ es simétrica si $A^T = A$ y antisimétrica si $A^T = -A$."
   ]
  },
  {
   "cell_type": "code",
   "execution_count": 21,
   "id": "d0e86579-e9c1-4eb1-b739-88f97460efea",
   "metadata": {
    "tags": []
   },
   "outputs": [],
   "source": [
    "B = np.array([[2, 3, 5],\n",
    "              [3, -4, 8],\n",
    "              [5, 8, 3]])"
   ]
  },
  {
   "cell_type": "code",
   "execution_count": 22,
   "id": "b4e97c7d-1c6a-4f0d-b314-ead3e6c4beba",
   "metadata": {
    "tags": []
   },
   "outputs": [
    {
     "name": "stdout",
     "output_type": "stream",
     "text": [
      "Matriz A = \n",
      "[[ 2  3  5]\n",
      " [ 1 -4  8]\n",
      " [ 8  6  3]] \n",
      "\n",
      "Matriz B = \n",
      "[[ 2  3  5]\n",
      " [ 3 -4  8]\n",
      " [ 5  8  3]]\n"
     ]
    }
   ],
   "source": [
    "print('Matriz A = \\n{} \\n\\nMatriz B = \\n{}'.format(A,B))"
   ]
  },
  {
   "cell_type": "code",
   "execution_count": 23,
   "id": "372a67ba-b939-4bd6-bb99-ecaf3fb01c2c",
   "metadata": {
    "tags": []
   },
   "outputs": [],
   "source": [
    "# Definimos una función para checar si una matriz es simétrica\n",
    "isSymmetric = lambda mat: np.array_equal(mat, mat.T)"
   ]
  },
  {
   "cell_type": "code",
   "execution_count": 24,
   "id": "dd7bdb9c-6d73-4dbc-87b0-57b936f7557a",
   "metadata": {
    "tags": []
   },
   "outputs": [
    {
     "data": {
      "text/plain": [
       "True"
      ]
     },
     "execution_count": 24,
     "metadata": {},
     "output_type": "execute_result"
    }
   ],
   "source": [
    "isSymmetric(B)"
   ]
  },
  {
   "cell_type": "code",
   "execution_count": 25,
   "id": "c449e3b8-ddd4-4626-8f70-b310e7bbb3a9",
   "metadata": {
    "tags": []
   },
   "outputs": [
    {
     "data": {
      "text/plain": [
       "False"
      ]
     },
     "execution_count": 25,
     "metadata": {},
     "output_type": "execute_result"
    }
   ],
   "source": [
    "isSymmetric(A)"
   ]
  },
  {
   "cell_type": "markdown",
   "id": "0f1d8a80-73c1-4cf0-b67e-ca042d7bd219",
   "metadata": {},
   "source": [
    "<div class=\"alert alert-info\">\n",
    "\n",
    "**Nota**. En el ejemplo anterior estamos usando la declaración `lambda` para definir una función en una sola línea. Esta función recibe una matriz `mat` y utiliza la función `np.array_equal()` de `numpy` para verificar si dos matrices son iguales, en este caso `mat` y su transpuesta `mat.T`.\n",
    "</div>"
   ]
  },
  {
   "cell_type": "markdown",
   "id": "af686c94-27c0-4bc6-8aa0-f45f20042497",
   "metadata": {},
   "source": [
    "## Matriz ortogonal\n",
    "Una matriz $A$ es ortogonal si $A^T A = I$, o equivalentemente $A^T = A^{-1}$.\n",
    "\n",
    "La [matriz rotación](https://es.wikipedia.org/wiki/Matriz_de_rotaci%C3%B3n) en 2D es una matriz ortogonal y se define como sigue:\n",
    "\n",
    "$$\n",
    "R(\\theta )=\n",
    "\\begin{bmatrix}\n",
    "\\cos \\theta &-\\sin \\theta \\\\\n",
    "\\sin \\theta & \\cos \\theta \\\\\n",
    "\\end{bmatrix}\n",
    "$$\n",
    "\n",
    "Para definir esta matriz usamos `sympy`:"
   ]
  },
  {
   "cell_type": "code",
   "execution_count": 34,
   "id": "45a50d3e-0086-477d-8917-76f5b548c3c0",
   "metadata": {
    "tags": []
   },
   "outputs": [
    {
     "data": {
      "text/latex": [
       "$\\displaystyle \\left[\\begin{matrix}\\cos{\\left(𝜃 \\right)} & - \\sin{\\left(𝜃 \\right)}\\\\\\sin{\\left(𝜃 \\right)} & \\cos{\\left(𝜃 \\right)}\\end{matrix}\\right]$"
      ],
      "text/plain": [
       "Matrix([\n",
       "[cos(𝜃), -sin(𝜃)],\n",
       "[sin(𝜃),  cos(𝜃)]])"
      ]
     },
     "execution_count": 34,
     "metadata": {},
     "output_type": "execute_result"
    }
   ],
   "source": [
    "𝜃 = sympy.symbols('𝜃')\n",
    "\n",
    "# Matriz rotación\n",
    "R = sympy.Matrix([[sympy.cos(𝜃), -sympy.sin(𝜃)],\n",
    "                  [sympy.sin(𝜃), sympy.cos(𝜃)]])\n",
    "R"
   ]
  },
  {
   "cell_type": "markdown",
   "id": "2d7a4c70-dd8e-4cf6-a5b6-72c57fe6fab6",
   "metadata": {},
   "source": [
    "Verifiquemos que cumple con las propiedades de una matriz ortogonal."
   ]
  },
  {
   "cell_type": "code",
   "execution_count": 35,
   "id": "f4ce67f3-8838-4a31-b6fe-e29cb36dd0c7",
   "metadata": {
    "tags": []
   },
   "outputs": [
    {
     "data": {
      "text/latex": [
       "$\\displaystyle \\left[\\begin{matrix}\\cos{\\left(𝜃 \\right)} & \\sin{\\left(𝜃 \\right)}\\\\- \\sin{\\left(𝜃 \\right)} & \\cos{\\left(𝜃 \\right)}\\end{matrix}\\right]$"
      ],
      "text/plain": [
       "Matrix([\n",
       "[ cos(𝜃), sin(𝜃)],\n",
       "[-sin(𝜃), cos(𝜃)]])"
      ]
     },
     "execution_count": 35,
     "metadata": {},
     "output_type": "execute_result"
    }
   ],
   "source": [
    "R.T"
   ]
  },
  {
   "cell_type": "code",
   "execution_count": 36,
   "id": "25449120-b989-4c31-9817-17b39e5e9f67",
   "metadata": {
    "tags": []
   },
   "outputs": [
    {
     "data": {
      "text/latex": [
       "$\\displaystyle \\left[\\begin{matrix}\\sin^{2}{\\left(𝜃 \\right)} + \\cos^{2}{\\left(𝜃 \\right)} & 0\\\\0 & \\sin^{2}{\\left(𝜃 \\right)} + \\cos^{2}{\\left(𝜃 \\right)}\\end{matrix}\\right]$"
      ],
      "text/plain": [
       "Matrix([\n",
       "[sin(𝜃)**2 + cos(𝜃)**2,                     0],\n",
       "[                    0, sin(𝜃)**2 + cos(𝜃)**2]])"
      ]
     },
     "execution_count": 36,
     "metadata": {},
     "output_type": "execute_result"
    }
   ],
   "source": [
    "R * R.T"
   ]
  },
  {
   "cell_type": "code",
   "execution_count": 37,
   "id": "00541c35-2d8d-4e4d-943b-a29b01be02e1",
   "metadata": {
    "tags": []
   },
   "outputs": [
    {
     "data": {
      "text/latex": [
       "$\\displaystyle \\left[\\begin{matrix}1 & 0\\\\0 & 1\\end{matrix}\\right]$"
      ],
      "text/plain": [
       "Matrix([\n",
       "[1, 0],\n",
       "[0, 1]])"
      ]
     },
     "execution_count": 37,
     "metadata": {},
     "output_type": "execute_result"
    }
   ],
   "source": [
    "sympy.simplify(R * R.T)"
   ]
  },
  {
   "cell_type": "markdown",
   "id": "e04d2df1-aeb2-479a-aae4-043ba2e32b6a",
   "metadata": {
    "tags": []
   },
   "source": [
    "Esta matriz rota un vector por un cierto número de grados, veamos:"
   ]
  },
  {
   "cell_type": "code",
   "execution_count": 43,
   "id": "c24da1c8-e270-4724-b4d7-f47d50380337",
   "metadata": {
    "tags": []
   },
   "outputs": [
    {
     "name": "stdout",
     "output_type": "stream",
     "text": [
      "Vector original:  Matrix([[3], [0.500000000000000]])\n",
      "Vector a 90 grados:  Matrix([[-0.500000000000000], [3.00000000000000]])\n"
     ]
    }
   ],
   "source": [
    "angulo = 90 # ángulo de rotación\n",
    "\n",
    "# Vector a rotar\n",
    "t1 = sympy.Matrix([3, 0.5])\n",
    "\n",
    "# Rotación usando la matriz R\n",
    "t2 = R.subs('𝜃', angulo * np.pi / 180).evalf(14) * t1\n",
    "\n",
    "# Transformación a arreglos de numpy\n",
    "nt1 = np.array(t1, dtype=float).reshape(2,)\n",
    "nt2 = np.array(t2, dtype=float).reshape(2,)\n",
    "\n",
    "# Imprimimos los vectores:\n",
    "print('Vector original: ', t1)\n",
    "print('Vector a 90 grados: ', t2)"
   ]
  },
  {
   "cell_type": "code",
   "execution_count": 44,
   "id": "e2b11f05-86ea-44bd-98e6-9e0641bb199e",
   "metadata": {},
   "outputs": [
    {
     "data": {
      "image/png": "[encoded data removed]",
      "text/plain": [
       "<Figure size 512x384 with 1 Axes>"
      ]
     },
     "metadata": {},
     "output_type": "display_data"
    }
   ],
   "source": [
    "# Visualizamos los vectores.\n",
    "v = mvis.Plotter()  # Definición de un objeto para crear figuras.\n",
    "v.set_coordsys(1)   # Definición del sistema de coordenadas.\n",
    "v.plot_vectors(1, [nt1, nt2], ['t1', 't2'], ofx=-0.1) # Graficación de los vectores 'x' y 'y'.\n",
    "v.grid()  # Muestra la rejilla del sistema de coordenadas."
   ]
  },
  {
   "cell_type": "markdown",
   "id": "c379fa24-558c-47b9-a816-fa0b8bc9ecf4",
   "metadata": {},
   "source": [
    "Cada par de renglones o de columnas de una matriz ortogonal, son ortogonales entre sí. Además la longitud de cada columna o renglón es igual a 1."
   ]
  },
  {
   "cell_type": "code",
   "execution_count": 45,
   "id": "6b0fd81f-9f0a-4053-9f64-133b3c6f77db",
   "metadata": {
    "tags": []
   },
   "outputs": [],
   "source": [
    "# Definimos una matriz ortogonal\n",
    "C = np.array([[1/3, 2/3, -2/3],\n",
    "              [-2/3, 2/3, 1/3],\n",
    "              [2/3, 1/3, 2/3]])"
   ]
  },
  {
   "cell_type": "code",
   "execution_count": 46,
   "id": "e9a39cbe-2524-439a-a38e-e7b3b6392a04",
   "metadata": {
    "tags": []
   },
   "outputs": [
    {
     "data": {
      "text/plain": [
       "array([[ 1.00000000e+00, -1.54197642e-17,  2.46716228e-17],\n",
       "       [-1.54197642e-17,  1.00000000e+00, -1.23358114e-17],\n",
       "       [ 2.46716228e-17, -1.23358114e-17,  1.00000000e+00]])"
      ]
     },
     "execution_count": 46,
     "metadata": {},
     "output_type": "execute_result"
    }
   ],
   "source": [
    "# Verificamos que es ortogonal\n",
    "np.dot(C, C.T)"
   ]
  },
  {
   "cell_type": "code",
   "execution_count": 47,
   "id": "60ea0ca2-9e94-4df3-b3d6-508189fb7da7",
   "metadata": {
    "tags": []
   },
   "outputs": [
    {
     "data": {
      "text/plain": [
       "np.float64(-1.5419764230904953e-17)"
      ]
     },
     "execution_count": 47,
     "metadata": {},
     "output_type": "execute_result"
    }
   ],
   "source": [
    "# Verificamos ortogonalidad entre renglones\n",
    "np.dot(C[0], C[1])"
   ]
  },
  {
   "cell_type": "code",
   "execution_count": 48,
   "id": "2a649c1f-3c92-49cb-bf11-a59b7a19d160",
   "metadata": {
    "tags": []
   },
   "outputs": [
    {
     "data": {
      "text/plain": [
       "np.float64(1.5419764230904953e-17)"
      ]
     },
     "execution_count": 48,
     "metadata": {},
     "output_type": "execute_result"
    }
   ],
   "source": [
    "# Verificamos ortogonalidad entre columnas\n",
    "np.dot(C[:,0], C[:,1])"
   ]
  },
  {
   "cell_type": "code",
   "execution_count": 49,
   "id": "2e866091-d04e-4319-a5a3-1308470575d0",
   "metadata": {
    "tags": []
   },
   "outputs": [
    {
     "data": {
      "text/plain": [
       "np.float64(0.9999999999999999)"
      ]
     },
     "execution_count": 49,
     "metadata": {},
     "output_type": "execute_result"
    }
   ],
   "source": [
    "# Verificamos la norma de los renglones\n",
    "np.linalg.norm(C[2])"
   ]
  },
  {
   "cell_type": "code",
   "execution_count": 50,
   "id": "79b2f5cf-650d-454e-94f4-868a952369fa",
   "metadata": {
    "tags": []
   },
   "outputs": [
    {
     "data": {
      "text/plain": [
       "np.float64(0.9999999999999999)"
      ]
     },
     "execution_count": 50,
     "metadata": {},
     "output_type": "execute_result"
    }
   ],
   "source": [
    "# Verificamos la norma de las columnas\n",
    "np.linalg.norm(C[2])"
   ]
  },
  {
   "cell_type": "markdown",
   "id": "6559c478-5d69-4a37-a352-4677fd09bbe0",
   "metadata": {},
   "source": [
    "## Matriz transpuesta conjugada\n",
    "La matriz $A^*$ representa a la matriz $A$ transpuesta y conjugada. La matriz $A^* = {\\bar{a}_{ji}}$ se llama también la adjunta de $A$."
   ]
  },
  {
   "cell_type": "code",
   "execution_count": 51,
   "id": "da10d35d-8616-48e6-9695-474960eadd99",
   "metadata": {
    "tags": []
   },
   "outputs": [
    {
     "name": "stdout",
     "output_type": "stream",
     "text": [
      "[[1.+1.j 2.+2.j 3.+3.j]\n",
      " [4.+4.j 5.+5.j 6.+6.j]\n",
      " [7.+7.j 8.+8.j 9.+9.j]]\n"
     ]
    }
   ],
   "source": [
    "# Creación de una matriz con valores complejos\n",
    "real = np.arange(1,10).reshape(3,3)\n",
    "imag = np.arange(1,10).reshape(3,3)\n",
    "C =  real + imag *1.0j\n",
    "print(C)"
   ]
  },
  {
   "cell_type": "code",
   "execution_count": 52,
   "id": "af4f43c8-078e-427c-b89d-758def622083",
   "metadata": {
    "tags": []
   },
   "outputs": [
    {
     "data": {
      "text/plain": [
       "array([[1.-1.j, 4.-4.j, 7.-7.j],\n",
       "       [2.-2.j, 5.-5.j, 8.-8.j],\n",
       "       [3.-3.j, 6.-6.j, 9.-9.j]])"
      ]
     },
     "execution_count": 52,
     "metadata": {},
     "output_type": "execute_result"
    }
   ],
   "source": [
    "# Transpuesta conjugada\n",
    "C.conj().T"
   ]
  },
  {
   "cell_type": "markdown",
   "id": "3370de0d-0063-40e8-b714-daf7a6e2ade8",
   "metadata": {},
   "source": [
    "## Matriz definida positiva\n",
    "\n",
    "Una matriz $A$ se denomina **positiva definida** si $\\langle A\\vec{x}, \\vec{x}\\rangle = \\vec{x}^T A\\vec{x} > 0$ para cualquier vector no nulo $\\vec{x}$ de $\\mathbb{R}^n$. \n",
    "\n",
    "La matriz se llama **positiva semidefinida** si $\\vec{x}^T A\\vec{x} \\ge 0$ para cualquier vector $\\vec{x}$ de $\\mathbb{R}^n$. \n",
    "\n",
    "Recordemos que:\n",
    "$$\n",
    "\\vec{x}^T A\\vec{x} = \\sum_{i=1}^n \\sum_{j=1}^n a_{ij} x_i x_j\n",
    "$$\n",
    "\n",
    "<div class=\"alert alert-info\">\n",
    "\n",
    "## Ejemplo 1.\n",
    "\n",
    "Las siguientes dos rectas se cruzan en algún punto.\n",
    "\n",
    "$$\n",
    "\\begin{array}{ccc}\n",
    "3x + 2y & = &2 \\\\\n",
    "2x + 6y & = &-8\n",
    "\\end{array}\n",
    "$$\n",
    "\n",
    "En términos de un sistema lineal, las dos ecuaciones anteriores se escriben como sigue:\n",
    "\n",
    "$$\n",
    "\\left[\n",
    "\\begin{array}{cc}\n",
    "3 & 2 \\\\\n",
    "2 & 6\n",
    "\\end{array} \\right]\n",
    "\\left[\n",
    "\\begin{array}{c}\n",
    "x \\\\\n",
    "y\n",
    "\\end{array} \\right] =\n",
    "\\left[\n",
    "\\begin{array}{c}\n",
    "2 \\\\ \n",
    "-8\n",
    "\\end{array} \\right]\n",
    "\\tag{1}\n",
    "$$\n",
    "\n",
    "Podemos calcular $\\vec{x}^T A\\vec{x}$ para este ejemplo como sigue:    \n",
    "</div>"
   ]
  },
  {
   "cell_type": "code",
   "execution_count": 53,
   "id": "a95cf181-c7d2-403c-bbde-5d0f6cb9dce0",
   "metadata": {
    "tags": []
   },
   "outputs": [
    {
     "name": "stdout",
     "output_type": "stream",
     "text": [
      "Matrix([[x], [y]])\n",
      "Matrix([[3.00000000000000, 2.00000000000000], [2.00000000000000, 6.00000000000000]])\n"
     ]
    }
   ],
   "source": [
    "# Usaremos sympy.\n",
    "# Primero definimos los símbolos\n",
    "x, y = sympy.symbols('x y')\n",
    "\n",
    "# Construimos el vector de incógnitas\n",
    "X = sympy.Matrix([x, y])\n",
    "print(X)\n",
    "\n",
    "# Construimos la matriz\n",
    "A = sympy.Matrix([[3.0, 2.0], [2.0, 6.0]])\n",
    "print(A)"
   ]
  },
  {
   "cell_type": "code",
   "execution_count": 54,
   "id": "4d31eab6-2e7e-4007-a484-dd25c9efbadc",
   "metadata": {
    "tags": []
   },
   "outputs": [
    {
     "data": {
      "text/latex": [
       "$\\displaystyle \\left[\\begin{matrix}x \\left(3.0 x + 2.0 y\\right) + y \\left(2.0 x + 6.0 y\\right)\\end{matrix}\\right]$"
      ],
      "text/plain": [
       "Matrix([[x*(3.0*x + 2.0*y) + y*(2.0*x + 6.0*y)]])"
      ]
     },
     "execution_count": 54,
     "metadata": {},
     "output_type": "execute_result"
    }
   ],
   "source": [
    "# Calculamos xT * A * x\n",
    "pos_def = X.T @ A @ X\n",
    "pos_def"
   ]
  },
  {
   "cell_type": "code",
   "execution_count": 55,
   "id": "04bfb50a-7b50-41d4-a233-2766d9ecb140",
   "metadata": {
    "tags": []
   },
   "outputs": [
    {
     "data": {
      "text/latex": [
       "$\\displaystyle \\left[\\begin{matrix}3.0 x^{2} + 4.0 x y + 6.0 y^{2}\\end{matrix}\\right]$"
      ],
      "text/plain": [
       "Matrix([[3.0*x**2 + 4.0*x*y + 6.0*y**2]])"
      ]
     },
     "execution_count": 55,
     "metadata": {},
     "output_type": "execute_result"
    }
   ],
   "source": [
    "# Simplificamos\n",
    "f = sympy.simplify(pos_def)\n",
    "f"
   ]
  },
  {
   "cell_type": "code",
   "execution_count": 56,
   "id": "0283b4b1-e60b-45a1-9e32-92951bb27ce0",
   "metadata": {
    "tags": []
   },
   "outputs": [
    {
     "data": {
      "image/png": "[encoded data removed]",
      "text/plain": [
       "<Figure size 512x384 with 1 Axes>"
      ]
     },
     "metadata": {},
     "output_type": "display_data"
    },
    {
     "data": {
      "text/plain": [
       "<sympy.plotting.backends.matplotlibbackend.matplotlib.MatplotlibBackend at 0x7f08ea28f4d0>"
      ]
     },
     "execution_count": 56,
     "metadata": {},
     "output_type": "execute_result"
    }
   ],
   "source": [
    "# Graficamos\n",
    "sympy.plotting.plot3d(f[0], (x, -3, 6), (y, -8, 6))"
   ]
  },
  {
   "cell_type": "markdown",
   "id": "1836940d-cfbd-48f8-b14f-4b3c6e65d12c",
   "metadata": {
    "tags": []
   },
   "source": [
    "Observa que se obtiene una función cuadrática cuya gráfica es un paraboloide orientado hacia arriba. Esta es una característica de las matrices definidas positivas. \n"
   ]
  },
  {
   "cell_type": "markdown",
   "id": "a4e0dedb-ddc7-4a18-aa33-344ce41462e8",
   "metadata": {},
   "source": [
    "<div class=\"alert alert-success\">\n",
    "\n",
    "## Ejercicio 1.\n",
    "\n",
    "Determinar si en el siguiente sistema de ecuaciones se tiene una matriz definida positiva:\n",
    "$$\n",
    "\\begin{array}{ccc}\n",
    "y & = & 0.10 x + 200 \\\\\n",
    "y & = & 0.30 x + 20\n",
    "\\end{array}\n",
    "$$\n",
    "\n",
    "Sistema lineal.\n",
    "\n",
    "$$\n",
    "\\left[\n",
    "\\begin{array}{cc}\n",
    "0.10 & -1 \\\\\n",
    "0.30 & -1\n",
    "\\end{array} \\right]\n",
    "\\left[\n",
    "\\begin{array}{c}\n",
    "x \\\\\n",
    "y\n",
    "\\end{array} \\right] =\n",
    "\\left[\n",
    "\\begin{array}{c}\n",
    "-200 \\\\ \n",
    "-20\n",
    "\\end{array} \\right] \\tag{2}\n",
    "$$\n",
    "\n",
    "Guarda tu respuesta en la variable `respuesta = 'SI'` si la matriz es definida positiva o `respuesta =  'NO'` en caso contrario.\n",
    "    \n",
    "**Hint**: Utilizar el mismo código del ejemplo 1 y modificarlo de acuerdo al ejercicio planteado. Observa cómo sale la gráfica y responde la pregunta. Para un mejor resultado en la gráfica 3D, utiliza los intervalos $x \\in [-6000, 6000]$ y $y = [-3000, 3000]$.\n",
    "\n",
    "</div>"
   ]
  },
  {
   "cell_type": "code",
   "execution_count": 57,
   "id": "612e3e40-3f6c-4035-a46f-091e09f21e5c",
   "metadata": {
    "tags": []
   },
   "outputs": [
    {
     "data": {
      "image/png": "[encoded data removed]",
      "text/plain": [
       "<Figure size 512x384 with 1 Axes>"
      ]
     },
     "metadata": {},
     "output_type": "display_data"
    },
    {
     "data": {
      "text/plain": [
       "<sympy.plotting.backends.matplotlibbackend.matplotlib.MatplotlibBackend at 0x7f08ea259b50>"
      ]
     },
     "execution_count": 57,
     "metadata": {},
     "output_type": "execute_result"
    }
   ],
   "source": [
    "# B = sympy.Matrix(...)\n",
    "# pos_def_B = ...\n",
    "# fB = ...\n",
    "# sympy.plotting.plot3D( ...)\n",
    "\n",
    "### BEGIN SOLUTION\n",
    "B = sympy.Matrix([[0.10, -1.0], [0.30, -1.0]])\n",
    "\n",
    "pos_indef_B = X.T @ B @ X\n",
    "fB = sympy.simplify(pos_indef_B)\n",
    "sympy.plotting.plot3d(fB[0], (x, -6000, 6000), (y, -3000, 3000))\n",
    "### END SOLUTION\n",
    "\n",
    "# respuesta = ..."
   ]
  },
  {
   "cell_type": "markdown",
   "id": "02568514-f23b-4a07-b645-2ca71301b325",
   "metadata": {},
   "source": [
    "## Eigenvalores y Eigenvectores\n",
    "\n",
    "Si $A$ es una matriz cuadrada, entonces definimos el número $\\lambda$ (real o complejo) como **eigenvalor** (**valor propio** o **autovalor**) de $A$ si $A\\vec{u} = \\lambda \\vec{u}$, o equivalentemente si $det(A - \\lambda I) = 0$. El vector $\\vec{u}$ se llama **eigenvector** (**vector propio** o **autovector**) de $A$. El conjunto de todos los autovalores de la matriz $A$ se denomina espectro de $A$ y se denota como $\\rho(A)$."
   ]
  },
  {
   "cell_type": "code",
   "execution_count": 60,
   "id": "ae96e507-ee1e-4479-9185-62ff4797aab0",
   "metadata": {
    "tags": []
   },
   "outputs": [
    {
     "data": {
      "text/plain": [
       "array([[3., 2.],\n",
       "       [2., 6.]])"
      ]
     },
     "execution_count": 60,
     "metadata": {},
     "output_type": "execute_result"
    }
   ],
   "source": [
    "# Usamos la matriz del Ejemplo 1.\n",
    "A = sympy.Matrix([[3.0, 2.0], [2.0, 6.0]])\n",
    "\n",
    "# Convertimos la matriz A a un arreglo de numpy\n",
    "A = np.array(A, dtype=float)\n",
    "A"
   ]
  },
  {
   "cell_type": "markdown",
   "id": "8d4be1ea-e5bd-4a19-b4c4-5cf718baf7ce",
   "metadata": {},
   "source": [
    "Los eigenvalores y eigenvectores se pueden calcular usando la función `np.linalg.eig()}` `de numpy` como sigue:"
   ]
  },
  {
   "cell_type": "code",
   "execution_count": 61,
   "id": "25bc1bf7-86be-4cf6-abad-47649f93d96c",
   "metadata": {
    "tags": []
   },
   "outputs": [
    {
     "data": {
      "text/plain": [
       "EigResult(eigenvalues=array([2., 7.]), eigenvectors=array([[-0.89442719, -0.4472136 ],\n",
       "       [ 0.4472136 , -0.89442719]]))"
      ]
     },
     "execution_count": 61,
     "metadata": {},
     "output_type": "execute_result"
    }
   ],
   "source": [
    "np.linalg.eig(A)  # w: eigenvalues, v: eigenvectors"
   ]
  },
  {
   "cell_type": "markdown",
   "id": "08acf22f-678c-429e-993d-f33de984c2a7",
   "metadata": {
    "tags": []
   },
   "source": [
    "También podemos usar la función `macti.matem.eigen_land()` para obtener mayor información de los eigenvalores y eigenvectores como sigue:"
   ]
  },
  {
   "cell_type": "code",
   "execution_count": 62,
   "id": "4159d8cf-1e4d-41f0-bebc-c4b86554a7c2",
   "metadata": {},
   "outputs": [
    {
     "name": "stdout",
     "output_type": "stream",
     "text": [
      "eigenvalores = [2. 7.]\n",
      "eigenvectores:\n",
      " [-0.89442719  0.4472136 ] \n",
      " [-0.4472136  -0.89442719]\n",
      "ángulo entre eigenvectores = 90.0\n"
     ]
    }
   ],
   "source": [
    "wA, vA = mmat.eigen_land(A)"
   ]
  },
  {
   "cell_type": "markdown",
   "id": "b4308d1e-343b-48e6-b404-c9b477bd4e61",
   "metadata": {},
   "source": [
    "Podemos graficar los eigenvectores:"
   ]
  },
  {
   "cell_type": "code",
   "execution_count": 63,
   "id": "f229081d-2669-4a64-9d18-3593dc70c163",
   "metadata": {
    "tags": []
   },
   "outputs": [
    {
     "data": {
      "image/png": "[encoded data removed]",
      "text/plain": [
       "<Figure size 512x384 with 1 Axes>"
      ]
     },
     "metadata": {},
     "output_type": "display_data"
    }
   ],
   "source": [
    "v = mvis.Plotter()\n",
    "v.set_coordsys()\n",
    "v.plot_vectors(1, [vA[:,0], vA[:,1]], ['$e_0^A$','$e_1^A$'])\n",
    "v.grid()"
   ]
  },
  {
   "cell_type": "markdown",
   "id": "2ea64ffb-c9a4-4ea0-8bd7-b414349d510e",
   "metadata": {},
   "source": [
    "Observa que en este caso los eigenvectores son ortogonales.\n",
    "\n",
    "La relación \n",
    "\n",
    "$$\n",
    "A \\vec{u} = \\lambda \\vec{u}\n",
    "$$\n",
    "\n",
    "indica básicamente que al aplicar la matriz $A$ a un eigenvector $\\vec{u}$, el resultado es el mismo vector escalado $\\lambda \\vec{u}$, es decir no lo rota. Cualquier otro vector, que no sea un múltiplo de los eigenvectores, será rotado. Veamos esto en el siguiente código:"
   ]
  },
  {
   "cell_type": "code",
   "execution_count": 161,
   "id": "92489b89-4d01-413a-9bba-e3271708d01e",
   "metadata": {
    "tags": []
   },
   "outputs": [
    {
     "data": {
      "image/png": "[encoded data removed]",
      "text/plain": [
       "<Figure size 640x240 with 2 Axes>"
      ]
     },
     "metadata": {},
     "output_type": "display_data"
    }
   ],
   "source": [
    "# definimos un vector\n",
    "x1 = np.array([-1.5,0.95])\n",
    "\n",
    "# Aplicamos la matriz A\n",
    "r1 = A @ x1\n",
    "\n",
    "# Ahora graficamos\n",
    "v = mvis.Plotter(1, 2, fig_par=dict(figsize=(8,3)))\n",
    "\n",
    "v.set_coordsys(1)\n",
    "v.plot_vectors(1, [x1, r1], \n",
    "                  ['$x_1$', '$A * x_1$'], \n",
    "               w = [0.03, 0.02], lcolors = ['black', 'deepskyblue'])\n",
    "v.set_coordsys(2)\n",
    "v.plot_vectors(2, [vA[:,0], A @ vA[:,0]], \n",
    "                  ['$e_0^A$', '$A * e_0^A$'], \n",
    "               w = [0.02, 0.01], lcolors = ['black', 'deepskyblue'], ofx=-100.0)\n",
    "\n",
    "v.legend([1,2], fontsize=9, ncol=1, loc='upper right')\n",
    "v.grid()"
   ]
  },
  {
   "cell_type": "markdown",
   "id": "b35add58-0b18-45de-b95c-51cf346b7e3b",
   "metadata": {},
   "source": [
    "Observamos que el eigenvectpr $e_0^A$ no rota cuando se le aplica $A$, pero el vector $\\vec{x}_1$ si es rotado un cierto ángulo cuando le aplicamos la matriz $A$."
   ]
  },
  {
   "cell_type": "markdown",
   "id": "cda083a4-88c1-432f-a098-81da73df133a",
   "metadata": {},
   "source": [
    "## Normas Matriciales.\n",
    "\n",
    "La norma de una matriz $A$ es un número real positivo denotado por $||A||$.\n",
    "Dadas cualesquiera dos matrices $A$ y $B$ se cumplen los siguiente axiomas.\n",
    "1. $||A|| \\ge 0$.\n",
    "2. $||A|| = 0 \\iff A = 0$.\n",
    "3. $||aA|| = |a| ||A||$ para cualquier número real $a$.\n",
    "4. $||A+B|| \\le ||A|| + ||B||$ (desigualdad triangular).\n",
    "5. $||AB|| \\le ||A||||B||$ (compatibilidad).\n",
    "\n",
    "Definimos la siguiente matriz\n",
    "\n",
    "$$\n",
    "M =\n",
    "\\begin{bmatrix}\n",
    "-3 & 2 \\\\\n",
    "1 & -5\n",
    "\\end{bmatrix}\n",
    "$$\n"
   ]
  },
  {
   "cell_type": "code",
   "execution_count": 134,
   "id": "2ca2a575-132f-403c-afc1-778048acfcb1",
   "metadata": {
    "tags": []
   },
   "outputs": [
    {
     "data": {
      "text/plain": [
       "array([[-3,  2],\n",
       "       [ 1, -5]])"
      ]
     },
     "execution_count": 134,
     "metadata": {},
     "output_type": "execute_result"
    }
   ],
   "source": [
    "M = np.array([[-3, 2],[1, -5]])\n",
    "M"
   ]
  },
  {
   "cell_type": "markdown",
   "id": "ea3e26ae-db41-4e53-bfa4-a71f28bb0a8b",
   "metadata": {},
   "source": [
    "### Norma 1.\n",
    "Consiste en sumar los valores absolutos de los elementos de cada **columna** y luego calular \n",
    "la suma máxima:\n",
    "$$\n",
    "||A||_1 = \\max_{1 \\le j \\le n} \\left( \\sum_{i=1}^n  |a_{ij}| \\right)\n",
    "$$"
   ]
  },
  {
   "cell_type": "code",
   "execution_count": 136,
   "id": "dc997e5c-38cc-46d1-a0a1-38eac1ae775f",
   "metadata": {
    "tags": []
   },
   "outputs": [
    {
     "name": "stdout",
     "output_type": "stream",
     "text": [
      "7.0\n"
     ]
    }
   ],
   "source": [
    "A_n1 = np.linalg.norm(M,1)\n",
    "print(A_n1)"
   ]
  },
  {
   "cell_type": "markdown",
   "id": "0c216096-07b6-4733-af3a-ac1da630d58f",
   "metadata": {},
   "source": [
    "### Norma $\\infty$.\n",
    "Consiste en sumar los valores absolutos de los elementos de cada **renglón** y luego calular \n",
    "la suma máxima:\n",
    "$$\n",
    "||A||_\\infty = \\max_{1 \\le i \\le n} \\left( \\sum_{j=1}^n  |a_{ij}| \\right)\n",
    "$$"
   ]
  },
  {
   "cell_type": "code",
   "execution_count": 138,
   "id": "37afcd57-1ec4-4801-839e-8b60db691e63",
   "metadata": {
    "tags": []
   },
   "outputs": [
    {
     "name": "stdout",
     "output_type": "stream",
     "text": [
      "6.0\n"
     ]
    }
   ],
   "source": [
    "A_nI = np.linalg.norm(M, np.inf)\n",
    "print(A_nI)"
   ]
  },
  {
   "cell_type": "markdown",
   "id": "ecb82309-1be2-4d64-af87-dc38d28e7264",
   "metadata": {},
   "source": [
    "### Norma de Frobenius\n",
    "\n",
    "$$\n",
    "||A||_F = \\left( \\sum_{i=1}^n \\sum_{j=1}^n |a_{ij}|^2 \\right)^{1/2}\n",
    "$$"
   ]
  },
  {
   "cell_type": "code",
   "execution_count": 139,
   "id": "8c753964-49c3-403a-8c01-e4bff4c8bc01",
   "metadata": {
    "tags": []
   },
   "outputs": [
    {
     "name": "stdout",
     "output_type": "stream",
     "text": [
      "6.244997998398398\n"
     ]
    }
   ],
   "source": [
    "A_nFro = np.linalg.norm(M, 'fro')\n",
    "print(A_nFro)"
   ]
  },
  {
   "cell_type": "markdown",
   "id": "b72591af-4b09-4d21-91b5-d030f673c015",
   "metadata": {},
   "source": [
    "<div class=\"alert alert-info\">\n",
    "\n",
    "## Ejemplo 2.\n",
    "\n",
    "Verificar que se cumplen los 5 axiomas de las normas matriciales para la Norma 1 usando la matriz $M$.\n",
    "</div>"
   ]
  },
  {
   "cell_type": "markdown",
   "id": "a68d6a5f-9143-4e28-8bb5-54672c818148",
   "metadata": {},
   "source": [
    "**Axioma 1**. $||M||_1 \\geq 0$"
   ]
  },
  {
   "cell_type": "code",
   "execution_count": 141,
   "id": "f9ae0ffb-751d-4269-8523-d873bb77eea2",
   "metadata": {
    "tags": []
   },
   "outputs": [
    {
     "name": "stdout",
     "output_type": "stream",
     "text": [
      "M =\n",
      " [[-3  2]\n",
      " [ 1 -5]]\n",
      "∥M∥₁ = 7.0\n"
     ]
    }
   ],
   "source": [
    "M_n1 = np.linalg.norm(M,1 )\n",
    "print('M =\\n {}'.format(M))\n",
    "print('∥M∥₁ = {}'.format(M_n1))"
   ]
  },
  {
   "cell_type": "markdown",
   "id": "b6996606-1bbb-445d-a3a6-fa3c6a350341",
   "metadata": {},
   "source": [
    "**Axioma 2.** "
   ]
  },
  {
   "cell_type": "code",
   "execution_count": 142,
   "id": "de12e3d9-a8a9-4f82-81e1-6f7148bc509f",
   "metadata": {
    "tags": []
   },
   "outputs": [
    {
     "name": "stdout",
     "output_type": "stream",
     "text": [
      "ZERO = \n",
      "[[0. 0.]\n",
      " [0. 0.]]\n",
      "∥ZERO∥₁ = 0.0\n"
     ]
    }
   ],
   "source": [
    "ZERO = np.array([[0.0, 0.0], [0.0, 0.0]])\n",
    "ZERO_n1 = np.linalg.norm(ZERO,1)\n",
    "print('ZERO = \\n{}'.format(ZERO))\n",
    "print('∥ZERO∥₁ = {}'.format(ZERO_n1))"
   ]
  },
  {
   "cell_type": "markdown",
   "id": "b81fd2ba-d1ce-49b2-a5e3-116bb4d7d915",
   "metadata": {},
   "source": [
    "**Axioma 3.**"
   ]
  },
  {
   "cell_type": "code",
   "execution_count": 143,
   "id": "1a177877-601c-4035-9317-4c95b4431774",
   "metadata": {
    "tags": []
   },
   "outputs": [
    {
     "name": "stdout",
     "output_type": "stream",
     "text": [
      "∥M∥₁ = 7.0, \t a = -3.5\n",
      "\n",
      " ∥a * M∥₁ = 24.5 \n",
      " |a| * ∥M∥₁ = 24.5\n"
     ]
    }
   ],
   "source": [
    "a = -3.5\n",
    "a_M_n1 = np.linalg.norm(a * M, 1) \n",
    "print('∥M∥₁ = {}, \\t a = {}'.format(M_n1, a))\n",
    "print('\\n ∥a * M∥₁ = {} \\n |a| * ∥M∥₁ = {}'.format(a_M_n1, np.abs(a) * M_n1))"
   ]
  },
  {
   "cell_type": "markdown",
   "id": "99ba7ec7-a2ea-4604-87b8-c87525c6ece0",
   "metadata": {},
   "source": [
    "**Axioma 4.**"
   ]
  },
  {
   "cell_type": "code",
   "execution_count": 146,
   "id": "8ae791da-41c7-4d28-b526-9b5e0e27b07c",
   "metadata": {
    "tags": []
   },
   "outputs": [
    {
     "name": "stdout",
     "output_type": "stream",
     "text": [
      "\n",
      "Norma 1:\n",
      " ∥M + N∥₁ = 6.0\n",
      " ∥M∥₁ + ∥N∥₁ = 11.0\n",
      " ¿ ∥M + N∥₁ ≤ ∥M∥₁ + ∥N∥₁ ? ⮕ True\n"
     ]
    }
   ],
   "source": [
    "N = np.arange(4).reshape(2,2)\n",
    "\n",
    "M_p_N_n1= np.linalg.norm(M + N, 1)\n",
    "\n",
    "N_n1 = np.linalg.norm(N, 1)\n",
    "\n",
    "print('\\nNorma 1:')\n",
    "print(' ∥M + N∥₁ = {}'.format(M_p_N_n1))\n",
    "print(' ∥M∥₁ + ∥N∥₁ = {}'.format(M_n1 + N_n1))\n",
    "print(' ¿ ∥M + N∥₁ ≤ ∥M∥₁ + ∥N∥₁ ? ⮕ {}'.format(M_p_N_n1 <= M_n1 + N_n1))"
   ]
  },
  {
   "cell_type": "markdown",
   "id": "34065314-7e38-43c8-9c54-5d05cb910519",
   "metadata": {},
   "source": [
    "**Axioma 5.**"
   ]
  },
  {
   "cell_type": "code",
   "execution_count": 147,
   "id": "c28f0557-d664-41a8-9737-7a3b15a3d018",
   "metadata": {
    "tags": []
   },
   "outputs": [
    {
     "name": "stdout",
     "output_type": "stream",
     "text": [
      "\n",
      "Norma 1:\n",
      " ∥M * N∥₁ = 17.0\n",
      " ∥M∥₁ * ∥N∥₁ = 28.0\n",
      " ¿ ∥M * N∥₁ ≤ ∥M∥₁ * ∥N∥₁ ? ⮕ True\n"
     ]
    }
   ],
   "source": [
    "M_x_N_n1= np.linalg.norm(M * N, 1)\n",
    "\n",
    "print('\\nNorma 1:')\n",
    "print(' ∥M * N∥₁ = {}'.format(M_x_N_n1))\n",
    "print(' ∥M∥₁ * ∥N∥₁ = {}'.format(M_n1 * N_n1))\n",
    "print(' ¿ ∥M * N∥₁ ≤ ∥M∥₁ * ∥N∥₁ ? ⮕ {}'.format(M_x_N_n1 <= M_n1 * N_n1))"
   ]
  },
  {
   "cell_type": "markdown",
   "id": "d25f6b08-4622-4b52-ab83-0b740558a848",
   "metadata": {},
   "source": [
    "<div class=\"alert alert-success\">\n",
    "\n",
    "## Ejercicio 2.\n",
    "\n",
    "Verificar se cumplen los axiomas de las normas para $||\\cdot||_F$ usando la matriz $M$.\n",
    "\n",
    "</div>"
   ]
  },
  {
   "cell_type": "markdown",
   "id": "cb455872-b8c2-43c5-8d5f-dbd2690b4d6d",
   "metadata": {},
   "source": [
    "**Axioma 1.**\n",
    "\n",
    "<div class=\"alert alert-info\">\n",
    "\n",
    "El resultado debería ser:\n",
    "\n",
    "```\n",
    "M =\n",
    " [[-3  2]\n",
    " [ 1 -5]]\n",
    "∥M∥F = 6.244997998398398\n",
    "```\n",
    "</div>"
   ]
  },
  {
   "cell_type": "code",
   "execution_count": 148,
   "id": "ebca2cef-c7f1-4970-9a56-0128a578904e",
   "metadata": {
    "tags": []
   },
   "outputs": [
    {
     "name": "stdout",
     "output_type": "stream",
     "text": [
      "M =\n",
      " [[-3  2]\n",
      " [ 1 -5]]\n",
      "∥M∥F = 6.244997998398398\n"
     ]
    }
   ],
   "source": [
    "### BEGIN SOLUTION\n",
    "M_nF = np.linalg.norm(M,'fro')\n",
    "print('M =\\n {}'.format(M))\n",
    "print('∥M∥F = {}'.format(M_nF))\n",
    "### END SOLUTION"
   ]
  },
  {
   "cell_type": "markdown",
   "id": "39ea73cc-cf16-4dff-8a41-efef00224057",
   "metadata": {},
   "source": [
    "**Axioma 2.**\n",
    "\n",
    "<div class=\"alert alert-info\">\n",
    "\n",
    "El resultado debería ser:\n",
    "\n",
    "```\n",
    "ZERO = \n",
    "[[0. 0.]\n",
    " [0. 0.]]\n",
    "∥ZERO∥F = 0.0\n",
    "```\n",
    "</div>"
   ]
  },
  {
   "cell_type": "code",
   "execution_count": 149,
   "id": "2b06f7e8-6ba3-4413-8052-6b639f726f9d",
   "metadata": {
    "tags": []
   },
   "outputs": [
    {
     "name": "stdout",
     "output_type": "stream",
     "text": [
      "ZERO = \n",
      "[[0. 0.]\n",
      " [0. 0.]]\n",
      "∥ZERO∥F = 0.0\n"
     ]
    }
   ],
   "source": [
    "### BEGIN SOLUTION\n",
    "ZERO_nF = np.linalg.norm(ZERO,'fro')\n",
    "print('ZERO = \\n{}'.format(ZERO))\n",
    "print('∥ZERO∥F = {}'.format(ZERO_nF))\n",
    "### END SOLUTION"
   ]
  },
  {
   "cell_type": "markdown",
   "id": "d9721d8b-6cae-45cf-a3cc-531a7be5098d",
   "metadata": {},
   "source": [
    "**Axioma 3.**\n",
    "\n",
    "<div class=\"alert alert-info\">\n",
    "\n",
    "El resultado debería ser:\n",
    "\n",
    "```\n",
    "∥M∥F = 6.244997998398398, \t a = -3.5\n",
    "\n",
    " ∥a * M∥F = 21.857492994394395 \n",
    " |a| * ∥M∥F = 21.857492994394395\n",
    "```\n",
    "</div>"
   ]
  },
  {
   "cell_type": "code",
   "execution_count": 150,
   "id": "78e13830-f8d7-42b2-8910-4b061f68f70d",
   "metadata": {
    "tags": []
   },
   "outputs": [
    {
     "name": "stdout",
     "output_type": "stream",
     "text": [
      "∥M∥F = 6.244997998398398, \t a = -3.5\n",
      "\n",
      " ∥a * M∥F = 21.857492994394395 \n",
      " |a| * ∥M∥F = 21.857492994394395\n"
     ]
    }
   ],
   "source": [
    "### BEGIN SOLUTION\n",
    "a = -3.5\n",
    "a_M_nF = np.linalg.norm(a * M, 'fro') \n",
    "print('∥M∥F = {}, \\t a = {}'.format(M_nF, a))\n",
    "print('\\n ∥a * M∥F = {} \\n |a| * ∥M∥F = {}'.format(a_M_nF, np.abs(a) * M_nF))\n",
    "### END SOLUTION"
   ]
  },
  {
   "cell_type": "markdown",
   "id": "9a2e91c6-434b-415e-9cf4-d46b9f2b89f5",
   "metadata": {},
   "source": [
    "**Axioma 4.**\n",
    "\n",
    "<div class=\"alert alert-info\">\n",
    "\n",
    "El resultado debería ser:\n",
    "\n",
    "```\n",
    "Norma de Frobenius:\n",
    " ∥M + N∥F = 5.5677643628300215\n",
    " ∥M∥F + ∥N∥F = 9.98665538517234\n",
    " ¿ ∥M + N∥F ≤ ∥M∥F + ∥N∥F ? : True\n",
    "```\n",
    "</div>"
   ]
  },
  {
   "cell_type": "code",
   "execution_count": 151,
   "id": "014e0901-e768-409e-8390-a98806c5073d",
   "metadata": {
    "tags": []
   },
   "outputs": [
    {
     "name": "stdout",
     "output_type": "stream",
     "text": [
      "\n",
      "Norma de Frobenius:\n",
      " ∥M + N∥F = 5.5677643628300215\n",
      " ∥M∥F + ∥N∥F = 9.98665538517234\n",
      " ¿ ∥M + N∥F ≤ ∥M∥F + ∥N∥F ? : True\n"
     ]
    }
   ],
   "source": [
    "### BEGIN SOLUTION\n",
    "N = np.arange(4).reshape(2,2)\n",
    "\n",
    "M_p_N_nF= np.linalg.norm(M + N, 'fro')\n",
    "\n",
    "N_nF = np.linalg.norm(N, 'fro')\n",
    "\n",
    "print('\\nNorma de Frobenius:')\n",
    "print(' ∥M + N∥F = {}'.format(M_p_N_nF))\n",
    "print(' ∥M∥F + ∥N∥F = {}'.format(M_nF + N_nF))\n",
    "print(' ¿ ∥M + N∥F ≤ ∥M∥F + ∥N∥F ? : {}'.format(M_p_N_nF <= M_nF + N_nF))\n",
    "### END SOLUTION"
   ]
  },
  {
   "cell_type": "markdown",
   "id": "b649eb27-d759-4695-8578-eab57da3be19",
   "metadata": {},
   "source": [
    "**Axioma 5.**\n",
    "\n",
    "<div class=\"alert alert-info\">\n",
    "\n",
    "El resultado debería ser:\n",
    "\n",
    "```\n",
    "Norma de Frobenius:\n",
    " ∥M * N∥F = 15.264337522473747\n",
    " ∥M∥F * ∥N∥F = 23.366642891095847\n",
    " ¿ ∥M * N∥F ≤ ∥M∥F * ∥N∥F ? : True\n",
    "```\n",
    "</div>"
   ]
  },
  {
   "cell_type": "code",
   "execution_count": 152,
   "id": "abecd4de-8759-43ab-8ebd-7a40dd0e4410",
   "metadata": {
    "tags": []
   },
   "outputs": [
    {
     "name": "stdout",
     "output_type": "stream",
     "text": [
      "\n",
      "Norma de Frobenius:\n",
      " ∥M * N∥F = 15.264337522473747\n",
      " ∥M∥F * ∥N∥F = 23.366642891095847\n",
      " ¿ ∥M * N∥F ≤ ∥M∥F * ∥N∥F ? : True\n"
     ]
    }
   ],
   "source": [
    "### BEGIN SOLUTION\n",
    "M_x_N_nF= np.linalg.norm(M * N, 'fro')\n",
    "\n",
    "print('\\nNorma de Frobenius:')\n",
    "print(' ∥M * N∥F = {}'.format(M_x_N_nF))\n",
    "print(' ∥M∥F * ∥N∥F = {}'.format(M_nF * N_nF))\n",
    "print(' ¿ ∥M * N∥F ≤ ∥M∥F * ∥N∥F ? : {}'.format(M_x_N_nF <= M_nF * N_nF))\n",
    "### END SOLUTION"
   ]
  },
  {
   "cell_type": "markdown",
   "id": "a205f8ce-fb77-4a18-918b-cbdd85f065fb",
   "metadata": {},
   "source": [
    "### Número de condición\n",
    "\n",
    "El número de condición de una matriz $A$ se define como\n",
    "\n",
    "$$\n",
    "\\kappa(A) = ||A|| \\; ||A^{-1}||\n",
    "$$\n",
    "\n",
    "Este número siempre es más grande o igual a 1. Además nos da información \n",
    "acerca de que tan bien o mal está definido un problema que depende de la matriz en cuestión.\n",
    "Entre más grande sea este número es más difícil de resolver el problema."
   ]
  },
  {
   "cell_type": "code",
   "execution_count": 153,
   "id": "682ffaa0-5714-40aa-a97e-0e81661b53ae",
   "metadata": {
    "tags": []
   },
   "outputs": [
    {
     "name": "stdout",
     "output_type": "stream",
     "text": [
      "[[3. 2.]\n",
      " [2. 6.]]\n",
      "𝜅(A) = 3.7857142857142847\n"
     ]
    }
   ],
   "source": [
    "A = np.array([[3., 2.],[2., 6.]])\n",
    "print(A)\n",
    "# Calculamos el número de condición usando funciones de numpy\n",
    "kA_F = np.linalg.norm(A, 'fro') * np.linalg.norm(np.linalg.inv(A), 'fro')\n",
    "print('𝜅(A) = {}'.format(kA_F))"
   ]
  },
  {
   "cell_type": "code",
   "execution_count": 154,
   "id": "fbf66ea9-616e-40c8-8318-8c9c48d4f09a",
   "metadata": {
    "tags": []
   },
   "outputs": [
    {
     "name": "stdout",
     "output_type": "stream",
     "text": [
      "𝜅(A) = 3.7857142857142847\n"
     ]
    }
   ],
   "source": [
    "# Existe una función para calcular el número de condición directamente\n",
    "kA_F = np.linalg.cond(A, 'fro')\n",
    "print('𝜅(A) = {}'.format(kA_F))"
   ]
  },
  {
   "cell_type": "code",
   "execution_count": 155,
   "id": "b508255b-387c-4317-bde4-868bd2eae349",
   "metadata": {
    "tags": []
   },
   "outputs": [
    {
     "name": "stdout",
     "output_type": "stream",
     "text": [
      "[[ 0.1 -1. ]\n",
      " [ 0.3 -1. ]]\n",
      "𝜅(B) = 10.5\n"
     ]
    }
   ],
   "source": [
    "# Matriz con un número de condición más grande\n",
    "B = np.array([[0.10, -1],[0.30, -1]])\n",
    "kB_F = np.linalg.cond(B, 'fro')\n",
    "print(B)\n",
    "print('𝜅(B) = {}'.format(kB_F))"
   ]
  },
  {
   "cell_type": "code",
   "execution_count": 156,
   "id": "bd3e1ef9-d216-4183-893e-d3725e9f2c29",
   "metadata": {
    "tags": []
   },
   "outputs": [
    {
     "name": "stdout",
     "output_type": "stream",
     "text": [
      "[[ 1.e-01 -1.e+03]\n",
      " [ 3.e-01 -1.e+00]]\n",
      "𝜅(C) = 3334.448482827609\n"
     ]
    }
   ],
   "source": [
    "# Matriz mal condicionada\n",
    "C = np.array([[0.10, -1000],[0.30, -1]])\n",
    "kC_F = np.linalg.cond(C, 'fro')\n",
    "print(C)\n",
    "print('𝜅(C) = {}'.format(kC_F))"
   ]
  },
  {
   "cell_type": "markdown",
   "id": "2ef9ac19-1bc4-41bb-ad20-53f760a7dca0",
   "metadata": {},
   "source": [
    "<div class=\"alert alert-success\">\n",
    "\n",
    "## Ejercicio 3.\n",
    "\n",
    "Calcula el número de condición para las matrices $A$, $B$ y $C$ usando las normas 1 y 2. Utiliza la función `print()` de tal manera que obtengas una salida similar a la siguiente:\n",
    "\n",
    "```\n",
    "Número de condición con la norma 1:\n",
    " 𝜅(A) = ...\n",
    " 𝜅(B) = ...\n",
    " 𝜅(C) = ...\n",
    "Número de condición con la norma 2:\n",
    " 𝜅(A) = ... \n",
    " 𝜅(B) = ...\n",
    " 𝜅(C) = ...\n",
    "```\n",
    "\n",
    "</div>"
   ]
  },
  {
   "cell_type": "code",
   "execution_count": 157,
   "id": "cdb030ad-7446-4d90-b556-f3f7fd70761b",
   "metadata": {
    "tags": []
   },
   "outputs": [
    {
     "name": "stdout",
     "output_type": "stream",
     "text": [
      "Número de condición con la norma 1:\n",
      " 𝜅(A) = 4.571428571428571 \n",
      " 𝜅(B) = 13.0\n",
      " 𝜅(C) = 3338.113037679226\n",
      "Número de condición con la norma 2:\n",
      " 𝜅(A) = 3.499999999999999 \n",
      " 𝜅(B) = 10.40388203202208\n",
      " 𝜅(C) = 3334.4481829279107\n"
     ]
    }
   ],
   "source": [
    "# Con la norma 1\n",
    "# kA_1 = ...\n",
    "# ...\n",
    "# print('Número ...)\n",
    "# print('𝜅(A) = {}, ...)\n",
    "\n",
    "# Con la norma 2\n",
    "# ...\n",
    "\n",
    "### BEGIN SOLUTION\n",
    "# Usando la norma 1\n",
    "kA_1 = np.linalg.cond(A, 1)\n",
    "kB_1 = np.linalg.cond(B, 1)\n",
    "kC_1 = np.linalg.cond(C, 1)\n",
    "print('Número de condición con la norma 1:')\n",
    "print(' 𝜅(A) = {} \\n 𝜅(B) = {}\\n 𝜅(C) = {}'.format(kA_1, kB_1, kC_1))\n",
    "\n",
    "# Usando la norma 2\n",
    "kA_2 = np.linalg.cond(A, 2)\n",
    "kB_2 = np.linalg.cond(B, 2)\n",
    "kC_2 = np.linalg.cond(C, 2)\n",
    "print('Número de condición con la norma 2:')\n",
    "print(' 𝜅(A) = {} \\n 𝜅(B) = {}\\n 𝜅(C) = {}'.format(kA_2, kB_2, kC_2))\n",
    "### END SOLUTION"
   ]
  },
  {
   "cell_type": "code",
   "execution_count": null,
   "id": "3f458a07-29f8-4f66-b48a-eb9ce3ea6b64",
   "metadata": {},
   "outputs": [],
   "source": []
  }
 ],
 "metadata": {
  "kernelspec": {
   "display_name": "Python 3 (ipykernel)",
   "language": "python",
   "name": "python3"
  },
  "language_info": {
   "codemirror_mode": {
    "name": "ipython",
    "version": 3
   },
   "file_extension": ".py",
   "mimetype": "text/x-python",
   "name": "python",
   "nbconvert_exporter": "python",
   "pygments_lexer": "ipython3",
   "version": "3.11.6"
  }
 },
 "nbformat": 4,
 "nbformat_minor": 5
}
