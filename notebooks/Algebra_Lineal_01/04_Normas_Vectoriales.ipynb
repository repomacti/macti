{
 "cells": [
  {
   "cell_type": "markdown",
   "id": "93ae67ec-2998-465f-a13e-ed9997afdcc6",
   "metadata": {},
   "source": [
    "# Normas vectoriales.\n",
    "\n",
    "**Objetivo.**\n",
    "\n",
    "Revisar e ilustrar los conceptos de normas vectoriales usando la biblioteca `numpy`.\n",
    "\n",
    " <p xmlns:cc=\"http://creativecommons.org/ns#\" xmlns:dct=\"http://purl.org/dc/terms/\"><a property=\"dct:title\" rel=\"cc:attributionURL\" href=\"https://github.com/repomacti/macti/tree/main/notebooks/Algebra_Lineal_01\">MACTI-Algebra_Lineal_01</a> by <a rel=\"cc:attributionURL dct:creator\" property=\"cc:attributionName\" href=\"https://www.macti.unam.mx\">Luis M. de la Cruz</a> is licensed under <a href=\"http://creativecommons.org/licenses/by-sa/4.0/?ref=chooser-v1\" target=\"_blank\" rel=\"license noopener noreferrer\" style=\"display:inline-block;\">Attribution-ShareAlike 4.0 International<img style=\"height:22px!important;margin-left:3px;vertical-align:text-bottom;\" src=\"https://mirrors.creativecommons.org/presskit/icons/cc.svg?ref=chooser-v1\"><img style=\"height:22px!important;margin-left:3px;vertical-align:text-bottom;\" src=\"https://mirrors.creativecommons.org/presskit/icons/by.svg?ref=chooser-v1\"><img style=\"height:22px!important;margin-left:3px;vertical-align:text-bottom;\" src=\"https://mirrors.creativecommons.org/presskit/icons/sa.svg?ref=chooser-v1\"></a></p> "
   ]
  },
  {
   "cell_type": "code",
   "execution_count": 1,
   "id": "ee1440ca-ac8e-40ae-b621-9f96335840e1",
   "metadata": {
    "tags": []
   },
   "outputs": [],
   "source": [
    "# Importamos las bibliotecas requeridas\n",
    "import numpy as np\n",
    "import ipywidgets as widgets\n",
    "import macti.visual as mvis"
   ]
  },
  {
   "cell_type": "markdown",
   "id": "ba7c4135-dacd-4989-831c-ea445b6b5160",
   "metadata": {},
   "source": [
    "# Definición.\n",
    "\n",
    "Una función $||\\cdot ||$  de vectores se denomina norma vectorial si para cualesquiera dos vectores $\\vec{x}$ y $\\vec{y}$ de $\\mathbb{R}^n$ se satisfacen los siguiente axiomas:\n",
    "\n",
    "1. $||\\vec{x} || \\ge 0$\n",
    "2. $||\\vec{x} || = 0 \\iff \\vec{x} = 0$\n",
    "3. $||a\\vec{x} || = |a| || \\vec{x} ||$\n",
    "4. $||\\vec{x} + \\vec{y}|| \\le ||\\vec{x} || + ||\\vec{y}||$ (desigualdad triangular)\n",
    "\n",
    "\n",
    "## Tipos de normas.\n",
    "\n",
    "$$\n",
    "\\begin{array}{lcl}\n",
    "\\text{Norma 1} & \\rightarrow & ||\\vec{x}||_1 = \\sum_{i=1}^n |x_i|  \\\\\n",
    "\\text{Norma 2 (Euclideana)} & \\rightarrow & ||\\vec{x}||_2 = \\left( \\sum_{i=1}^n |x_i|^2 \\right)^{1/2} = \\langle \\vec{x}, \\vec{x} \\rangle^{1/2} = (\\vec{x}^T \\cdot \\vec{x})^{1/2}\n",
    "\\text{Norma 1} & \\rightarrow & ||\\vec{x}||_1 = \\sum_{i=1}^n |x_i|  \\\\\n",
    "\\text{Norma Infinito} & \\rightarrow & ||\\vec{x}||_\\infty = \\max_{i \\le 1 \\le n} |x_i|\n",
    "\\end{array}\n",
    "$$"
   ]
  },
  {
   "cell_type": "markdown",
   "id": "c785c487-2bfa-4641-8842-57cd44cecd39",
   "metadata": {},
   "source": [
    "<div class=\"alert alert-info\">\n",
    "\n",
    "## **Ejemplo 1.**\n",
    "\n",
    "<font color=\"Black\">Definimos dos vectores, $\\vec{x} = (2, 3)$ y $\\vec{y} = (3, 1)$ en $\\mathbb{R}^2$ usando `numpy` como sigue:</font>\n",
    "</div>"
   ]
  },
  {
   "cell_type": "code",
   "execution_count": 14,
   "id": "04bfb50a-7b50-41d4-a233-2766d9ecb140",
   "metadata": {
    "tags": []
   },
   "outputs": [
    {
     "name": "stdout",
     "output_type": "stream",
     "text": [
      "x = [ 2  3 -4]\n",
      "y = [ 3.   -1.45  8.5   2.1 ]\n"
     ]
    }
   ],
   "source": [
    "x = np.array([2, 3, -4]) \n",
    "y = np.array([3.0, -1.45, 8.5, 2.1])\n",
    "\n",
    "# Imprimimos los vectores\n",
    "print('x = {}'.format(x))\n",
    "print('y = {}'.format(y))"
   ]
  },
  {
   "cell_type": "markdown",
   "id": "1836940d-cfbd-48f8-b14f-4b3c6e65d12c",
   "metadata": {
    "tags": []
   },
   "source": [
    "Podemos calcular los diferentes tipos de norma para estos vectores:"
   ]
  },
  {
   "cell_type": "code",
   "execution_count": 18,
   "id": "e212b520-d99f-4995-ad8f-818cc7a7d6c2",
   "metadata": {
    "tags": []
   },
   "outputs": [
    {
     "name": "stdout",
     "output_type": "stream",
     "text": [
      "\n",
      "Norma 1 \n",
      " ||x||_1 = 9.0 \n",
      " ||y||_1 = 15.049999999999999\n",
      "\n",
      "Norma 2 \n",
      " ||x||_2 = 5.385164807134504 \n",
      " ||y||_2 = 9.368164174479437\n",
      "\n",
      "Norma infinito \n",
      " ||x||_I = 4.0 \n",
      " ||y||_I = 8.5\n"
     ]
    }
   ],
   "source": [
    "x_n1 = np.linalg.norm(x, 1)\n",
    "y_n1 = np.linalg.norm(y, 1)\n",
    "print('\\nNorma 1 \\n ||x||_1 = {} \\n ||y||_1 = {}'.format(x_n1, y_n1))\n",
    "\n",
    "x_n2 = np.linalg.norm(x, 2)\n",
    "y_n2 = np.linalg.norm(y, 2)\n",
    "print('\\nNorma 2 \\n ||x||_2 = {} \\n ||y||_2 = {}'.format(x_n2, y_n2))\n",
    "\n",
    "x_nI = np.linalg.norm(x, np.infty)\n",
    "y_nI = np.linalg.norm(y, np.infty)\n",
    "print('\\nNorma infinito \\n ||x||_I = {} \\n ||y||_I = {}'.format(x_nI, y_nI))\n"
   ]
  },
  {
   "cell_type": "markdown",
   "id": "c9b8db9c-4d7d-4d89-a2e7-55a40b713358",
   "metadata": {},
   "source": [
    "<div class=\"alert alert-info\">\n",
    "    \n",
    "Observa que los vectores **no son paralelos**, esto es equivalente a que los vectores sean **linealmente independientes**.\n",
    "</div>\n",
    "    \n",
    "Ahora, de acuerdo con la definión $(1)$ tenemos que $\\alpha_1 \\vec{x}_1 + \\alpha_2 \\vec{x}_2 = 0$ solo se cumple cuando $\\alpha_1 = \\alpha_2 = 0$. La siguiente celda de código, genera un interactivo en donde se muestra lo anterior de manera gráfica para $\\alpha_1, \\alpha_2 \\in [-2, 2]$. Ejecuta la celda y posteriormente mueve el valor de las $\\alpha$'s."
   ]
  },
  {
   "cell_type": "code",
   "execution_count": 27,
   "id": "8a58d235-0c06-4537-90b8-a47bdf18986b",
   "metadata": {
    "tags": []
   },
   "outputs": [
    {
     "data": {
      "application/vnd.jupyter.widget-view+json": {
       "model_id": "e6469fe45a904a199114890da2e9f138",
       "version_major": 2,
       "version_minor": 0
      },
      "text/plain": [
       "interactive(children=(FloatSlider(value=1.0, description='α1', max=2.0, min=-2.0, step=0.5), FloatSlider(value…"
      ]
     },
     "execution_count": 27,
     "metadata": {},
     "output_type": "execute_result"
    }
   ],
   "source": [
    "def dependencial_lineal(x1, x2, α1, α2):\n",
    "    print('x1 = {} \\t x2 = {}'.format(x1, x2))\n",
    "    print('α1 * x1 + α2 * x2 = {}'.format(α1 * x1 + α2 * x2))\n",
    "    # Visualizamos los vectores.\n",
    "    v = mvis.Plotter()  # Definición de un objeto para crear figuras.\n",
    "    v.set_coordsys(1)   # Definición del sistema de coordenadas.\n",
    "    v.plot_vectors_sum(1, [α1 * x1, α2 * x2], ['α1 * x1', 'α2 * x2'], ofx=-0.1) # Graficación de los vectores 'x' y 'y'.\n",
    "    v.grid()  # Muestra la rejilla del sistema de coordenadas.\n",
    "    return \n",
    "\n",
    "widgets.interactive(dependencial_lineal,\n",
    "                    x1 = widgets.fixed(x1),\n",
    "                    x2 = widgets.fixed(x2),\n",
    "                    α1 = widgets.FloatSlider(min=-2.0, max=2.0, step=0.5, value=1),\n",
    "                    α2 = widgets.FloatSlider(min=-2.0, max=2.0, step=0.5, value=1))"
   ]
  },
  {
   "cell_type": "markdown",
   "id": "d30681c9-7f0e-4060-9680-dba7ecf30e36",
   "metadata": {},
   "source": [
    "## Base ortonormal\n",
    "\n",
    "En el espacio euclidiano $\\mathbb{R}^n$, los vectores $\\vec{e}_1 = (1,0,\\dots,0)$, $\\vec{e}_2 = (0,1,\\dots,0), \\dots, \\vec{e}_n = (0,0,\\dots,n)$, son linealmente independientes y representan una **base ortonormal**. Además, cualquier vector $\\vec{z} = (z_1, z_2, \\dots, z_n) \\in \\mathbb{R}^n$ se puede representar como \n",
    "$$\n",
    "\\vec{z} = \\sum_{i=1}^n z_i \\vec{e}_i\n",
    "$$\n",
    "\n",
    "## **Ejemplo 2.**\n",
    "\n",
    "Definimos los vectores: $\\vec{e}_1 = (1,0)$ y $\\vec{e}_1 = (1,0)$ como sigue:"
   ]
  },
  {
   "cell_type": "code",
   "execution_count": 17,
   "id": "9ba7d623-b26c-4ca3-aebb-d8a16d16ac3d",
   "metadata": {
    "tags": []
   },
   "outputs": [
    {
     "name": "stdout",
     "output_type": "stream",
     "text": [
      "e1 = [1 0]\n",
      "e2 = [0 1]\n"
     ]
    },
    {
     "data": {
      "image/png": "[encoded data removed]",
      "text/plain": [
       "<Figure size 512x384 with 1 Axes>"
      ]
     },
     "metadata": {},
     "output_type": "display_data"
    }
   ],
   "source": [
    "e1 = np.array([1, 0])\n",
    "e2 = np.array([0, 1])\n",
    "\n",
    "# Imprimimos los vectores\n",
    "print('e1 = {}'.format(e1))\n",
    "print('e2 = {}'.format(e2))\n",
    "\n",
    "# Visualizamos los vectores.\n",
    "v = mvis.Plotter()  # Definición de un objeto para crear figuras.\n",
    "v.set_coordsys(1)   # Definición del sistema de coordenadas.\n",
    "v.plot_vectors(1, [e1, e2], ['e1 = (1,0)', 'e2 = (0,1)'],ofx=-0.2) # Graficación de los vectores 'x' y 'y'.\n",
    "v.grid()  # Muestra la rejilla del sistema de coordenadas."
   ]
  },
  {
   "cell_type": "markdown",
   "id": "3220c709-e500-4d30-b9db-ba9ac2bb5409",
   "metadata": {},
   "source": [
    "<div class=\"alert alert-info\">\n",
    "    \n",
    "Observa que los vectores **son ortogonales** y de tamaño unitario, por lo que representan una base ortonormal de $\\mathbb{R}^2$.\n",
    "</div>\n",
    "    \n",
    "Con esta base podemos representar cualquier vector de $\\mathbb{R}^2$, particularmente $\\vec{x}_1 = (2, 3)$ y $\\vec{x}_2 = (3,1)$ del **Ejemplo 1**.\n",
    "\n",
    "**Construcción del vector $\\vec{x}_1$**:"
   ]
  },
  {
   "cell_type": "code",
   "execution_count": 30,
   "id": "ab8fcaad-5393-48d4-b426-612c58bafbfc",
   "metadata": {
    "tags": []
   },
   "outputs": [
    {
     "name": "stdout",
     "output_type": "stream",
     "text": [
      "x1 = [2 3]\n"
     ]
    },
    {
     "data": {
      "image/png": "[encoded data removed]",
      "text/plain": [
       "<Figure size 512x384 with 1 Axes>"
      ]
     },
     "metadata": {},
     "output_type": "display_data"
    }
   ],
   "source": [
    "z1 = x1[0] * e1\n",
    "z2 = x1[1] * e2\n",
    "\n",
    "# Imprimimos el vector\n",
    "print('x1 = {}'.format(z1 + z2))\n",
    "\n",
    "# Visualizamos los vectores.\n",
    "v = mvis.Plotter()  # Definición de un objeto para crear figuras.\n",
    "v.set_coordsys(1)   # Definición del sistema de coordenadas.\n",
    "v.plot_vectors_sum(1, [z1, z2], ['z1 * e1', 'z2 * e2'],ofx=-0.2, w=0.02) # Graficación de los vectores 'x' y 'y'.\n",
    "v.grid()  # Muestra la rejilla del sistema de coordenadas."
   ]
  },
  {
   "cell_type": "markdown",
   "id": "63df748c-a202-494d-bcae-ad099c40ed77",
   "metadata": {},
   "source": [
    "<div class=\"alert alert-success\">\n",
    "\n",
    "## **Ejercicio 1.**\n",
    "\n",
    "<font color=\"Black\"> Construye $\\vec{x}_2$ usando la base ortonormal definida en el ejemplo 2 como se hizo para $\\vec{x}_1$.\n",
    "</font>\n",
    "\n",
    "</div>"
   ]
  },
  {
   "cell_type": "code",
   "execution_count": 36,
   "id": "16414dec-c997-4023-a653-e52f4aff0478",
   "metadata": {
    "tags": []
   },
   "outputs": [
    {
     "name": "stdout",
     "output_type": "stream",
     "text": [
      "x2 = [3 1]\n"
     ]
    },
    {
     "data": {
      "image/png": "[encoded data removed]",
      "text/plain": [
       "<Figure size 512x384 with 1 Axes>"
      ]
     },
     "metadata": {},
     "output_type": "display_data"
    }
   ],
   "source": [
    "### BEGIN SOLUTION\n",
    "z1 = x2[0] * e1\n",
    "z2 = x2[1] * e2\n",
    "\n",
    "# Imprimimos el vector\n",
    "print('x2 = {}'.format(z1 + z2))\n",
    "\n",
    "# Visualizamos los vectores.\n",
    "v = mvis.Plotter()  # Definición de un objeto para crear figuras.\n",
    "v.set_coordsys(1)   # Definición del sistema de coordenadas.\n",
    "v.plot_vectors_sum(1, [z1, z2], ['z1 * e1', 'z2 * e2'],ofx=-0.2, w=0.0075) # Graficación de los vectores 'x' y 'y'.\n",
    "v.grid()  # Muestra la rejilla del sistema de coordenadas.\n",
    "### END SOLUTION"
   ]
  },
  {
   "cell_type": "markdown",
   "id": "a4e0dedb-ddc7-4a18-aa33-344ce41462e8",
   "metadata": {},
   "source": [
    "<div class=\"alert alert-success\">\n",
    "\n",
    "## **Ejercicio 2.**\n",
    "\n",
    "<font color=\"Black\"> Usando `numpy` define la base ortonormal $\\{\\vec{e}_1, \\vec{e}_2, \\vec{e}_3, \\vec{e}_4\\} \\in \\mathbb{R}^4$ y con ella construye el vector $\\vec{y} = (1.5, 1.0, 2.3, -1.0)$. Imprime la base ortonormal y el resultado de construir el vector $\\vec{y}$.</font>\n",
    "\n",
    "</div>"
   ]
  },
  {
   "cell_type": "code",
   "execution_count": 31,
   "id": "b6f77e94-98b8-4440-bb05-470718911069",
   "metadata": {
    "tags": []
   },
   "outputs": [
    {
     "name": "stdout",
     "output_type": "stream",
     "text": [
      "e1 = [1 0 0 0]\n",
      "e2 = [0 1 0 0]\n",
      "e3 = [0 0 1 0]\n",
      "e4 = [0 0 0 1]\n",
      " y = [ 1.5  1.   2.3 -1. ]\n"
     ]
    }
   ],
   "source": [
    "### BEGIN SOLUTION\n",
    "e1 = np.array([1, 0, 0, 0])\n",
    "e2 = np.array([0, 1, 0, 0])\n",
    "e3 = np.array([0, 0, 1, 0])\n",
    "e4 = np.array([0, 0, 0, 1])\n",
    "\n",
    "# Imprimimos los vectores\n",
    "print('e1 = {}'.format(e1))\n",
    "print('e2 = {}'.format(e2))\n",
    "print('e3 = {}'.format(e3))\n",
    "print('e4 = {}'.format(e4))\n",
    "\n",
    "y = np.zeros(4)\n",
    "\n",
    "y1 = 1.5 * e1\n",
    "y2 = 1.0 * e2\n",
    "y3 = 2.3 * e3\n",
    "y4 =-1.0 * e4\n",
    "\n",
    "print(' y = {}'.format(y1 + y2 + y3 + y4))\n",
    "### END SOLUTION"
   ]
  },
  {
   "cell_type": "code",
   "execution_count": null,
   "id": "cb5af012-93bf-49ff-b678-8d808c69e0b8",
   "metadata": {},
   "outputs": [],
   "source": []
  }
 ],
 "metadata": {
  "kernelspec": {
   "display_name": "Python 3 (ipykernel)",
   "language": "python",
   "name": "python3"
  },
  "language_info": {
   "codemirror_mode": {
    "name": "ipython",
    "version": 3
   },
   "file_extension": ".py",
   "mimetype": "text/x-python",
   "name": "python",
   "nbconvert_exporter": "python",
   "pygments_lexer": "ipython3",
   "version": "3.11.3"
  }
 },
 "nbformat": 4,
 "nbformat_minor": 5
}
