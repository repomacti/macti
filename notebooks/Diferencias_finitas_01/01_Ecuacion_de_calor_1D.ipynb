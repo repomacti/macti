{
 "cells": [
  {
   "cell_type": "markdown",
   "id": "e4c90fb9-b23a-49ba-9d8e-2e32e29027ff",
   "metadata": {
    "nbgrader": {
     "grade": false,
     "grade_id": "cell-b47c0fc4fd9f7afa",
     "locked": true,
     "schema_version": 3,
     "solution": false,
     "task": false
    }
   },
   "source": [
    "# Derivadas numéricas: ecuación de calor 1D.\n",
    "\n",
    "**Objetivo**.\n",
    "- Aplicar diferencias finitas centradas en la solución numérica de la transferencia de calor en 1D.\n",
    "\n",
    " <p xmlns:cc=\"http://creativecommons.org/ns#\" xmlns:dct=\"http://purl.org/dc/terms/\"><a property=\"dct:title\" rel=\"cc:attributionURL\" href=\"https://github.com/repomacti/macti/tree/main/notebooks/Analisis_Numerico_01\">MACTI-Analisis_Numerico_01</a> by <a rel=\"cc:attributionURL dct:creator\" property=\"cc:attributionName\" href=\"https://www.macti.unam.mx\">Luis M. de la Cruz</a> is licensed under <a href=\"http://creativecommons.org/licenses/by-sa/4.0/?ref=chooser-v1\" target=\"_blank\" rel=\"license noopener noreferrer\" style=\"display:inline-block;\">Attribution-ShareAlike 4.0 International<img style=\"height:22px!important;margin-left:3px;vertical-align:text-bottom;\" src=\"https://mirrors.creativecommons.org/presskit/icons/cc.svg?ref=chooser-v1\"><img style=\"height:22px!important;margin-left:3px;vertical-align:text-bottom;\" src=\"https://mirrors.creativecommons.org/presskit/icons/by.svg?ref=chooser-v1\"><img style=\"height:22px!important;margin-left:3px;vertical-align:text-bottom;\" src=\"https://mirrors.creativecommons.org/presskit/icons/sa.svg?ref=chooser-v1\"></a></p> \n",
    "\n",
    "**Trabajo realizado con el apoyo del Programa UNAM-DGAPA-PAPIME PE101922**"
   ]
  },
  {
   "cell_type": "code",
   "execution_count": 1,
   "id": "6ae315a9",
   "metadata": {
    "nbgrader": {
     "grade": false,
     "grade_id": "cell-c8f913658f3a16d8",
     "locked": true,
     "schema_version": 3,
     "solution": false,
     "task": false
    },
    "tags": []
   },
   "outputs": [],
   "source": [
    "import numpy as np\n",
    "import matplotlib.pyplot as plt\n",
    "import pandas as pd\n",
    "import ipywidgets as widgets\n",
    "import macti.visual as mvis\n",
    "from macti.evaluation import *"
   ]
  },
  {
   "cell_type": "code",
   "execution_count": 5,
   "id": "5c93288e-d344-46be-8409-f56bed7cbcff",
   "metadata": {},
   "outputs": [],
   "source": [
    "quizz = Quizz('1', 'notebooks', 'local')"
   ]
  },
  {
   "cell_type": "markdown",
   "id": "6d73133e-4a13-42aa-927e-63c65fc2d77c",
   "metadata": {
    "nbgrader": {
     "grade": false,
     "grade_id": "cell-590d6293fd4a1ecc",
     "locked": true,
     "schema_version": 3,
     "solution": false,
     "task": false
    }
   },
   "source": [
    "El modelo matemático para la conducción de calor en 1D con condiciones de frontera de tipo Dirichlet, con $\\kappa$ = constante se escribe como sigue:\n",
    "\n",
    "$$\n",
    "\\begin{eqnarray}\n",
    "-\\kappa \\frac{d^2T}{dx^2} & = & S \\; \\text{ para } x \\in [0,L] \\\\\n",
    "T(x=0) & = & T_A \\\\\n",
    "T(x=L) & = & T_B\n",
    "\\end{eqnarray}\n",
    "$$\n",
    "\n",
    "La solución analítica de este modelo matemático se escribe como sigue:\n",
    "\n",
    "$$\n",
    "T(x) =\n",
    "\\left(\\frac{T_B - T_A}{L} + \\frac{S}{2\\kappa} \\left(L - x\\right) \\right)x + T_A \\tag{1}\n",
    "$$"
   ]
  },
  {
   "cell_type": "markdown",
   "id": "d05942d7-b352-418a-a585-67ace2ff76f8",
   "metadata": {
    "nbgrader": {
     "grade": false,
     "grade_id": "cell-d16f75e65073e35b",
     "locked": true,
     "schema_version": 3,
     "solution": false,
     "task": false
    }
   },
   "source": [
    "<div class=\"alert alert-success\">\n",
    "\n",
    "## Ejercicio 1.\n",
    "\n",
    "<font color=\"Black\">\n",
    "\n",
    "En la siguiente celda complete el código para implementar la fórmula $(1)$. Posteriormente, define los siguientes valores para calcular la solución exacta:\n",
    "\n",
    "```python\n",
    "x=np.linspace(0,1,10)\n",
    "TA = 1.0\n",
    "TB = 0.0\n",
    "S = 1.0\n",
    "L = 1.0\n",
    "k = 1.0\n",
    "````\n",
    "</font>\n",
    "\n",
    "</div>"
   ]
  },
  {
   "cell_type": "code",
   "execution_count": 2,
   "id": "a17b8c67-fa5e-4e1a-8dcd-4a5ec8659f9c",
   "metadata": {
    "nbgrader": {
     "grade": false,
     "grade_id": "cell-8be64abf68ca9557",
     "locked": false,
     "schema_version": 3,
     "solution": true,
     "task": false
    },
    "tags": []
   },
   "outputs": [],
   "source": [
    "# Solucion exacta\n",
    "def sol_exacta(x, TA, TB, S, L, k):\n",
    "    \"\"\"\n",
    "    Calcula la temperatura usando la fórmula obtenida con Series de Taylor.\n",
    "\n",
    "    Parameters\n",
    "    ----------\n",
    "    x: np.array\n",
    "    Coordenadas donde se calcula la temperatura.\n",
    "\n",
    "    TA: float\n",
    "    Es la condición de frontera a la izquierda.\n",
    "    \n",
    "    TB: float\n",
    "    Es la condición de frontera a la derecha.\n",
    "\n",
    "    S: float\n",
    "    es la fuente.\n",
    "    \n",
    "    L: float\n",
    "    L es la longitud del dominio.\n",
    "    \n",
    "    k: float\n",
    "    es la conductividad del material.\n",
    "    \n",
    "    Return\n",
    "    ------\n",
    "    al final esta función dibuja la solución.\n",
    "    \"\"\"\n",
    "    ### BEGIN SOLUTION\n",
    "    return ((TB - TA)/L + S /(2*k) * (L - x) ) * x + TA\n",
    "    ### END SOLUTION"
   ]
  },
  {
   "cell_type": "code",
   "execution_count": 7,
   "id": "f7014ed7-9ed6-410c-8ffd-6bda481f4608",
   "metadata": {
    "nbgrader": {
     "grade": false,
     "grade_id": "cell-9f9f91aa9828bc32",
     "locked": true,
     "schema_version": 3,
     "solution": false,
     "task": false
    },
    "tags": []
   },
   "outputs": [
    {
     "name": "stdout",
     "output_type": "stream",
     "text": [
      "T exacta = {} [1.         0.9382716  0.86419753 0.77777778 0.67901235 0.56790123\n",
      " 0.44444444 0.30864198 0.16049383 0.        ]\n"
     ]
    }
   ],
   "source": [
    "x=np.linspace(0,1,10)\n",
    "TA = 1.0\n",
    "TB = 0.0\n",
    "S = 1.0\n",
    "L = 1.0\n",
    "k = 1.0\n",
    "\n",
    "# Cálculo de la solución exacta.\n",
    "# Te = ...\n",
    "### BEGIN SOLUTION\n",
    "Te = sol_exacta(x, TA, TB, S, L, k)\n",
    "\n",
    "file_answer = FileAnswer()\n",
    "file_answer.write(\"1\", Te, 'Checa el arreglo secciones')\n",
    "### END SOLUTION\n",
    "\n",
    "print('T exacta = {}',Te)"
   ]
  },
  {
   "cell_type": "code",
   "execution_count": 6,
   "id": "1b842f16-50a6-4997-9d10-9d9c7e88c4f0",
   "metadata": {
    "nbgrader": {
     "grade": true,
     "grade_id": "cell-9dad5a5092d07722",
     "locked": true,
     "points": 1,
     "schema_version": 3,
     "solution": false,
     "task": false
    },
    "tags": []
   },
   "outputs": [
    {
     "name": "stdout",
     "output_type": "stream",
     "text": [
      "\u001b[39m----------------------------------------\n",
      "\u001b[32m1 | Tu resultado es correcto.\n",
      "\u001b[39m----------------------------------------\n"
     ]
    }
   ],
   "source": [
    "quizz.eval_numeric('1', Te)"
   ]
  },
  {
   "cell_type": "markdown",
   "id": "be014949-38ae-4d8b-9504-f7d3ef9d574b",
   "metadata": {
    "nbgrader": {
     "grade": false,
     "grade_id": "cell-7a028c7147a8b46e",
     "locked": true,
     "schema_version": 3,
     "solution": false,
     "task": false
    }
   },
   "source": [
    "<div class=\"alert alert-success\">\n",
    "\n",
    "## Ejercicio 2. Error absoluto y error relativo.\n",
    "\n",
    "<font color=\"Black\">\n",
    "\n",
    "El error absoluto y el error relativo se definen como sigue.\n",
    "\n",
    "$$\n",
    "\\begin{eqnarray*}\n",
    "Error_{absoluto} & = & ||v_e - v_a|| \\\\ \\\\\n",
    "Error_{relativo} & = & \\dfrac{||v_e - v_a||}{||v_e||}\n",
    "\\end{eqnarray*}\n",
    "$$\n",
    "\n",
    "donde $v_e$ es el valor exacto y $v_a$ es el valor aproximado.\n",
    "\n",
    "Implementa las fórmulas del $Error_{absoluto}$ y del $Error_{relativo}$  en la funciones `error_absoluto()` y `error_relativo()`, respectivamente.\n",
    "</font>\n",
    "\n",
    "</div>\n"
   ]
  },
  {
   "cell_type": "code",
   "execution_count": 8,
   "id": "c21e21f7-be0d-42ee-8a36-7f8f28bf6ad1",
   "metadata": {
    "nbgrader": {
     "grade": false,
     "grade_id": "cell-fb918a108add1d26",
     "locked": true,
     "schema_version": 3,
     "solution": false,
     "task": false
    },
    "tags": []
   },
   "outputs": [],
   "source": [
    "def error_absoluto(ve, va):\n",
    "    \"\"\"\n",
    "    Calcula el error absoluto entre el valor exacto (ve) y el valor aproximado (va).\n",
    "    \"\"\"\n",
    "    ### BEGIN SOLUTION\n",
    "    return np.linalg.norm(ve - va)\n",
    "    ### END SOLUTION"
   ]
  },
  {
   "cell_type": "code",
   "execution_count": 9,
   "id": "593ba476-d37f-407f-a22c-1bbf14ca689a",
   "metadata": {
    "nbgrader": {
     "grade": false,
     "grade_id": "cell-2f084afe94172dbe",
     "locked": false,
     "schema_version": 3,
     "solution": true,
     "task": false
    },
    "tags": []
   },
   "outputs": [],
   "source": [
    "def error_relativo(ve, va):\n",
    "    \"\"\"\n",
    "    Calcula el error relativo entre el valor exacto (ve) y el valor aproximado (va).\n",
    "    \"\"\"\n",
    "    # BEGIN SOLUTION\n",
    "    return np.linalg.norm(ve - va) / np.linalg.norm(ve)\n",
    "    # END SOLUTION"
   ]
  },
  {
   "cell_type": "markdown",
   "id": "e57f3744-6bfb-49d3-aab5-b43d884cc83a",
   "metadata": {
    "nbgrader": {
     "grade": false,
     "grade_id": "cell-7a608cf5593e7814",
     "locked": true,
     "schema_version": 3,
     "solution": false,
     "task": false
    }
   },
   "source": [
    "<div class=\"alert alert-success\">\n",
    "\n",
    "## Ejercicio 3. Solución numérica (interactivo).\n",
    "\n",
    "<font color=\"Black\">\n",
    "\n",
    "Si todo lo realizaste correctamente, ejecuta la siguiente celda para generar un interativo.\n",
    "Mueve los valores de k, S y N y observa lo que sucede. \n",
    "</font>\n",
    "\n",
    "</div>"
   ]
  },
  {
   "cell_type": "code",
   "execution_count": 14,
   "id": "fb9f3d0b",
   "metadata": {
    "nbgrader": {
     "grade": false,
     "grade_id": "cell-9b0ab1995777093a",
     "locked": false,
     "schema_version": 3,
     "solution": true,
     "task": false
    },
    "tags": []
   },
   "outputs": [
    {
     "data": {
      "application/vnd.jupyter.widget-view+json": {
       "model_id": "466f0fb969dc410e9bde1cd2ea573aa3",
       "version_major": 2,
       "version_minor": 0
      },
      "text/plain": [
       "interactive(children=(FloatSlider(value=0.02, description='k', max=1.0, min=0.02), FloatSlider(value=0.0, desc…"
      ]
     },
     "execution_count": 14,
     "metadata": {},
     "output_type": "execute_result"
    }
   ],
   "source": [
    "def conduccion_1d(k, S, L, TA, TB, N):\n",
    "    \"\"\"\n",
    "    Calcula la temperatura en 1D mediante diferencias finitas.\n",
    "    \n",
    "    Parameters\n",
    "    ----------    \n",
    "    L: float\n",
    "    L es la longitud del dominio.\n",
    "    \n",
    "    k: float\n",
    "    es la conductividad del material.\n",
    "    \n",
    "    S: float\n",
    "    es la fuente.\n",
    "    \n",
    "    TA: float\n",
    "    Es la condición de frontera a la izquierda.\n",
    "    \n",
    "    TB: float\n",
    "    Es la condición de frontera a la derecha.\n",
    "\n",
    "    N: int\n",
    "    Es el número de nodos internos (grados de libertad).\n",
    "    \n",
    "    Return\n",
    "    ------\n",
    "    al final esta función dibuja la solución.\n",
    "    \"\"\"\n",
    "\n",
    "    # Cálculo de algunos parámetros numéricos\n",
    "    h = L / (N+1)\n",
    "    r = k / h**2\n",
    "    \n",
    "    # Definición de arreglos \n",
    "    T = np.zeros(N+2)\n",
    "    b = np.zeros(N)\n",
    "    A = np.zeros((N,N))\n",
    "\n",
    "    # Se inicializa todo el arreglo b con S/r\n",
    "    b[:] = S / r\n",
    "\n",
    "    # Condiciones de frontera en el arreglo de la Temperatura.\n",
    "    T[0] = TA\n",
    "    T[-1] = TB\n",
    "    \n",
    "    # Se ajusta el vector del lado derecho (RHS) con las condiciones de frontera.\n",
    "    b[0] += TA\n",
    "    b[-1] += TB\n",
    "\n",
    "    # Se calculan las entradas de la matriz del sistema de ecuaciones lineales.\n",
    "    A[0,0] = 2\n",
    "    A[0,1] = -1\n",
    "    for i in range(1,N-1):\n",
    "        A[i,i] = 2\n",
    "        A[i,i+1] = -1\n",
    "        A[i,i-1] = -1\n",
    "    A[-1,-2] = -1\n",
    "    A[-1,-1] = 2\n",
    "\n",
    "    # Se resuelve el sistema lineal.\n",
    "    T[1:N+1] = np.linalg.solve(A,b)\n",
    "\n",
    "    # Coordenadas para la solución exacta.\n",
    "    xe = np.linspace(0,L,100)\n",
    "    \n",
    "    # Coordenadas para la solución numérica.\n",
    "    xa = np.linspace(0,L,N+2)\n",
    "    \n",
    "    # Se calcula la solución exacta en las coordenadas xe.\n",
    "    Te = sol_exacta(xe, TA, TB, S, L, k)\n",
    "    \n",
    "    # Se calcula el error absoluto.\n",
    "    ea = error_absoluto(T, sol_exacta(xa,TA,TB,S,L,k))\n",
    "    \n",
    "    # Se calcula el error relativo\n",
    "    er = error_relativo(T, sol_exacta(xa,TA,TB,S,L,k))\n",
    "\n",
    "    # Se imprime el error absoluto y el relativo.\n",
    "    print('Error absoluto = {:6.5e}, Error relativo = {:6.5e}'.format(ea, er))\n",
    "\n",
    "    # Se realiza la gráfica de la solución.\n",
    "    plt.plot(xa, T, 'o-', lw = 0.5, c='k', label = 'Numérica', zorder=5)\n",
    "    plt.plot(xe, Te, lw=5, c='limegreen', label = 'Exacta')\n",
    "    plt.xlabel('$x$')\n",
    "    plt.ylabel('$T$')\n",
    "    plt.legend()\n",
    "    plt.grid()\n",
    "    plt.show()\n",
    "    \n",
    "# Construcción del interactivo.\n",
    "widgets.interactive(conduccion_1d,\n",
    "                    k = widgets.FloatSlider(max=1.0, min=0.02, value=0.02, step=0.1), \n",
    "                    S = widgets.FloatSlider(max=10.0, min=0.0, value=0, step=1.0), \n",
    "                    L = widgets.fixed(5.0), \n",
    "                    TA = widgets.fixed(200), \n",
    "                    TB = widgets.fixed(1000), \n",
    "                    N = widgets.IntSlider(max=10, min=4, value=4))"
   ]
  },
  {
   "cell_type": "code",
   "execution_count": null,
   "id": "d7e9f749",
   "metadata": {},
   "outputs": [],
   "source": []
  }
 ],
 "metadata": {
  "celltoolbar": "Create Assignment",
  "kernelspec": {
   "display_name": "Python 3 (ipykernel)",
   "language": "python",
   "name": "python3"
  },
  "language_info": {
   "codemirror_mode": {
    "name": "ipython",
    "version": 3
   },
   "file_extension": ".py",
   "mimetype": "text/x-python",
   "name": "python",
   "nbconvert_exporter": "python",
   "pygments_lexer": "ipython3",
   "version": "3.11.6"
  }
 },
 "nbformat": 4,
 "nbformat_minor": 5
}
