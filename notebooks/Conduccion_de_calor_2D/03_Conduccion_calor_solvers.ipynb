{
 "cells": [
  {
   "cell_type": "markdown",
   "id": "0ad0b0a3-30c5-4b02-8e17-76a67d36ff45",
   "metadata": {},
   "source": [
    "# Conducción de calor en 2D: algoritmos de solución de sistemas de ecuaciones.\n",
    "\n",
    "**Objetivo**.\n",
    "\n",
    "Comparar mediante un interactivo varios métodos de solución de sistemas de ecuaciones lineales.\n",
    "\n",
    " <p xmlns:cc=\"http://creativecommons.org/ns#\" xmlns:dct=\"http://purl.org/dc/terms/\"><a property=\"dct:title\" rel=\"cc:attributionURL\" href=\"https://github.com/repomacti/macti/tree/main/notebooks/Analisis_Numerico_01\">MACTI-Analisis_Numerico_01</a> by <a rel=\"cc:attributionURL dct:creator\" property=\"cc:attributionName\" href=\"https://www.macti.unam.mx\">Luis M. de la Cruz</a> is licensed under <a href=\"http://creativecommons.org/licenses/by-sa/4.0/?ref=chooser-v1\" target=\"_blank\" rel=\"license noopener noreferrer\" style=\"display:inline-block;\">Attribution-ShareAlike 4.0 International<img style=\"height:22px!important;margin-left:3px;vertical-align:text-bottom;\" src=\"https://mirrors.creativecommons.org/presskit/icons/cc.svg?ref=chooser-v1\"><img style=\"height:22px!important;margin-left:3px;vertical-align:text-bottom;\" src=\"https://mirrors.creativecommons.org/presskit/icons/by.svg?ref=chooser-v1\"><img style=\"height:22px!important;margin-left:3px;vertical-align:text-bottom;\" src=\"https://mirrors.creativecommons.org/presskit/icons/sa.svg?ref=chooser-v1\"></a></p> \n",
    "\n",
    "**Trabajo realizado con el apoyo del Programa UNAM-DGAPA-PAPIME PE101922**\n"
   ]
  },
  {
   "cell_type": "markdown",
   "id": "aa3284e1-b31a-4606-92c3-abbfd3b92535",
   "metadata": {},
   "source": [
    "Al ejecutar la siguiente celda obtendrás un interactivo en donde podrás seleccionar el método de solución y el tamaño de la malla ($M \\times N$) para resolver numéricamente, por diferencias finitas, un problema de conducción de calor. \n",
    "\n",
    "Analiza con cuidado los valores más óptimos para encontrar una buena solución.\n",
    "\n",
    "**NOTA**. Para ejecutar el interactivo debes hacer clic en el botón de play (a la derecha)."
   ]
  },
  {
   "cell_type": "code",
   "execution_count": 1,
   "id": "422035d2-9b42-490d-ba95-82fdc9ec9a5e",
   "metadata": {},
   "outputs": [
    {
     "data": {
      "application/vnd.jupyter.widget-view+json": {
       "model_id": "4d6a75abd282491090c16ab5fd51cf72",
       "version_major": 2,
       "version_minor": 0
      },
      "text/plain": [
       "VBox(children=(HBox(children=(Dropdown(description='Método', layout=Layout(height='auto', width='auto'), optio…"
      ]
     },
     "metadata": {},
     "output_type": "display_data"
    },
    {
     "data": {
      "application/vnd.jupyter.widget-view+json": {
       "model_id": "e2b768e3414c4939bdc3ab8c81367b25",
       "version_major": 2,
       "version_minor": 0
      },
      "text/plain": [
       "Output()"
      ]
     },
     "metadata": {},
     "output_type": "display_data"
    }
   ],
   "source": [
    "%run \"./zHeatCondSolvers.py\""
   ]
  },
  {
   "cell_type": "code",
   "execution_count": null,
   "id": "326be6d6-dc95-416e-b83b-a3d44398cbca",
   "metadata": {},
   "outputs": [],
   "source": []
  },
  {
   "cell_type": "code",
   "execution_count": null,
   "id": "ca354f8e-ae67-4e83-85ad-42e08109642f",
   "metadata": {},
   "outputs": [],
   "source": []
  },
  {
   "cell_type": "code",
   "execution_count": null,
   "id": "d5f4ff1d-8bd2-4f7f-9e88-58d46769038e",
   "metadata": {},
   "outputs": [],
   "source": []
  },
  {
   "cell_type": "code",
   "execution_count": null,
   "id": "7df76306-fb57-46c1-bf11-542842bb5f48",
   "metadata": {},
   "outputs": [],
   "source": []
  },
  {
   "cell_type": "code",
   "execution_count": null,
   "id": "e7b88568-6e19-4c97-ada5-7b5dfec03633",
   "metadata": {},
   "outputs": [],
   "source": []
  },
  {
   "cell_type": "code",
   "execution_count": null,
   "id": "b7bef755-37eb-445a-87c3-b0f1d5c12a7e",
   "metadata": {},
   "outputs": [],
   "source": []
  }
 ],
 "metadata": {
  "kernelspec": {
   "display_name": "Python 3 (ipykernel)",
   "language": "python",
   "name": "python3"
  },
  "language_info": {
   "codemirror_mode": {
    "name": "ipython",
    "version": 3
   },
   "file_extension": ".py",
   "mimetype": "text/x-python",
   "name": "python",
   "nbconvert_exporter": "python",
   "pygments_lexer": "ipython3",
   "version": "3.11.6"
  }
 },
 "nbformat": 4,
 "nbformat_minor": 5
}
