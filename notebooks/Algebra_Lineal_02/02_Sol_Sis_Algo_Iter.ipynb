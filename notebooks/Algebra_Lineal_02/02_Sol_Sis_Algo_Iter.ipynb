{
 "cells": [
  {
   "cell_type": "markdown",
   "metadata": {},
   "source": [
    "# Métodos iterativos para la solución de sistemas de ecuaciones lineales\n",
    "\n",
    "**Objetivo.** Describir e implementar los algoritmos de Jacobi, Gauss-Seidel y SOR para la solución de sistemas de ecuaciones lineales.\n",
    "\n",
    "<p xmlns:cc=\"http://creativecommons.org/ns#\" xmlns:dct=\"http://purl.org/dc/terms/\"><a property=\"dct:title\" rel=\"cc:attributionURL\" href=\"https://github.com/repomacti/macti/tree/main/notebooks/Algebra_Lineal_02\">MACTI-Algebra_Lineal_02</a> by <a rel=\"cc:attributionURL dct:creator\" property=\"cc:attributionName\" href=\"https://www.macti.unam.mx\">Luis M. de la Cruz</a> is licensed under <a href=\"http://creativecommons.org/licenses/by-sa/4.0/?ref=chooser-v1\" target=\"_blank\" rel=\"license noopener noreferrer\" style=\"display:inline-block;\">Attribution-ShareAlike 4.0 International<img style=\"height:22px!important;margin-left:3px;vertical-align:text-bottom;\" src=\"https://mirrors.creativecommons.org/presskit/icons/cc.svg?ref=chooser-v1\"><img style=\"height:22px!important;margin-left:3px;vertical-align:text-bottom;\" src=\"https://mirrors.creativecommons.org/presskit/icons/by.svg?ref=chooser-v1\"><img style=\"height:22px!important;margin-left:3px;vertical-align:text-bottom;\" src=\"https://mirrors.creativecommons.org/presskit/icons/sa.svg?ref=chooser-v1\"></a></p> \n",
    "\n",
    "**Trabajo realizado con el apoyo del Programa UNAM-DGAPA-PAPIME, proyectos PE101019 y PE101922.**"
   ]
  },
  {
   "cell_type": "code",
   "execution_count": 9,
   "metadata": {
    "tags": []
   },
   "outputs": [],
   "source": [
    "import numpy as np\n",
    "import macti.vis as mvis\n",
    "from macti.eval import *\n",
    "quiz = Quiz('al02_02', 'notebooks', 'local')"
   ]
  },
  {
   "cell_type": "markdown",
   "metadata": {},
   "source": [
    "# Cruce de dos rectas.\n",
    "\n",
    "Las siguientes dos rectas se cruzan en algún punto.\n",
    "\n",
    "$$\n",
    "\\begin{array}{ccc}\n",
    "3x + 2y & = &2 \\\\\n",
    "2x + 6y & = &-8\n",
    "\\end{array}\n",
    "$$\n",
    "\n",
    "Las ecuaciones de las rectas se pueden escribir como:\n",
    "\n",
    "$$\n",
    "\\begin{array}{ccc}\n",
    "\\dfrac{3}{2}x + y & = & 1 \\\\\n",
    "\\dfrac{2}{6}x + y & = & -\\dfrac{8}{6}\n",
    "\\end{array} \\Longrightarrow\n",
    "\\begin{array}{ccc}\n",
    "y = m_1 x + b_1 \\\\\n",
    "y = m_2 x + b_2\n",
    "\\end{array} \\text{ donde }\n",
    "\\begin{array}{ccc}\n",
    "m_1 = -\\dfrac{3}{2} & b_1 = 1 \\\\\n",
    "m_2 = -\\dfrac{2}{6} & b_2 = -\\dfrac{8}{6}\n",
    "\\end{array}\n",
    "$$\n",
    "\n",
    "Ahora realizaremos la gráfica de las rectas:"
   ]
  },
  {
   "cell_type": "markdown",
   "metadata": {},
   "source": [
    "## Definición y gráfica de las rectas"
   ]
  },
  {
   "cell_type": "markdown",
   "metadata": {},
   "source": [
    "<div class=\"alert alert-success\">\n",
    "\n",
    "## Ejercicio 1.\n",
    "\n",
    "En la siguiente celda se define el dominio $x$ para las líneas rectas, los parámetros para construir la línea recta 1 y su construcción. \n",
    "</div>"
   ]
  },
  {
   "cell_type": "code",
   "execution_count": 10,
   "metadata": {
    "nbgrader": {
     "grade": false,
     "grade_id": "cell-d0239a6a16514f5f",
     "locked": false,
     "schema_version": 3,
     "solution": true,
     "task": false
    },
    "tags": []
   },
   "outputs": [
    {
     "name": "stdout",
     "output_type": "stream",
     "text": [
      "x : \n",
      "[-3. -2. -1.  0.  1.  2.  3.  4.  5.  6.]\n",
      "y1: \n",
      "[ 5.5  4.   2.5  1.  -0.5 -2.  -3.5 -5.  -6.5 -8. ]\n"
     ]
    }
   ],
   "source": [
    "# Dominio\n",
    "x = np.linspace(-3,6,10)\n",
    "\n",
    "# Línea recta 1\n",
    "m1 = -3/2\n",
    "b1 = 1\n",
    "y1 = m1 * x + b1\n",
    "\n",
    "print('x : \\n{}'.format(x))\n",
    "print('y1: \\n{}'.format(y1))"
   ]
  },
  {
   "cell_type": "markdown",
   "metadata": {},
   "source": [
    "<div class=\"alert alert-success\">\n",
    "\n",
    "De la misma manera que para la línea recta 1, define los parámetros y construye la recta 2. Si todo lo  hiciste correctamente, la celda de graficación mostrará las gráficas de las líneas rectas.\n",
    "</div>"
   ]
  },
  {
   "cell_type": "code",
   "execution_count": 11,
   "metadata": {},
   "outputs": [
    {
     "name": "stdout",
     "output_type": "stream",
     "text": [
      "El directorio :/home/jovyan/Temporal/macti/notebooks/.ans/Algebra_Lineal_02/ ya existe\n",
      "Respuestas y retroalimentación almacenadas.\n",
      "x : \n",
      "[-3. -2. -1.  0.  1.  2.  3.  4.  5.  6.]\n",
      "y2: \n",
      "[-0.33333333 -0.66666667 -1.         -1.33333333 -1.66666667 -2.\n",
      " -2.33333333 -2.66666667 -3.         -3.33333333]\n"
     ]
    }
   ],
   "source": [
    "# Línea recta 2\n",
    "# m2 = ...\n",
    "# b2 = ...\n",
    "# y2 = ...\n",
    "\n",
    "### BEGIN SOLUTION\n",
    "m2 = -2/6\n",
    "b2 = -8/6\n",
    "y2 = m2 * x + b2\n",
    "\n",
    "file_answer = FileAnswer()\n",
    "file_answer.write('1', m2, 'm2 incorrecta revisa el valor del parámetro.')\n",
    "file_answer.write('2', b2, 'b2 incorrecta revisa el valor del parámetro.')\n",
    "file_answer.write('3', y2, 'y2 no está definida correctamente.')\n",
    "file_answer.to_file('al02_02')\n",
    "### END SOLUTION\n",
    "\n",
    "print('x : \\n{}'.format(x))\n",
    "print('y2: \\n{}'.format(y2))"
   ]
  },
  {
   "cell_type": "code",
   "execution_count": 12,
   "metadata": {
    "tags": []
   },
   "outputs": [
    {
     "name": "stdout",
     "output_type": "stream",
     "text": [
      "\u001b[39m――――――――――――――――――――――――――――――――――――――――\n",
      "\u001b[32m1 | Tu resultado es correcto.\n",
      "\u001b[39m――――――――――――――――――――――――――――――――――――――――\n",
      "\u001b[39m――――――――――――――――――――――――――――――――――――――――\n",
      "\u001b[32m2 | Tu resultado es correcto.\n",
      "\u001b[39m――――――――――――――――――――――――――――――――――――――――\n",
      "\u001b[39m――――――――――――――――――――――――――――――――――――――――\n",
      "\u001b[32m3 | Tu resultado es correcto.\n",
      "\u001b[39m――――――――――――――――――――――――――――――――――――――――\n"
     ]
    }
   ],
   "source": [
    "quiz.eval_numeric('1', m2)\n",
    "quiz.eval_numeric('2', b2)\n",
    "quiz.eval_numeric('3', y2)"
   ]
  },
  {
   "cell_type": "markdown",
   "metadata": {},
   "source": [
    "Gráfica de las líneas rectas usando `macti.visual`"
   ]
  },
  {
   "cell_type": "code",
   "execution_count": 14,
   "metadata": {
    "tags": []
   },
   "outputs": [
    {
     "data": {
      "image/png": "[encoded data removed]",
      "text/plain": [
       "<Figure size 512x384 with 1 Axes>"
      ]
     },
     "metadata": {},
     "output_type": "display_data"
    }
   ],
   "source": [
    "v = mvis.Plotter(1,1,[dict(aspect='equal')],title='Cruce de rectas') \n",
    "v.set_coordsys(1)\n",
    "v.plot(1, x, y1, lw = 3, c = 'seagreen', label = '$3x+2y=2$') # Línea recta 1\n",
    "v.plot(1, x, y2, lw = 3, c = 'mediumorchid',label = '$2x+6y=-8$') # Línea recta 2\n",
    "v.legend(ncol = 1, frameon=True, loc='best', bbox_to_anchor=(1.75, 1.05))\n",
    "v.grid()\n",
    "v.show()"
   ]
  },
  {
   "cell_type": "markdown",
   "metadata": {},
   "source": [
    "## Sistemas lineales.\n",
    "\n",
    "Las ecuaciones de las rectas se pueden escribir en forma de un sistema lineal:\n",
    "\n",
    "$$\n",
    "\\left[\n",
    "\\begin{array}{cc}\n",
    "3 & 2 \\\\\n",
    "2 & 6\n",
    "\\end{array} \\right]\n",
    "\\left[\n",
    "\\begin{array}{c}\n",
    "x_{0} \\\\\n",
    "x_{1}\n",
    "\\end{array} \\right] =\n",
    "\\left[\n",
    "\\begin{array}{c}\n",
    "2 \\\\ \n",
    "-8\n",
    "\\end{array} \\right]\n",
    "\\tag{1}\n",
    "$$\n",
    "\n",
    "Podemos calcular el cruce de las rectas resolviendo el sistema lineal:"
   ]
  },
  {
   "cell_type": "markdown",
   "metadata": {},
   "source": [
    "<div class=\"alert alert-success\">\n",
    "\n",
    "## Ejemplo 1.\n",
    "\n",
    "Define el sistema lineal y resuelvelo con la función `numpy.linalg.solve()`. Posteriomente grafica las rectas y el punto solución.</font>\n",
    "</div>\n"
   ]
  },
  {
   "cell_type": "code",
   "execution_count": 15,
   "metadata": {
    "tags": []
   },
   "outputs": [
    {
     "name": "stdout",
     "output_type": "stream",
     "text": [
      "Matriz A : \n",
      "[[3 2]\n",
      " [2 6]]\n",
      "Vector b : \n",
      "[ 2 -8]\n",
      "Solución del sistema: \n",
      "[ 2. -2.]\n"
     ]
    }
   ],
   "source": [
    "# Definición del sistema lineal.\n",
    "A = np.array([[3, 2],[2,6]] )\n",
    "b = np.array([2,-8])\n",
    "print(\"Matriz A : \\n{}\".format(A))\n",
    "print(\"Vector b : \\n{}\".format(b))\n",
    "\n",
    "sol = np.linalg.solve(A,b) # Función del módulo linalg para resolver el sistema\n",
    "print(\"Solución del sistema: \\n{}\".format(sol))"
   ]
  },
  {
   "cell_type": "markdown",
   "metadata": {},
   "source": [
    "Gráfica de las líneas rectas y el punto de cruce (solución)."
   ]
  },
  {
   "cell_type": "code",
   "execution_count": 16,
   "metadata": {
    "tags": []
   },
   "outputs": [
    {
     "data": {
      "image/png": "[encoded data removed]",
      "text/plain": [
       "<Figure size 512x384 with 1 Axes>"
      ]
     },
     "metadata": {},
     "output_type": "display_data"
    }
   ],
   "source": [
    "v = mvis.Plotter(1,1,[dict(aspect='equal')],title='Cruce de rectas') \n",
    "v.set_coordsys(1)\n",
    "v.plot(1, x, y1, lw = 3, c = 'seagreen', label = '$3x+2y=2$') # Línea recta 1\n",
    "v.plot(1, x, y2, lw = 3, c = 'mediumorchid', label = '$2x+6y=-8$') # Línea recta 2\n",
    "v.scatter(1, sol[0], sol[1], fc='sandybrown', ec='k', s = 75, alpha=0.75, zorder=5, label='Sol. final') # Solución\n",
    "v.legend(ncol = 1, frameon=True, loc='best', bbox_to_anchor=(1.75, 1.05))\n",
    "v.grid()\n",
    "v.show()"
   ]
  },
  {
   "cell_type": "markdown",
   "metadata": {},
   "source": [
    "En general, un sistema de ecuaciones lineales de $n \\times n$ se escribe como sigue:\n",
    "\n",
    "$$\n",
    "\\begin{array}{ccccccc}\n",
    "a_{11}x_1 & + & a_{12}x_2 & +  \\dots  + & a_{1n}x_n & = & b_1 \\\\\n",
    "a_{21}x_1 & + & a_{22}x_2 & +  \\dots + & a_{2n}x_n & = & b_2 \\\\\n",
    "\\vdots & & \\vdots &  & \\vdots & & \\vdots \\\\\n",
    "a_{i1}x_1 & + & a_{i2}x_2 & +  \\dots + & a_{in}x_n & = & b_i \\\\\n",
    "\\vdots & & \\vdots &  & \\vdots & & \\vdots \\\\\n",
    "a_{n1}x_1 & + & a_{n2}x_2 & + \\dots + & a_{nn}x_n & = & b_n\n",
    "\\end{array}\n",
    "$$\n",
    "\n",
    "Es posible usar diferentes métodos para resolver este tipo de sistemas. Veamos tres de ellos."
   ]
  },
  {
   "cell_type": "markdown",
   "metadata": {},
   "source": [
    "# Método de Jacobi\n",
    "\n",
    "* En este método, de la primera ecuación se despeja $x_1$; de la segunda ecuación se despeja $x_2$; y a sí sucesivamente, de tal manera que obtenemos:\n",
    "$$\n",
    "\\begin{eqnarray*}\n",
    "\tx_1 & = &\\left( b_1 - (a_{12}x_2 +  \\dots  + a_{1n}x_n) \\right) / a_{11}  \\\\\n",
    "\tx_2 & = &\\left( b_2 - (a_{21}x_1 +  \\dots  + a_{2n}x_n) \\right) / a_{22} \\\\\n",
    "\t\\vdots & & \\vdots \\\\\n",
    "\tx_i & = &\\left( b_i - (a_{i1}x_1 +  \\dots  + a_{in}x_n) \\right) / a_{ii} \\\\\n",
    "\t\\vdots & & \\vdots \\\\\n",
    "\tx_n & = &\\left( b_n - (a_{n1}x_1 +  \\dots  + a_{nn-1}x_{n-1}) \\right) / a_{nn}\n",
    "\\end{eqnarray*}\n",
    "$$\n",
    "\n",
    "* Suponemos ahora que tenemos una solución inicial aproximada $\\mathbf{x}^0 = [x_1^0, \\dots, x_n^0]$. Usando esta solución inicial, es posible hacer una nueva aproximación para obtener  $\\mathbf{x}^1 = [x_1^1, \\dots, x_n^1]$ como sigue:\n",
    "\n",
    "$$\n",
    "\\begin{eqnarray*}\n",
    "\tx_1^1 & = &\\left( b_1 - (a_{12}x_2^0 +  \\dots  + a_{1n}x_n^0) \\right) / a_{11}  \\\\\n",
    "\tx_2^1 & = &\\left( b_2 - (a_{21}x_1^0 +  \\dots  + a_{2n}x_n^0) \\right) / a_{22} \\\\\n",
    "\t\\vdots & & \\vdots \\\\\n",
    "\tx_i^1 & = &\\left( b_i - (a_{i1}x_1^0 +  \\dots  + a_{in}x_n^0) \\right) / a_{ii} \\\\\n",
    "\t\\vdots & & \\vdots \\\\\n",
    "\tx_n^1 & = &\\left( b_n - (a_{n1}x_1^0 +  \\dots  + a_{nn-1}x_{n-1}^0) \\right) / a_{nn}\n",
    "\\end{eqnarray*}\n",
    "$$\n",
    "\n",
    "* En general para $i = 1, \\dots, n$ y $k = 1, 2, \\dots$ tenemos:\n",
    "\n",
    "$$\n",
    "x_i^k = \\frac{1}{a_{i,i}} \\left(b_i -  \\sum_{j \\neq i} a_{i,j} x_j^{k-1} \\right)\n",
    "$$\n",
    "\n",
    "* En términos de matrices, la **iteración de Jacobi** se escribe:\n",
    "$$\n",
    "\\mathbf{x}^k = -\\mathbf{D}^{-1} \\mathbf{B}\\mathbf{x}^{k-1} + \\mathbf{D}^{-1} \\mathbf{b}\n",
    "$$\n",
    "\n",
    "donde $\\mathbf{D}$ es la matriz diagonal y $\\mathbf{B} = \\mathbf{A} - \\mathbf{D}$.\n",
    "\n",
    "* El cálculo de cada componente $x_i^k$ es independiente de las otras componentes, por lo que este método se conoce también como de  *desplazamientos simultáneos*.\n"
   ]
  },
  {
   "cell_type": "markdown",
   "metadata": {
    "id": "CnNo6k82K2JN",
    "nbgrader": {
     "grade": false,
     "grade_id": "cell-e645baecfad85b94",
     "locked": true,
     "schema_version": 3,
     "solution": false,
     "task": false
    }
   },
   "source": [
    "## Algoritmo Jacobi.\n",
    "En general, podemos definir el siguiente algoritmo para el método de Jacobi.\n",
    "<center>\n",
    "<img src=\"./Jacobi.png\"  width='500px'/>\n",
    "</center>\n",
    "\n",
    "Observa que en este algoritmo hay un ciclo `while` el cual termina cuando el error es menor o igual que una tolerancia `tol` o se ha alcanzado un número máximo de iteraciones `kmax`. En la línea **11** se calcula el error, que en términos matemáticos se define como $error = || \\mathbf{x}^k - \\mathbf{x}||$ donde $\\mathbf{x}^k$ es la aproximación de la iteración $k$-ésima y $\\mathbf{x}$ es la solución exacta. En muchas ocasiones no se tiene acceso a la solución exacta por lo que se compara con la solución de la iteración anterior, es decir $error = || \\mathbf{x}^k - \\mathbf{x}^{k-1}||$.\n",
    "\n",
    "### Implementación."
   ]
  },
  {
   "cell_type": "code",
   "execution_count": 17,
   "metadata": {
    "id": "kJMD5Mtr5DrY",
    "nbgrader": {
     "grade": false,
     "grade_id": "cell-bcbf62f6c782b10b",
     "locked": true,
     "schema_version": 3,
     "solution": false,
     "task": false
    },
    "tags": []
   },
   "outputs": [],
   "source": [
    "def jacobi(A,b,tol,kmax,xi, yi):\n",
    "    N = len(b)\n",
    "    xnew = np.zeros(N)\n",
    "    xold = np.zeros(N)\n",
    "    \n",
    "    # Solución inicial\n",
    "    xold[0] = xi\n",
    "    xold[1] = yi\n",
    "\n",
    "    # Listas para los pasos intermedios y el error\n",
    "    xs = [xi]\n",
    "    ys = [yi]\n",
    "    error_lista = []\n",
    "\n",
    "    # Error inicial (mayor que la tolerancia)\n",
    "    error = 10\n",
    "    \n",
    "    k = 0\n",
    "    print('{:^2} {:^10} {:^12} {:^12}'.format(' i ', 'Error', 'x0', 'x1'))\n",
    "    while error > tol and k < kmax:\n",
    "        for i in range(0,N): # se puede hacer en paralelo\n",
    "            xnew[i] = 0\n",
    "            for j in range(0,i):\n",
    "                xnew[i] += A[i,j] * xold[j]\n",
    "            for j in range(i+1,N):\n",
    "                xnew[i] += A[i,j] * xold[j]                \n",
    "            xnew[i] = (b[i] - xnew[i]) / A[i,i]\n",
    "\n",
    "        # Calculamos el error con respecto a la iter anterior\n",
    "        error = np.linalg.norm(xnew - xold)\n",
    "        \n",
    "        # Almacenamos los pasos y el error en las listas\n",
    "        xs.append(xnew[0])\n",
    "        ys.append(xnew[1])        \n",
    "        error_lista.append(error)\n",
    "\n",
    "        \n",
    "        # Incrementamos k y actualizamos xold\n",
    "        k += 1\n",
    "        xold[:] = xnew[:]\n",
    "        print('{:2d} {:10.9f} ({:10.9f}, {:10.9f})'.format(k, error, xnew[0], xnew[1])) \n",
    "    return xnew, xs, ys, error_lista, k"
   ]
  },
  {
   "cell_type": "markdown",
   "metadata": {
    "nbgrader": {
     "grade": false,
     "grade_id": "cell-78568f31c8738001",
     "locked": true,
     "schema_version": 3,
     "solution": false,
     "task": false
    }
   },
   "source": [
    "<div class=\"alert alert-success\">\n",
    "\n",
    "## Ejemplo 2. Aplicación del método de Jacobi.\n",
    "\n",
    "Haciendo uso de la función `jacobi` definida en la celda anterior, aproxima la solución del sistema de ecuaciones (1). Utiliza la solución inicial `(xi, yi)` = $(-2, 2)$, una tolerancia `tol` = $1 \\times 10^{-5}$ y `kmax` = $50$ iteraciones.\n",
    "</div>"
   ]
  },
  {
   "cell_type": "code",
   "execution_count": 18,
   "metadata": {
    "colab": {
     "base_uri": "https://localhost:8080/"
    },
    "id": "BB9P34d-5DrY",
    "nbgrader": {
     "grade": false,
     "grade_id": "cell-a36ade6364fb9e6d",
     "locked": false,
     "schema_version": 3,
     "solution": true,
     "task": false
    },
    "outputId": "efc32185-d095-4312-d95b-9bd83e74725a",
    "tags": []
   },
   "outputs": [
    {
     "name": "stdout",
     "output_type": "stream",
     "text": [
      " i    Error         x0           x1     \n",
      " 1 2.981423970 (-0.666666667, -0.666666667)\n",
      " 2 1.832491389 (1.111111111, -1.111111111)\n",
      " 3 0.662538660 (1.407407407, -1.703703704)\n",
      " 4 0.407220309 (1.802469136, -1.802469136)\n",
      " 5 0.147230813 (1.868312757, -1.934156379)\n",
      " 6 0.090493402 (1.956104252, -1.956104252)\n",
      " 7 0.032717959 (1.970736168, -1.985368084)\n",
      " 8 0.020109645 (1.990245389, -1.990245389)\n",
      " 9 0.007270657 (1.993496926, -1.996748463)\n",
      "10 0.004468810 (1.997832309, -1.997832309)\n",
      "11 0.001615702 (1.998554873, -1.999277436)\n",
      "12 0.000993069 (1.999518291, -1.999518291)\n",
      "13 0.000359045 (1.999678861, -1.999839430)\n",
      "14 0.000220682 (1.999892954, -1.999892954)\n",
      "15 0.000079788 (1.999928636, -1.999964318)\n",
      "16 0.000049040 (1.999976212, -1.999976212)\n",
      "17 0.000017731 (1.999984141, -1.999992071)\n",
      "18 0.000010898 (1.999994714, -1.999994714)\n",
      "19 0.000003940 (1.999996476, -1.999998238)\n"
     ]
    }
   ],
   "source": [
    "# Solución inicial\n",
    "(xi, yi) = (-2, 2)\n",
    "tol = 1e-5\n",
    "kmax = 50\n",
    "\n",
    "# Ejecución del método de Jacobi\n",
    "solJ, xs, ys, eJ, itJ = jacobi(A, b, tol, kmax, xi, yi)"
   ]
  },
  {
   "cell_type": "markdown",
   "metadata": {},
   "source": [
    "Observa que la función `jacobi()` regresa 5 valores: \n",
    "* `solJ` la solución obtenida, \n",
    "* `xs` y `ys` componentes de las soluciones aproximadas en cada paso, \n",
    "* `eJ` el error con respecto a la solución exacta e \n",
    "* `itJ` el número de iteraciones realizadas.\n",
    "\n",
    "A continuación graficamos como es que la solución se va aproximando con este método."
   ]
  },
  {
   "cell_type": "code",
   "execution_count": 19,
   "metadata": {
    "tags": []
   },
   "outputs": [
    {
     "data": {
      "image/png": "[encoded data removed]",
      "text/plain": [
       "<Figure size 512x384 with 1 Axes>"
      ]
     },
     "metadata": {},
     "output_type": "display_data"
    }
   ],
   "source": [
    "v = mvis.Plotter(1,1,[dict(aspect='equal')],title='Cruce de rectas') \n",
    "v.set_coordsys(1)\n",
    "v.plot(1, x, y1, lw = 3, c = 'seagreen', label = '$3x+2y=2$') # Línea recta 1\n",
    "v.plot(1, x, y2, lw = 3, c = 'mediumorchid', label = '$2x+6y=-8$') # Línea recta 2\n",
    "v.scatter(1, sol[0], sol[1], fc='sandybrown', ec='k', s = 75, alpha=0.75, zorder=5, label='Sol. final') # Solución\n",
    "\n",
    "# Graficamos los pasos\n",
    "v.scatter(1, xs[0], ys[0], fc='yellow', ec='k', s = 75, alpha=0.75, zorder=8, label='Sol. inicial')\n",
    "v.scatter(1, xs[1:], ys[1:], c='navy', s = 10, alpha=0.5, zorder=8)\n",
    "v.plot(1, xs, ys, c='grey', ls = '--', lw=1.0, zorder=8, label='Pasos de Jacobi')\n",
    "\n",
    "v.legend(ncol = 1, frameon=True, loc='best', bbox_to_anchor=(1.80, 1.01))\n",
    "v.grid()\n",
    "v.show()"
   ]
  },
  {
   "cell_type": "markdown",
   "metadata": {},
   "source": [
    "## Cálculo del error\n",
    "\n",
    "* Definimos $e_i^k = x_i^k - x_i$ como la diferencia entre la $i$-ésima componente  de la solución exacta y la $i$-ésima componente de la $k$-ésima iteración, de tal manera que $\\mathbf{e} = [e_1, \\dots, e_n]^T$ es el vector error.\n",
    "\n",
    "* Aplicando una vez la iteración de Jacobi para $x_i$ y $x_i^{k+1}$ podemos escribir la diferencia como sigue:\n",
    "\n",
    "$$\n",
    "\\begin{eqnarray*}\n",
    "\\left| e_i^{k+1} \\right| & = &\\left| x_i^{k+1} - x_i  \\right| \\\\\n",
    "\\left| e_i^{k+1} \\right| & = & \\left|\n",
    "\\frac{1}{a_{i,i}} \\left(b_i - \\sum_{j \\neq i} a_{i,j} x_j^{k} \\right) -\n",
    "\\frac{1}{a_{i,i}} \\left(b_i - \\sum_{j \\neq i} a_{i,j} x_j \\right) \\right| \\\\\n",
    "\\left| e_i^{k+1} \\right| & = & \\left| -\\sum_{j \\neq i} \\frac{a_{i,j}}{a_{i,i}} (x_j^k - x_j)\\right| \\\\\n",
    "\\left| e_i^{k+1} \\right| & = & \\left| -\\sum_{j \\neq i} \\frac{a_{i,j}}{a_{i,i}} e_j^k \\right| \n",
    "\\le \\sum_{j \\neq i} \\left| \\frac{a_{i,j}}{a_{i,i}} \\right| || \\mathbf{e}^k ||_\\infty, \\qquad \\forall i, k .\n",
    "\\end{eqnarray*}\n",
    "$$\n",
    "\n",
    "* En particular:\n",
    "$$\n",
    "\\max_{1 \\le i \\le n} \\left( \\left| e_i^{k+1} \\right| \\right) =  || \\mathbf{e}^{k+1} ||_\\infty\n",
    " \\le \\sum_{j \\neq i} \\left| \\frac{a_{i,j}}{a_{i,i}} \\right| || \\mathbf{e}^k ||_\\infty\n",
    "$$\n",
    "\n",
    "* Definimos $\\displaystyle K = \\max_{1 \\le i \\le n} \\sum_{j \\neq i} \\left| \\frac{a_{i,j}}{a_{i,i}} \\right|$ entonces:\n",
    "\n",
    "$$\n",
    "\\begin{eqnarray*}\n",
    "|| \\mathbf{e}^{k+1} ||_\\infty & \\le &  K || \\mathbf{e}^{k} ||_\\infty \\le K \\left( K || \\mathbf{e}^{k-1} ||_\\infty \\right) \\le\n",
    "\\dots \\le K^k || \\mathbf{e}^{1} ||_\\infty \\\\\n",
    "|| \\mathbf{e}^{k+1} ||_\\infty & \\le &  K^k || \\mathbf{e}^{1} ||_\\infty\n",
    "\\end{eqnarray*}\n",
    "$$\n",
    "\n",
    "* Si $K < 1$ entonces $\\mathbf{e}^{k} \\rightarrow 0$ cuando $k \\rightarrow \\infty$\n",
    "\n",
    "* La condición $K < 1$ implica:\n",
    "$$\n",
    "\\sum_{j \\neq i} |a_{i,j}| < |a_{i,i}|, \\forall i\n",
    "$$\n",
    "\n",
    "A continuación graficamos el error que se va obteniendo en cada paso del método:"
   ]
  },
  {
   "cell_type": "code",
   "execution_count": 20,
   "metadata": {
    "tags": []
   },
   "outputs": [
    {
     "data": {
      "image/png": "[encoded data removed]",
      "text/plain": [
       "<Figure size 512x384 with 1 Axes>"
      ]
     },
     "metadata": {},
     "output_type": "display_data"
    }
   ],
   "source": [
    "# Lista con el número de las iteraciones\n",
    "l_itJ = list(range(0,itJ)) \n",
    "\n",
    "# Parámetros para los ejes\n",
    "a_p = dict(yscale='log', xlabel='Iteraciones', xticks = l_itJ)\n",
    "\n",
    "# Gráfica del error\n",
    "v = mvis.Plotter(1,1,[a_p]) \n",
    "v.axes(1).set_title('Error', loc='left')\n",
    "v.plot(1, l_itJ, eJ, marker='.', label='Jacobi') # Error eJ\n",
    "v.legend()\n",
    "v.grid()"
   ]
  },
  {
   "cell_type": "markdown",
   "metadata": {
    "id": "sOg_5uyQOhm9",
    "nbgrader": {
     "grade": false,
     "grade_id": "cell-ed7e86ef97367932",
     "locked": true,
     "schema_version": 3,
     "solution": false,
     "task": false
    }
   },
   "source": [
    "# Método de Gauss-Seidel\n",
    "\n",
    "* La principal diferencia con el método de Jacobi es que las ecuaciones se analizan en un orden determinado.\n",
    "\n",
    "* Por ejemplo, si realizamos el cálculo en orden ascendente y ya hemos evaluado $x_1$ y $x_2$, para evaluar $x_3$ haríamos lo siguiente:}\n",
    "$$\n",
    "\\begin{eqnarray*}\n",
    "\\underline{x_1^1} & = &\\left( b_1 - (a_{12}x_2^0 + a_{13} x_3^0 + \\dots  + a_{1n}x_n^0) \\right) / a_{11}  \\\\\n",
    "\\underline{x_2^1} & = &\\left( b_2 - (a_{21}\\underline{x_1^1} + a_{23}x_3^0 + \\dots  + a_{2n}x_n^0) \\right) / a_{22} \\\\\n",
    "x_3 & = &\\left( b_3 - (a_{31}\\underline{x_1^1} + a_{32}\\underline{x_2^1} + \\dots  + a_{3n}x_n^0)\\right) / a_{22}\n",
    "\\end{eqnarray*}\n",
    "$$\n",
    "\n",
    "* En general la fórmula del método es como sigue:\n",
    "$$\n",
    "x_i^k = \\frac{1}{a_{i,i}} \\left(b_i -  \\sum_{j < i} a_{i,j} \\underline{x_j^{k}} \n",
    "- \\sum_{j > i} a_{i,j} x_j^{k-1} \\right) \n",
    "$$   \n",
    "\n",
    "* Este algoritmo es serial dado que cada componente depende de que las componentes previas se hayan calculado (*desplazamientos sucesivos*).\n",
    "\n",
    "* El valor de la nueva iteración $\\mathbf{x}^k$ depende del orden en que se examinan las componentes. Si se cambia el orden, el valor de $\\mathbf{x}^k$ cambia.\n"
   ]
  },
  {
   "cell_type": "markdown",
   "metadata": {
    "nbgrader": {
     "grade": false,
     "grade_id": "cell-84c6aaac242a8a0a",
     "locked": true,
     "schema_version": 3,
     "solution": false,
     "task": false
    }
   },
   "source": [
    "## Algoritmo Gauss-Seidel.\n",
    "En general, podemos definir el siguiente algoritmo para el método de Gauss-Seidel.\n",
    "\n",
    "<center>\n",
    "<img src=\"./Gauss_Seidel.png\"  width='500px'/>\n",
    "</center>\n",
    "\n",
    "### Implementación."
   ]
  },
  {
   "cell_type": "code",
   "execution_count": 21,
   "metadata": {
    "id": "QMVYEfy95DrZ",
    "nbgrader": {
     "grade": false,
     "grade_id": "cell-ad9e472a46931664",
     "locked": true,
     "schema_version": 3,
     "solution": false,
     "task": false
    },
    "tags": []
   },
   "outputs": [],
   "source": [
    "def gauss_seidel(A,b,tol,kmax,xi,yi):\n",
    "    N = len(b)\n",
    "    xnew = np.zeros(N)\n",
    "    xold = np.zeros(N)\n",
    "\n",
    "    # Solución inicial\n",
    "    xold[0] = xi\n",
    "    xold[1] = yi\n",
    "\n",
    "    # Listas para los pasos intermedios y el error\n",
    "    xs = [xi]\n",
    "    ys = [yi]\n",
    "    error_lista = []\n",
    "\n",
    "    # Error inicial (mayor que la tolerancia)\n",
    "    error = 10\n",
    "    \n",
    "    k = 0\n",
    "    print('{:^2} {:^10} {:^12} {:^12}'.format(' i ', 'Error', 'x0', 'x1'))\n",
    "\n",
    "    while error > tol and k < kmax:\n",
    "        for i in range(0,N):\n",
    "            xnew[i] = 0\n",
    "            for j in range(0,i):\n",
    "                xnew[i] += A[i,j] * xnew[j] # Se usa información actualizada\n",
    "            for j in range(i+1,N):\n",
    "                xnew[i] += A[i,j] * xold[j]                \n",
    "            xnew[i] = (b[i] - xnew[i]) / A[i,i]\n",
    "\n",
    "        # Calculamos el error con respecto a la iter anterior\n",
    "        error = np.linalg.norm(xnew - xold)\n",
    "        \n",
    "        # Almacenamos los pasos y el error en las listas\n",
    "        xs.append(xnew[0])\n",
    "        ys.append(xnew[1])        \n",
    "        error_lista.append(error)\n",
    "\n",
    "        # Incrementamos k y actualizamos xold\n",
    "        k += 1\n",
    "        xold[:] = xnew[:]\n",
    "        \n",
    "        print('{:2d} {:10.9f} ({:10.9f}, {:10.9f})'.format(k, error, xnew[0], xnew[1]))\n",
    "    return xnew, xs, ys, error_lista, k"
   ]
  },
  {
   "cell_type": "markdown",
   "metadata": {
    "nbgrader": {
     "grade": false,
     "grade_id": "cell-e2080cd527067903",
     "locked": true,
     "schema_version": 3,
     "solution": false,
     "task": false
    }
   },
   "source": [
    "<div class=\"alert alert-success\">\n",
    "\n",
    "## Ejercicio 2.\n",
    "\n",
    "Haciendo uso de la función `gauss_seidel()` definida en la celda anterior, aproxima la solución del sistema de ecuaciones del Ejemplo 1. Utiliza la solución inicial `(xi, yi) =` $(-2, 2)$, una tolerancia `tol` = $1 \\times 10^{-5}$ y `kmax` = $50$ iteraciones. \n",
    "Utiliza las variables `solG`, `xs`, `ys`, `eG` e `itG` para almacenar la salida de la función `gauss_seidel()`.\n",
    "Posteriormente grafica las rectas y cómo se va calculando la solución con este método. Grafica también los errores para el método de Jacobi y para el de Gauss-Seidel, deberías obtener una imagen como la siguiente:\n",
    "    \n",
    "<img src='error_JGS.png' width=450px height=auto>\n",
    "\n",
    "</div>"
   ]
  },
  {
   "cell_type": "markdown",
   "metadata": {},
   "source": [
    "Cálculo de la solución con Gauss-Seidel"
   ]
  },
  {
   "cell_type": "code",
   "execution_count": 22,
   "metadata": {
    "colab": {
     "base_uri": "https://localhost:8080/"
    },
    "id": "8OO0YZhw5Dra",
    "nbgrader": {
     "grade": false,
     "grade_id": "cell-97076304ca7ed9a8",
     "locked": false,
     "schema_version": 3,
     "solution": true,
     "task": false
    },
    "outputId": "7c53bde7-4bf1-4117-a763-004082033c37",
    "tags": []
   },
   "outputs": [
    {
     "name": "stdout",
     "output_type": "stream",
     "text": [
      " i    Error         x0           x1     \n",
      " 1 3.384788047 (-0.666666667, -1.111111111)\n",
      " 2 2.186266037 (1.407407407, -1.802469136)\n",
      " 3 0.485836897 (1.868312757, -1.956104252)\n",
      " 4 0.107963755 (1.970736168, -1.990245389)\n",
      " 5 0.023991946 (1.993496926, -1.997832309)\n",
      " 6 0.005331543 (1.998554873, -1.999518291)\n",
      " 7 0.001184787 (1.999678861, -1.999892954)\n",
      " 8 0.000263286 (1.999928636, -1.999976212)\n",
      " 9 0.000058508 (1.999984141, -1.999994714)\n",
      "10 0.000013002 (1.999996476, -1.999998825)\n",
      "11 0.000002889 (1.999999217, -1.999999739)\n",
      "El directorio :/home/jovyan/Temporal/macti/notebooks/.ans/Algebra_Lineal_02/ ya existe\n",
      "Respuestas y retroalimentación almacenadas.\n"
     ]
    }
   ],
   "source": [
    "# Solución inicial\n",
    "# xi, yi = \n",
    "# tol = \n",
    "# kmax = \n",
    "\n",
    "# Método de Gauss-Seidel\n",
    "# ...\n",
    "\n",
    "### BEGIN SOLUTION\n",
    "# Solución inicial\n",
    "xi, yi = (-2, 2)\n",
    "tol = 1e-5\n",
    "kmax = 50\n",
    "\n",
    "# Método de Gauss-Seidel\n",
    "solG, xs, ys, eG, itG = gauss_seidel(A, b, tol, kmax, xi, yi)\n",
    "\n",
    "file_answer.write('4', solG, 'solG es incorrecta: revisa la llamada y ejecución de la función gauss_seidel() así como sus parámetros de entrada.')\n",
    "file_answer.write('5', eG[-1], 'eG[-1] es incorrecto: revisa la llamada y ejecución de la función gauss_seidel() así como sus parámetros de entrada.')\n",
    "file_answer.write('6', itG, 'itG es incorrector: revisa la llamada y ejecución de la función gauss_seidel() así como sus parámetros de entrada.')\n",
    "file_answer.to_file('al02_02')\n",
    "### END SOLUTION"
   ]
  },
  {
   "cell_type": "code",
   "execution_count": 23,
   "metadata": {
    "nbgrader": {
     "grade": true,
     "grade_id": "cell-cc83bed7ddfd9adf",
     "locked": true,
     "points": 1,
     "schema_version": 3,
     "solution": false,
     "task": false
    },
    "tags": []
   },
   "outputs": [
    {
     "name": "stdout",
     "output_type": "stream",
     "text": [
      "\u001b[39m――――――――――――――――――――――――――――――――――――――――\n",
      "\u001b[32m4 | Tu resultado es correcto.\n",
      "\u001b[39m――――――――――――――――――――――――――――――――――――――――\n",
      "\u001b[39m――――――――――――――――――――――――――――――――――――――――\n",
      "\u001b[32m5 | Tu resultado es correcto.\n",
      "\u001b[39m――――――――――――――――――――――――――――――――――――――――\n",
      "\u001b[39m――――――――――――――――――――――――――――――――――――――――\n",
      "\u001b[32m6 | Tu resultado es correcto.\n",
      "\u001b[39m――――――――――――――――――――――――――――――――――――――――\n"
     ]
    }
   ],
   "source": [
    "quiz.eval_numeric('4', solG)\n",
    "quiz.eval_numeric('5', eG[-1])\n",
    "quiz.eval_numeric('6', itG)"
   ]
  },
  {
   "cell_type": "markdown",
   "metadata": {},
   "source": [
    "Gráfica de las rectas, la solución y los pasos realizados."
   ]
  },
  {
   "cell_type": "code",
   "execution_count": 24,
   "metadata": {
    "tags": []
   },
   "outputs": [
    {
     "data": {
      "image/png": "[encoded data removed]",
      "text/plain": [
       "<Figure size 512x384 with 1 Axes>"
      ]
     },
     "metadata": {},
     "output_type": "display_data"
    }
   ],
   "source": [
    "# Puedes usar el mismo código que en el caso anterior.\n",
    "\n",
    "### BEGIN SOLUTION\n",
    "v = mvis.Plotter(1,1,[dict(aspect='equal')],title='Cruce de rectas') \n",
    "v.set_coordsys(1)\n",
    "v.plot(1, x, y1, lw = 3, c = 'seagreen', label = '$3x+2y=2$') # Línea recta 1\n",
    "v.plot(1, x, y2, lw = 3, c = 'mediumorchid', label = '$2x+6y=-8$') # Línea recta 2\n",
    "\n",
    "# Graficamos los pasos\n",
    "v.scatter(1, xs[0], ys[0], fc='yellow', ec='k', s = 75, alpha=0.75, zorder=8, label='Sol. inicial')\n",
    "v.scatter(1, xs[1:], ys[1:], c='navy', s = 10, alpha=0.5, zorder=8)\n",
    "v.plot(1, xs, ys, c='grey', ls = '--', lw=1.0, zorder=8, label='Pasos de Gauss-Seidel')\n",
    "\n",
    "v.legend(ncol = 1, frameon=True, loc='best', bbox_to_anchor=(2.05, 1.01))\n",
    "v.grid()\n",
    "v.show()\n",
    "### END SOLUTION"
   ]
  },
  {
   "cell_type": "markdown",
   "metadata": {},
   "source": [
    "Graficación de los errores de Jacobi y Gauss-Seidel"
   ]
  },
  {
   "cell_type": "code",
   "execution_count": 25,
   "metadata": {
    "tags": []
   },
   "outputs": [
    {
     "data": {
      "image/png": "[encoded data removed]",
      "text/plain": [
       "<Figure size 512x384 with 1 Axes>"
      ]
     },
     "metadata": {},
     "output_type": "display_data"
    }
   ],
   "source": [
    "# Utiliza el código del caso anterior adaptado para que pueda graficar ambos errores.\n",
    "\n",
    "### BEGIN SOLUTION\n",
    "# Lista con el número de las iteraciones máxima\n",
    "it_max = max(itJ, itG)\n",
    "l_it_max = list(range(0,it_max)) \n",
    "\n",
    "# Listas con el número de las iteraciones para cada algoritmo\n",
    "l_itJ = list(range(0,itJ)) \n",
    "l_itG = list(range(0,itG)) \n",
    "\n",
    "# Parámetros para los ejes\n",
    "a_p = dict(yscale='log', xlabel='Iteraciones', xticks = l_it_max)\n",
    "\n",
    "# Gráficas del error\n",
    "v = mvis.Plotter(1,1,[a_p]) \n",
    "v.axes(1).set_title('Error', loc='left')\n",
    "v.plot(1, l_itJ, eJ, marker='.', label='Jacobi')\n",
    "v.plot(1, l_itG, eG, marker='.', label='Gauss-Seidel')\n",
    "v.legend()\n",
    "v.grid()\n",
    "### END SOLUTION"
   ]
  },
  {
   "cell_type": "markdown",
   "metadata": {},
   "source": [
    "# Método de Sobrerrelajación sucesiva (*Successive Overrelaxation*, SOR)\n",
    "\n",
    "* Se obtiene apicando una extrapolación a la iteración de Gauss-Seidel.\n",
    "\n",
    "* Esta extrapolación es un promedio pesado entre la iteración actual y la anterior:\n",
    "$$\n",
    "x_i^k = \\omega \\bar{x}_i^k + (1-\\omega)x_i^{k-1}\n",
    "$$\n",
    "donde $\\bar{x}$ denota una iteración de Gauss-Seidel y $\\omega$ es el\n",
    "factor de extrapolación.\n",
    "\n",
    "* En términos de matrices tenemos:\n",
    "$$\n",
    "\\mathbf{x}^k = (\\mathbf{D} - \\omega \\mathbf{L})^{-1}(\\omega \\mathbf{U} + (1 - \\omega )\\mathbf{D})\\mathbf{x}^{k-1} \n",
    "+ \\omega (\\mathbf{D} - \\omega \\mathbf{L})^{-1} \\mathbf{b}\n",
    "$$\n",
    "* Elegir la $\\omega$ óptima no es simple, aunque se sabe que si $\\omega$ \n",
    "está fuera del intervalo $(0,2)$ el método falla.\n",
    "\n",
    "### Implementación 3."
   ]
  },
  {
   "cell_type": "code",
   "execution_count": 26,
   "metadata": {
    "tags": []
   },
   "outputs": [],
   "source": [
    "def sor(A,b,tol,kmax,w,xi,yi):\n",
    "    N = len(b)\n",
    "    xnew = np.zeros(N)\n",
    "    xold = np.zeros(N)\n",
    "\n",
    "\n",
    "    # Solución inicial\n",
    "    xold[0] = xi\n",
    "    xold[1] = yi\n",
    "\n",
    "    # Listas para los pasos intermedios y el error\n",
    "    xs = [xi]\n",
    "    ys = [yi]\n",
    "    error_lista = []\n",
    "\n",
    "    # Error inicial (mayor que la tolerancia)\n",
    "    error = 10\n",
    "    \n",
    "    k = 0\n",
    "    print('{:^2} {:^10} {:^12} {:^12}'.format(' i ', 'Error', 'x0', 'x1'))\n",
    "\n",
    "    while error > tol and k < kmax:\n",
    "        for i in range(0,N): \n",
    "            sigma = 0\n",
    "            for j in range(0,i):\n",
    "                sigma += A[i,j] * xnew[j]\n",
    "            for j in range(i+1,N):\n",
    "                sigma += A[i,j] * xold[j]                \n",
    "            sigma = (b[i] - sigma) / A[i,i]\n",
    "            xnew[i] = xold[i] + w * (sigma -xold[i])\n",
    "\n",
    "        # Calculamos el error con respecto a la iter anterior\n",
    "        error = np.linalg.norm(xnew - xold)\n",
    "        \n",
    "        # Almacenamos los pasos y el error en las listas\n",
    "        xs.append(xnew[0])\n",
    "        ys.append(xnew[1])        \n",
    "        error_lista.append(error)\n",
    "\n",
    "        # Incrementamos k y actualizamos xold\n",
    "        k += 1\n",
    "        xold[:] = xnew[:]\n",
    "        \n",
    "        print('{:2d} {:10.9f} ({:10.9f}, {:10.9f})'.format(k, error, xnew[0], xnew[1]))\n",
    "    return xnew, xs, ys, error_lista, k"
   ]
  },
  {
   "cell_type": "markdown",
   "metadata": {},
   "source": [
    "<div class=\"alert alert-success\">\n",
    "\n",
    "## Ejercicio 3.\n",
    "\n",
    "Haciendo uso de la función `sor()` definida en la celda anterior, aproxima la solución del sistema de ecuaciones del Ejercicio 1. Utiliza la solución inicial `(xi, yi) =` $(-2, 2)$, una tolerancia `tol` = $1 \\times 10^{-5}$ y `kmax` = $50$ iteraciones. \n",
    "Elije el valor de $\\omega = 1.09$. Utiliza las variables `solSOR`, `xs`, `ys`, `eSOR` e `itSOR` para almacenar la salida de la función `gauss_seidel()`. Posteriormente grafica las rectas y cómo se va calculando la solución con este método (puedes usar el mismo código que en el caso de Jacobi). Grafica también los errores para los tres métodos (Jacobi, Gauss-Seidel y SOR).\n",
    "    \n",
    "<img src='error_JGSSOR.png' width=450px height=auto>\n",
    "\n",
    "</div>"
   ]
  },
  {
   "cell_type": "markdown",
   "metadata": {},
   "source": [
    "Cálculo de la solución con SOR"
   ]
  },
  {
   "cell_type": "code",
   "execution_count": 27,
   "metadata": {
    "nbgrader": {
     "grade": false,
     "grade_id": "cell-b6b28a69f555324f",
     "locked": false,
     "schema_version": 3,
     "solution": true,
     "task": false
    },
    "tags": []
   },
   "outputs": [
    {
     "name": "stdout",
     "output_type": "stream",
     "text": [
      " i    Error         x0           x1     \n",
      " 1 3.729533241 (-0.546666667, -1.434711111)\n",
      " 2 2.428242649 (1.818423407, -1.984903171)\n",
      " 3 0.187852139 (2.005371531, -2.003310371)\n",
      " 4 0.004512909 (2.001922098, -2.000400429)\n",
      " 5 0.001846545 (2.000117990, -2.000006831)\n",
      " 6 0.000124009 (1.999994345, -1.999997330)\n",
      " 7 0.000004854 (1.999998569, -1.999999720)\n",
      "El directorio :/home/jovyan/Temporal/macti/notebooks/.ans/Algebra_Lineal_02/ ya existe\n",
      "Respuestas y retroalimentación almacenadas.\n"
     ]
    }
   ],
   "source": [
    "# Solución inicial\n",
    "# xi, yi = \n",
    "# tol = \n",
    "# kmax = \n",
    "\n",
    "# Método de SOR, probar con w = 1.09, 1.8, 1.99, 2.0\n",
    "# w = ...\n",
    "# ...\n",
    "\n",
    "### BEGIN SOLUTION\n",
    "# Solución inicial\n",
    "xi, yi = -2, 2\n",
    "tol = 1e-5\n",
    "kmax = 50\n",
    "\n",
    "# Método de SOR, probar con w = 1.09, 1.8, 1.99, 2.0\n",
    "w = 1.09\n",
    "solSOR, xs, ys, eSOR, itSOR = sor(A, b, tol, kmax, w, xi, yi)\n",
    "\n",
    "file_answer.write('7', solSOR, 'solSOR es incorrecta: revisa la llamada y ejecución de la función sor() así como sus parámetros de entrada.')\n",
    "file_answer.write('8', eSOR[-1], 'eSOR[-1] es incorrecto: revisa la llamada y ejecución de la función sor() así como sus parámetros de entrada.')\n",
    "file_answer.write('9', itSOR, 'itSOR es incorrector: revisa la llamada y ejecución de la función sor() así como sus parámetros de entrada.')\n",
    "file_answer.to_file('al02_02')\n",
    "### END SOLUTION"
   ]
  },
  {
   "cell_type": "code",
   "execution_count": 28,
   "metadata": {
    "nbgrader": {
     "grade": true,
     "grade_id": "cell-3dcd7677d74b3a4d",
     "locked": true,
     "points": 1,
     "schema_version": 3,
     "solution": false,
     "task": false
    },
    "tags": []
   },
   "outputs": [
    {
     "name": "stdout",
     "output_type": "stream",
     "text": [
      "\u001b[39m――――――――――――――――――――――――――――――――――――――――\n",
      "\u001b[32m7 | Tu resultado es correcto.\n",
      "\u001b[39m――――――――――――――――――――――――――――――――――――――――\n",
      "\u001b[39m――――――――――――――――――――――――――――――――――――――――\n",
      "\u001b[32m8 | Tu resultado es correcto.\n",
      "\u001b[39m――――――――――――――――――――――――――――――――――――――――\n",
      "\u001b[39m――――――――――――――――――――――――――――――――――――――――\n",
      "\u001b[32m9 | Tu resultado es correcto.\n",
      "\u001b[39m――――――――――――――――――――――――――――――――――――――――\n"
     ]
    }
   ],
   "source": [
    "quiz.eval_numeric('7', solSOR)\n",
    "quiz.eval_numeric('8', eSOR[-1])\n",
    "quiz.eval_numeric('9', itSOR)"
   ]
  },
  {
   "cell_type": "markdown",
   "metadata": {},
   "source": [
    "Gráfica de las rectas, la solución y los pasos realizados"
   ]
  },
  {
   "cell_type": "code",
   "execution_count": 29,
   "metadata": {
    "tags": []
   },
   "outputs": [
    {
     "data": {
      "image/png": "[encoded data removed]",
      "text/plain": [
       "<Figure size 512x384 with 1 Axes>"
      ]
     },
     "metadata": {},
     "output_type": "display_data"
    }
   ],
   "source": [
    "# Puedes usar el mismo código que en el caso anterior.\n",
    "\n",
    "### BEGIN SOLUTION\n",
    "v = mvis.Plotter(1,1,[dict(aspect='equal')],title='Cruce de rectas') \n",
    "v.set_coordsys(1)\n",
    "v.plot(1, x, y1, lw = 3, c = 'seagreen', label = '$3x+2y=2$') # Línea recta 1\n",
    "v.plot(1, x, y2, lw = 3, c = 'mediumorchid', label = '$2x+6y=-8$') # Línea recta 2\n",
    "v.scatter(1, sol[0], sol[1], fc='sandybrown', ec='k', s = 75, alpha=0.75, zorder=5, label='Sol. final') # Solución\n",
    "\n",
    "# Graficamos los pasos\n",
    "v.scatter(1, xs[0], ys[0], fc='yellow', ec='k', s = 75, alpha=0.75, zorder=8, label='Sol. inicial')\n",
    "v.scatter(1, xs[1:], ys[1:], c='navy', s = 10, alpha=0.5, zorder=8)\n",
    "v.plot(1, xs, ys, c='grey', ls = '--', lw=1.0, zorder=8, label='Pasos del SOR')\n",
    "        \n",
    "v.legend(ncol = 1, frameon=True, loc='best', bbox_to_anchor=(1.78, 1.01))\n",
    "v.grid()\n",
    "v.show()\n",
    "### END SOLUTION"
   ]
  },
  {
   "cell_type": "code",
   "execution_count": 30,
   "metadata": {
    "tags": []
   },
   "outputs": [
    {
     "data": {
      "image/png": "[encoded data removed]",
      "text/plain": [
       "<Figure size 512x384 with 1 Axes>"
      ]
     },
     "metadata": {},
     "output_type": "display_data"
    }
   ],
   "source": [
    "# Utiliza el código del caso anterior adaptado para que pueda graficar los tres errores.\n",
    "\n",
    "### BEGIN SOLUTION\n",
    "# Lista con el número de las iteraciones máxima\n",
    "it_max = max(itJ, itG, itSOR)\n",
    "l_it_max = list(range(0,it_max)) \n",
    "\n",
    "# Listas con el número de las iteraciones para cada algoritmo\n",
    "l_itJ = list(range(0,itJ)) \n",
    "l_itG = list(range(0,itG)) \n",
    "l_itSOR = list(range(0,itSOR)) \n",
    "\n",
    "# Parámetros para los ejes\n",
    "a_p = dict(yscale='log', xlabel='Iteraciones', xticks = l_it_max)\n",
    "\n",
    "# Gráficas del error\n",
    "v = mvis.Plotter(1,1,[a_p]) \n",
    "v.axes(1).set_title('Error', loc='left')\n",
    "v.plot(1, l_itJ, eJ, marker='.', label='Jacobi')\n",
    "v.plot(1, l_itG, eG, marker='.', label='Gauss-Seidel')\n",
    "v.plot(1, l_itSOR, eSOR, marker='.', label='SOR')\n",
    "v.legend()\n",
    "v.grid()\n",
    "### END SOLUTION"
   ]
  },
  {
   "cell_type": "markdown",
   "metadata": {},
   "source": [
    "<div class=\"alert alert-success\">\n",
    "\n",
    "## Ejercicio 4.\n",
    "\n",
    "Almacena los errores de los tres métodos en los archivos: `errorJacobi.npy`, `errorGaussSeidel.npy` y `errorSOR.npy` usando la función `np.save()`, checa la documentación [aquí](https://numpy.org/doc/stable/reference/generated/numpy.save.html).\n",
    "</div>\n",
    "\n",
    "<div class=\"alert alert-info\">\n",
    "\n",
    "<font color=\"Black\">\n",
    "\n",
    "Prueba que tu código funciona usando:\n",
    "```\n",
    "print('Error Jacobi = \\n{}\\n'.format(np.load('errorJacobi.npy')))\n",
    "print('Error Gauss-Seidel = \\n{}\\n'.format(np.load('errorGaussSeidel.npy')))\n",
    "print('Error SOR = \\n{}\\n'.format(np.load('errorSOR.npy')))\n",
    "\n",
    "```\n",
    "\n",
    "<br>La salida debería ser:\n",
    "    \n",
    "```\n",
    "Error Jacobi = \n",
    "[2.98142397e+00 1.83249139e+00 6.62538660e-01 4.07220309e-01\n",
    " 1.47230813e-01 9.04934019e-02 3.27179585e-02 2.01096449e-02\n",
    " 7.27065745e-03 4.46880997e-03 1.61570166e-03 9.93068883e-04\n",
    " 3.59044812e-04 2.20681974e-04 7.97877361e-05 4.90404387e-05\n",
    " 1.77306080e-05 1.08978753e-05 3.94013511e-06]\n",
    "\n",
    "Error Gauss-Seidel = \n",
    "[3.38478805e+00 2.18626604e+00 4.85836897e-01 1.07963755e-01\n",
    " 2.39919455e-02 5.33154345e-03 1.18478743e-03 2.63286096e-04\n",
    " 5.85080214e-05 1.30017825e-05 2.88928501e-06]\n",
    "\n",
    "Error SOR = \n",
    "[3.72953324e+00 2.42824265e+00 1.87852139e-01 4.51290908e-03\n",
    " 1.84654490e-03 1.24009281e-04 4.85354367e-06]\n",
    "```\n",
    "</font>\n",
    "\n",
    "</div>"
   ]
  },
  {
   "cell_type": "code",
   "execution_count": 31,
   "metadata": {
    "tags": []
   },
   "outputs": [],
   "source": [
    "# np.save( ... )\n",
    "#\n",
    "\n",
    "### BEGIN SOLUTION\n",
    "np.save('errorJacobi.npy',eJ)\n",
    "np.save('errorGaussSeidel.npy', eG)\n",
    "np.save('errorSOR.npy', eSOR)\n",
    "### END SOLUTION"
   ]
  },
  {
   "cell_type": "code",
   "execution_count": 32,
   "metadata": {},
   "outputs": [
    {
     "name": "stdout",
     "output_type": "stream",
     "text": [
      "Error Jacobi = \n",
      "[2.98142397e+00 1.83249139e+00 6.62538660e-01 4.07220309e-01\n",
      " 1.47230813e-01 9.04934019e-02 3.27179585e-02 2.01096449e-02\n",
      " 7.27065745e-03 4.46880997e-03 1.61570166e-03 9.93068883e-04\n",
      " 3.59044812e-04 2.20681974e-04 7.97877361e-05 4.90404387e-05\n",
      " 1.77306080e-05 1.08978753e-05 3.94013511e-06]\n",
      "\n",
      "Error Gauss-Seidel = \n",
      "[3.38478805e+00 2.18626604e+00 4.85836897e-01 1.07963755e-01\n",
      " 2.39919455e-02 5.33154345e-03 1.18478743e-03 2.63286096e-04\n",
      " 5.85080214e-05 1.30017825e-05 2.88928501e-06]\n",
      "\n",
      "Error SOR = \n",
      "[3.72953324e+00 2.42824265e+00 1.87852139e-01 4.51290908e-03\n",
      " 1.84654490e-03 1.24009281e-04 4.85354367e-06]\n",
      "\n"
     ]
    }
   ],
   "source": [
    "print('Error Jacobi = \\n{}\\n'.format(np.load('errorJacobi.npy')))\n",
    "print('Error Gauss-Seidel = \\n{}\\n'.format(np.load('errorGaussSeidel.npy')))\n",
    "print('Error SOR = \\n{}\\n'.format(np.load('errorSOR.npy')))"
   ]
  },
  {
   "cell_type": "code",
   "execution_count": null,
   "metadata": {},
   "outputs": [],
   "source": []
  }
 ],
 "metadata": {
  "kernelspec": {
   "display_name": "Python 3 (ipykernel)",
   "language": "python",
   "name": "python3"
  },
  "language_info": {
   "codemirror_mode": {
    "name": "ipython",
    "version": 3
   },
   "file_extension": ".py",
   "mimetype": "text/x-python",
   "name": "python",
   "nbconvert_exporter": "python",
   "pygments_lexer": "ipython3",
   "version": "3.11.6"
  }
 },
 "nbformat": 4,
 "nbformat_minor": 4
}
