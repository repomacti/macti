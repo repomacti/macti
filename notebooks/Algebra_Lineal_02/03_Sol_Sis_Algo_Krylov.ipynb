{
 "cells": [
  {
   "cell_type": "markdown",
   "metadata": {},
   "source": [
    "# Descenso del gradiente y Gradiente Conjugado.\n",
    "\n",
    "**Objetivo.** Describir e implementar los métodos de descenso del gradiente y de gradiente conjugado para la solución de sistemas de ecuaciones lineales.\n",
    "\n",
    "<p xmlns:cc=\"http://creativecommons.org/ns#\" xmlns:dct=\"http://purl.org/dc/terms/\"><a property=\"dct:title\" rel=\"cc:attributionURL\" href=\"https://github.com/repomacti/macti/tree/main/notebooks/Algebra_Lineal_02\">MACTI-Algebra_Lineal_02</a> by <a rel=\"cc:attributionURL dct:creator\" property=\"cc:attributionName\" href=\"https://www.macti.unam.mx\">Luis M. de la Cruz</a> is licensed under <a href=\"http://creativecommons.org/licenses/by-sa/4.0/?ref=chooser-v1\" target=\"_blank\" rel=\"license noopener noreferrer\" style=\"display:inline-block;\">Attribution-ShareAlike 4.0 International<img style=\"height:22px!important;margin-left:3px;vertical-align:text-bottom;\" src=\"https://mirrors.creativecommons.org/presskit/icons/cc.svg?ref=chooser-v1\"><img style=\"height:22px!important;margin-left:3px;vertical-align:text-bottom;\" src=\"https://mirrors.creativecommons.org/presskit/icons/by.svg?ref=chooser-v1\"><img style=\"height:22px!important;margin-left:3px;vertical-align:text-bottom;\" src=\"https://mirrors.creativecommons.org/presskit/icons/sa.svg?ref=chooser-v1\"></a></p> \n",
    "\n",
    "**Trabajo realizado con el apoyo del Programa UNAM-DGAPA-PAPIME, proyectos PE101019 y PE101922.**"
   ]
  },
  {
   "cell_type": "code",
   "execution_count": null,
   "metadata": {
    "tags": []
   },
   "outputs": [],
   "source": [
    "import numpy as np\n",
    "import ipywidgets as widgets\n",
    "import macti.visual as mvis\n",
    "import macti.matem as mmat\n",
    "from macti.evaluation import *\n",
    "quizz = Quizz('al02_03', 'notebooks', 'local')"
   ]
  },
  {
   "cell_type": "markdown",
   "metadata": {},
   "source": [
    "La siguiente función será usada para graficar algunos resultados."
   ]
  },
  {
   "cell_type": "code",
   "execution_count": null,
   "metadata": {
    "tags": []
   },
   "outputs": [],
   "source": [
    "def grafica(x, y1, y2, sol = [], xs = [], ys = [], vA = [], xg = [], yg = [], z = []):\n",
    "    \"\"\"\n",
    "    Esta función grafica las líneas rectas, la solución, los pasos y los eigenvectores.\n",
    "    \"\"\"\n",
    "    v = mvis.Plotter(1,1,[dict(aspect='equal')],title='Cruce de rectas') \n",
    "    v.set_coordsys(1)\n",
    "    \n",
    "    # Graficamos las líneas rectas\n",
    "    v.plot(1, x, y1, lw = 3, c = 'seagreen', label = '$3x+2y=2$') # Línea recta 1\n",
    "    v.plot(1, x, y2, lw = 3, c = 'mediumorchid', label = '$2x+6y=-8$') # Línea recta 2\n",
    "\n",
    "    if len(sol):\n",
    "        # Graficamos la solución\n",
    "        v.scatter(1, sol[0], sol[1], fc='sandybrown', ec='k', s = 75, alpha=0.75, zorder=5, label='Solución final         .') # Solución\n",
    "\n",
    "    if len(xs) and len(ys):\n",
    "        # Graficamos los pasos\n",
    "        v.scatter(1, xs[0], ys[0], fc='yellow', ec='k', s = 75, alpha=0.75, zorder=8, label='Solución inicial')\n",
    "        v.scatter(1, xs[1:], ys[1:], c='navy', s = 10, alpha=0.5, zorder=8)\n",
    "        v.plot(1, xs, ys, c='grey', ls = '--', lw=1.0, zorder=8, label='Pasos del método')\n",
    "\n",
    "    if len(vA):\n",
    "        # Graficamos los eigenvectores\n",
    "        v.quiver(1, [sol[0], sol[0]], [sol[1], sol[1]], vA[0], vA[1], scale=10, zorder=9)\n",
    "\n",
    "    if len(xg) and len(yg) and len(z):\n",
    "        v.contour(1, xg, yg, z, levels = 25, cmap='twilight', linewidths=1.0, zorder=1)        \n",
    "        \n",
    "    v.legend(ncol = 1, frameon=True, loc='best', bbox_to_anchor=(1.90, 1.02))\n",
    "    v.grid()\n",
    "    v.show()"
   ]
  },
  {
   "cell_type": "markdown",
   "metadata": {},
   "source": [
    "<div class=\"alert alert-info\">\n",
    "\n",
    "## Ejemplo 1. Cruce de líneas rectas.\n",
    "\n",
    "Las siguientes dos rectas se cruzan en algún punto.\n",
    "\n",
    "$$\n",
    "\\begin{array}{ccc}\n",
    "3x + 2y & = &2 \\\\\n",
    "2x + 6y & = &-8\n",
    "\\end{array}\n",
    "$$\n",
    "\n",
    "Las ecuaciones de las rectas se pueden escribir como:\n",
    "\n",
    "$$\n",
    "\\begin{array}{ccc}\n",
    "\\dfrac{3}{2}x + y & = & 1 \\\\\n",
    "\\dfrac{2}{6}x + y & = & -\\dfrac{8}{6}\n",
    "\\end{array} \\Longrightarrow\n",
    "\\begin{array}{ccc}\n",
    "y = m_1 x + b_1 \\\\\n",
    "y = m_2 x + b_2\n",
    "\\end{array} \\text{ donde }\n",
    "\\begin{array}{ccc}\n",
    "m_1 = -\\dfrac{3}{2} & b_1 = 1 \\\\\n",
    "m_2 = -\\dfrac{2}{6} & b_2 = -\\dfrac{8}{6}\n",
    "\\end{array}\n",
    "$$\n",
    "\n",
    "Las ecuaciones de las rectas se pueden escribir en forma de un sistema lineal:\n",
    "\n",
    "$$\n",
    "\\left[\n",
    "\\begin{array}{cc}\n",
    "3 & 2 \\\\\n",
    "2 & 6\n",
    "\\end{array} \\right]\n",
    "\\left[\n",
    "\\begin{array}{c}\n",
    "x_{0} \\\\\n",
    "x_{1}\n",
    "\\end{array} \\right] =\n",
    "\\left[\n",
    "\\begin{array}{c}\n",
    "2 \\\\ \n",
    "-8\n",
    "\\end{array} \\right]\n",
    "\\tag{1}\n",
    "$$\n",
    "\n",
    "</div>\n",
    "\n",
    "Podemos calcular el cruce de las rectas resolviendo el sistema lineal:"
   ]
  },
  {
   "cell_type": "code",
   "execution_count": null,
   "metadata": {
    "nbgrader": {
     "grade": false,
     "grade_id": "cell-d0239a6a16514f5f",
     "locked": false,
     "schema_version": 3,
     "solution": true,
     "task": false
    },
    "tags": []
   },
   "outputs": [],
   "source": [
    "# Dominio\n",
    "x = np.linspace(-3,6,10)\n",
    "\n",
    "# Línea recta 1\n",
    "m1 = -3/2\n",
    "b1 = 1\n",
    "y1 = m1 * x + b1\n",
    "\n",
    "# Línea recta 2\n",
    "m2 = -2/6\n",
    "b2 = -8/6\n",
    "y2 = m2 * x + b2 \n",
    "\n",
    "# Definimos el sistema de ecuaciones lineales\n",
    "A = np.array([[3, 2],[2,6]] )\n",
    "b = np.array([2,-8])\n",
    "print(\"Matriz A : \\n{}\".format(A))\n",
    "print(\"Vector b : \\n{}\".format(b))\n",
    "\n",
    "# Resolvemos el sistema\n",
    "sol = np.linalg.solve(A,b)\n",
    "print(\"Solución del sistema: \\n{}\".format(sol))\n",
    "\n",
    "# Usamos la función grafica() para mostrar las rectas y la solución\n",
    "grafica(x, y1, y2, sol)"
   ]
  },
  {
   "cell_type": "markdown",
   "metadata": {},
   "source": [
    "En general, un sistema de ecuaciones de $n \\times n$ se escribe como sigue:\n",
    "\n",
    "$$\n",
    "\\begin{array}{ccccccc}\n",
    "a_{11}x_1 & + & a_{12}x_2 & +  \\dots  + & a_{1n}x_n & = & b_1 \\\\\n",
    "a_{21}x_1 & + & a_{22}x_2 & +  \\dots + & a_{2n}x_n & = & b_2 \\\\\n",
    "\\vdots & & \\vdots &  & \\vdots & & \\vdots \\\\\n",
    "a_{i1}x_1 & + & a_{i2}x_2 & +  \\dots + & a_{in}x_n & = & b_i \\\\\n",
    "\\vdots & & \\vdots &  & \\vdots & & \\vdots \\\\\n",
    "a_{n1}x_1 & + & a_{n2}x_2 & + \\dots + & a_{nn}x_n & = & b_n\n",
    "\\end{array}\n",
    "$$\n",
    "\n",
    "Es posible usar métodos más eficientes que el de Jacobi, Gauss-Seidel y SOR para resolver este tipo de sistemas. \n",
    "A continuación veremos los métodos del descenso del gradiente y método de gradiente conjugado."
   ]
  },
  {
   "cell_type": "markdown",
   "metadata": {},
   "source": [
    "# Métodos del subespacio de Krylov\n",
    "Una excelente referencia para comenzar con estos métodos es la siguiente:\n",
    "\n",
    "Shewchuk, J. R. (1994). [An Introduction to the Conjugate Gradient Method Without the Agonizing Pain](https://www.cs.cmu.edu/~quake-papers/painless-conjugate-gradient.pdf). Carnegie-Mellon University. Department of Computer Science."
   ]
  },
  {
   "cell_type": "markdown",
   "metadata": {},
   "source": [
    "## Cálculo de eigenvectores\n",
    "Los eigenvalores y eigenvectores de una matriz son herramientas muy útiles para entender ciertos comportamientos. Una descripción la puedes ver en la notebook [05_Matrices_Normas_Eigen.ipynb](05_Matrices_Normas_Eigen.ipynb). Los eigenvalores y eigenvectores se pueden calcular como sigue:"
   ]
  },
  {
   "cell_type": "code",
   "execution_count": null,
   "metadata": {
    "tags": []
   },
   "outputs": [],
   "source": [
    "# Usando la función np.linalg.eig()\n",
    "np.linalg.eig(A)  # w: eigenvalues, v: eigenvectors"
   ]
  },
  {
   "cell_type": "markdown",
   "metadata": {},
   "source": [
    "La función `eigen_land()` de la biblioteca `macti` utiliza la función `np.linalg.eig()` para ofrecer una salida más entendible:"
   ]
  },
  {
   "cell_type": "code",
   "execution_count": null,
   "metadata": {
    "tags": []
   },
   "outputs": [],
   "source": [
    "# Usando la función eigen_land() de macti\n",
    "wA, vA = mmat.eigen_land(A)"
   ]
  },
  {
   "cell_type": "markdown",
   "metadata": {},
   "source": [
    "Los eigenvectores se pueden visualizar, cuando la matriz es de $2\\times2$:"
   ]
  },
  {
   "cell_type": "code",
   "execution_count": null,
   "metadata": {
    "tags": []
   },
   "outputs": [],
   "source": [
    "# Graficamos los eigenvectores\n",
    "xv = np.array([[sol[0], sol[0]],\n",
    "               [sol[1], sol[1]]])\n",
    "\n",
    "v = mvis.Plotter() \n",
    "v.quiver(1, xv[0], xv[1], vA[0], vA[1], scale=10, zorder=6)\n",
    "v.grid()\n",
    "v.show()"
   ]
  },
  {
   "cell_type": "markdown",
   "metadata": {},
   "source": [
    "Ahora usamos la función `grafica()` definida al principio de esta notebook para ver los eigenvectores y las líneas rectas:"
   ]
  },
  {
   "cell_type": "code",
   "execution_count": null,
   "metadata": {
    "tags": []
   },
   "outputs": [],
   "source": [
    "# Usamos la función grafica() para ver los eigenvectores\n",
    "grafica(x,y1,y2,sol,vA=vA)"
   ]
  },
  {
   "cell_type": "markdown",
   "metadata": {},
   "source": [
    "## Forma cuadrática\n",
    "La forma cuadrática de un sistema de ecuaciones lineales, permite transformar el problema $A \\mathbf{x} = \\mathbf{b}$ en un probema de minimización.\n",
    "\n",
    "$$ f(\\mathbf{x}) = \\dfrac{1}{2} \\mathbf{x}^T A \\mathbf{x} - \\mathbf{x}^T \\mathbf{b} + \\mathbf{c} $$\n",
    "\n",
    "$$\n",
    "A =\n",
    "\\left[\n",
    "\\begin{array}{cc}\n",
    "3 & 2 \\\\\n",
    "2 & 6\n",
    "\\end{array} \\right],\n",
    "\\mathbf{x} =\n",
    "\\left[\n",
    "\\begin{array}{c}\n",
    "x_{0} \\\\\n",
    "x_{1}\n",
    "\\end{array} \\right],\n",
    "\\mathbf{b} =\n",
    "\\left[\n",
    "\\begin{array}{c}\n",
    "2\\\\ -8\n",
    "\\end{array}\n",
    "\\right], \n",
    "\\mathbf{c} =\n",
    "\\left[\n",
    "\\begin{array}{c}\n",
    "0\\\\ 0\n",
    "\\end{array}\n",
    "\\right], \n",
    "$$\n",
    "\n",
    "$$ f^\\prime(\\mathbf{x}) = \\dfrac{1}{2} A^T \\mathbf{x} + \\dfrac{1}{2} A \\mathbf{x} - \\mathbf{b} $$\n",
    "\n",
    "- Cuando $A$ es simétrica: $ f^\\prime(\\mathbf{x}) = A \\mathbf{x} - \\mathbf{b} $\n",
    "- Entonces un punto crítico de $f(\\mathbf{x})$ se obtiene cuando $ f^\\prime(\\mathbf{x}) = A \\mathbf{x} - \\mathbf{b} = 0$, es decir cuando $A \\mathbf{x} = \\mathbf{b}$\n",
    "\n",
    "Calculemos la forma cuadrática para nuestro ejemplo:"
   ]
  },
  {
   "cell_type": "code",
   "execution_count": null,
   "metadata": {},
   "outputs": [],
   "source": [
    "# Tamaño de la malla para graficar\n",
    "size_grid = 30\n",
    "xp = np.linspace(-3,6,size_grid)\n",
    "yp = np.linspace(-8,6,size_grid)\n",
    "\n",
    "xg, yg = np.meshgrid(xp, yp)"
   ]
  },
  {
   "cell_type": "code",
   "execution_count": null,
   "metadata": {},
   "outputs": [],
   "source": [
    "# Graficamos los puntos de la malla\n",
    "vis = mvis.Plotter()\n",
    "vis.scatter(1, xg, yg, s = 5, c = 'dimgray')\n",
    "vis.show()"
   ]
  },
  {
   "cell_type": "markdown",
   "metadata": {},
   "source": [
    "$$ f(\\mathbf{x}) = \\dfrac{1}{2} \\mathbf{x}^T A \\mathbf{x} - \\mathbf{x}^T \\mathbf{b} + \\mathbf{c} $$"
   ]
  },
  {
   "cell_type": "code",
   "execution_count": null,
   "metadata": {},
   "outputs": [],
   "source": [
    "# Función cuadrática\n",
    "f = lambda A,b,c,x: 0.5 * x @ A @ x.T - x @ b.T + c"
   ]
  },
  {
   "cell_type": "code",
   "execution_count": null,
   "metadata": {
    "tags": []
   },
   "outputs": [],
   "source": [
    "# Arreglo para almacenar los valores de la función cuadrática\n",
    "z = np.zeros((size_grid, size_grid))\n",
    "\n",
    "# Cálculo de la función cuadrática\n",
    "for i in range(size_grid):\n",
    "    for j in range(size_grid):\n",
    "        xc = np.array([xg[i,j], yg[i,j]])\n",
    "        z[i,j] = f(A,b,0,xc)"
   ]
  },
  {
   "cell_type": "markdown",
   "metadata": {
    "editable": false,
    "nbgrader": {
     "cell_type": "markdown",
     "checksum": "119a1c7a3314df90d9bf6b9b04e61b81",
     "grade": false,
     "grade_id": "cell-5b1d857c8829e904",
     "locked": true,
     "schema_version": 3,
     "solution": false,
     "task": false
    }
   },
   "source": [
    "Graficamos la forma cuadrática, almacenada en `z`, y la solución. Esta última debe estar en el mínimo de $f(\\mathbf{x})$."
   ]
  },
  {
   "cell_type": "code",
   "execution_count": null,
   "metadata": {},
   "outputs": [],
   "source": [
    "axis_par = [dict(projection='3d', aspect='auto', xlabel = '$x$', ylabel = '$y$', zlabel = '$f$')]\n",
    "v = mvis.Plotter(1,1, axis_par, dict(figsize=(8,6)))\n",
    "v.plot_surface(1, xg, yg, z, cmap='twilight', alpha=0.90) # f(x)\n",
    "v.scatter(1, sol[0], sol[1], fc='sandybrown', ec='k', s = 75, zorder=5, label='Solución')\n",
    "v.axes(1).view_init(elev = 15, azim = -15)"
   ]
  },
  {
   "cell_type": "markdown",
   "metadata": {},
   "source": [
    "Observamos un paraboloide cuyo mínimo es la solución del sistema. Esto es más claro si graficamos los contornos de $f(\\mathbf{x})$:"
   ]
  },
  {
   "cell_type": "code",
   "execution_count": null,
   "metadata": {
    "tags": []
   },
   "outputs": [],
   "source": [
    "grafica(x, y1, y2, sol, vA = vA, xg = xg, yg = yg, z = z)"
   ]
  },
  {
   "cell_type": "markdown",
   "metadata": {},
   "source": [
    "## Algoritmo de descenso por el gradiente.\n",
    "Este algoritmo utiliza la dirección del gradiente, en sentido negativo, para encontrar el mínimo y la solución del sistema:\n",
    "\n",
    "$\n",
    "\\begin{array}{l}\n",
    "\\text{Input} : \\mathbf{x}_0, tol \\\\\n",
    "\\mathbf{r}_0 = \\mathbf{b}-A\\mathbf{x}_0 \\\\\n",
    "k = 0 \\\\\n",
    "\\text{WHILE}(\\mathbf{r}_k > tol) \\\\\n",
    "\\qquad \\mathbf{r}_k \\leftarrow \\mathbf{b}-A\\mathbf{x}_k \\\\\n",
    "\\qquad \\alpha_k \\leftarrow \\dfrac{\\mathbf{r}_k^T\\mathbf{r}_k}{\\mathbf{r}_k^T A \\mathbf{r}_k} \\\\\n",
    "\\qquad \\mathbf{x}_{k+1} \\leftarrow \\mathbf{x}_k + \\alpha_k \\mathbf{r}_k \\\\\n",
    "\\qquad k \\leftarrow k + 1 \\\\\n",
    "\\text{ENDWHILE}\n",
    "\\end{array}\n",
    "$\n",
    "\n",
    "## Implementación."
   ]
  },
  {
   "cell_type": "code",
   "execution_count": null,
   "metadata": {
    "tags": []
   },
   "outputs": [],
   "source": [
    "def steepest(A,b,tol,kmax,xi,yi):\n",
    "    # Solución inicial en forma de vector\n",
    "    x = np.array([xi, yi]) \n",
    "    \n",
    "    # Arreglos para almacenar los pasos.\n",
    "    xs, ys = [xi], [yi]\n",
    "    \n",
    "    # Solución exacta\n",
    "    xe = np.array([2, -2]) \n",
    "\n",
    "    # Cálculo del residuo inicial\n",
    "    r = b.T - A @ x\n",
    "    res = np.linalg.norm(r, 2)\n",
    "\n",
    "    # Lista de residuos y error\n",
    "    # Se almacenan el residuo y error iniciales\n",
    "    res_list = [res]\n",
    "    error_list = [np.linalg.norm(xi - xe, 2)]\n",
    "    \n",
    "    k = 0\n",
    "    print('{:^2} {:^10} {:^10} {:^12} {:^12}'.format(' i ', 'Error', 'Residuo', 'x0', 'x1'))\n",
    "    while res > tol and k < kmax:\n",
    "        alpha = r.T @ r / (r.T @ A @ r)\n",
    "        x = x + r * alpha\n",
    "        xs.append(x[0])\n",
    "        ys.append(x[1])\n",
    "        r = b.T - A @ x\n",
    "        \n",
    "        # Residuo\n",
    "        res = np.linalg.norm(r, 2)\n",
    "        res_list.append(res)\n",
    "        \n",
    "        # Error\n",
    "        error = np.linalg.norm(x - xe, 2)\n",
    "        error_list.append(error)\n",
    "        \n",
    "        k += 1\n",
    "        print('{:2d} {:10.9f} {:10.9f} ({:10.9f}, {:10.9f})'.format(k, error, res, x[0], x[1]))\n",
    "    return x, xs, ys, error_list, res_list, k "
   ]
  },
  {
   "cell_type": "markdown",
   "metadata": {},
   "source": [
    "<div class=\"alert alert-success\">\n",
    "\n",
    "## Ejercicio 1.\n",
    "\n",
    "Haciendo uso de la función `steepest()` definida en la celda anterior, aproxima la solución del sistema de ecuaciones del Ejemplo 1. Utiliza la solución inicial `(xi, yi) =` $(-2, 2)$, una tolerancia `tol` = $1 \\times 10^{-5}$ y `kmax` = $50$ iteraciones. \n",
    "Utiliza las variables `solGrad`, `xs`, `ys`, `eGrad`, `rGrad` e `itGrad` para almacenar la salida de la función `steepest()`.\n",
    "Posteriormente grafica las rectas y cómo se va calculando la solución con este método. Utiliza la función `grafica()`. Grafica también el error y el residuo. \n",
    "</div>"
   ]
  },
  {
   "cell_type": "code",
   "execution_count": null,
   "metadata": {
    "nbgrader": {
     "grade": false,
     "grade_id": "cell-bd4e9217b18d4b06",
     "locked": false,
     "schema_version": 3,
     "solution": true,
     "task": false
    },
    "tags": []
   },
   "outputs": [],
   "source": [
    "# Solución inicial (debe darse como un arreglo tipo columna)\n",
    "# (xi, yi) = ...\n",
    "\n",
    "# Método Steepest descend\n",
    "# ...\n",
    "\n",
    "### BEGIN SOLUTION\n",
    "# Solución inicial\n",
    "(xi, yi) = (-2., 2.)\n",
    "tol = 1e-5\n",
    "kmax = 50\n",
    "\n",
    "# Método Steepest descend\n",
    "solGrad, xs, ys, eGrad, rGrad, itGrad  = steepest(A, b, tol, kmax, xi, yi)\n",
    "\n",
    "#file_answer = FileAnswer()\n",
    "#file_answer.write('1', solGrad, 'solGrad es incorrecta: revisa la llamada y ejecución de la función steepest() así como sus parámetros de entrada.')\n",
    "#file_answer.write('2', eGrad[-1], 'eGrad[-1] es incorrecto: revisa la llamada y ejecución de la función steepest() así como sus parámetros de entrada.')\n",
    "#file_answer.write('3', rGrad[-1], 'rGrad[-1] es incorrecto: revisa la llamada y ejecución de la función steepest() así como sus parámetros de entrada.')\n",
    "#file_answer.write('4', itGrad, 'itGrad es incorrecto: revisa la llamada y ejecución de la función steepest() así como sus parámetros de entrada.')\n",
    "\n",
    "### END SOLUTION"
   ]
  },
  {
   "cell_type": "code",
   "execution_count": null,
   "metadata": {
    "nbgrader": {
     "grade": true,
     "grade_id": "cell-bae5df2acd53dde0",
     "locked": true,
     "points": 0,
     "schema_version": 3,
     "solution": false,
     "task": false
    },
    "tags": []
   },
   "outputs": [],
   "source": [
    "quizz.eval_numeric('1', solGrad)\n",
    "quizz.eval_numeric('2', eGrad[-1])\n",
    "quizz.eval_numeric('3', rGrad[-1])\n",
    "quizz.eval_numeric('4', itGrad)"
   ]
  },
  {
   "cell_type": "markdown",
   "metadata": {},
   "source": [
    "Gráfica de las rectas, la solución y los pasos realizados."
   ]
  },
  {
   "cell_type": "code",
   "execution_count": null,
   "metadata": {
    "tags": []
   },
   "outputs": [],
   "source": [
    "grafica(x, y1, y2, sol, xs, ys, xg = xg, yg = yg, z = z)"
   ]
  },
  {
   "cell_type": "markdown",
   "metadata": {},
   "source": [
    "Grafica del error y el residuo."
   ]
  },
  {
   "cell_type": "code",
   "execution_count": null,
   "metadata": {
    "tags": []
   },
   "outputs": [],
   "source": [
    "# Lista con el número de las iteraciones\n",
    "l_itGrad = list(range(0,itGrad+1)) \n",
    "\n",
    "# Parámetros para los ejes\n",
    "a_p = dict(yscale='log', xlabel='Iteraciones', xticks = l_itGrad)\n",
    "\n",
    "# Gráfica del error\n",
    "v = mvis.Plotter(2,1,axis_par = [a_p, a_p], fig_par=dict(figsize=(8,5))) \n",
    "v.axes(1).set_title('Error', loc='left')\n",
    "v.plot(1, l_itGrad, eGrad, marker='.', c='C0')\n",
    "v.axes(2).set_title('Residuo', loc='left')\n",
    "v.plot(2, l_itGrad, rGrad, marker='.', c='C1')\n",
    "#v.legend()\n",
    "v.grid()"
   ]
  },
  {
   "cell_type": "markdown",
   "metadata": {},
   "source": [
    "## Algoritmo de Gradiente Conjugado\n",
    "Este algorimo mejora al descenso del gradiente tomando direcciones conjugadas para evitar repetir un paso en una misma dirección.\n",
    "\n",
    "$\n",
    "\\begin{array}{l}\n",
    "\\text{Input} : A, \\mathbf{b}, \\mathbf{x}_0, k_{max}, tol \\\\\n",
    "\\mathbf{d_0} = \\mathbf{r}_0 = \\mathbf{b} - A \\mathbf{x}_0 \\\\ \n",
    "k = 0 \\\\\n",
    "\\text{While} (||\\mathbf{r}|| > tol \\quad \\text{AND} \\quad k < k_{max} ) \\\\\n",
    "\\qquad \\alpha_k = \\frac{\\mathbf{r}_k^T \\mathbf{r}_k}{\\mathbf{d}_k^T A \\mathbf{d}_k} \\\\\n",
    "\\qquad \\mathbf{x}_{k+1} = \\mathbf{x}_{k} + \\alpha_k \\mathbf{d}_{k} \\\\\n",
    "\\qquad \\mathbf{r}_{k+1} = \\mathbf{r}_{k} - \\alpha_k A \\mathbf{d}_{k} \\\\\n",
    "\\qquad \\beta_{k+1} = \\frac{\\mathbf{r}_{k+1}^T \\mathbf{r}_{k+1}}{\\mathbf{r}_{k}^T \\mathbf{r}_{k}}  \\\\\n",
    "\\qquad \\mathbf{d}_{k+1} = \\mathbf{r}_{k+1} + \\beta_{k+1} \\mathbf{d}_{k} \\\\\n",
    "\\qquad k = k + 1  \\\\\n",
    "\\text{End While}\n",
    "\\end{array}\n",
    "$\n",
    "\n",
    "### Implementación."
   ]
  },
  {
   "cell_type": "code",
   "execution_count": null,
   "metadata": {
    "tags": []
   },
   "outputs": [],
   "source": [
    "def conjugateGradient(A,b,tol,kmax,xi,yi):\n",
    "    # Solución inicial en forma de vector\n",
    "    x = np.array([xi, yi]) \n",
    "    \n",
    "    # Arreglos para almacenar los pasos.\n",
    "    xs, ys = [xi], [yi]\n",
    "    \n",
    "    # Solución exacta\n",
    "    xe = np.array([2, -2]) \n",
    "\n",
    "    # Cálculo del residuo inicial\n",
    "    r = b.T - A @ x\n",
    "    d = r\n",
    "    rk_norm = r.T @ r\n",
    "    res = np.linalg.norm(rk_norm)\n",
    "\n",
    "    # Lista de residuos y error\n",
    "    # Se almacenan el residuo y error iniciales\n",
    "    res_list = [res]\n",
    "    error_list = [np.linalg.norm(xi - xe, 2)]\n",
    "    \n",
    "    k = 0\n",
    "    print('{:^2} {:^10} {:^10} {:^12} {:^12}'.format(' i ', 'Error', 'Residuo', 'x0', 'x1'))\n",
    "\n",
    "    while(res > tol and k < kmax):\n",
    "        alpha = float(rk_norm) / float(d.T @ A @ d)\n",
    "        x = x + alpha * d\n",
    "        xs.append(x[0])\n",
    "        ys.append(x[1])\n",
    "        r = r - alpha * A @ d\n",
    "        \n",
    "        # Residuo\n",
    "        res = np.linalg.norm(r, 2)\n",
    "        res_list.append(res)\n",
    "\n",
    "        # Error\n",
    "        error = np.linalg.norm(x - xe, 2)\n",
    "        error_list.append(error)\n",
    "        \n",
    "        rk_old = rk_norm\n",
    "        rk_norm = r.T @ r\n",
    "        beta = float(rk_norm) / float(rk_old)\n",
    "        d = r + beta * d\n",
    "        \n",
    "        k += 1\n",
    "        print('{:2d} {:10.9f} {:10.9f} ({:10.9f}, {:10.9f})'.format(k, error, res, x[0], x[1]))\n",
    "    return x, xs, ys, error_list, res_list, k \n"
   ]
  },
  {
   "cell_type": "markdown",
   "metadata": {},
   "source": [
    "<div class=\"alert alert-success\">\n",
    "\n",
    "## Ejercicio 2.\n",
    "\n",
    "Haciendo uso de la función `conjugateGradient()` definida en la celda anterior, aproxima la solución del sistema de ecuaciones del Ejemplo 1. Utiliza la solución inicial `(xi, yi) =` $(-2, 2)$, una tolerancia `tol` = $1 \\times 10^{-5}$ y `kmax` = $50$ iteraciones. Utiliza las variables `solCGM`, `xs`, `ys`, `eCGM`, `rCGM` e `itCGM` para almacenar la salida de la función `conjugateGradient()`.\n",
    "Posteriormente grafica las rectas y cómo se va calculando la solución con este método. Utiliza la función `grafica()`. Grafica también el error y el residuo. \n",
    "</div>"
   ]
  },
  {
   "cell_type": "code",
   "execution_count": null,
   "metadata": {
    "nbgrader": {
     "grade": false,
     "grade_id": "cell-9899c71546a7d74b",
     "locked": false,
     "schema_version": 3,
     "solution": true,
     "task": false
    },
    "tags": []
   },
   "outputs": [],
   "source": [
    "# Solución inicial (debe darse como un arreglo tipo columna)\n",
    "# (xi, yi) = ...\n",
    "\n",
    "# Método CGM\n",
    "# ...\n",
    "\n",
    "### BEGIN SOLUTION\n",
    "# Solución inicial\n",
    "(xi, yi) = (-2., 2.)\n",
    "tol = 1e-5\n",
    "kmax = 50\n",
    "\n",
    "# Método CGM\n",
    "solCGM, xs, ys, eCGM, rCGM, itCGM = conjugateGradient(A, b, tol, kmax, xi, yi)\n",
    "\n",
    "#file_answer.write('5', solCGM, 'solCGM es incorrecta: revisa la llamada y ejecución de la función conjugateGradient() así como sus parámetros de entrada.')\n",
    "#file_answer.write('6', eCGM[-1], 'eCGM[-1] es incorrecto: revisa la llamada y ejecución de la función conjugateGradient() así como sus parámetros de entrada.')\n",
    "#file_answer.write('7', rCGM[-1], 'rCGM[-1] es incorrecto: revisa la llamada y ejecución de la función conjugateGradient() así como sus parámetros de entrada.')\n",
    "#file_answer.write('8', itCGM, 'itCGM es incorrecto: revisa la llamada y ejecución de la función conjugateGradient() así como sus parámetros de entrada.')\n",
    "#file_answer.to_file('al02_03')\n",
    "### END SOLUTION"
   ]
  },
  {
   "cell_type": "code",
   "execution_count": null,
   "metadata": {
    "nbgrader": {
     "grade": true,
     "grade_id": "cell-1baccd0337c1d761",
     "locked": true,
     "points": 1,
     "schema_version": 3,
     "solution": false,
     "task": false
    },
    "tags": []
   },
   "outputs": [],
   "source": [
    "quizz.eval_numeric('5', solCGM)\n",
    "quizz.eval_numeric('6', eCGM[-1])\n",
    "quizz.eval_numeric('7', rCGM[-1])\n",
    "quizz.eval_numeric('8', itCGM)"
   ]
  },
  {
   "cell_type": "code",
   "execution_count": null,
   "metadata": {
    "tags": []
   },
   "outputs": [],
   "source": [
    "grafica(x, y1, y2, sol, xs, ys, xg = xg, yg = yg, z = z)"
   ]
  },
  {
   "cell_type": "code",
   "execution_count": null,
   "metadata": {
    "tags": []
   },
   "outputs": [],
   "source": [
    "# Lista con el número de las iteraciones\n",
    "l_itGrad = list(range(0,itGrad+1)) \n",
    "l_itCGM = list(range(0,itCGM+1))\n",
    "\n",
    "# Parámetros para los ejes\n",
    "a_p = dict(yscale='log', xlabel='Iteraciones', xticks = l_itGrad)\n",
    "\n",
    "# Gráfica del error\n",
    "v = mvis.Plotter(2,1,axis_par = [a_p, a_p], fig_par=dict(figsize=(8,5))) \n",
    "v.axes(1).set_title('Error', loc='left')\n",
    "v.plot(1, l_itGrad, eGrad, marker='.', label='Error Steepest')\n",
    "v.plot(1, l_itCGM, eCGM, marker='.', label='Error CGM')\n",
    "\n",
    "v.axes(2).set_title('Residuo', loc='left')\n",
    "v.plot(2, l_itGrad, rGrad, marker='.', label='Residuo Steepest')\n",
    "v.plot(2, l_itCGM, rCGM, marker='.', label='Residuo CGM')\n",
    "\n",
    "v.legend()\n",
    "v.grid()"
   ]
  },
  {
   "cell_type": "markdown",
   "metadata": {},
   "source": [
    "<div class=\"alert alert-success\">\n",
    "\n",
    "## Ejercicio 3.\n",
    "\n",
    "Carga los archivos `errorJacobi.npy`, `errorGaussSeidel.npy` y `errorSOR.npy` en las variables `eJ`, `eG` y `eSOR` respectivamente (utiliza la función `np.load()`). Posteriormente grafica los errores de los 5 métodos: Jacobi, Gauss-Seidel, SOR, Steepest Descend, CGM. ¿Cuál de todos estos métodos usarías?\n",
    "</div>"
   ]
  },
  {
   "cell_type": "code",
   "execution_count": null,
   "metadata": {},
   "outputs": [],
   "source": [
    "eJ = np.load('errorJacobi.npy')\n",
    "eG = np.load('errorGaussSeidel.npy')\n",
    "eSOR = np.load('errorSOR.npy')\n",
    "\n",
    "# Lista con el número de las iteraciones\n",
    "l_itJ = list(range(0,len(eJ))) \n",
    "l_itG = list(range(0,len(eG))) \n",
    "l_itSOR = list(range(0,len(eSOR))) \n",
    "l_itGrad = list(range(0,itGrad+1)) \n",
    "l_itCGM = list(range(0,itCGM+1))\n",
    "\n",
    "# Parámetros para los ejes\n",
    "a_p = dict(yscale='log', xlabel='Iteraciones', xticks = l_itGrad)\n",
    "\n",
    "# Gráfica del error\n",
    "v = mvis.Plotter(1,1,[a_p]) \n",
    "v.axes(1).set_title('Error', loc='left')\n",
    "v.plot(1, l_itJ, eJ, marker='.', label='Jacobi')\n",
    "v.plot(1, l_itG, eG, marker='.', label='Gauss-Seidel')\n",
    "v.plot(1, l_itSOR, eSOR, marker='.', label='SOR')\n",
    "v.plot(1, l_itGrad, eGrad, marker='.', label='Steepest descend')\n",
    "v.plot(1, l_itCGM, eCGM, marker='.', label='Gradiente Conjugado')\n",
    "\n",
    "v.legend()\n",
    "v.grid()"
   ]
  },
  {
   "cell_type": "code",
   "execution_count": null,
   "metadata": {},
   "outputs": [],
   "source": []
  }
 ],
 "metadata": {
  "kernelspec": {
   "display_name": "Python 3 (ipykernel)",
   "language": "python",
   "name": "python3"
  },
  "language_info": {
   "codemirror_mode": {
    "name": "ipython",
    "version": 3
   },
   "file_extension": ".py",
   "mimetype": "text/x-python",
   "name": "python",
   "nbconvert_exporter": "python",
   "pygments_lexer": "ipython3",
   "version": "3.11.6"
  }
 },
 "nbformat": 4,
 "nbformat_minor": 4
}
