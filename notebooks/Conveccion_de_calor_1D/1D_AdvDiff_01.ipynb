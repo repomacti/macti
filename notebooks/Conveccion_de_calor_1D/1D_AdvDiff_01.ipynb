{
 "cells": [
  {
   "cell_type": "markdown",
   "metadata": {},
   "source": [
    "# Conveccción de calor en 1D, estacionaria.\n",
    "\n",
    "**Objetivo**.\n",
    "\n",
    "Resolver por diferencias finitas el problema de convección de calor para diferentes valores de la velocidad y diferentes esquemas numéricos.\n",
    "\n",
    " <p xmlns:cc=\"http://creativecommons.org/ns#\" xmlns:dct=\"http://purl.org/dc/terms/\"><a property=\"dct:title\" rel=\"cc:attributionURL\" href=\"https://github.com/repomacti/macti/tree/main/notebooks/Analisis_Numerico_01\">MACTI-Analisis_Numerico_01</a> by <a rel=\"cc:attributionURL dct:creator\" property=\"cc:attributionName\" href=\"https://www.macti.unam.mx\">Luis M. de la Cruz</a> is licensed under <a href=\"http://creativecommons.org/licenses/by-sa/4.0/?ref=chooser-v1\" target=\"_blank\" rel=\"license noopener noreferrer\" style=\"display:inline-block;\">Attribution-ShareAlike 4.0 International<img style=\"height:22px!important;margin-left:3px;vertical-align:text-bottom;\" src=\"https://mirrors.creativecommons.org/presskit/icons/cc.svg?ref=chooser-v1\"><img style=\"height:22px!important;margin-left:3px;vertical-align:text-bottom;\" src=\"https://mirrors.creativecommons.org/presskit/icons/by.svg?ref=chooser-v1\"><img style=\"height:22px!important;margin-left:3px;vertical-align:text-bottom;\" src=\"https://mirrors.creativecommons.org/presskit/icons/sa.svg?ref=chooser-v1\"></a></p> \n",
    "\n",
    "**Trabajo realizado con el apoyo del Programa UNAM-DGAPA-PAPIME PE101922**"
   ]
  },
  {
   "cell_type": "markdown",
   "metadata": {},
   "source": [
    "# Descripción del problema.\n",
    "\n",
    "Considere el siguiente problema:\n",
    "\n",
    "$$\n",
    "\\begin{eqnarray}\n",
    "c_p \\rho \\frac{\\partial}{\\partial x} \\left( u T \\right) -\n",
    "\\frac{\\partial }{\\partial x} \\left( \\kappa \\frac{\\partial T}{\\partial x}\\right) & = &\n",
    "S \\\\\n",
    "T(0) & = & 1 \\\\\n",
    "T(L) & = & 0\n",
    "\\end{eqnarray}\n",
    "$$\n",
    "\n",
    "El dominio de estudio, las condiciones de frontera y la velocidad son como se muestran en la siguiente figura:\n",
    "\n",
    "<img src=\"./conv03.png\">\n",
    "\n",
    "\n",
    "Implementar la solución numérica con diferencias finitas en Python con los siguientes datos: \n",
    "$L = 1.0$ [m], $c_p = 1.0$ [J / Kg $^\\text{o}$K], $\\rho = 1.0$ [kg/m$^3$], $\\kappa = 0.1$ [kg/m s], $S = 0$ y \n",
    "para:\n",
    "\n",
    "* $u = 0.1$ [m/s], con $6$ nodos.\n",
    "* $u = 2.5$ [m/s], con $6$ nodos.\n",
    "* $u = 2.5$ [m/s], con $20$ nodos.\n",
    "\n",
    "En todos los casos comparar los esquemas de **diferencias centradas** y **upwind** para la\n",
    "aproximación de la primera derivada."
   ]
  },
  {
   "cell_type": "code",
   "execution_count": 1,
   "metadata": {},
   "outputs": [],
   "source": [
    "import numpy as np\n",
    "import matplotlib.pyplot as plt\n",
    "import macti.visual as mvis"
   ]
  },
  {
   "cell_type": "code",
   "execution_count": 2,
   "metadata": {},
   "outputs": [],
   "source": [
    "def mesh(L,N):\n",
    "    x = np.linspace(0,L,N+2)\n",
    "    return L/(N + 1), x\n",
    "\n",
    "def plot_sol(x, T, xa, Ta):\n",
    "    plt.figure(figsize=(10,5))\n",
    "\n",
    "    plt.plot(xa,Ta,'k-', lw = 2.0, label='Analítica')\n",
    "    plt.scatter(x, T, zorder=5, s=100, fc='C1', ec='k', alpha=0.75, label='Numérica')\n",
    "    plt.plot(x,T, '--', lw=1.0)\n",
    "\n",
    "    plt.xlabel('x [m]')\n",
    "    plt.ylabel('T')\n",
    "    plt.grid()\n",
    "    plt.legend(bbox_to_anchor=(1.05, 1), loc='upper left')\n",
    "    plt.show()"
   ]
  },
  {
   "cell_type": "code",
   "execution_count": 8,
   "metadata": {},
   "outputs": [],
   "source": [
    "def Laplaciano1D(N, h, Gamma, u, T0, TL, esquema='CD'):\n",
    "\n",
    "    if esquema == 'CD':\n",
    "    ## Diferencias centradas\n",
    "        b = -u / (2*h) + Gamma / h**2\n",
    "        c =  u / (2*h) + Gamma / h**2 \n",
    "        a = b + c\n",
    "    elif esquema == 'UP':\n",
    "    ## Upwind\n",
    "        ce=max(-u/h,0)\n",
    "        cw=max(u/h,0)\n",
    "        b=ce+Gamma/h**2\n",
    "        c=cw+Gamma/h**2\n",
    "        a=b+c\n",
    "\n",
    "    # Matriz del sistema\n",
    "    A = np.zeros((N,N))\n",
    "    A[0,0] = a \n",
    "    A[0,1] = -b\n",
    "    for i in range(1,N-1):\n",
    "        A[i,i] = a \n",
    "        A[i,i+1] = -b\n",
    "        A[i,i-1] = -c\n",
    "    A[N-1,N-2] = -c\n",
    "    A[N-1,N-1] = a\n",
    "    \n",
    "    # RHS del sistema\n",
    "    f = np.zeros(N)         \n",
    "    f[0]   = T0 * c\n",
    "    f[N-1] = TL * b\n",
    "    \n",
    "    return A, f"
   ]
  },
  {
   "cell_type": "code",
   "execution_count": 9,
   "metadata": {},
   "outputs": [],
   "source": [
    "def analytic_sol(par, NP = 100):\n",
    "    L     = par['L']\n",
    "    rho   = par['rho']\n",
    "    u     = par['u']\n",
    "    Gamma = par['Gamma']\n",
    "    T0  = par['BC'][0]\n",
    "    TL  = par['BC'][1]\n",
    "    \n",
    "    xa = np.linspace(0, L, NP)\n",
    "    Ta = (np.exp(rho * u * xa / Gamma) - 1) / (np.exp(rho * u * L / Gamma) - 1) * (TL - T0) + T0\n",
    "    return (xa, Ta) "
   ]
  },
  {
   "cell_type": "code",
   "execution_count": 13,
   "metadata": {},
   "outputs": [],
   "source": [
    "def fdm_sol(par):\n",
    "    L     = par['L']\n",
    "    Gamma = par['Gamma']\n",
    "    rho   = par['rho']\n",
    "    u     = par['u']\n",
    "    N     = par['N']\n",
    "    T0  = par['BC'][0]\n",
    "    TL  = par['BC'][1]\n",
    "    h     = par['h']\n",
    "    \n",
    "    A, f = Laplaciano1D(N, h, Gamma, u, T0, TL, 'UP') \n",
    "\n",
    "    T = np.zeros(N+2)\n",
    "\n",
    "    T[1:N+1] = np.linalg.solve(A,f)\n",
    "\n",
    "    T[0] = T0\n",
    "    T[N+1] = TL\n",
    "\n",
    "    return T"
   ]
  },
  {
   "cell_type": "code",
   "execution_count": 14,
   "metadata": {},
   "outputs": [
    {
     "data": {
      "image/png": "[encoded data removed]",
      "text/plain": [
       "<Figure size 800x400 with 1 Axes>"
      ]
     },
     "metadata": {},
     "output_type": "display_data"
    }
   ],
   "source": [
    "par = {}\n",
    "par['L']     = 1.0 # m\n",
    "par['rho']   = 1.0 # kg/m^3\n",
    "par['u']     = 2.0 # m/s\n",
    "par['Gamma'] = 0.1 # kg / m.s\n",
    "par['BC']    = (1.0, 0.0)\n",
    "par['N']     = 5 # Número de incógnitas\n",
    "\n",
    "h, x = mesh(par['L'], par['N'])\n",
    "\n",
    "par['h'] = h\n",
    "\n",
    "xa, Ta = analytic_sol(par)\n",
    "\n",
    "plot_sol(x, fdm_sol(par), xa, Ta)"
   ]
  },
  {
   "cell_type": "code",
   "execution_count": null,
   "metadata": {},
   "outputs": [],
   "source": []
  }
 ],
 "metadata": {
  "kernelspec": {
   "display_name": "Python 3 (ipykernel)",
   "language": "python",
   "name": "python3"
  },
  "language_info": {
   "codemirror_mode": {
    "name": "ipython",
    "version": 3
   },
   "file_extension": ".py",
   "mimetype": "text/x-python",
   "name": "python",
   "nbconvert_exporter": "python",
   "pygments_lexer": "ipython3",
   "version": "3.11.6"
  }
 },
 "nbformat": 4,
 "nbformat_minor": 4
}
