{
 "cells": [
  {
   "cell_type": "markdown",
   "id": "b6747f2b-8289-45a0-84c5-757ff6a0be2f",
   "metadata": {},
   "source": [
    "# Atractor de Lorenz\n",
    "\n",
    "**Objetivo**\n",
    "\n",
    "- Aproximar la solución a las ecuaciones de Lorenz usando el Método de Euler y generar varias animaciones para diferentes parámetros.\n",
    "- \n",
    " <p xmlns:cc=\"http://creativecommons.org/ns#\" xmlns:dct=\"http://purl.org/dc/terms/\"><a property=\"dct:title\" rel=\"cc:attributionURL\" href=\"https://github.com/repomacti/macti/tree/main/notebooks/Analisis_Numerico_01\">MACTI-Analisis_Numerico_01</a> by <a rel=\"cc:attributionURL dct:creator\" property=\"cc:attributionName\" href=\"https://www.macti.unam.mx\">Luis M. de la Cruz</a> is licensed under <a href=\"http://creativecommons.org/licenses/by-sa/4.0/?ref=chooser-v1\" target=\"_blank\" rel=\"license noopener noreferrer\" style=\"display:inline-block;\">Attribution-ShareAlike 4.0 International<img style=\"height:22px!important;margin-left:3px;vertical-align:text-bottom;\" src=\"https://mirrors.creativecommons.org/presskit/icons/cc.svg?ref=chooser-v1\"><img style=\"height:22px!important;margin-left:3px;vertical-align:text-bottom;\" src=\"https://mirrors.creativecommons.org/presskit/icons/by.svg?ref=chooser-v1\"><img style=\"height:22px!important;margin-left:3px;vertical-align:text-bottom;\" src=\"https://mirrors.creativecommons.org/presskit/icons/sa.svg?ref=chooser-v1\"></a></p> \n",
    "\n",
    "**Trabajo realizado con el apoyo del Programa UNAM-DGAPA-PAPIME PE101922**"
   ]
  },
  {
   "cell_type": "markdown",
   "id": "fec45ca6-7bcb-46f2-93e8-6c81a37642d6",
   "metadata": {},
   "source": [
    "# Descripción del problema.\n",
    "\n",
    "Resolver numéricamente las ecuaciones de Lorenz y dibujar las trayectorias en el espacio fase $x − y − z$ para $N$ posiciones iniciales elegidas aletoriamente como se muestra en la siguiente figura y video: \n",
    "\n",
    "<table style=\"width:100%\">\n",
    "  <tr>\n",
    "     <td style=\"text-align:center\"><img src=\"./lorenz.png\"  width='300px' style=\"float: left\"/></td>\n",
    "    <td style=\"text-align:center\"><video src=\"./lorenz.mp4\" width=\"320\" controls></video></td>\n",
    "  </tr>\n",
    "</table>\n",
    "\n",
    "\n",
    "El atractor de Lorenz está definido por las siguientes ecuaciones:\n",
    "\n",
    "$$\n",
    "\\dfrac{dx}{dt} = \\sigma(y − x),\\qquad\n",
    "$$\n",
    "$$\n",
    "\\dfrac{dy}{dt} = x(\\rho − z) − y,\\qquad\n",
    "$$\n",
    "$$\n",
    "\\dfrac{dz}{dt} = xy − \\beta z\n",
    "$$\n",
    "para $\\sigma = 10$, $\\beta = 8/3$, $\\rho = 28$."
   ]
  },
  {
   "cell_type": "code",
   "execution_count": null,
   "id": "c23dd23a-4f0d-48ad-90d8-20fde9f07fc5",
   "metadata": {},
   "outputs": [],
   "source": []
  }
 ],
 "metadata": {
  "kernelspec": {
   "display_name": "Python 3 (ipykernel)",
   "language": "python",
   "name": "python3"
  },
  "language_info": {
   "codemirror_mode": {
    "name": "ipython",
    "version": 3
   },
   "file_extension": ".py",
   "mimetype": "text/x-python",
   "name": "python",
   "nbconvert_exporter": "python",
   "pygments_lexer": "ipython3",
   "version": "3.11.6"
  }
 },
 "nbformat": 4,
 "nbformat_minor": 5
}
