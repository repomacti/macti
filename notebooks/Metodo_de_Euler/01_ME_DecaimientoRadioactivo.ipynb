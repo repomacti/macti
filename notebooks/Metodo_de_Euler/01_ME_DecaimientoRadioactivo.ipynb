{
 "cells": [
  {
   "cell_type": "markdown",
   "id": "bed3817f-8fb0-40e6-9d51-f240bfc024fd",
   "metadata": {
    "nbgrader": {
     "grade": false,
     "grade_id": "cell-df23f4867f834923",
     "locked": true,
     "schema_version": 3,
     "solution": false,
     "task": false
    }
   },
   "source": [
    "# Método de Euler: Ley de decaimiento radioactivo.\n",
    "\n",
    "**Objetivo general**\n",
    "- Aproximar una solución numérica al proceso de decaimiento radioactivo usando el método de Euler.\n",
    "- Entender e implementar el Método de Euler.\n",
    "\n",
    "**Objetivos particulares**\n",
    "- Hacer el planteamiento en términos de un PVI.\n",
    "- Comprender que el Método de Euler es condicionalmente estable.\n",
    "- Implementar la solución usando el Método de Euler y controlar la estabilidad del método.\n",
    "\n",
    "## Contenido\n",
    "- [1. Decaimiento radioactivo en términos de un PVI.](#1)\n",
    "    - [1.1 Definir los datos iniciales del problema.](#1-1)\n",
    "    - [1.2 Definir los parámetros de para la aproximación. ](#1-2)\n",
    "    - [1.3 Implementación del método de Euler. ](#1-3)\n",
    "        - [Ejercicio 1. Comparación con la solución analítica.](#ej-1)\n",
    "        - [Ejercicio 2. Estabilidad del método de Euler hacia adelante.](#ej-2)\n",
    "- [2. Problemas de Valor Inicial.](#2)\n",
    "- [3. Método de Euler.](#3)\n",
    "\n",
    "\n",
    " <p xmlns:cc=\"http://creativecommons.org/ns#\" xmlns:dct=\"http://purl.org/dc/terms/\"><a property=\"dct:title\" rel=\"cc:attributionURL\" href=\"https://github.com/repomacti/macti/tree/main/notebooks/Analisis_Numerico_01\">MACTI-Analisis_Numerico_01</a> by <a rel=\"cc:attributionURL dct:creator\" property=\"cc:attributionName\" href=\"https://www.macti.unam.mx\">Luis M. de la Cruz</a> is licensed under <a href=\"http://creativecommons.org/licenses/by-sa/4.0/?ref=chooser-v1\" target=\"_blank\" rel=\"license noopener noreferrer\" style=\"display:inline-block;\">Attribution-ShareAlike 4.0 International<img style=\"height:22px!important;margin-left:3px;vertical-align:text-bottom;\" src=\"https://mirrors.creativecommons.org/presskit/icons/cc.svg?ref=chooser-v1\"><img style=\"height:22px!important;margin-left:3px;vertical-align:text-bottom;\" src=\"https://mirrors.creativecommons.org/presskit/icons/by.svg?ref=chooser-v1\"><img style=\"height:22px!important;margin-left:3px;vertical-align:text-bottom;\" src=\"https://mirrors.creativecommons.org/presskit/icons/sa.svg?ref=chooser-v1\"></a></p> \n",
    "\n",
    "**Trabajo realizado con el apoyo del Programa UNAM-DGAPA-PAPIME PE101922**"
   ]
  },
  {
   "cell_type": "markdown",
   "id": "33ec5102-89df-42ac-8bbf-5fdb99235b96",
   "metadata": {
    "nbgrader": {
     "grade": false,
     "grade_id": "cell-58bf03b9c6900f22",
     "locked": true,
     "schema_version": 3,
     "solution": false,
     "task": false
    }
   },
   "source": [
    "<a name='1'></a>\n",
    "## Decaimiento radioactivo en términos de un PVI.\n",
    "\n",
    "Esta ley dice que  la masa de una substancia radioactiva decae a una razón que es proporcional a la cantidad de masa que está presente. \n",
    "\n",
    "Si $y(t)$ representa a la cantidad de substancia  en el tiempo $t$, entonces la ley de decaimiento se expresa como:\n",
    "$$\n",
    "\\begin{eqnarray*}\n",
    "\\frac{d y(t)}{d t} & = & - \\lambda y(t), \\qquad \\text{ para }  0 < t  < T_{max} \\\\\n",
    "y(0) & = & y_0 \\qquad \\text{(condición inicial)}\n",
    "\\end{eqnarray*}\n",
    "$$\n",
    "\n",
    "donde $y_0$ representa la cantidad  de susbtancia inicial y $\\lambda$ es la constante de decaimiento.\n",
    "\n",
    "Este problema tiene la siguiente solución analítica: $y(t) = y_0 e^{-\\lambda t}$."
   ]
  },
  {
   "cell_type": "markdown",
   "id": "7c409310-ac89-4406-b757-eb9fae38604a",
   "metadata": {
    "nbgrader": {
     "grade": false,
     "grade_id": "cell-2712fb7e80c0d8a4",
     "locked": true,
     "schema_version": 3,
     "solution": false,
     "task": false
    }
   },
   "source": [
    "<a name='1-1'></a>\n",
    "### Definir los datos iniciales del problema.\n",
    "\n",
    "Para este ejercicio usaremos los siguientes datos:\n",
    "\n",
    "* Constante de decaimiento $\\lambda = 1.5$.\n",
    "* Intervalo de solución $t \\in (a,b) = (0, 10)$.\n",
    "* Condición inicial $y_0 = 20$"
   ]
  },
  {
   "cell_type": "markdown",
   "id": "248d0485-5699-4d2e-a969-ca38f9f7ef8e",
   "metadata": {
    "nbgrader": {
     "grade": false,
     "grade_id": "cell-1c943c328e8ec40a",
     "locked": true,
     "schema_version": 3,
     "solution": false,
     "task": false
    }
   },
   "source": [
    "<a name='1-2'></a>\n",
    "### Definir de los parámetros para la aproximación:\n",
    "\n",
    "* Número de pasos de tiempo $N_t = 5$.\n",
    "* Tamaño de paso: $h_t = (b−a) / N_t$."
   ]
  },
  {
   "cell_type": "code",
   "execution_count": null,
   "id": "8d14eae4-7ae4-4d16-92f0-1477f1b8fb30",
   "metadata": {
    "nbgrader": {
     "grade": false,
     "grade_id": "cell-b528a16cb2d8f144",
     "locked": true,
     "schema_version": 3,
     "solution": false,
     "task": false
    }
   },
   "outputs": [],
   "source": [
    "import matplotlib.pyplot as plt\n",
    "import numpy as np"
   ]
  },
  {
   "cell_type": "code",
   "execution_count": null,
   "id": "eeb9ce50-fc63-49a8-bfbb-d1e999052c11",
   "metadata": {
    "nbgrader": {
     "grade": false,
     "grade_id": "cell-0fd5c655784f91ec",
     "locked": true,
     "schema_version": 3,
     "solution": false,
     "task": false
    }
   },
   "outputs": [],
   "source": [
    "# Constante de decaimiento\n",
    "λ = 1.5\n",
    "\n",
    "# Intervalo de solución\n",
    "a = 0.0\n",
    "b = 10\n",
    "\n",
    "# Condición inicial:\n",
    "y0 = 20.0\n",
    "\n",
    "# Número de pasos de tiempo\n",
    "Nt = 5\n",
    "\n",
    "# Paso de tiempo\n",
    "ht = (b-a) / Nt\n",
    "\n",
    "# Imprimimos los parámetros del problema\n",
    "print('Parámetros del problema:\\n' + '-'*24)\n",
    "print('{} = {} \\n(a, b) = ({},{}) \\ny0 = {} \\nNt = {} \\nht = {}'.format(chr(955), λ,a,b,y0,Nt,ht))"
   ]
  },
  {
   "cell_type": "markdown",
   "id": "8f23b249-5fe4-4c94-a0e4-404cc4b28938",
   "metadata": {
    "nbgrader": {
     "grade": false,
     "grade_id": "cell-82246cfb97338fd7",
     "locked": true,
     "schema_version": 3,
     "solution": false,
     "task": false
    },
    "tags": []
   },
   "source": [
    "<a name='1-3'></a>\n",
    "### Implementación del método de Euler.\n",
    "\n",
    "**1.** Primero definimos un arreglo para almacenar los pasos de tiempo: $t_n = a + n ∗h_t$ para $n = 0,1,...,N_t$."
   ]
  },
  {
   "cell_type": "code",
   "execution_count": null,
   "id": "6a208bd7-e284-4609-a90d-0cac71645868",
   "metadata": {
    "nbgrader": {
     "grade": false,
     "grade_id": "cell-28b3bce9daf0a6f4",
     "locked": true,
     "schema_version": 3,
     "solution": false,
     "task": false
    }
   },
   "outputs": [],
   "source": [
    "t = np.array([a + ht * n for n in range(0, Nt+1)])\n",
    "print(' Número de pasos de tiempo: {} \\n Tiempos para el cálculo: {}'.format(Nt, t))"
   ]
  },
  {
   "cell_type": "markdown",
   "id": "4c8ce4fe-6f6e-4d4e-a0d3-e542b229e902",
   "metadata": {
    "nbgrader": {
     "grade": false,
     "grade_id": "cell-6a9368edb044ed7a",
     "locked": true,
     "schema_version": 3,
     "solution": false,
     "task": false
    }
   },
   "source": [
    "**2.** Ahora definimos un arreglo para almacenar la solución: $y = [y_0, y_1, \\dots ]$. Nótese que el primer valor de este arreglo es la condición inicial: $y(a) = y_0$. "
   ]
  },
  {
   "cell_type": "code",
   "execution_count": null,
   "id": "f44833b6-d496-4d45-9e61-f1c8a64a3383",
   "metadata": {
    "nbgrader": {
     "grade": false,
     "grade_id": "cell-6d831009f27d8cd9",
     "locked": true,
     "schema_version": 3,
     "solution": false,
     "task": false
    }
   },
   "outputs": [],
   "source": [
    "# Arreglo para almacenar la solución\n",
    "y = np.zeros(Nt+1)\n",
    "\n",
    "# Condición inicial\n",
    "y[0] = y0\n",
    "\n",
    "print('Arreglo para la solución: {}'.format(y)) "
   ]
  },
  {
   "cell_type": "markdown",
   "id": "340e690b-ad6b-404c-8144-5393bc90233b",
   "metadata": {
    "nbgrader": {
     "grade": false,
     "grade_id": "cell-7925c39d1fe32c71",
     "locked": true,
     "schema_version": 3,
     "solution": false,
     "task": false
    }
   },
   "source": [
    "**3.** Calculamos la solución con el método de Euler.\n",
    "\n",
    "$$\n",
    "\\begin{eqnarray}\n",
    "y(a) & = y_0 & \\qquad \\qquad\\text{(condición inicial)}\\nonumber \\\\\n",
    "y_{n+1} & = & y_n + h_t \\, f(t_n, y_n), \\text{ para } n = 0,1,2, \\dots, N_t - 1 \\tag{1}\n",
    "\\end{eqnarray}\n",
    "$$\n",
    "\n",
    "Observe que en la fórmula (1) se requiere de la definición de la función $f(t, y)$, que en este caso es\n",
    "\n",
    "$$f(t,y) = -\\lambda y(t)$$\n"
   ]
  },
  {
   "cell_type": "code",
   "execution_count": null,
   "id": "b34b8eb7-34f6-4987-967f-7e18c46e0473",
   "metadata": {
    "nbgrader": {
     "grade": false,
     "grade_id": "cell-183ac0afe7967f2d",
     "locked": true,
     "schema_version": 3,
     "solution": false,
     "task": false
    }
   },
   "outputs": [],
   "source": [
    "# Función f(t,y) = -λ y(t)\n",
    "f = lambda t, y : -λ * y \n",
    "\n",
    "for n in range(0, Nt):\n",
    "    y[n+1] = y[n] + ht * f(n * ht, y[n]) # Método de Euler hacia adelante\n",
    "\n",
    "# Imprimimos y graficamos la solución\n",
    "print('\\nSolución :', y)\n",
    "plt.plot(t, y, 'o-')\n",
    "plt.xlabel('t')\n",
    "plt.ylabel('Masa')\n",
    "plt.show()"
   ]
  },
  {
   "cell_type": "markdown",
   "id": "c53f3f61-4ada-4b5b-b0dc-d81f0604d65e",
   "metadata": {
    "nbgrader": {
     "grade": false,
     "grade_id": "cell-e4c7ca1d96213e9b",
     "locked": true,
     "schema_version": 3,
     "solution": false,
     "task": false
    }
   },
   "source": [
    "**¿Qué opina de la solución obtenida?**"
   ]
  },
  {
   "cell_type": "markdown",
   "id": "80164dae-747d-4b35-a8f9-984dbe26ae2e",
   "metadata": {
    "nbgrader": {
     "grade": false,
     "grade_id": "cell-90b64dfafc1d06ca",
     "locked": true,
     "schema_version": 3,
     "solution": false,
     "task": false
    }
   },
   "source": [
    "<a name='ej-1'></a>\n",
    "#### **<font color=\"DodgerBlue\">Ejercicio 1. Comparación con la solución analítica.</font>**\n",
    "\n",
    "<font color=\"DarkBlue\">\n",
    "Implementar la solución analítica $y(t) = y_0 e^{-\\lambda t}$ y compararla con la solución analítica antes obtenida.\n",
    "\n",
    "Para comprobar que tan buenos son los resultados numéricos se puede comparar la solución exacta $ye$ con la numérica $y$ y calcular el error numérico usando la norma-2 como sigue:\n",
    "\n",
    "$$\n",
    "||E||_2 = \\frac{1}{N_t}\\left( \\sum_{i=0}^{N_t} (y_i - ye_i)^2 \\right)^{1/2} \n",
    "$$\n",
    "\n",
    "donde $y_i$ es la solución numérica y $ye_i$ la solución exacta en el paso $i$-ésimo.\n",
    "\n",
    "1. En el siguiente código complete agregua el cálculo de la solución analítica y el cálculo del error.\n",
    "2. Cambie el número de pasos de tiempo hasta que el error sea menor a $0.01$.\n",
    "</font>\n"
   ]
  },
  {
   "cell_type": "code",
   "execution_count": null,
   "id": "47f49e39-8b68-4750-9990-87adf0d7b277",
   "metadata": {
    "nbgrader": {
     "grade": false,
     "grade_id": "cell-4e9a9c318615265c",
     "locked": false,
     "schema_version": 3,
     "solution": true,
     "task": false
    }
   },
   "outputs": [],
   "source": [
    "#\n",
    "# Por claridad, repetimos todo el código para el cálculo de la solución.\n",
    "#\n",
    "\n",
    "# Número de pasos de tiempo\n",
    "Nt = 5\n",
    "\n",
    "# Paso de tiempo\n",
    "ht = (b-a) / Nt\n",
    "\n",
    "# Pasos de tiempo\n",
    "t = np.array([a + ht * n for n in range(0, Nt+1)])\n",
    "\n",
    "# Arreglo para almacenar la solución\n",
    "y = np.zeros(Nt+1)\n",
    "\n",
    "# Condición inicial\n",
    "y[0] = y0\n",
    "\n",
    "# Función f(t,y) \n",
    "f = lambda t, y : -λ * y \n",
    "\n",
    "for n in range(0, Nt):\n",
    "    y[n+1] = y[n] + ht * f(n * ht, y[n]) # Método de Euler hacia adelante\n",
    "\n",
    "# Calculo de la solución analítica\n",
    "# ye = ...\n",
    "# Cálculo del error numérico\n",
    "# error = ...\n",
    "\n",
    "### BEGIN SOLUTION\n",
    "ye = y0 * np.exp(-λ*t)\n",
    "error = np.linalg.norm(y - ye, 2) / Nt\n",
    "### END SOLUTION\n",
    "\n",
    "print('Error numérico : {:0.5f}'.format(error))\n",
    "\n",
    "# Graficación de la aproximación y de la solución analítica.\n",
    "plt.plot(t, y, 'o-', label='Aproximación')\n",
    "plt.plot(t, ye, label='Sol. analítica')\n",
    "plt.legend()\n",
    "\n",
    "# Decoración del gráfico\n",
    "plt.title('Decaimiento radioactivo')\n",
    "plt.xlabel('Tiempo')\n",
    "plt.ylabel('Masa')\n",
    "plt.grid('--', lw=0.5)\n",
    "ejes = plt.gca()\n",
    "ejes.spines['top'].set_visible(False)\n",
    "ejes.spines['right'].set_visible(False)\n",
    "plt.show()"
   ]
  },
  {
   "cell_type": "markdown",
   "id": "b45d3359-110c-41a1-8724-0065c1a673b3",
   "metadata": {
    "nbgrader": {
     "grade": false,
     "grade_id": "cell-ae6c15cba3d72f51",
     "locked": true,
     "schema_version": 3,
     "solution": false,
     "task": false
    }
   },
   "source": [
    "<a name='ej-2'></a>\n",
    "#### **<font color=\"DodgerBlue\">Ejercicio 2. Estabilidad del Método de Euler hacia adelante.</font>**\n",
    "\n",
    "<font color=\"DarkBlue\">\n",
    "Ejecute la siguiente celda para obtener un interactivo que le permitirá cambiar de manera interactiva los parámetros $\\lambda$ y $N_t$. Observe los cambios que se obtienen con cada valor de los parámetros.\n",
    "\n",
    "Posteriormente complete el *quiz* **Método de Euler para la solución de un PVI** en Moodle.</font> "
   ]
  },
  {
   "cell_type": "code",
   "execution_count": 1,
   "id": "d346d2d3-d649-445a-a5cd-c06048ff33c2",
   "metadata": {
    "nbgrader": {
     "grade": false,
     "grade_id": "cell-442750c6f9e56c12",
     "locked": true,
     "schema_version": 3,
     "solution": false,
     "task": false
    }
   },
   "outputs": [
    {
     "data": {
      "application/vnd.jupyter.widget-view+json": {
       "model_id": "81b53f154cd044518059f37191fcc69b",
       "version_major": 2,
       "version_minor": 0
      },
      "text/plain": [
       "interactive(children=(FloatSlider(value=1.5, description='λ', max=3.0, min=1.0), IntSlider(value=10, descripti…"
      ]
     },
     "metadata": {},
     "output_type": "display_data"
    },
    {
     "data": {
      "text/plain": [
       "<function euler.decaimiento(l=1.5, a=0.0, b=10, y0=20.0, Nt=10)>"
      ]
     },
     "metadata": {},
     "output_type": "display_data"
    }
   ],
   "source": [
    "%run \"./zDecaimiento_interactive.ipynb\""
   ]
  },
  {
   "cell_type": "markdown",
   "id": "73b992e0-9522-4736-aa5a-5908b2787e28",
   "metadata": {
    "nbgrader": {
     "grade": false,
     "grade_id": "cell-484c8ecd84e4323f",
     "locked": true,
     "schema_version": 3,
     "solution": false,
     "task": false
    }
   },
   "source": [
    "<a name='2'></a>\n",
    "## Problema de Valor Inicial (PVI)\n",
    "El problema de calcular la posición $x_f$ a partir de una posición inicial $x_i$, una velocidad $v$ y un paso de tiempo $t$, se puede escribir en términos de un problema de valor inicial bien planteado (PVI). \n",
    "\n",
    "Sabemos que la velocidad es el cambio de la posición con respecto al tiempo, es decir: \n",
    "\n",
    "$$v(x,t) = \\dfrac{d x}{d t}$$\n",
    "\n",
    "Entonces, en términos de un PVI, el cálculo de la posición $x$ se puede escribir como sigue:\n",
    "\n",
    "Aproximar $x(t)$ al problema:\n",
    "$$\n",
    "\\begin{eqnarray}\n",
    "\\dfrac{d x}{d t} & = & v(t, x) \\qquad \\text{ para }  t \\in [0,T_{max}] \\\\\n",
    "x(t=0) & = & x_i \\qquad \\text{(posición inicial)}\n",
    "\\end{eqnarray}\n",
    "$$"
   ]
  },
  {
   "cell_type": "markdown",
   "id": "a6cd60c9-d2b8-4142-a3e0-89e457c9a695",
   "metadata": {
    "nbgrader": {
     "grade": false,
     "grade_id": "cell-1faaa02c46723368",
     "locked": true,
     "schema_version": 3,
     "solution": false,
     "task": false
    }
   },
   "source": [
    "En general, en un PVI se busca la solución de una ecuación diferencial ordinaria, en donde se debe satisfacer una condición inicial y se expresa como sigue:\n",
    "\n",
    "---\n",
    "Aproximar $y(t)$ al problema:\n",
    "$$\n",
    "\\begin{eqnarray}\n",
    "\\dfrac{d y}{d t} & = & f(t, y) \\qquad \\text{ para } a < t < b \\\\\n",
    "y(t=a) & = & \\alpha \\qquad \\text{(condición inicial)}\n",
    "\\end{eqnarray}\n",
    "$$\n",
    "\n",
    "donde la función $f(t,y)$ debe satisfacer ciertas condiciones de continuidad para que exista una solución $y(t)$ única.\n",
    "\n",
    "---"
   ]
  },
  {
   "cell_type": "markdown",
   "id": "50a0f63e-75db-4636-8c03-38cd4e332fa8",
   "metadata": {
    "nbgrader": {
     "grade": false,
     "grade_id": "cell-f0162515b3cd0503",
     "locked": true,
     "schema_version": 3,
     "solution": false,
     "task": false
    }
   },
   "source": [
    "<a name='3'></a>\n",
    "## Deducción del método de Euler (hacia adelante)\n",
    "\n",
    "El método de Euler (hacia adelante) permite obtener soluciones aproximadas a un PVI, es decir una aproximación a la función $y(t)$. Para obtener este método definimos lo siguiente:\n",
    "* $N_t$: número de pasos de tiempo igualmente espaciados en $[a,b]$.\n",
    "* Tamaño de paso: $h_t = \\dfrac{(b−a)}{N_t}$.\n",
    "* Pasos de tiempo: $t_n = a + n ∗h_t$ para $n = 0,1,...,N_t$.\n",
    "\n",
    "Supongamos que el PVI tiene una solución única $y(t)$ y que además tiene al menos dos derivadas continuas en $[a,b],$ de tal manera que para cada $n = 0,1,2, \\dots , N_t-1$ tenemos la siguiente expansión en series de Taylor:\n",
    "\n",
    "$$\n",
    "y(t_{n+1}) = y(t_n) + (t_{n+1} - t_n)  \\dfrac{d y}{d t} (t_n) + \\dfrac{(t_{n+1} - t_n)^2}{2} \\dfrac{d^2 y}{d t^2} (\\xi_n)\n",
    "$$\n",
    "\n",
    "para algún número $\\xi_n \\in (t_n - t_{n+1})$.\n",
    "\n",
    "Dado que $y(t)$ satisface la ecuación diferencial del PVI y como $h_t = (t_{n+1} - t_n) $ entonces podemos escribir:\n",
    "\n",
    "$$\n",
    "\\begin{equation}\n",
    "y(t_{n+1}) = y(t_n) + h_t  \\, f(t_n, y(t_n)) + \\dfrac{h_t^2}{2} y^{\\prime \\prime} (\\xi_n)\n",
    "\\end{equation}\n",
    "$$\n",
    "\n",
    "El método de Euler hacia adelante (*forward*) consiste en eliminar el último término de la ecuación anterior de tal manera que, definiendo $y_n \\equiv y(t_n)$ tenemos lo siguiente\n",
    "\n",
    "$$\n",
    "\\begin{eqnarray}\n",
    "y_0 & = & y(a) = \\alpha \\qquad \\text{(condición inicial)}\\nonumber \\\\\n",
    "y_{n+1} & = & y_n + h_t \\, f(t_n, y_n), \\text{ para } n = 0,1,2, \\dots, N_t - 1 \\tag{2}\n",
    "\\end{eqnarray}\n",
    "$$\n",
    "\n",
    "La ecuación ($2$) proporciona una aproximación a la solución del PVI en el paso $t_{n+1}$ y se conoce como la ecuación en diferencias.\n",
    "\n",
    "Este método:\n",
    "\n",
    "* Calcula una aproximación a la solución de primer orden: $\\mathcal{O}(h_t)$\n",
    "* Es explícito.\n",
    "* Es barato.\n",
    "* Es fácil de implementar.\n",
    "* Es condicionalmente estable."
   ]
  },
  {
   "cell_type": "code",
   "execution_count": null,
   "id": "17b4fada-5238-4963-884b-b387e983e46d",
   "metadata": {},
   "outputs": [],
   "source": []
  }
 ],
 "metadata": {
  "celltoolbar": "Create Assignment",
  "kernelspec": {
   "display_name": "Python 3 (ipykernel)",
   "language": "python",
   "name": "python3"
  },
  "language_info": {
   "codemirror_mode": {
    "name": "ipython",
    "version": 3
   },
   "file_extension": ".py",
   "mimetype": "text/x-python",
   "name": "python",
   "nbconvert_exporter": "python",
   "pygments_lexer": "ipython3",
   "version": "3.11.6"
  }
 },
 "nbformat": 4,
 "nbformat_minor": 5
}
