{
 "cells": [
  {
   "cell_type": "markdown",
   "id": "36f8bf17-6455-4601-b587-2f6c5aa2b6e9",
   "metadata": {},
   "source": [
    "# Comparación de método de Euler hacia atrás y hacia adelante.\n",
    "\n",
    "**Objetivo**.\n",
    "\n",
    "Construir un interactivo que permita comparar en tiempo real los métodos de Euler hacia adelante (explícito) y hacia atrás (implícito).\n",
    "\n",
    " <p xmlns:cc=\"http://creativecommons.org/ns#\" xmlns:dct=\"http://purl.org/dc/terms/\"><a property=\"dct:title\" rel=\"cc:attributionURL\" href=\"https://github.com/repomacti/macti/tree/main/notebooks/Analisis_Numerico_01\">MACTI-Analisis_Numerico_01</a> by <a rel=\"cc:attributionURL dct:creator\" property=\"cc:attributionName\" href=\"https://www.macti.unam.mx\">Luis M. de la Cruz</a> is licensed under <a href=\"http://creativecommons.org/licenses/by-sa/4.0/?ref=chooser-v1\" target=\"_blank\" rel=\"license noopener noreferrer\" style=\"display:inline-block;\">Attribution-ShareAlike 4.0 International<img style=\"height:22px!important;margin-left:3px;vertical-align:text-bottom;\" src=\"https://mirrors.creativecommons.org/presskit/icons/cc.svg?ref=chooser-v1\"><img style=\"height:22px!important;margin-left:3px;vertical-align:text-bottom;\" src=\"https://mirrors.creativecommons.org/presskit/icons/by.svg?ref=chooser-v1\"><img style=\"height:22px!important;margin-left:3px;vertical-align:text-bottom;\" src=\"https://mirrors.creativecommons.org/presskit/icons/sa.svg?ref=chooser-v1\"></a></p> \n",
    "\n",
    "**Trabajo realizado con el apoyo del Programa UNAM-DGAPA-PAPIME PE101922**"
   ]
  },
  {
   "cell_type": "code",
   "execution_count": 6,
   "id": "379446a2-6558-4258-a661-a2ae83145bb9",
   "metadata": {
    "tags": []
   },
   "outputs": [],
   "source": [
    "import ipywidgets as widgets\n",
    "import macti.visual as mvis\n",
    "from Euler_FB import FEuler, BEuler, FE_vs_BE"
   ]
  },
  {
   "cell_type": "markdown",
   "id": "325557d8-7b46-4824-92aa-a7a1497b7162",
   "metadata": {},
   "source": [
    "# Definimos los datos físicos y numéricos"
   ]
  },
  {
   "cell_type": "code",
   "execution_count": 7,
   "id": "8ab58d94-6a4c-490e-b445-a32283311634",
   "metadata": {
    "tags": []
   },
   "outputs": [
    {
     "name": "stdout",
     "output_type": "stream",
     "text": [
      " h =  0.02 , ht =  0.0001 , Tmax =  1.0 , Nt =  10000\n"
     ]
    }
   ],
   "source": [
    "# Parámetros físicos\n",
    "L = 1.0   # Longitud del dominio\n",
    "bA = -1   # Dirichlet en A\n",
    "bB = 1    # Dirichlet en B\n",
    "alpha = 1 # Parámetro físico\n",
    "\n",
    "# Parámetros numéricos\n",
    "N = 49        # Número de incógnitas\n",
    "h = L / (N+1) # Tamaño de la malla\n",
    "ht = 0.0001   # Paso del tiempo\n",
    "Tmax = 1.0    # Tiempo total de simulación\n",
    "Nt = int(Tmax / ht) # Número total de pasos\n",
    "\n",
    "tolerancia = 1e-6 # Criterio de término anticipado\n",
    "\n",
    "print(\" h = \", h, \", ht = \", ht, \", Tmax = \", Tmax, \", Nt = \", Nt)"
   ]
  },
  {
   "cell_type": "markdown",
   "id": "f6077d09-257d-48d5-95a6-1457791f4067",
   "metadata": {},
   "source": [
    "# Método de Euler hacia adelante (Forward)"
   ]
  },
  {
   "cell_type": "code",
   "execution_count": 8,
   "id": "318bbfe5-8efb-4db4-85b7-680ff9af4cd0",
   "metadata": {
    "tags": []
   },
   "outputs": [
    {
     "data": {
      "application/vnd.jupyter.widget-view+json": {
       "model_id": "0f75153a7eb5475385bd8efd7f35de8c",
       "version_major": 2,
       "version_minor": 0
      },
      "text/plain": [
       "interactive(children=(IntSlider(value=49, description='N', max=49, min=10), IntSlider(value=10, description='N…"
      ]
     },
     "metadata": {},
     "output_type": "display_data"
    },
    {
     "data": {
      "text/plain": [
       "<function Euler_FB.FEuler(L, N, alpha, bA, bB, Nt, ht, tol, compara=False, ax=None)>"
      ]
     },
     "execution_count": 8,
     "metadata": {},
     "output_type": "execute_result"
    }
   ],
   "source": [
    "widgets.interact_manual(FEuler,\n",
    "                    L = widgets.fixed(L),\n",
    "                    N = widgets.IntSlider(min=10, max = 49, value=49, step=1),\n",
    "                    alpha = widgets.fixed(alpha),\n",
    "                    bA = widgets.fixed(bA),\n",
    "                    bB = widgets.fixed(bB),\n",
    "                    Nt = widgets.IntSlider(min=10, max=10000, value=10, step=10),\n",
    "                    ht = widgets.FloatSlider(min=1e-4, max=1e-3, value=1e-4, step=1e-4),\n",
    "                    tol = widgets.fixed(tolerancia),\n",
    "                    compara=widgets.fixed(False),\n",
    "                    ax=widgets.fixed(None))"
   ]
  },
  {
   "cell_type": "markdown",
   "id": "8337c50c-9948-4de9-9a7a-6f589e815722",
   "metadata": {},
   "source": [
    "# Método de Euler hacia atrás (Backward)"
   ]
  },
  {
   "cell_type": "code",
   "execution_count": 9,
   "id": "34484114-75f9-4613-bafc-feb56d551236",
   "metadata": {
    "tags": []
   },
   "outputs": [
    {
     "data": {
      "application/vnd.jupyter.widget-view+json": {
       "model_id": "afd86140909345dcaea457ad6115c6b7",
       "version_major": 2,
       "version_minor": 0
      },
      "text/plain": [
       "interactive(children=(IntSlider(value=49, description='N', max=49, min=10), IntSlider(value=10, description='N…"
      ]
     },
     "metadata": {},
     "output_type": "display_data"
    },
    {
     "data": {
      "text/plain": [
       "<function Euler_FB.BEuler(L, N, alpha, bA, bB, Nt, ht, tol, compara=False, ax=None)>"
      ]
     },
     "execution_count": 9,
     "metadata": {},
     "output_type": "execute_result"
    }
   ],
   "source": [
    "widgets.interact_manual(BEuler,\n",
    "                    L = widgets.fixed(L),\n",
    "                    N = widgets.IntSlider(min=10, max = 49, value=49, step=1),\n",
    "                    alpha = widgets.fixed(alpha),\n",
    "                    bA = widgets.fixed(bA),\n",
    "                    bB = widgets.fixed(bB),\n",
    "                    Nt = widgets.IntSlider(min=10, max=10000, value=10, step=10),\n",
    "                    ht = widgets.FloatSlider(min=1e-4, max=1e-3, value=1e-4, step=1e-4),\n",
    "                    tol = widgets.fixed(tolerancia),\n",
    "                    compara=widgets.fixed(False),\n",
    "                    ax=widgets.fixed(None))"
   ]
  },
  {
   "cell_type": "markdown",
   "id": "442f5501-bf33-4f24-9da3-7eb189d0fee8",
   "metadata": {},
   "source": [
    "# Comparación de los métodos de Euler"
   ]
  },
  {
   "cell_type": "code",
   "execution_count": 5,
   "id": "b156558b-c4ae-49a6-b3ab-0259a423b920",
   "metadata": {
    "tags": []
   },
   "outputs": [
    {
     "data": {
      "application/vnd.jupyter.widget-view+json": {
       "model_id": "c6769e677d2843d699725df9eefdedde",
       "version_major": 2,
       "version_minor": 0
      },
      "text/plain": [
       "interactive(children=(IntSlider(value=49, description='N', max=49, min=10), IntSlider(value=10, description='N…"
      ]
     },
     "metadata": {},
     "output_type": "display_data"
    },
    {
     "data": {
      "text/plain": [
       "<function Euler_FB.FE_vs_BE(L, N, alpha, bA, bB, Nt, ht, tol)>"
      ]
     },
     "execution_count": 5,
     "metadata": {},
     "output_type": "execute_result"
    }
   ],
   "source": [
    "widgets.interact_manual(FE_vs_BE,\n",
    "                    L = widgets.fixed(L),\n",
    "                    N = widgets.IntSlider(min=10, max = 49, value=49, step=1),\n",
    "                    alpha = widgets.fixed(alpha),\n",
    "                    bA = widgets.fixed(bA),\n",
    "                    bB = widgets.fixed(bB),\n",
    "                    Nt = widgets.IntSlider(min=10, max=10000, value=10, step=10),\n",
    "                    ht = widgets.FloatSlider(min=1e-4, max=1e-3, value=1e-4, step=1e-4),\n",
    "                    tol = widgets.fixed(tolerancia))"
   ]
  },
  {
   "cell_type": "code",
   "execution_count": null,
   "id": "a9002c45-a385-4a02-84c4-54555216603d",
   "metadata": {},
   "outputs": [],
   "source": []
  }
 ],
 "metadata": {
  "kernelspec": {
   "display_name": "Python 3 (ipykernel)",
   "language": "python",
   "name": "python3"
  },
  "language_info": {
   "codemirror_mode": {
    "name": "ipython",
    "version": 3
   },
   "file_extension": ".py",
   "mimetype": "text/x-python",
   "name": "python",
   "nbconvert_exporter": "python",
   "pygments_lexer": "ipython3",
   "version": "3.11.6"
  }
 },
 "nbformat": 4,
 "nbformat_minor": 5
}
