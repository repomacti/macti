{
 "cells": [
  {
   "cell_type": "code",
   "execution_count": 1,
   "id": "16d43e26-8d76-4c30-989e-55151a639a1b",
   "metadata": {},
   "outputs": [],
   "source": [
    "from ipywidgets import widgets\n",
    "from euler import decaimiento"
   ]
  },
  {
   "cell_type": "code",
   "execution_count": 2,
   "id": "3acc7595-5b04-4b0a-9e42-c5a747643b86",
   "metadata": {},
   "outputs": [
    {
     "data": {
      "application/vnd.jupyter.widget-view+json": {
       "model_id": "cc58b1775f5c42f288b72e70cc74a949",
       "version_major": 2,
       "version_minor": 0
      },
      "text/plain": [
       "interactive(children=(FloatSlider(value=1.5, description='λ', max=3.0, min=1.0), IntSlider(value=10, descripti…"
      ]
     },
     "metadata": {},
     "output_type": "display_data"
    },
    {
     "data": {
      "text/plain": [
       "<function euler.decaimiento(l=1.5, a=0.0, b=10, y0=20.0, Nt=10)>"
      ]
     },
     "metadata": {},
     "output_type": "display_data"
    }
   ],
   "source": [
    "w = widgets.interact(decaimiento, \n",
    "                     l = widgets.FloatSlider(min = 1.0, max = 3.0, value=1.5, description=chr(955)), \n",
    "                     a = widgets.fixed(0.0), b = widgets.fixed(10.0), \n",
    "                     y0 = widgets.fixed(20.0),\n",
    "                     Nt = widgets.IntSlider(min = 5, max = 50, value=10))\n",
    "display(w)"
   ]
  },
  {
   "cell_type": "code",
   "execution_count": null,
   "id": "7888b07b-d176-4a7d-802c-9db5cf1c3e9b",
   "metadata": {},
   "outputs": [],
   "source": []
  }
 ],
 "metadata": {
  "kernelspec": {
   "display_name": "Python 3 (ipykernel)",
   "language": "python",
   "name": "python3"
  },
  "language_info": {
   "codemirror_mode": {
    "name": "ipython",
    "version": 3
   },
   "file_extension": ".py",
   "mimetype": "text/x-python",
   "name": "python",
   "nbconvert_exporter": "python",
   "pygments_lexer": "ipython3",
   "version": "3.11.6"
  }
 },
 "nbformat": 4,
 "nbformat_minor": 5
}
