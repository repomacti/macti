{
 "cells": [
  {
   "cell_type": "markdown",
   "id": "6b14c288",
   "metadata": {},
   "source": [
    "# Interpolación: Diferencias divididas hacia adelante y hacia atrás \n",
    "\n",
    "**Objetivo general** \n",
    "- Entender e implementar el método de diferencias divididas hacia adelante y hacia atrás.\n",
    "- Entender la notación de Aikten para el cálculo de las diferencias divididas.\n",
    "\n",
    " <p xmlns:cc=\"http://creativecommons.org/ns#\" xmlns:dct=\"http://purl.org/dc/terms/\"><a property=\"dct:title\" rel=\"cc:attributionURL\" href=\"https://github.com/repomacti/macti/tree/main/notebooks/Analisis_Numerico_01\">MACTI-Analisis_Numerico_01</a> by <a rel=\"cc:attributionURL dct:creator\" property=\"cc:attributionName\" href=\"https://www.macti.unam.mx\">Luis M. de la Cruz</a> is licensed under <a href=\"http://creativecommons.org/licenses/by-sa/4.0/?ref=chooser-v1\" target=\"_blank\" rel=\"license noopener noreferrer\" style=\"display:inline-block;\">Attribution-ShareAlike 4.0 International<img style=\"height:22px!important;margin-left:3px;vertical-align:text-bottom;\" src=\"https://mirrors.creativecommons.org/presskit/icons/cc.svg?ref=chooser-v1\"><img style=\"height:22px!important;margin-left:3px;vertical-align:text-bottom;\" src=\"https://mirrors.creativecommons.org/presskit/icons/by.svg?ref=chooser-v1\"><img style=\"height:22px!important;margin-left:3px;vertical-align:text-bottom;\" src=\"https://mirrors.creativecommons.org/presskit/icons/sa.svg?ref=chooser-v1\"></a></p> \n",
    "\n",
    "**Trabajo realizado con el apoyo del Programa UNAM-DGAPA-PAPIME PE101922**"
   ]
  },
  {
   "cell_type": "markdown",
   "id": "7d282727",
   "metadata": {},
   "source": [
    "# Diferencias divididas hacia adelante"
   ]
  },
  {
   "cell_type": "markdown",
   "id": "a3c45102",
   "metadata": {},
   "source": [
    "Recordemos cómo es el polinomio de Newton utilizando diferencias divididas,\n",
    "\n",
    "\n",
    "$$ P_{n}\\left(x \\right) = f[x_{0}] + f[x_{0},x_{1}](x-x_{0}) + f[x_{0},x_{1},x_{2}](x-x_{0})(x-x_{1}) + \\dots + f[x_{0},x_{1},\\cdots,x_{n}](x-x_{0})(x-x_{1})\\cdots (x-x_{n}) $$"
   ]
  },
  {
   "cell_type": "markdown",
   "id": "1d3fe0e0",
   "metadata": {},
   "source": [
    "Ahora, si los valores de $x$ de los puntos que tenemos están igualmente espaciados, es decir, entre todos existe la misma difrencia.\n",
    "\n",
    "Ejemplo de conjuntos de valores de $x$ que cumplen con esto son,\n",
    "\n",
    "1. $x=[0,1,2,3,4,5]$ cada valor está a una unidad del otro\n",
    "2. $x=[-0.5,0,0.5,0.1,1.5]$ hay una diferencia cosntance de 0.5 entre todos\n",
    "3. $x=[4,8,12,16]$ cada uno está a cuatro unidades del otro."
   ]
  },
  {
   "cell_type": "markdown",
   "id": "00bf5b95",
   "metadata": {},
   "source": [
    "Entonces los multiplicandos $(x-x_{i})$ pueden expresarse como $[x-(x_{0}-i)h]$ donde $h$ es la diferencia constante entre dos puntos e $i=0,1,\\dots,n-1$.\n",
    "\n",
    "Cambiando la notación $s=x-x_{0}$, entonces $(x-x_{i})=(s-i)h$\n",
    "\n",
    "Por lo tanto,\n",
    "\n",
    "$$ P_{n}\\left(x \\right) = f[x_{0}] + f[x_{0},x_{1}]sh + f[x_{0},x_{1},x_{2}]s(s-1)h^{2} + \\dots + f[x_{0},x_{1},\\dots,x_{n}]s(s-1)\\cdots (s-n+1)h^{n} $$"
   ]
  },
  {
   "cell_type": "markdown",
   "id": "3cb23c81",
   "metadata": {},
   "source": [
    "Ahora, utilizando notacion de coeficiente binomial,\n",
    "\n",
    "$$\\binom{s}{k}=\\frac{s(s-1)\\cdots(s-k+1)}{k!}$$\n",
    "\n",
    "$$ P_{n}\\left(x \\right) = f[x_{0}] + \\sum_{k=1}^{n} f[x_{0},x_{1},\\dots,x_{k}]s(s-1)\\cdots (s-k+1)h^{k} $$\n",
    "$$ P_{n}\\left(x \\right) = f[x_{0}] + \\sum_{k=1}^{n} f[x_{0},x_{1},\\dots,x_{k}]\\binom{s}{k}k!h^{k} $$"
   ]
  },
  {
   "cell_type": "markdown",
   "id": "034c4d1f",
   "metadata": {},
   "source": [
    "También nos hace falta considerar un detalle.\n",
    "\n",
    "Y es que las diferencias divididas pueden calcularse ligeramente diferente. \n",
    "\n",
    "De $f[x_{0}]$,  $f[x_{1}]$, $f[x_{2}]$, hasta $f[x_{n}]$ no nos preocupamos pues son solo los correspondientes valores $y_{i}$ de los puntos que ya tenemos, pero por ejemplo,\n",
    "\n",
    "\n",
    "$$f[x_{0},x_{1}] = \\frac{f(x_{1})-f(x_{0})}{x_{1}-x_{0}}$$\n",
    "\n",
    "Como ya habíamos mencionado, $h$ es el valor de la diferencia entre los valores $x$ de dos puntos consecutivos, por simplicidad tomaremos $h=x_{1}-x_{0}$. Pero recordando que los valores $x$ estan igualmente espaciados, $x_{i}-x_{j}$ sigue siendo $h$ para cualquier $i>j$ con $i={1,2,\\dots,n}$ y $j={0,1,\\dots,n-1}$.\n",
    "\n",
    "Así, \n",
    "$$f[x_{0},x_{1}] = \\frac{f(x_{1})-f(x_{0})}{h}$$.\n"
   ]
  },
  {
   "cell_type": "markdown",
   "id": "90f97caa",
   "metadata": {},
   "source": [
    "## Notación de Aikten"
   ]
  },
  {
   "cell_type": "markdown",
   "id": "858e9996",
   "metadata": {},
   "source": [
    "Además, se puede utilizar la notación $\\Delta^{2}$ de Aikten (véase Analisis Númerico, Richard Burden, décima edición, p.64), donde $\\Delta f(x_{0}) = f(x_{1}) - f(x_{0})$ y $\\Delta^{k} = \\Delta(\\Delta^{k-1})$ se define de manera recursiva, por ejemplo,\n",
    "\n",
    "$\\Delta^{2} = \\Delta(\\Delta f(x_{0})) = \\Delta(f(x_{1}) - f(x_{0}))=\\Delta f(x_{1})-\\Delta f(x_{0}) = f(x_{2}) - f(x_{1}) - \\left(f(x_{1}) - f(x_{0})\\right)$"
   ]
  },
  {
   "cell_type": "markdown",
   "id": "cbd0f958",
   "metadata": {},
   "source": [
    "## Ejercicio 1\n",
    "\n",
    "Calcula, usando la notación de Akiten y el término $h$, la segunda diferencia dividida $f[x_{0},x_{1},x_{2}]$. Recomendación: primero escribe la diferencia dividida en términos de $f[x_{0},x_{1}]$ y de $f[x_{1},x_{2}]$"
   ]
  },
  {
   "cell_type": "markdown",
   "id": "468eca35",
   "metadata": {},
   "source": [
    "**Solución**\n",
    "\n",
    "\n",
    "$$=\\frac{\\frac{f(x_{2}-f(x_{1})}{x_{2}-x_{1}}-\\frac{f(x_{1}-f(x_{0})}{x_{1}-x_{0}}}{x_{2}-x_{0}} = \\frac{\\frac{\\Delta f(x_{1})}{h} - \\frac{\\Delta f(x_{0})}{h}}{2h} = \\frac{\\frac{1}{h}\\Delta \\left( f(x_{1})-f(x_{0}) \\right)}{2h} = \\frac{\\Delta \\left( f(x_{1})-f(x_{0}) \\right)}{2h^{2}} = \\frac{\\Delta^{2} f(x_{0})} {2h^{2}}$$"
   ]
  },
  {
   "cell_type": "markdown",
   "id": "b81d1228",
   "metadata": {},
   "source": [
    "## Ejercicio 2\n",
    "\n",
    "Nuevamente, usando la notación de Akiten y el término $h$, calcula la tercera diferencia dividida $f[x_{0},x_{1},x_{2},x_{3}]$. Recomendación: utiliza la diferencia dividida calculada anteriormente"
   ]
  },
  {
   "cell_type": "markdown",
   "id": "0fc5fec6",
   "metadata": {},
   "source": [
    "**Solución**\n",
    "\n",
    "$$\\frac{\\Delta^{3}f(x_{0})}{3! h^{3}}$$"
   ]
  },
  {
   "cell_type": "markdown",
   "id": "d9d083c0",
   "metadata": {},
   "source": [
    "Así, \n",
    "\n",
    "$$f[x_{0},x_{1},\\dots,x_{k}] = \\frac{1}{k!h^{k}}\\Delta^{k}f(x_{0}) $$\n",
    "\n",
    "Por lo tanto, la expresión que teníamos $ P_{n}\\left(x \\right) = f[x_{0}] + \\sum_{k=1}^{n} f[x_{0},x_{1},\\dots,x_{k}]\\binom{s}{k}k!h^{k} $, la podemos reescribir como,\n",
    "\n",
    "\n",
    "$$P_{n}\\left(x \\right) = f[x_{0}] + \\sum_{k=1}^{n}\\Delta^{k}f(x_{0}) \\binom{s}{k} $$"
   ]
  },
  {
   "cell_type": "markdown",
   "id": "9c1ae071",
   "metadata": {},
   "source": [
    "Nuestro codigo será muy parecido al anterior pero definiremos nuevas funciones"
   ]
  },
  {
   "cell_type": "code",
   "execution_count": 1,
   "id": "f0ece672",
   "metadata": {},
   "outputs": [],
   "source": [
    "import numpy as np \n",
    "import matplotlib.pyplot as plt \n",
    "from ipywidgets import interact "
   ]
  },
  {
   "cell_type": "markdown",
   "id": "bc636f90",
   "metadata": {},
   "source": [
    "La función `factorial()` la definimos como sigue:"
   ]
  },
  {
   "cell_type": "code",
   "execution_count": 2,
   "id": "b70d53f0",
   "metadata": {},
   "outputs": [],
   "source": [
    "def factorial(n):\n",
    "    \"\"\"\n",
    "    funcion factorial\n",
    "    \n",
    "    Recodermos que la función facotrial se calcula como n*n(n-1)*...*1\n",
    "    \n",
    "    Input\n",
    "    n: el número del que queremos conocer su facotrial. Debe ser mayor o igual que cero\n",
    "    \n",
    "    \n",
    "    Output:\n",
    "    \n",
    "    j: el factorial del número.\n",
    "    \n",
    "    \"\"\"\n",
    "    j=1\n",
    "    for i in range(2,n+1):\n",
    "        j = j*i\n",
    "    return j"
   ]
  },
  {
   "cell_type": "markdown",
   "id": "17f2a7dc",
   "metadata": {},
   "source": [
    "Luego, definimos una función para calcular un coeficiente binomial,"
   ]
  },
  {
   "cell_type": "code",
   "execution_count": 3,
   "id": "468e55c5",
   "metadata": {},
   "outputs": [],
   "source": [
    "def coefBinom(s,k):\n",
    "    \"\"\"\n",
    "    El coeficiente binomial calcula el número toal de formas de escoger k elementos no ordendos de n elementos. \n",
    "    Además el coeficiente (n,k) es el coeficiente que acompaña al término x^k del binomio (1+x)^k \n",
    "    \n",
    "    Input:\n",
    "    s: el número total de elementos\n",
    "    k: los k elementos sin ordenar que queremos obtener\n",
    "    \n",
    "    Output:\n",
    "    result: el resultado del coeficiente binomial\n",
    "    \"\"\"\n",
    "    numerador = factorial(s)\n",
    "    denominador = factorial(k)*factorial(s-k)\n",
    "    result = numerador/denominador\n",
    "    return int(result)\n",
    "    "
   ]
  },
  {
   "cell_type": "code",
   "execution_count": 4,
   "id": "53885096",
   "metadata": {},
   "outputs": [
    {
     "data": {
      "text/plain": [
       "42"
      ]
     },
     "execution_count": 4,
     "metadata": {},
     "output_type": "execute_result"
    }
   ],
   "source": [
    "coefBinom(7,2)*factorial(2)"
   ]
  },
  {
   "cell_type": "markdown",
   "id": "1b0fb2d1",
   "metadata": {},
   "source": [
    "Para el caso del código de diferencias divididas hacemos un pequeño cambio. Ya sabemos que $f[x_{0,x_{1},\\dots,x_{k}}] = \\frac{1}{k!h^{k}}\\Delta^{k}f(x_{0}) $.\n",
    "\n",
    "$\\Delta^{k}f(x_{0})$, que solo son diferencias de valores $f(x_{i})$, ya se está obteniendo con la parte de \n",
    "`(coef[i+1][j-1] - coef[i][j-1])`. Y como en el código, las diferencias divididas las calculamos a partir de anteriores, no necesitamos calcular desde cero cada $\\Delta^{k} f(x_{0})$. \n",
    "\n",
    "En el denominador ahora podemos usar `h` en vez de `(x[i+j]-x[i])` porque la diferencia es constante. Y nuevamente, dado que calculamos las diferencias divididas a partir de anteriores, no necesitamos elevar $h$ a la $k$. El resultado de términos anteriores ya incluye la división entre $h$, por lo que se irán acumulando las divisiones entre $h$ y por lo tanto no necesitamos calcular $h^{k}$ en cada diferencia dividida.\n",
    "\n",
    "Finalmente, agregamos `factorial(j)` en el denominador para calcular $\\frac{1}{k!}$"
   ]
  },
  {
   "cell_type": "code",
   "execution_count": 5,
   "id": "3b45115d",
   "metadata": {},
   "outputs": [],
   "source": [
    "def diferencias_divididas(x,y):\n",
    "    \"\"\"\n",
    "    diferencias_divididas recibe como entrada los valores x y los valores y de los puntos que tenemos y  \n",
    "    calcula los coeficientes del polinomio de interpolación o lo mismo, las diferencias divididas de igual manera\n",
    "    que como rellenamos la tabla y devuelve la tabla con los valores\n",
    "    \n",
    "    Input: \n",
    "    x: el arreglo de los valores x de los puntos que conocemos\n",
    "    y: el arreglo de los valores y de los puntos que conocemos\n",
    "    \n",
    "    Output:\n",
    "    coef: matriz o tabla de las diferencias divididas\n",
    "    \n",
    "    \"\"\"\n",
    "    h = int(np.abs(x[1]-x[0])) #usamos el valor abosluto para el caso de que el valor 1 o 2 de los valores x que tenemos sean negativos\n",
    "    n = len(y)\n",
    "    \n",
    "    # crea una matriz de ceros de n filas por n columnas con n igual a el número de elementos de valores de y\n",
    "\n",
    "    coef = np.zeros([n,n])\n",
    "    \n",
    "    # rellena la primera columna de la matriz de coeficientes con los datos y\n",
    "    coef[:,0] = y\n",
    "    \n",
    "    # para el indice de la columna de 1 hasta el n-esimo punto\n",
    "    for j in range(1,n):\n",
    "        # para el indice de la fila desde el n-esimo punto menos el valor de la columna\n",
    "        for i in range(n-j):\n",
    "            # el valor de la matriz en la fila i y en la columna j es el valor ...\n",
    "            coef[i][j] = (coef[i+1][j-1] - coef[i][j-1])/(j*h)\n",
    "    \n",
    "    return coef"
   ]
  },
  {
   "cell_type": "code",
   "execution_count": 6,
   "id": "ac1280c3",
   "metadata": {},
   "outputs": [
    {
     "name": "stdout",
     "output_type": "stream",
     "text": [
      "[[ 0.  1.  3.  1.]\n",
      " [ 1.  7.  6.  0.]\n",
      " [ 8. 19.  0.  0.]\n",
      " [27.  0.  0.  0.]]\n"
     ]
    }
   ],
   "source": [
    "x = np.array([0, 1, 2, 3])\n",
    "y = np.array([0, 1, 8, 27])\n",
    "\n",
    "tabla_de_diferencias  = diferencias_divididas(x, y)\n",
    "\n",
    "print(tabla_de_diferencias)"
   ]
  },
  {
   "cell_type": "markdown",
   "id": "86c12737",
   "metadata": {},
   "source": [
    "Finalmente, los términos que acompañan a las diferencias divididas son el coeficiente binomial, el factorial de $k$ y $h^{k}$, por ello cambiamos la función multiplicandos."
   ]
  },
  {
   "cell_type": "code",
   "execution_count": 7,
   "id": "4ef19425",
   "metadata": {},
   "outputs": [],
   "source": [
    "def multiplicandos(i, value, x):\n",
    "    \"\"\"\n",
    "    Calcula (s,k)*k!*h^{k}\n",
    "    \n",
    "    Input:\n",
    "    i: i es el valor de k. Como k va 1 hasta el número de puntos que tenemos lo representamos con i y \n",
    "    es un valor cambiante en la funcion de polinomiodeNewton de mas adelante.\n",
    "    value: el valor al que queremos interpolar.\n",
    "    x: el arreglo o lista de valores x de nuestros puntos\n",
    "    \n",
    "    Output: \n",
    "    \n",
    "    multplicando: (s,k)*k!*h^{k}\n",
    "    \n",
    "    \"\"\"\n",
    "    h = int(np.abs(np.abs(x[1]))-np.abs(x[0]))\n",
    "    s = int((value-x[0])/h)\n",
    "    multiplicando = 1;\n",
    "    for k in range(1,i+1):\n",
    "        multiplicando = coefBinom(s,k) * factorial(k) *(h**(k)) \n",
    "    return multiplicando;"
   ]
  },
  {
   "cell_type": "markdown",
   "id": "6524506f",
   "metadata": {},
   "source": [
    "Al final, juntamos las diferencias divididas y los multiplicnados que las acompañan. Por lo que, de manera similar a la función del polinomio de interpolación de Newton, creamos una funcion llamada `diferencias_hacia_adelanteNewton()`."
   ]
  },
  {
   "cell_type": "code",
   "execution_count": 8,
   "id": "b9db6c48",
   "metadata": {},
   "outputs": [],
   "source": [
    "def diferencias_hacia_adelanteNewton(value, x, tabla, n):\n",
    " \n",
    "    sum = tabla[0][0]\n",
    "    h = int(np.abs(np.abs(x[1]))-np.abs(x[0]))\n",
    "\n",
    "    for i in range(1, n):\n",
    "        sum = sum + (multiplicandos(i, value, x) * tabla[0][i]);     \n",
    "    return sum;"
   ]
  },
  {
   "cell_type": "code",
   "execution_count": 9,
   "id": "06b03c38",
   "metadata": {},
   "outputs": [
    {
     "data": {
      "text/plain": [
       "64.0"
      ]
     },
     "execution_count": 9,
     "metadata": {},
     "output_type": "execute_result"
    }
   ],
   "source": [
    "diferencias_hacia_adelanteNewton(4,x,tabla_de_diferencias,4)"
   ]
  },
  {
   "cell_type": "code",
   "execution_count": 17,
   "id": "a329323c",
   "metadata": {},
   "outputs": [
    {
     "name": "stdout",
     "output_type": "stream",
     "text": [
      "[1.0, 1.0, 8.0, 27.0, 64.0]\n"
     ]
    },
    {
     "data": {
      "image/png": "[encoded data removed]",
      "text/plain": [
       "<Figure size 640x480 with 1 Axes>"
      ]
     },
     "metadata": {},
     "output_type": "display_data"
    }
   ],
   "source": [
    "puntosx = [0,1,2,3,4]\n",
    "\n",
    "\n",
    "fx = []\n",
    "for i in puntosx:\n",
    "    fx.append(diferencias_hacia_adelanteNewton(i,x,tabla_de_diferencias,4))\n",
    "    \n",
    "print(fx)\n",
    "    \n",
    "plt.plot(puntosx,fx)\n",
    "plt.grid()\n",
    "plt.show()"
   ]
  },
  {
   "cell_type": "markdown",
   "id": "a2b39577",
   "metadata": {},
   "source": [
    "# Diferencias hacia atrás"
   ]
  },
  {
   "cell_type": "markdown",
   "id": "7027e964",
   "metadata": {},
   "source": [
    "Ahora, si empezamos por las diferencias divididas del final, tendríamos que \n",
    "\n",
    "$$P_{n}(x) = f[x_{n}]+f[x_{n},x_{n-1}](x-x_{n})+f[x_{n},x_{n-1},x_{n-2}](x-x_{n})(x-x_{n-1}) + \\cdots + f[x_{n},\\dots,x_{0}](x-x_{n})(x-x_{n-1})\\cdots(x-x_{1})$$\n",
    "\n",
    "Nuevamente, consideraremos que los valores $x$ de los puntos tienen el mismo espaciado.\n",
    "\n",
    "Ahora $x=x_{n}+sh$ donde $h$ es la diferencia constante entre dos valores $x$ contiguos y $x=x_{i}+(s+n-i)h$.\n",
    "\n",
    "Por lo tanto,\n",
    "\n",
    "$$P_{n}(x) = f[x_{n}]+f[x_{n},x_{n-1}](sh)+f[x_{n},x_{n-1},x_{n-2}]s(s+1)h^{2} + \\cdots + f[x_{n},\\dots,x_{0}]s(s+1)(s+2)\\cdots(s+n-1)h^{n}$$\n",
    "\n",
    "Introducimos una nueva notación para expresar las diferencias divididas. En vez de $\\Delta$ ahora usamos $\\nabla$, donde $\\nabla f(x_{n}) = f(x_{n})-f(x_{n-1})$ y $\\nabla^{k} \\left(f(x_{n}) \\right) = \\nabla \\left(\\nabla^{k-1} f(x_{n}) \\right)$.\n",
    "\n",
    "Así, cada $f[x_{n},x_{n-1},\\dots,x_{n-k}] = \\frac{1}{k!h^{k}}\\nabla^{k}f(x_{n})$.\n",
    "\n",
    "Finalmente, otra vez podemos reescibir los multiplicandos usando un coeficiente binomial.\n",
    "\n",
    "$$\\binom{-s}{k} = \\frac{(-1)\\cdots(-s)(-s-1)\\cdots(-s-k+1)}{(k!)(-s-1)!}=\\frac{(-1)(s)(-1)(s+1)\\cdots(-1)(s+k-1)}{k!} = \\frac{(-1)^{k}(s)(s+1)\\cdots(s+k-1)}{k!}$$\n",
    "\n",
    "Nota: cuando multipliquemos las diferencias divididas por los multiplicandos usando los coeficientes binomiales, multiplicaremos por $(-1)^{k}$ para quedarnos con una expresión positiva $(s)(s+1) \\cdots (s+k-1)$, que nos interesa como equivalencia a $(x-x_{n})\\cdots(x-x_{n-k-1})$ y no con la forma negativa $(-s)(-s-1)\\cdots(-s-k+1)$ que nos ofrece el coeficiente binomial negativo."
   ]
  },
  {
   "cell_type": "markdown",
   "id": "07d0dced",
   "metadata": {},
   "source": [
    "Así, finalmente $P_{n}(x)$ es igual a \n",
    "\n",
    "$$P_{n}(x) = f[x_{n}]+f[x_{n},x_{n-1}](sh)+f[x_{n},x_{n-1},x_{n-2}]s(s+1)h^{2} + \\cdots + f[x_{n},\\dots,x_{0}]s(s+1)(s+2)\\cdots(s+n-1)h^{n}$$\n",
    "\n",
    "$$P_{n}(x) = f[x_{n}]+\\sum_{k=1}^{n}f[x_{n},x_{n-1},\\dots,x_{n-k}]\\binom{-s}{k}(-1)^{k}k!h^{k}$$\n",
    "\n",
    "Y por la expresion $\\nabla$ de las diferencia divididas,\n",
    "\n",
    "$$P_{n}(x) = f[x_{n}]+\\sum_{k=1}^{n}\\frac{1}{k!h^{k}}\\nabla^{k}f(x_{n})\\binom{-s}{k}(-1)^{k}k!h^{k}$$\n",
    "\n",
    "$$P_{n}(x) = f[x_{n}]+\\sum_{k=1}^{n}\\nabla^{k}f(x_{n})(-1)^{k}\\binom{-s}{k}$$"
   ]
  },
  {
   "cell_type": "markdown",
   "id": "46e198b6",
   "metadata": {},
   "source": [
    "Para hacer lo anterior definimos una función para el coeficiente binomialnegativo (por cuestiones de practicidad no usamos los números negativos para posteriormente obtener números positivos multiplicando por $(-1)^{k}$, desde el principio obtenemos los términos positivos)"
   ]
  },
  {
   "cell_type": "code",
   "execution_count": 11,
   "id": "3e79093e",
   "metadata": {},
   "outputs": [],
   "source": [
    "def coefbinomneg(s,k):\n",
    "    \"\"\"\n",
    "    Calcula un coeficiente binomial negativo.\n",
    "    \n",
    "    Input\n",
    "    s: el número total de elementos\n",
    "    k: los k elementos sin ordenar que queremos obtener\n",
    "    \n",
    "    \n",
    "    Output:\n",
    "    result: el coeficiente binomial negativo (en forma postivia) de los parámetros \n",
    "    s y k\n",
    "    \n",
    "    \"\"\"\n",
    "    numerador = factorial(s+k-1)\n",
    "    #print(\"numerador \"  +str(numerador))\n",
    "    denominador = factorial(k)*factorial(s-1)\n",
    "    #print(\"denominador \" + str(denominador))\n",
    "    result = numerador/denominador\n",
    "    return int(result)"
   ]
  },
  {
   "cell_type": "code",
   "execution_count": 12,
   "id": "cf3a90c9",
   "metadata": {},
   "outputs": [],
   "source": [
    "def multiplicandoN(i,value,x):\n",
    "    \"\"\"\n",
    "    Realiza el calculo de los multiplicandos de la\n",
    "    interpolacion con diferencias hacia atrás, utilizando el coeficiente binomial negativo\n",
    "    que nos ayuda a obtener (s)(s+1)...(s+k-1)/k!; el factorial de k para cancelarlo \n",
    "    con el de coeficiente binomial; y h^k donde h es la diferencia entre dos valores\n",
    "    de x de dos puntos adyacentes.\n",
    "    \n",
    "    Input\n",
    "    i: i es el valor de k. Como k va 1 hasta el número de puntos que tenemos lo representamos con i y \n",
    "    es un valor cambiante en la funcion de polinomiodeNewton de mas adelante.\n",
    "    value: el valor al que queremos interpolar.\n",
    "    x: el arreglo o lista de valores x de nuestros puntos\n",
    "    \"\"\"\n",
    "    h = int(np.abs(np.abs(x[1]))-np.abs(x[0]))\n",
    "    \n",
    "    s = int((value-x[len(x)-1])/h)\n",
    "    \n",
    "    multiplicando= 1\n",
    "    for k in range(1,i+1):\n",
    "        multiplicando = coefbinomneg(s,k)*factorial(k)*(h**k)\n",
    "    return multiplicando"
   ]
  },
  {
   "cell_type": "code",
   "execution_count": 13,
   "id": "d5b8279f",
   "metadata": {},
   "outputs": [],
   "source": [
    "def diferencias_hacia_atrasNewton(value, x, tabla, n):\n",
    "    \"\"\"\n",
    "    Calcula el valor y que correspondería a cierto valor que \n",
    "    nos interesa saber utilizando diferencias divididas hacia atrás. \n",
    "    A diferencia de las diferencias divididas hacia adelante, en esta ocasión empezará\n",
    "    por los últimos valores de las diferencias divididas hasta llegar a la n-ésima\n",
    "    diferencia dividida que compartirá con las diferencias divididas hacia adelante.\n",
    "    \n",
    "    Input: \n",
    "    \n",
    "    value: el valor que queremos interpolar\n",
    "    x: el arreglo de valores de x de los puntos que conocemos\n",
    "    tabla: la matriz o arreglo de las diferencias divididas \n",
    "    n: el número de puntos\n",
    "    \n",
    "    Output:\n",
    "    sum: el valor y para el número que nos interesa.\n",
    "    \"\"\" \n",
    "    sum = tabla[n-1][0]\n",
    "    h = int(np.abs(np.abs(x[1]))-np.abs(x[0]))\n",
    "\n",
    "    for i in range(1, n):\n",
    "        sum = sum + (multiplicandoN(i, value, x) * tabla[n-1-i][i]);\n",
    "    return sum;"
   ]
  },
  {
   "cell_type": "code",
   "execution_count": 14,
   "id": "235652b2",
   "metadata": {},
   "outputs": [
    {
     "data": {
      "text/plain": [
       "216.0"
      ]
     },
     "execution_count": 14,
     "metadata": {},
     "output_type": "execute_result"
    }
   ],
   "source": [
    "diferencias_hacia_atrasNewton(6,x,tabla_de_diferencias,4)"
   ]
  },
  {
   "cell_type": "code",
   "execution_count": 16,
   "id": "57282e88",
   "metadata": {},
   "outputs": [
    {
     "data": {
      "image/png": "[encoded data removed]",
      "text/plain": [
       "<Figure size 640x480 with 1 Axes>"
      ]
     },
     "metadata": {},
     "output_type": "display_data"
    }
   ],
   "source": [
    "puntosx = [4,5,6,7,8,9,10]\n",
    "\n",
    "fx = []\n",
    "for i in puntosx:\n",
    "    fx.append(diferencias_hacia_atrasNewton(i,x,tabla_de_diferencias,4))\n",
    "    \n",
    "plt.plot(puntosx,fx)\n",
    "plt.grid()\n",
    "plt.show()"
   ]
  },
  {
   "cell_type": "markdown",
   "id": "5ccb8217",
   "metadata": {},
   "source": [
    "## Ejercicio 3\n",
    "Obten la tabla de diferencias divididas y grafica el resultado de interpolar los valores $[8,10,12,14]$ dado los puntos\n",
    "$(0,2)$,$(2,13)$,$(4,69)$ y $(6,221)$ con el método de diferencias divididas hacia atrás."
   ]
  },
  {
   "cell_type": "code",
   "execution_count": 18,
   "id": "75b65c3a",
   "metadata": {},
   "outputs": [
    {
     "name": "stdout",
     "output_type": "stream",
     "text": [
      "[[  5.   4.   6.   1.]\n",
      " [ 13.  28.  12.   0.]\n",
      " [ 69.  76.   0.   0.]\n",
      " [221.   0.   0.   0.]]\n"
     ]
    }
   ],
   "source": [
    "a=np.array([0,2,4,6])\n",
    "b=np.array([5,13,69,221])\n",
    "\n",
    "tablasolucion = diferencias_divididas(a,b)\n",
    "print(diferencias_divididas(a,b))"
   ]
  },
  {
   "cell_type": "code",
   "execution_count": 19,
   "id": "6753036b",
   "metadata": {},
   "outputs": [
    {
     "data": {
      "image/png": "[encoded data removed]",
      "text/plain": [
       "<Figure size 640x480 with 1 Axes>"
      ]
     },
     "metadata": {},
     "output_type": "display_data"
    }
   ],
   "source": [
    "valoresx=[8,10,12,14]\n",
    "\n",
    "fx= []\n",
    "for i in valoresx:\n",
    "    fx.append(diferencias_hacia_atrasNewton(i,a,tablasolucion,4))\n",
    "    \n",
    "plt.plot(valoresx,fx)\n",
    "plt.grid()\n",
    "plt.show()"
   ]
  },
  {
   "cell_type": "code",
   "execution_count": null,
   "id": "329e9440",
   "metadata": {},
   "outputs": [],
   "source": []
  },
  {
   "cell_type": "code",
   "execution_count": null,
   "id": "234e36d4-1149-4806-a74c-3db5a243b983",
   "metadata": {},
   "outputs": [],
   "source": []
  }
 ],
 "metadata": {
  "kernelspec": {
   "display_name": "Python 3 (ipykernel)",
   "language": "python",
   "name": "python3"
  },
  "language_info": {
   "codemirror_mode": {
    "name": "ipython",
    "version": 3
   },
   "file_extension": ".py",
   "mimetype": "text/x-python",
   "name": "python",
   "nbconvert_exporter": "python",
   "pygments_lexer": "ipython3",
   "version": "3.11.6"
  }
 },
 "nbformat": 4,
 "nbformat_minor": 5
}
