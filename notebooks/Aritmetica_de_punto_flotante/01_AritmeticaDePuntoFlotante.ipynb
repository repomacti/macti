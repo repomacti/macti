{
 "cells": [
  {
   "cell_type": "markdown",
   "metadata": {},
   "source": [
    "# Aritmética de Punto flotante\n",
    "\n",
    "**Objetivo general.**\n",
    "- Revisar y entender cómo funcionan los números y la aritmética de punto flotante.\n",
    "\n",
    " <p xmlns:cc=\"http://creativecommons.org/ns#\" xmlns:dct=\"http://purl.org/dc/terms/\"><a property=\"dct:title\" rel=\"cc:attributionURL\" href=\"https://github.com/repomacti/macti/tree/main/notebooks/Analisis_Numerico_01\">MACTI-Analisis_Numerico_01</a> by <a rel=\"cc:attributionURL dct:creator\" property=\"cc:attributionName\" href=\"https://www.macti.unam.mx\">Luis M. de la Cruz</a> is licensed under <a href=\"http://creativecommons.org/licenses/by-sa/4.0/?ref=chooser-v1\" target=\"_blank\" rel=\"license noopener noreferrer\" style=\"display:inline-block;\">Attribution-ShareAlike 4.0 International<img style=\"height:22px!important;margin-left:3px;vertical-align:text-bottom;\" src=\"https://mirrors.creativecommons.org/presskit/icons/cc.svg?ref=chooser-v1\"><img style=\"height:22px!important;margin-left:3px;vertical-align:text-bottom;\" src=\"https://mirrors.creativecommons.org/presskit/icons/by.svg?ref=chooser-v1\"><img style=\"height:22px!important;margin-left:3px;vertical-align:text-bottom;\" src=\"https://mirrors.creativecommons.org/presskit/icons/sa.svg?ref=chooser-v1\"></a></p> \n",
    "\n",
    "Trabajo realizado con el apoyo del Programa UNAM-DGAPA-PAPIME PE101922"
   ]
  },
  {
   "cell_type": "markdown",
   "metadata": {},
   "source": [
    "# Introducción.\n",
    "La aritmética que se realiza en una computadora digital es diferente de la que se usa en matemáticas, por ejemplo: \n",
    "* $2 + 2 = 4$"
   ]
  },
  {
   "cell_type": "code",
   "execution_count": 1,
   "metadata": {},
   "outputs": [
    {
     "data": {
      "text/plain": [
       "4"
      ]
     },
     "execution_count": 1,
     "metadata": {},
     "output_type": "execute_result"
    }
   ],
   "source": [
    "2 + 2 "
   ]
  },
  {
   "cell_type": "markdown",
   "metadata": {},
   "source": [
    "* $4^2 = 16$"
   ]
  },
  {
   "cell_type": "code",
   "execution_count": 2,
   "metadata": {},
   "outputs": [
    {
     "data": {
      "text/plain": [
       "16"
      ]
     },
     "execution_count": 2,
     "metadata": {},
     "output_type": "execute_result"
    }
   ],
   "source": [
    "4**2"
   ]
  },
  {
   "cell_type": "markdown",
   "metadata": {},
   "source": [
    "* $ \\left(\\sqrt{3}\\right)^2 = 3 $"
   ]
  },
  {
   "cell_type": "code",
   "execution_count": 3,
   "metadata": {},
   "outputs": [
    {
     "data": {
      "text/plain": [
       "2.9999999999999996"
      ]
     },
     "execution_count": 3,
     "metadata": {},
     "output_type": "execute_result"
    }
   ],
   "source": [
    "import math\n",
    "math.sqrt(3)**2"
   ]
  },
  {
   "cell_type": "markdown",
   "metadata": {},
   "source": [
    "Observa que en este último ejemplo, el resultado no es exacto, solo aproximado al valor real.\n",
    "\n",
    "En la aritmética continua se permite que un número real pueda tener un número infinito de dígitos.\n",
    "\n",
    "$$\\frac{1}{3} = 0.3333333 \\dots 33333 \\dots $$\n",
    "\n",
    "Pero en una computadora solo puede representar un subconjunto de los números reales, el cual solo contiene números racionales (positivos y negativos)."
   ]
  },
  {
   "cell_type": "code",
   "execution_count": 4,
   "metadata": {},
   "outputs": [
    {
     "data": {
      "text/plain": [
       "0.3333333333333333"
      ]
     },
     "execution_count": 4,
     "metadata": {},
     "output_type": "execute_result"
    }
   ],
   "source": [
    "1/3"
   ]
  },
  {
   "cell_type": "code",
   "execution_count": 5,
   "metadata": {},
   "outputs": [
    {
     "data": {
      "text/plain": [
       "'0.3333333333333333148296162562473909929394721984863281250'"
      ]
     },
     "execution_count": 5,
     "metadata": {},
     "output_type": "execute_result"
    }
   ],
   "source": [
    "format(1/3, '.55f')"
   ]
  },
  {
   "cell_type": "markdown",
   "metadata": {},
   "source": [
    "En el hardware de una computadora, los números se aproximan en base binaria; particularmente los números de punto flotante se aproximan con fracciones binarias. Por ejemplo, la fracción binaria $0.101$ se aproxima como sigue:\n",
    "\n",
    "$$\n",
    "0.101 = \\frac{1}{2^1} + \\frac{0}{2^2} + \\frac{1}{2^3} = 0.5 + 0.125 = 0.625\n",
    "$$\n",
    "\n",
    "Observe que la suma de fracciones anterior se puede escribir como: \n",
    "\n",
    "$$\n",
    "\\frac{1 * 2^2 + 1}{2^3} = \\frac{5}{2^3} = 0.625 \n",
    "$$\n",
    "\n",
    "es decir, la representación del número $0.625$ está dada en la forma: $\\displaystyle \\frac{J}{2^N}$.\n",
    "\n",
    "En base 10 el número anterior se puede representar somo sigue:\n",
    "\n",
    "$$\n",
    "0.625 = \\frac{6}{10} + \\frac{2}{10^2} + \\frac{5}{10^3}\n",
    "$$\n",
    "\n",
    "**Pero no siempre es posible representar los números de punto flotante con fracciones binarias**.\n",
    "\n",
    "Como se puedo observar anteriormente, la fracción $1/3$ se puede aproximar como una fracción en base $10$. Por ejemplo: \n",
    "$$\n",
    "\\begin{eqnarray}\n",
    "0.3 & = & \\frac{3}{10} \\\\\n",
    "0.33 & = & \\frac{3}{10} + \\frac{3}{100} \\\\\n",
    "0.333 & = &\\frac{3}{10} + \\frac{3}{100} + \\frac{3}{1000}\n",
    "\\end{eqnarray}\n",
    "$$\n",
    "\n",
    "Pero en binario no es posible representar $1/3$ de manera exacta. \n",
    "\n",
    "Otro ejemplo es el número $0.1 = 1/10$:"
   ]
  },
  {
   "cell_type": "code",
   "execution_count": 6,
   "metadata": {},
   "outputs": [
    {
     "name": "stdout",
     "output_type": "stream",
     "text": [
      "0.1\n"
     ]
    }
   ],
   "source": [
    "print(0.1)"
   ]
  },
  {
   "cell_type": "code",
   "execution_count": 7,
   "metadata": {},
   "outputs": [
    {
     "name": "stdout",
     "output_type": "stream",
     "text": [
      "0.1\n"
     ]
    }
   ],
   "source": [
    "print(1/10) # El resultado que imprime se ve correcto\n",
    "            # pero el resultado de la operación es \n",
    "            # la fracción binaria representable más cercana\n",
    "            # al valor correcto."
   ]
  },
  {
   "cell_type": "code",
   "execution_count": 8,
   "metadata": {},
   "outputs": [
    {
     "data": {
      "text/plain": [
       "'0.1000000000000000055511151231257827021181583404541015625'"
      ]
     },
     "execution_count": 8,
     "metadata": {},
     "output_type": "execute_result"
    }
   ],
   "source": [
    "format(0.1, '.55f') "
   ]
  },
  {
   "cell_type": "code",
   "execution_count": 9,
   "metadata": {},
   "outputs": [
    {
     "data": {
      "text/plain": [
       "'0.1000000000000000055511151231257827021181583404541015625'"
      ]
     },
     "execution_count": 9,
     "metadata": {},
     "output_type": "execute_result"
    }
   ],
   "source": [
    "format(1/10, '.55f') "
   ]
  },
  {
   "cell_type": "markdown",
   "metadata": {},
   "source": [
    "Existen varios números decimales que comparten la misma fracción binaria más aproximada. \n",
    "\n",
    "Por ejemplo, los siguientes números \n",
    "$$\n",
    "\\begin{array}{l}\n",
    "0.1 \\\\ \n",
    "0.10000000000000001 \\\\ \n",
    "0.1000000000000000055511151231257827021181583404541015625\n",
    "\\end{array}\n",
    "$$\n",
    "\n",
    "son todos aproximados por la siguiente fracción:\n",
    "$$\n",
    "\\frac{3602879701896397}{2^{55}} \n",
    "$$"
   ]
  },
  {
   "cell_type": "code",
   "execution_count": 10,
   "metadata": {},
   "outputs": [
    {
     "data": {
      "text/plain": [
       "'0.1000000000000000055511151231257827021181583404541015625'"
      ]
     },
     "execution_count": 10,
     "metadata": {},
     "output_type": "execute_result"
    }
   ],
   "source": [
    "format(3602879701896397 / 2 ** 55, '.55f')"
   ]
  },
  {
   "cell_type": "code",
   "execution_count": 11,
   "metadata": {},
   "outputs": [
    {
     "data": {
      "text/plain": [
       "'0.1000000000000000055511151231257827021181583404541015625'"
      ]
     },
     "execution_count": 11,
     "metadata": {},
     "output_type": "execute_result"
    }
   ],
   "source": [
    "format(0.10000000000000001, '.55f') "
   ]
  },
  {
   "cell_type": "code",
   "execution_count": 12,
   "metadata": {},
   "outputs": [
    {
     "data": {
      "text/plain": [
       "'0.1000000000000000055511151231257827021181583404541015625'"
      ]
     },
     "execution_count": 12,
     "metadata": {},
     "output_type": "execute_result"
    }
   ],
   "source": [
    "format(0.1000000000000000055511151231257827021181583404541015625, '.55f') "
   ]
  },
  {
   "cell_type": "markdown",
   "metadata": {},
   "source": [
    "Esto es muy importante cuando se usan constantes matemáticas en cálculos numéricos"
   ]
  },
  {
   "cell_type": "code",
   "execution_count": 13,
   "metadata": {},
   "outputs": [
    {
     "name": "stdout",
     "output_type": "stream",
     "text": [
      "3.141592653589793\n",
      "3.141592653589793\n",
      "3.1415926535897931159979634685441851615905761718750000000\n"
     ]
    }
   ],
   "source": [
    "print(str(math.pi))            # Se redondea el valor real almacenado\n",
    "print(repr(math.pi))           # para propósitos de despliegue \n",
    "print(format(math.pi, '.55f')) # muestra el valor real almacenado"
   ]
  },
  {
   "cell_type": "markdown",
   "metadata": {},
   "source": [
    "**Observación**: Esto puede crear ciertas ilusiones sobre el valor real de un número."
   ]
  },
  {
   "cell_type": "markdown",
   "metadata": {},
   "source": [
    "<div class=\"alert alert-info\">\n",
    "\n",
    "## **Ejemplo 1.**\n",
    "\n",
    "<font color=\"Black\">\n",
    "\n",
    "\n",
    "\n",
    "¿Que resultará de las siguientes evaluaciones?:\n",
    "```python\n",
    "0.1 == 1/10\n",
    "0.1 == repr(1/10)\n",
    "repr(0.1) == 1/10\n",
    ".1 + .1 + .1 == 0.3\n",
    "round(.1, 1) + round(.1, 1) + round(.1, 1) == round(.3, 1)\n",
    "round(.1 + .1 + .1, 10) == round(.3, 10)\n",
    "```\n",
    "Explique el resultado de las evaluaciones.\n",
    "\n",
    "**Hint**: Checar el valor más aproximado almacenado en memoria usando por ejemplo `format(x,'.52f')` y también usar el comando `type` para conocer el tipo de dato.\n",
    "\n",
    "</font>\n",
    "\n",
    "</div>"
   ]
  },
  {
   "cell_type": "code",
   "execution_count": 14,
   "metadata": {},
   "outputs": [
    {
     "data": {
      "text/plain": [
       "True"
      ]
     },
     "execution_count": 14,
     "metadata": {},
     "output_type": "execute_result"
    }
   ],
   "source": [
    "0.1 == 1/10"
   ]
  },
  {
   "cell_type": "code",
   "execution_count": 15,
   "metadata": {},
   "outputs": [
    {
     "data": {
      "text/plain": [
       "False"
      ]
     },
     "execution_count": 15,
     "metadata": {},
     "output_type": "execute_result"
    }
   ],
   "source": [
    "0.1 == repr(1/10) "
   ]
  },
  {
   "cell_type": "code",
   "execution_count": 16,
   "metadata": {},
   "outputs": [
    {
     "data": {
      "text/plain": [
       "False"
      ]
     },
     "execution_count": 16,
     "metadata": {},
     "output_type": "execute_result"
    }
   ],
   "source": [
    "repr(0.1) == 1/10"
   ]
  },
  {
   "cell_type": "code",
   "execution_count": 17,
   "metadata": {},
   "outputs": [
    {
     "data": {
      "text/plain": [
       "False"
      ]
     },
     "execution_count": 17,
     "metadata": {},
     "output_type": "execute_result"
    }
   ],
   "source": [
    "0.1 + 0.1 + 0.1 == 0.3"
   ]
  },
  {
   "cell_type": "code",
   "execution_count": 18,
   "metadata": {},
   "outputs": [
    {
     "data": {
      "text/plain": [
       "'0.2999999999999999888977697537484345957636833190917968750'"
      ]
     },
     "execution_count": 18,
     "metadata": {},
     "output_type": "execute_result"
    }
   ],
   "source": [
    "format(0.3, '.55f')"
   ]
  },
  {
   "cell_type": "code",
   "execution_count": 19,
   "metadata": {},
   "outputs": [
    {
     "data": {
      "text/plain": [
       "False"
      ]
     },
     "execution_count": 19,
     "metadata": {},
     "output_type": "execute_result"
    }
   ],
   "source": [
    "round(.1, 1) + round(.1, 1) + round(.1, 1) == round(.3, 1)"
   ]
  },
  {
   "cell_type": "code",
   "execution_count": 20,
   "metadata": {},
   "outputs": [
    {
     "data": {
      "text/plain": [
       "True"
      ]
     },
     "execution_count": 20,
     "metadata": {},
     "output_type": "execute_result"
    }
   ],
   "source": [
    "round(.1 + .1 + .1, 10) == round(.3, 10)"
   ]
  },
  {
   "cell_type": "markdown",
   "metadata": {},
   "source": [
    "# Sistema  Numérico de Punto Flotante\n",
    "\n",
    "- Las computadoras cuentan con una cierta capacidad finita para almacenar información. \n",
    "\n",
    "- Los números reales se representan mediante los llamados **números de punto flotante** (*floating point numbers*) usando las siguentes características:\n",
    "\n",
    "    1. Signo **+** o **-** .\n",
    "    2. Mantisa con $t$ dígitos; donde $t$ es un entero positivo mayor o igual a 1.\n",
    "    3. Base $\\beta$; donde $\\beta$ es un entero positivo mayor que 1\n",
    "    4. Exponente $e$; donde $m \\le e \\le M$ con $m \\le 0$ y $M > t$ <br><br>\n",
    "\n",
    "- Cada número de punto flotante se representa como:\n",
    "    $$\n",
    "    \\pm .d_1d_2d_3\\dots d_t \\times \\beta^e\n",
    "    $$\n",
    "    donde $0 \\le d_i \\le \\beta - 1 \\,\\,\\, (i= 1,2,3,\\dots , t)$\n",
    "- La forma normalizada ocurre cuando $d_1 \\neq 0$\n",
    "\n",
    "- El número de dígitos en la mantisa es finito, lo que propicia un error en la representación y en las operaciones aritméticas"
   ]
  },
  {
   "cell_type": "markdown",
   "metadata": {},
   "source": [
    "<div class=\"alert alert-info\">\n",
    "\n",
    "## **Ejemplo 2.**\n",
    "\n",
    "<font color=\"Black\"> IBM 3000 series \n",
    "\n",
    "- Sistema numérico de punto flotante (SNPF) de simple precisión: 1 dígito binario (bit) para el signo, 7 bits para el exponente en base 16, y 24 bits para la mantisa.\n",
    "    - 24 dígitos binarios corresponde a $\\approx$ 6 dígitos decimales.\n",
    "    - El exponente va de 0000000 = 0 a 1111111 = 127. \n",
    "    - Para asegurar la representación de números de magnitud pequeña, se resta 64 al exponente, de tal manera que el rango en realidad es de -64 a 63.\n",
    "\n",
    "</font>\n",
    "</div>\n",
    "\n",
    "\n",
    "|Signo|$$e$$|$$t$$|\n",
    "|---|---|---|\n",
    "|0|1000010|101100110000010000000000|\n",
    "| | | |\n",
    "\n",
    "$$\n",
    "1000010 = 1 \\cdot 2^6 + 0 \\cdot 2^5 + 0 \\cdot 0^4 + 0 \\cdot 2^3 + \n",
    "0 \\cdot 2^2 + 1 \\cdot 2^1 + 0 \\cdot 2^0  = 66\n",
    "\\Longrightarrow 16^{66-64}.\n",
    "$$\n",
    "\n",
    "$$\n",
    "\\left[\n",
    "\\left(\\frac{1}{2}\\right)^1 + \\left(\\frac{1}{2}\\right)^3 +\n",
    "\\left(\\frac{1}{2}\\right)^4 + \\left(\\frac{1}{2}\\right)^7 +\n",
    "\\left(\\frac{1}{2}\\right)^8 + \\left(\\frac{1}{2}\\right)^{14} \n",
    "\\right] 16^{66-64} = 179.015625\n",
    "$$\n",
    "\n",
    "- En este sistema, el siguiente número más pequeño y el siguiente más grande son:\n",
    "\n",
    "\n",
    "|0 |1000010 |101100110000001111111111 | = | 179.0156097412109375 |\n",
    "|---|---|---|---|---|\n",
    "|0 |1000010 |101100110000010000000001 | = | 179.0156402587890625 |\n",
    "\n",
    "$$\n",
    "\\Longrightarrow  179.015625 \\mbox{ representa } [179.0156097412109375, 179.0156402587890625]\n",
    "$$\n",
    "\n",
    "<br>\n",
    "\n",
    "<img src=\"floatingNumbers.png\" alt=\"Smiley\">\n",
    "\n",
    "\n",
    "En 1985, el IEEE (Institute for Electrical and Electronic Engineers) publicó: *Binary Floating Point Arithmetic Standard 754, 1985 *.Se especifican los formatos para precisión simple, doble y extendida, y esos estándares son usados por muchos constructores de CPUs."
   ]
  },
  {
   "cell_type": "markdown",
   "metadata": {},
   "source": [
    "# Error de representación\n",
    "Recordemos que muchas fracciones decimales no pueden representarse exactamente como fracciones binarias. Por esta razón, todos los lenguajes de programación no muestran el número decimal exacto que se espera.\n",
    "\n",
    "La mayoría de las computadoras utilizan el estándar IEEE-754 para representar números de punto flotante. Los números de doble precisión en el IEEE-754 tienen 53 bits de precisión, por lo tanto, la representación del número $0.1$ en este sistema requiere de un número $J$, de 53 bits, tal que:\n",
    "\n",
    "$$\n",
    "\\frac{J}{2^N} \\approx 0.1\n",
    "$$\n",
    "\n",
    "Usando la fórmula anterior tenemos que:\n",
    "\n",
    "$$\n",
    "J \\approx \\frac{2^N}{10}\n",
    "$$\n",
    "\n",
    "Dado que $J$ debe tener exactamente 53 bits, entonces se cumple que $2^{52} \\leq J \\leq 2^{53}$. Se puede comprobar fácilmente que para que esto ocurra, entonces $N = 56$:"
   ]
  },
  {
   "cell_type": "code",
   "execution_count": 21,
   "metadata": {},
   "outputs": [
    {
     "name": "stdout",
     "output_type": "stream",
     "text": [
      "4503599627370496 < 7205759403792793 < 9007199254740992\n",
      "True\n"
     ]
    }
   ],
   "source": [
    "J = 2**56 // 10 # división entera\n",
    "print('{} < {} < {}'.format(2**52, J, 2**53))\n",
    "print(2**52 < J < 2**53)"
   ]
  },
  {
   "cell_type": "markdown",
   "metadata": {},
   "source": [
    "Observe que en la celda anterior realizamos la división entera con el propósito de comparar con otros valores enteros. Si hacemos el cálculo usando flotantes y luego convertimos a entero obtenemos el valor requerido de $J$:"
   ]
  },
  {
   "cell_type": "code",
   "execution_count": 22,
   "metadata": {},
   "outputs": [
    {
     "data": {
      "text/plain": [
       "7205759403792794"
      ]
     },
     "execution_count": 22,
     "metadata": {},
     "output_type": "execute_result"
    }
   ],
   "source": [
    "J = int(2**56 / 10) \n",
    "J"
   ]
  },
  {
   "cell_type": "markdown",
   "metadata": {},
   "source": [
    "Entonces, la representación de $0.1$ en este sistema es $\\displaystyle \\frac{7205759403792794}{2^{56}}$ que se puede reducir a \n",
    "$\\displaystyle \\frac{3602879701896397}{2^{55}}$, por lo tanto:"
   ]
  },
  {
   "cell_type": "code",
   "execution_count": 23,
   "metadata": {},
   "outputs": [],
   "source": [
    "representacion = 3602879701896397 / 2**55"
   ]
  },
  {
   "cell_type": "code",
   "execution_count": 24,
   "metadata": {},
   "outputs": [
    {
     "data": {
      "text/plain": [
       "True"
      ]
     },
     "execution_count": 24,
     "metadata": {},
     "output_type": "execute_result"
    }
   ],
   "source": [
    "0.1 == representacion"
   ]
  },
  {
   "cell_type": "code",
   "execution_count": 25,
   "metadata": {},
   "outputs": [
    {
     "name": "stdout",
     "output_type": "stream",
     "text": [
      "0.1 ~ 0.1000000000000000055511151231257827021181583404541015625 en el sistema en IEEE-754\n"
     ]
    }
   ],
   "source": [
    "print('0.1 ~ {:.55f} en el sistema en IEEE-754'.format(representacion))"
   ]
  },
  {
   "cell_type": "markdown",
   "metadata": {},
   "source": [
    "La mayoría de los lenguajes utilizan 17 dígitos significativos para desplegar los números de punto flotante:"
   ]
  },
  {
   "cell_type": "code",
   "execution_count": 26,
   "metadata": {},
   "outputs": [
    {
     "name": "stdout",
     "output_type": "stream",
     "text": [
      "0.1 ~ 0.10000000000000001 en el sistema en IEEE-754\n"
     ]
    }
   ],
   "source": [
    "print('0.1 ~ {:.17f} en el sistema en IEEE-754'.format(representacion))"
   ]
  },
  {
   "cell_type": "markdown",
   "metadata": {},
   "source": [
    "# Algunas funciones útiles"
   ]
  },
  {
   "cell_type": "code",
   "execution_count": 27,
   "metadata": {},
   "outputs": [],
   "source": [
    "from decimal import Decimal\n",
    "from fractions import Fraction"
   ]
  },
  {
   "cell_type": "code",
   "execution_count": 28,
   "metadata": {},
   "outputs": [
    {
     "data": {
      "text/plain": [
       "Fraction(3602879701896397, 36028797018963968)"
      ]
     },
     "execution_count": 28,
     "metadata": {},
     "output_type": "execute_result"
    }
   ],
   "source": [
    "Fraction.from_float(0.1) # regresa los enteros usados para \n",
    "                         # la representación del número flotante "
   ]
  },
  {
   "cell_type": "code",
   "execution_count": 29,
   "metadata": {},
   "outputs": [
    {
     "data": {
      "text/plain": [
       "0.1"
      ]
     },
     "execution_count": 29,
     "metadata": {},
     "output_type": "execute_result"
    }
   ],
   "source": [
    "3602879701896397 / 36028797018963968"
   ]
  },
  {
   "cell_type": "code",
   "execution_count": 30,
   "metadata": {},
   "outputs": [
    {
     "data": {
      "text/plain": [
       "36028797018963968"
      ]
     },
     "execution_count": 30,
     "metadata": {},
     "output_type": "execute_result"
    }
   ],
   "source": [
    "2**55"
   ]
  },
  {
   "cell_type": "code",
   "execution_count": 31,
   "metadata": {},
   "outputs": [
    {
     "name": "stdout",
     "output_type": "stream",
     "text": [
      "0.1 ~ 0.1000000000000000055511151231257827021181583404541015625\n"
     ]
    }
   ],
   "source": [
    "print('0.1 ~ {:.55f}'.format(3602879701896397 / 36028797018963968))"
   ]
  },
  {
   "cell_type": "code",
   "execution_count": 32,
   "metadata": {},
   "outputs": [
    {
     "data": {
      "text/plain": [
       "(3602879701896397, 36028797018963968)"
      ]
     },
     "execution_count": 32,
     "metadata": {},
     "output_type": "execute_result"
    }
   ],
   "source": [
    "(0.1).as_integer_ratio() # regresa los enteros usados para \n",
    "                         # la representación del número flotante "
   ]
  },
  {
   "cell_type": "code",
   "execution_count": 33,
   "metadata": {},
   "outputs": [
    {
     "data": {
      "text/plain": [
       "Decimal('0.1000000000000000055511151231257827021181583404541015625')"
      ]
     },
     "execution_count": 33,
     "metadata": {},
     "output_type": "execute_result"
    }
   ],
   "source": [
    "Decimal.from_float(0.1)"
   ]
  },
  {
   "cell_type": "code",
   "execution_count": 34,
   "metadata": {},
   "outputs": [
    {
     "data": {
      "text/plain": [
       "(3537115888337719, 1125899906842624)"
      ]
     },
     "execution_count": 34,
     "metadata": {},
     "output_type": "execute_result"
    }
   ],
   "source": [
    "## Cualquier otro número\n",
    "x = 3.14159\n",
    "x.as_integer_ratio() "
   ]
  },
  {
   "cell_type": "code",
   "execution_count": 35,
   "metadata": {},
   "outputs": [
    {
     "data": {
      "text/plain": [
       "3.14159"
      ]
     },
     "execution_count": 35,
     "metadata": {},
     "output_type": "execute_result"
    }
   ],
   "source": [
    "3537115888337719 / 1125899906842624"
   ]
  },
  {
   "cell_type": "markdown",
   "metadata": {},
   "source": [
    "**Conversión decimal a hexadecimal**"
   ]
  },
  {
   "cell_type": "code",
   "execution_count": 36,
   "metadata": {},
   "outputs": [
    {
     "data": {
      "text/plain": [
       "'0x1.921f9f01b866ep+1'"
      ]
     },
     "execution_count": 36,
     "metadata": {},
     "output_type": "execute_result"
    }
   ],
   "source": [
    "x.hex() # Convierte el flotante a hexadecimal"
   ]
  },
  {
   "cell_type": "code",
   "execution_count": 37,
   "metadata": {},
   "outputs": [
    {
     "data": {
      "text/plain": [
       "3.14159"
      ]
     },
     "execution_count": 37,
     "metadata": {},
     "output_type": "execute_result"
    }
   ],
   "source": [
    "float.fromhex('0x1.921f9f01b866ep+1') # convierte el hexadecimal a flotante"
   ]
  },
  {
   "cell_type": "code",
   "execution_count": 38,
   "metadata": {},
   "outputs": [
    {
     "data": {
      "text/plain": [
       "True"
      ]
     },
     "execution_count": 38,
     "metadata": {},
     "output_type": "execute_result"
    }
   ],
   "source": [
    "x == float.fromhex('0x1.921f9f01b866ep+1')"
   ]
  },
  {
   "cell_type": "markdown",
   "metadata": {},
   "source": [
    "El uso de hexadecimales es útil para portabilidad de valores entre diferentes versiones de Python y para el intercambio de información con otros lenguajes.\n",
    "\n",
    "**Mitigación del error**\n",
    "\n",
    "Es posible que en algunos casos se pierda precisión de tal manera que el resultado se vea afectado, por ejemplo:"
   ]
  },
  {
   "cell_type": "code",
   "execution_count": 39,
   "metadata": {},
   "outputs": [
    {
     "data": {
      "text/plain": [
       "[0.1, 0.1, 0.1, 0.1, 0.1, 0.1, 0.1, 0.1, 0.1, 0.1]"
      ]
     },
     "execution_count": 39,
     "metadata": {},
     "output_type": "execute_result"
    }
   ],
   "source": [
    "lista = [0.1] * 10\n",
    "lista"
   ]
  },
  {
   "cell_type": "code",
   "execution_count": 40,
   "metadata": {},
   "outputs": [
    {
     "name": "stdout",
     "output_type": "stream",
     "text": [
      "Suma = 0.9999999999999998889776975374843459576368331909179688\n"
     ]
    }
   ],
   "source": [
    "suma = sum(lista)\n",
    "print('Suma = {:.52f}'.format(suma))"
   ]
  },
  {
   "cell_type": "code",
   "execution_count": 41,
   "metadata": {},
   "outputs": [
    {
     "name": "stdout",
     "output_type": "stream",
     "text": [
      "Suma = 1.0000000000000000000000000000000000000000000000000000\n"
     ]
    }
   ],
   "source": [
    "suma = math.fsum(lista)\n",
    "print('Suma = {:.52f}'.format(suma))"
   ]
  },
  {
   "cell_type": "markdown",
   "metadata": {},
   "source": [
    "La función `math.fsum()`ayuda **a mitigar** la pérdida de precisión durante la suma."
   ]
  },
  {
   "cell_type": "markdown",
   "metadata": {},
   "source": [
    "**Decimal**\n",
    "\n",
    "Con esta biblioteca, los números se pueden representar de manera exacta y es my útil cuando se requiere de una \"aritmética exacta\"."
   ]
  },
  {
   "cell_type": "code",
   "execution_count": 42,
   "metadata": {},
   "outputs": [
    {
     "data": {
      "text/plain": [
       "Context(prec=28, rounding=ROUND_HALF_EVEN, Emin=-999999, Emax=999999, capitals=1, clamp=0, flags=[], traps=[InvalidOperation, DivisionByZero, Overflow])"
      ]
     },
     "execution_count": 42,
     "metadata": {},
     "output_type": "execute_result"
    }
   ],
   "source": [
    "from decimal import getcontext, Decimal\n",
    "getcontext()"
   ]
  },
  {
   "cell_type": "code",
   "execution_count": 43,
   "metadata": {},
   "outputs": [
    {
     "name": "stdout",
     "output_type": "stream",
     "text": [
      "Context(prec=10, rounding=ROUND_HALF_EVEN, Emin=-999999, Emax=999999, capitals=1, clamp=0, flags=[], traps=[InvalidOperation, DivisionByZero, Overflow])\n",
      "\n",
      " 0.3 ~ 0.3000000000000000000000000000000000000000000000000000000 \n"
     ]
    }
   ],
   "source": [
    "getcontext().prec = 10\n",
    "print(getcontext())\n",
    "\n",
    "r = Decimal(0.1) + Decimal(0.1) + Decimal(0.1)\n",
    "print('\\n 0.3 ~ {:.55f} '.format(r))"
   ]
  },
  {
   "cell_type": "markdown",
   "metadata": {},
   "source": [
    "**Truncamiento y redondeo**\n",
    "\n",
    "Dado el número $\\pi = 3.1415926535897931159979634 \\dots  = 0.31415926535897931159979634 \\dots \\times 10^1$, podemos hacer lo siguiente:\n",
    "\n",
    "- **Truncamiento**: Usando 5 dígitos: $0.31415 \\times 10^1 = 3.1415 $\n",
    "- **Redondeo**: Usando 5 dígitos: $(0.31415 + 0.00001) \\times 10^1 = 3.1416$\n",
    "\n",
    "\n",
    "Opciones de redondeo: \n",
    "- ROUND_CEILING, \n",
    "- ROUND_DOWN, \n",
    "- ROUND_FLOOR, \n",
    "- ROUND_HALF_DOWN, \n",
    "- ROUND_HALF_EVEN, \n",
    "- ROUND_HALF_UP, \n",
    "- ROUND_UP, \n",
    "- ROUND_05UP."
   ]
  },
  {
   "cell_type": "code",
   "execution_count": 44,
   "metadata": {},
   "outputs": [
    {
     "name": "stdout",
     "output_type": "stream",
     "text": [
      "Context(prec=6, rounding=ROUND_CEILING, Emin=-999999, Emax=999999, capitals=1, clamp=0, flags=[], traps=[InvalidOperation, DivisionByZero, Overflow])\n",
      "3.14160 \n",
      "\n",
      "Context(prec=6, rounding=ROUND_FLOOR, Emin=-999999, Emax=999999, capitals=1, clamp=0, flags=[], traps=[InvalidOperation, DivisionByZero, Overflow])\n",
      "3.14159 \n",
      "\n",
      "Context(prec=6, rounding=ROUND_HALF_DOWN, Emin=-999999, Emax=999999, capitals=1, clamp=0, flags=[], traps=[InvalidOperation, DivisionByZero, Overflow])\n",
      "3.14159 \n",
      "\n",
      "Context(prec=6, rounding=ROUND_HALF_EVEN, Emin=-999999, Emax=999999, capitals=1, clamp=0, flags=[], traps=[InvalidOperation, DivisionByZero, Overflow])\n",
      "3.14159 \n",
      "\n",
      "Context(prec=6, rounding=ROUND_HALF_UP, Emin=-999999, Emax=999999, capitals=1, clamp=0, flags=[], traps=[InvalidOperation, DivisionByZero, Overflow])\n",
      "3.14159 \n",
      "\n",
      "Context(prec=6, rounding=ROUND_UP, Emin=-999999, Emax=999999, capitals=1, clamp=0, flags=[], traps=[InvalidOperation, DivisionByZero, Overflow])\n",
      "3.14160 \n",
      "\n",
      "Context(prec=6, rounding=ROUND_05UP, Emin=-999999, Emax=999999, capitals=1, clamp=0, flags=[], traps=[InvalidOperation, DivisionByZero, Overflow])\n",
      "3.14159 \n",
      "\n"
     ]
    }
   ],
   "source": [
    "from decimal import setcontext, Context, ROUND_CEILING, ROUND_FLOOR, ROUND_HALF_DOWN, ROUND_HALF_EVEN, ROUND_HALF_UP, ROUND_UP, ROUND_05UP\n",
    "redondeo = ['ROUND_CEILING', 'ROUND_FLOOR', 'ROUND_HALF_DOWN', \n",
    "            'ROUND_HALF_EVEN', 'ROUND_HALF_UP', 'ROUND_UP', 'ROUND_05UP']\n",
    "for r in redondeo:\n",
    "    setcontext(Context(prec=6, rounding=r))\n",
    "    print(getcontext())\n",
    "    print(Decimal(3.1415926535897931159979634) * 1, '\\n')"
   ]
  },
  {
   "cell_type": "markdown",
   "metadata": {},
   "source": [
    "**Fractions**"
   ]
  },
  {
   "cell_type": "code",
   "execution_count": 45,
   "metadata": {},
   "outputs": [
    {
     "name": "stdout",
     "output_type": "stream",
     "text": [
      "num1 = 2/3 and num2 = 1/3\n",
      "1\n",
      "1/3\n",
      "20/3\n",
      "2\n"
     ]
    }
   ],
   "source": [
    "from fractions import Fraction\n",
    "\n",
    "num1 = Fraction(2,3)\n",
    "num2 = Fraction(1,3)\n",
    "\n",
    "print(\"num1 = {} and num2 = {}\".format(num1,num2))\n",
    "\n",
    "print(num1 + num2)\n",
    "\n",
    "print(num1 - num2)\n",
    "\n",
    "print(num1*10)\n",
    "\n",
    "print(num1/num2)\n"
   ]
  },
  {
   "cell_type": "markdown",
   "metadata": {},
   "source": [
    "# Características del SNPF en Python 3\n",
    "\n",
    "<font color=##009900>**NumPy**</font> soporta una variedad más amplia de tipos numéricos.\n",
    "\n",
    "<img src=\"dataTypes.png\" alt=\"Smiley\">\n"
   ]
  },
  {
   "cell_type": "code",
   "execution_count": 46,
   "metadata": {
    "scrolled": true
   },
   "outputs": [
    {
     "name": "stdout",
     "output_type": "stream",
     "text": [
      "0.1000000000000000055511151231257827021181583404541016\n",
      "<class 'numpy.float64'>\n",
      "[1 2 4]\n",
      "<class 'numpy.ndarray'>\n",
      "<class 'numpy.int64'>\n",
      "[0 1 2]\n",
      "<class 'numpy.ndarray'>\n",
      "<class 'numpy.uint8'>\n"
     ]
    }
   ],
   "source": [
    "import numpy as np\n",
    "x = np.float64(0.1)\n",
    "print(format(x,'.52f'))\n",
    "print(type(x))\n",
    "\n",
    "y = np.int_([1,2,4])\n",
    "print(y)\n",
    "print(type(y))\n",
    "print(type(y[1]))\n",
    "\n",
    "z = np.arange(3, dtype=np.uint8)\n",
    "print(z)\n",
    "print(type(z))\n",
    "print(type(z[0]))"
   ]
  },
  {
   "cell_type": "code",
   "execution_count": 47,
   "metadata": {},
   "outputs": [
    {
     "name": "stdout",
     "output_type": "stream",
     "text": [
      "3.1415926535897931159979634685441851615905761718750000\n",
      "<class 'float'>\n",
      "3.1415926535897931159979634685441851615905761718750000\n",
      "<class 'numpy.float64'>\n"
     ]
    }
   ],
   "source": [
    "xd = math.pi\n",
    "print(format(xd,'.52f'))\n",
    "print(type(xd))\n",
    "\n",
    "xdd = np.float64(xd)\n",
    "print(format(xdd,'.52f'))\n",
    "print(type(xdd))"
   ]
  },
  {
   "cell_type": "code",
   "execution_count": 49,
   "metadata": {
    "scrolled": true
   },
   "outputs": [
    {
     "data": {
      "text/plain": [
       "finfo(resolution=1e-15, min=-1.7976931348623157e+308, max=1.7976931348623157e+308, dtype=float64)"
      ]
     },
     "execution_count": 49,
     "metadata": {},
     "output_type": "execute_result"
    }
   ],
   "source": [
    "np.finfo(float)"
   ]
  },
  {
   "cell_type": "code",
   "execution_count": 50,
   "metadata": {
    "scrolled": true
   },
   "outputs": [
    {
     "data": {
      "text/plain": [
       "finfo(resolution=1e-15, min=-1.7976931348623157e+308, max=1.7976931348623157e+308, dtype=float64)"
      ]
     },
     "execution_count": 50,
     "metadata": {},
     "output_type": "execute_result"
    }
   ],
   "source": [
    "np.finfo(np.float64)"
   ]
  },
  {
   "cell_type": "code",
   "execution_count": 51,
   "metadata": {
    "scrolled": true
   },
   "outputs": [
    {
     "data": {
      "text/plain": [
       "2.220446049250313e-16"
      ]
     },
     "execution_count": 51,
     "metadata": {},
     "output_type": "execute_result"
    }
   ],
   "source": [
    "np.finfo(np.float64).eps"
   ]
  },
  {
   "cell_type": "code",
   "execution_count": 52,
   "metadata": {
    "scrolled": true
   },
   "outputs": [
    {
     "data": {
      "text/plain": [
       "52"
      ]
     },
     "execution_count": 52,
     "metadata": {},
     "output_type": "execute_result"
    }
   ],
   "source": [
    "np.finfo(np.float64).nmant"
   ]
  },
  {
   "cell_type": "code",
   "execution_count": 54,
   "metadata": {},
   "outputs": [
    {
     "name": "stdout",
     "output_type": "stream",
     "text": [
      "Machine parameters for float64\n",
      "---------------------------------------------------------------\n",
      "precision =  15   resolution = 1.0000000000000001e-15\n",
      "machep =    -52   eps =        2.2204460492503131e-16\n",
      "negep =     -53   epsneg =     1.1102230246251565e-16\n",
      "minexp =  -1022   tiny =       2.2250738585072014e-308\n",
      "maxexp =   1024   max =        1.7976931348623157e+308\n",
      "nexp =       11   min =        -max\n",
      "smallest_normal = 2.2250738585072014e-308   smallest_subnormal = 4.9406564584124654e-324\n",
      "---------------------------------------------------------------\n",
      "\n",
      "Machine parameters for float32\n",
      "---------------------------------------------------------------\n",
      "precision =   6   resolution = 1.0000000e-06\n",
      "machep =    -23   eps =        1.1920929e-07\n",
      "negep =     -24   epsneg =     5.9604645e-08\n",
      "minexp =   -126   tiny =       1.1754944e-38\n",
      "maxexp =    128   max =        3.4028235e+38\n",
      "nexp =        8   min =        -max\n",
      "smallest_normal = 1.1754944e-38   smallest_subnormal = 1.4012985e-45\n",
      "---------------------------------------------------------------\n",
      "\n",
      "Machine parameters for float16\n",
      "---------------------------------------------------------------\n",
      "precision =   3   resolution = 1.00040e-03\n",
      "machep =    -10   eps =        9.76562e-04\n",
      "negep =     -11   epsneg =     4.88281e-04\n",
      "minexp =    -14   tiny =       6.10352e-05\n",
      "maxexp =     16   max =        6.55040e+04\n",
      "nexp =        5   min =        -max\n",
      "smallest_normal = 6.10352e-05   smallest_subnormal = 5.96046e-08\n",
      "---------------------------------------------------------------\n",
      "\n"
     ]
    }
   ],
   "source": [
    "print(np.finfo(float))\n",
    "print(np.finfo(np.float32))\n",
    "print(np.finfo(np.float16))"
   ]
  },
  {
   "cell_type": "markdown",
   "metadata": {
    "collapsed": true,
    "jupyter": {
     "outputs_hidden": true
    }
   },
   "source": [
    "- Para entender esto con mayor detalle véase:\n",
    "    - http://www.lahey.com/float.htm\n",
    "    - https://docs.oracle.com/cd/E19957-01/806-3568/ncg_goldberg.html"
   ]
  }
 ],
 "metadata": {
  "kernelspec": {
   "display_name": "Python 3 (ipykernel)",
   "language": "python",
   "name": "python3"
  },
  "language_info": {
   "codemirror_mode": {
    "name": "ipython",
    "version": 3
   },
   "file_extension": ".py",
   "mimetype": "text/x-python",
   "name": "python",
   "nbconvert_exporter": "python",
   "pygments_lexer": "ipython3",
   "version": "3.11.6"
  }
 },
 "nbformat": 4,
 "nbformat_minor": 4
}
