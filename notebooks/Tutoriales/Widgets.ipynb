{
 "cells": [
  {
   "cell_type": "markdown",
   "id": "b9edbaa2",
   "metadata": {},
   "source": [
    "# Ipywidgets\n",
    "\n",
    "**Objetivo general.**\n",
    "\n",
    "Revisar la forma de uso de widgets dentro del ambiente de Jupyter Notebook para crear notebooks interactivos\n",
    "\n",
    " <p xmlns:cc=\"http://creativecommons.org/ns#\" xmlns:dct=\"http://purl.org/dc/terms/\"><a property=\"dct:title\" rel=\"cc:attributionURL\" href=\"https://github.com/repomacti/Curso_Macti/tree/main/03_Cuadernos_Interactivos/Widgets\">Ipywidgets</a>, Diseño de cursos interactivos con la plataforma Macti by <a rel=\"cc:attributionURL dct:creator\" property=\"cc:attributionName\" href=\"https://www.macti.unam.mx\">Luis M. de la Cruz</a> is licensed under <a href=\"http://creativecommons.org/licenses/by-sa/4.0/?ref=chooser-v1\" target=\"_blank\" rel=\"license noopener noreferrer\" style=\"display:inline-block;\">Attribution-ShareAlike 4.0 International<img style=\"height:22px!important;margin-left:3px;vertical-align:text-bottom;\" src=\"https://mirrors.creativecommons.org/presskit/icons/cc.svg?ref=chooser-v1\"><img style=\"height:22px!important;margin-left:3px;vertical-align:text-bottom;\" src=\"https://mirrors.creativecommons.org/presskit/icons/by.svg?ref=chooser-v1\"><img style=\"height:22px!important;margin-left:3px;vertical-align:text-bottom;\" src=\"https://mirrors.creativecommons.org/presskit/icons/sa.svg?ref=chooser-v1\"></a></p> \n"
   ]
  },
  {
   "cell_type": "markdown",
   "id": "6fb377e9-5fcc-4399-87d3-7c600b186453",
   "metadata": {},
   "source": [
    "## Widgets\n",
    "Los widgets son elementos que permiten crear interfaces gráficas de usuario (GUIs por sus siglas en inglés) para controlar comportamientos de variables y con ello obtener respuesta del sistema de acuerdo con los valores que se ingresan en cada wigdet. Existen diversos tipos de widgets como botones, espacios de texto, menús, controles deslizantes (sliders), entre otros. Todos ellos son personalizables.\n",
    "\n",
    "<img src = \"widgets_jupyter.gif\" align = \"center\">\n",
    "\n",
    "La biblioteca que implementa estos widgets en el ambiente de Jupyter Notebooks es `ipywidgets`."
   ]
  },
  {
   "cell_type": "markdown",
   "id": "e06dca60-4ff5-4699-b9ec-90e787b5b08e",
   "metadata": {},
   "source": [
    "## La función `interact()`\n",
    "\n",
    "Una forma de crear **Widgets** de manera automática es por medio de la función `interact()`. Esta función crea  una interfaz de usuario (*user interface*, UI) con controles para explorar el código y los datos de manera interactiva. "
   ]
  },
  {
   "cell_type": "code",
   "execution_count": 1,
   "id": "39f9f7e6",
   "metadata": {},
   "outputs": [],
   "source": [
    "# Importamos la biblioteca\n",
    "import ipywidgets as widgets"
   ]
  },
  {
   "cell_type": "markdown",
   "id": "b04c32ff",
   "metadata": {},
   "source": [
    "<div class=\"alert alert-info\">\n",
    "\n",
    "### Ejemplo 1:\n",
    "Creamos una función que despliega la opción que se elije en la interfaz creada por `interact`.\n",
    "\n",
    "</div>"
   ]
  },
  {
   "cell_type": "code",
   "execution_count": 2,
   "id": "d30d30c1-2edf-4272-93d1-ab8a5e309c94",
   "metadata": {},
   "outputs": [],
   "source": [
    "# Función que imprime el argumento que recibe.\n",
    "def seleccion(opcion):\n",
    "    \"\"\"\n",
    "    Imprime el valor del widget actual en un enunciado corto.\n",
    "    \"\"\"\n",
    "    print(f'Elegiste: {opcion}')"
   ]
  },
  {
   "cell_type": "code",
   "execution_count": 3,
   "id": "a3e6826c-89ae-45e8-a40f-cdceeca818c5",
   "metadata": {},
   "outputs": [
    {
     "name": "stdout",
     "output_type": "stream",
     "text": [
      "Elegiste: A\n"
     ]
    }
   ],
   "source": [
    "seleccion('A')"
   ]
  },
  {
   "cell_type": "code",
   "execution_count": 4,
   "id": "1a01afab",
   "metadata": {},
   "outputs": [
    {
     "data": {
      "application/vnd.jupyter.widget-view+json": {
       "model_id": "82d0c4418569446e9b98cd3d4353ad3d",
       "version_major": 2,
       "version_minor": 0
      },
      "text/plain": [
       "interactive(children=(Dropdown(description='opcion', options=('Luis', 'Miguel', 'Juan'), value='Luis'), Output…"
      ]
     },
     "metadata": {},
     "output_type": "display_data"
    }
   ],
   "source": [
    "# Creamos el menú con una lista de argumentos:\n",
    "widgets.interact(seleccion,  \n",
    "                 opcion=[\"Luis\", \"Miguel\", \"Juan\"]);"
   ]
  },
  {
   "cell_type": "markdown",
   "id": "1f112cbd",
   "metadata": {},
   "source": [
    "Observa que los argumentos que se están pasando a la función `seleccion()` es una lista de cadenas. Dados estos argumentos, `interact` crea un menú desplegable (*drop-down* o *pull-down*). Cuando se elije una de las opciones del menú, inmediatamente se ejecuta la función `selección()` (función que generalmente se conoce como *callback*) y en este caso se imprime lo que se elige. \n",
    "\n",
    "La función `interact` creará la UI (User Interface) dependiendo de los argumentos. Veamos otros ejemplos:"
   ]
  },
  {
   "cell_type": "code",
   "execution_count": 5,
   "id": "1b08396b-be04-416a-b3cf-b25c7799b278",
   "metadata": {},
   "outputs": [
    {
     "data": {
      "application/vnd.jupyter.widget-view+json": {
       "model_id": "1b359495547c47fd8293e0d0c15d8942",
       "version_major": 2,
       "version_minor": 0
      },
      "text/plain": [
       "interactive(children=(Dropdown(description='opcion', options=(0, 1, 2, 3, 4), value=0), Output()), _dom_classe…"
      ]
     },
     "metadata": {},
     "output_type": "display_data"
    },
    {
     "data": {
      "text/plain": [
       "<function __main__.seleccion(opcion)>"
      ]
     },
     "execution_count": 5,
     "metadata": {},
     "output_type": "execute_result"
    }
   ],
   "source": [
    "# Crea un IntSlider con una lista de enteros.\n",
    "widgets.interact(seleccion, opcion=[0, 1, 2, 3, 4])"
   ]
  },
  {
   "cell_type": "code",
   "execution_count": 6,
   "id": "adc39ecc-aa09-462d-a8b4-2dd23df1826a",
   "metadata": {},
   "outputs": [
    {
     "data": {
      "application/vnd.jupyter.widget-view+json": {
       "model_id": "dfcc76aaef6b42e3897cec92ca1c95fa",
       "version_major": 2,
       "version_minor": 0
      },
      "text/plain": [
       "interactive(children=(IntSlider(value=10, description='opcion', max=20, step=5), Output()), _dom_classes=('wid…"
      ]
     },
     "metadata": {},
     "output_type": "display_data"
    },
    {
     "data": {
      "text/plain": [
       "<function __main__.seleccion(opcion)>"
      ]
     },
     "execution_count": 6,
     "metadata": {},
     "output_type": "execute_result"
    }
   ],
   "source": [
    "# Crea un IntSlider con una tupla de enteros.\n",
    "widgets.interact(seleccion, opcion=(0, 20, 5)) # (start, stop, step)"
   ]
  },
  {
   "cell_type": "code",
   "execution_count": 7,
   "id": "6064a501-2d55-4560-9c9a-45eb540ec6ab",
   "metadata": {},
   "outputs": [
    {
     "data": {
      "application/vnd.jupyter.widget-view+json": {
       "model_id": "c283bf3754724d61abfd12cb18dccb23",
       "version_major": 2,
       "version_minor": 0
      },
      "text/plain": [
       "interactive(children=(FloatSlider(value=5.0, description='opcion', max=10.0, step=0.5), Output()), _dom_classe…"
      ]
     },
     "metadata": {},
     "output_type": "display_data"
    },
    {
     "data": {
      "text/plain": [
       "<function __main__.seleccion(opcion)>"
      ]
     },
     "execution_count": 7,
     "metadata": {},
     "output_type": "execute_result"
    }
   ],
   "source": [
    "# Crea un FloatSlider con una tupla de flotantes.\n",
    "widgets.interact(seleccion, opcion=(0, 10, .5))"
   ]
  },
  {
   "cell_type": "code",
   "execution_count": 8,
   "id": "e67b9edc-8a8d-4f39-9081-713bd7f25c11",
   "metadata": {},
   "outputs": [
    {
     "data": {
      "application/vnd.jupyter.widget-view+json": {
       "model_id": "bd7f0ee0eb8a48a0af24927ad046738b",
       "version_major": 2,
       "version_minor": 0
      },
      "text/plain": [
       "interactive(children=(Dropdown(description='opcion', options=(1.0, 1.125, 1.25, 1.375, 1.5, 1.625, 1.75, 1.875…"
      ]
     },
     "metadata": {},
     "output_type": "display_data"
    },
    {
     "data": {
      "text/plain": [
       "<function __main__.seleccion(opcion)>"
      ]
     },
     "execution_count": 8,
     "metadata": {},
     "output_type": "execute_result"
    }
   ],
   "source": [
    "import numpy as np\n",
    "\n",
    "# Crea un FloatSlider con una arrelgo de numpy\n",
    "widgets.interact(seleccion, opcion=np.linspace(1,2,9))"
   ]
  },
  {
   "cell_type": "code",
   "execution_count": 9,
   "id": "3b3714af",
   "metadata": {},
   "outputs": [
    {
     "data": {
      "application/vnd.jupyter.widget-view+json": {
       "model_id": "9368d44378b44a449daf1c4fad8d31a9",
       "version_major": 2,
       "version_minor": 0
      },
      "text/plain": [
       "interactive(children=(Checkbox(value=True, description='opcion'), Output()), _dom_classes=('widget-interact',)…"
      ]
     },
     "metadata": {},
     "output_type": "display_data"
    },
    {
     "data": {
      "text/plain": [
       "<function __main__.seleccion(opcion)>"
      ]
     },
     "execution_count": 9,
     "metadata": {},
     "output_type": "execute_result"
    }
   ],
   "source": [
    "# Crea un CheckBox con el valor True.\n",
    "widgets.interact(seleccion, opcion=True)"
   ]
  },
  {
   "cell_type": "markdown",
   "id": "a297d757",
   "metadata": {},
   "source": [
    "Las UI que genera `interact` dependen entonces de los argumentos que le pasemos a la función *callback* y esta última puede tener argumentos de distintos tipos.\n",
    "\n",
    "<div class=\"alert alert-info\">\n",
    "\n",
    "### Ejemplo 2.\n",
    "Definir una función con tres de argumentos de distinto tipo y usarla para generar una UI usando `interact`.\n",
    "\n",
    "</div>"
   ]
  },
  {
   "cell_type": "code",
   "execution_count": 10,
   "id": "f246891b",
   "metadata": {},
   "outputs": [
    {
     "data": {
      "application/vnd.jupyter.widget-view+json": {
       "model_id": "ffc11c97c0614e45a571ba39d1f0a726",
       "version_major": 2,
       "version_minor": 0
      },
      "text/plain": [
       "interactive(children=(Dropdown(description='a', options=(0.0, 0.25, 0.5, 0.75, 1.0), value=0.0), Dropdown(desc…"
      ]
     },
     "metadata": {},
     "output_type": "display_data"
    },
    {
     "data": {
      "text/plain": [
       "<function __main__.tres_argumentos(a, b, c)>"
      ]
     },
     "execution_count": 10,
     "metadata": {},
     "output_type": "execute_result"
    }
   ],
   "source": [
    "# Función con tres argumentos\n",
    "def tres_argumentos(a, b, c):\n",
    "    return (a, b, c)\n",
    "\n",
    "widgets.interact(\n",
    "    tres_argumentos,  # La función a ejecutar (callback)\n",
    "    a = np.linspace(0,1,5), \n",
    "    b = [chr(0x3B1), chr(0x3B2), chr(0x3B3), chr(0x3C0), chr(0x3C1)],\n",
    "    c = False\n",
    ")"
   ]
  },
  {
   "cell_type": "markdown",
   "id": "ca8f17f8",
   "metadata": {},
   "source": [
    "Es posible fijar uno de los argumentos en un valor, en cuyo caso el usuario no tiene la posibilidad de cambiar dicho valor."
   ]
  },
  {
   "cell_type": "code",
   "execution_count": 11,
   "id": "3f3a9706",
   "metadata": {},
   "outputs": [
    {
     "data": {
      "application/vnd.jupyter.widget-view+json": {
       "model_id": "9a728590a51d4df79c64879da331d6cd",
       "version_major": 2,
       "version_minor": 0
      },
      "text/plain": [
       "interactive(children=(Dropdown(description='a', options=(0.0, 0.25, 0.5, 0.75, 1.0), value=0.0), Dropdown(desc…"
      ]
     },
     "metadata": {},
     "output_type": "display_data"
    },
    {
     "data": {
      "text/plain": [
       "<function __main__.tres_argumentos(a, b, c)>"
      ]
     },
     "execution_count": 11,
     "metadata": {},
     "output_type": "execute_result"
    }
   ],
   "source": [
    "widgets.interact(\n",
    "    tres_argumentos, \n",
    "    a = np.linspace(0,1,5), \n",
    "    b = [chr(0x3B1), chr(0x3B2), chr(0x3B3), chr(0x3C0), chr(0x3C1)],\n",
    "    c = widgets.fixed(False) # Argumento con un valor fijo\n",
    ")"
   ]
  },
  {
   "cell_type": "markdown",
   "id": "077bd8aa",
   "metadata": {},
   "source": [
    "## ¿Qué wigdets existen?\n",
    "\n",
    "En este [enlace](https://ipywidgets.readthedocs.io/en/stable/examples/Widget%20List.html) puedes ver la lista de widgets disponibles.\n",
    "\n",
    "También es posible obtener la lista con usando la función `dir()`:"
   ]
  },
  {
   "cell_type": "code",
   "execution_count": 12,
   "id": "ffc95312",
   "metadata": {},
   "outputs": [
    {
     "data": {
      "text/plain": [
       "['Accordion',\n",
       " 'AppLayout',\n",
       " 'Audio',\n",
       " 'BoundedFloatText',\n",
       " 'BoundedIntText',\n",
       " 'Box',\n",
       " 'Button',\n",
       " 'ButtonStyle',\n",
       " 'CallbackDispatcher',\n",
       " 'Checkbox',\n",
       " 'Color',\n",
       " 'ColorPicker',\n",
       " 'ColorsInput',\n",
       " 'Combobox',\n",
       " 'Controller',\n",
       " 'CoreWidget',\n",
       " 'DOMWidget',\n",
       " 'DatePicker',\n",
       " 'Datetime',\n",
       " 'DatetimePicker',\n",
       " 'Dropdown',\n",
       " 'FileUpload',\n",
       " 'FloatLogSlider',\n",
       " 'FloatProgress',\n",
       " 'FloatRangeSlider',\n",
       " 'FloatSlider',\n",
       " 'FloatText',\n",
       " 'FloatsInput',\n",
       " 'GridBox',\n",
       " 'GridspecLayout',\n",
       " 'HBox',\n",
       " 'HTML',\n",
       " 'HTMLMath',\n",
       " 'Image',\n",
       " 'IntProgress',\n",
       " 'IntRangeSlider',\n",
       " 'IntSlider',\n",
       " 'IntText',\n",
       " 'IntsInput',\n",
       " 'Label',\n",
       " 'Layout',\n",
       " 'NaiveDatetimePicker',\n",
       " 'NumberFormat',\n",
       " 'Output',\n",
       " 'Password',\n",
       " 'Play',\n",
       " 'RadioButtons',\n",
       " 'Select',\n",
       " 'SelectMultiple',\n",
       " 'SelectionRangeSlider',\n",
       " 'SelectionSlider',\n",
       " 'SliderStyle',\n",
       " 'Stack',\n",
       " 'Style',\n",
       " 'Tab',\n",
       " 'TagsInput',\n",
       " 'Text',\n",
       " 'Textarea',\n",
       " 'TimePicker',\n",
       " 'ToggleButton',\n",
       " 'ToggleButtons',\n",
       " 'ToggleButtonsStyle',\n",
       " 'TwoByTwoLayout',\n",
       " 'TypedTuple',\n",
       " 'VBox',\n",
       " 'Valid',\n",
       " 'ValueWidget',\n",
       " 'Video',\n",
       " 'Widget',\n",
       " '__builtins__',\n",
       " '__cached__',\n",
       " '__doc__',\n",
       " '__file__',\n",
       " '__jupyter_widgets_base_version__',\n",
       " '__jupyter_widgets_controls_version__',\n",
       " '__loader__',\n",
       " '__name__',\n",
       " '__package__',\n",
       " '__path__',\n",
       " '__protocol_version__',\n",
       " '__spec__',\n",
       " '__version__',\n",
       " '_handle_ipython',\n",
       " '_version',\n",
       " 'comm',\n",
       " 'dlink',\n",
       " 'docutils',\n",
       " 'domwidget',\n",
       " 'fixed',\n",
       " 'get_ipython',\n",
       " 'interact',\n",
       " 'interact_manual',\n",
       " 'interaction',\n",
       " 'interactive',\n",
       " 'interactive_output',\n",
       " 'jsdlink',\n",
       " 'jslink',\n",
       " 'link',\n",
       " 'load_ipython_extension',\n",
       " 'os',\n",
       " 'register',\n",
       " 'register_comm_target',\n",
       " 'sys',\n",
       " 'trait_types',\n",
       " 'utils',\n",
       " 'valuewidget',\n",
       " 'widget',\n",
       " 'widget_bool',\n",
       " 'widget_box',\n",
       " 'widget_button',\n",
       " 'widget_color',\n",
       " 'widget_controller',\n",
       " 'widget_core',\n",
       " 'widget_date',\n",
       " 'widget_datetime',\n",
       " 'widget_description',\n",
       " 'widget_float',\n",
       " 'widget_int',\n",
       " 'widget_layout',\n",
       " 'widget_link',\n",
       " 'widget_media',\n",
       " 'widget_output',\n",
       " 'widget_selection',\n",
       " 'widget_selectioncontainer',\n",
       " 'widget_serialization',\n",
       " 'widget_string',\n",
       " 'widget_style',\n",
       " 'widget_tagsinput',\n",
       " 'widget_templates',\n",
       " 'widget_time',\n",
       " 'widget_upload',\n",
       " 'widgets']"
      ]
     },
     "execution_count": 12,
     "metadata": {},
     "output_type": "execute_result"
    }
   ],
   "source": [
    "# Lista todos los posibles argumentos del objeto widgets\n",
    "dir(widgets) "
   ]
  },
  {
   "cell_type": "code",
   "execution_count": 13,
   "id": "32e9ea75",
   "metadata": {},
   "outputs": [
    {
     "data": {
      "text/plain": [
       "['Accordion',\n",
       " 'AppLayout',\n",
       " 'Audio',\n",
       " 'BoundedFloatText',\n",
       " 'BoundedIntText',\n",
       " 'Box',\n",
       " 'Button',\n",
       " 'ButtonStyle',\n",
       " 'CallbackDispatcher',\n",
       " 'Checkbox',\n",
       " 'Color',\n",
       " 'ColorPicker',\n",
       " 'ColorsInput',\n",
       " 'Combobox',\n",
       " 'Controller',\n",
       " 'CoreWidget',\n",
       " 'DOMWidget',\n",
       " 'DatePicker',\n",
       " 'Datetime',\n",
       " 'DatetimePicker',\n",
       " 'Dropdown',\n",
       " 'FileUpload',\n",
       " 'FloatLogSlider',\n",
       " 'FloatProgress',\n",
       " 'FloatRangeSlider',\n",
       " 'FloatSlider',\n",
       " 'FloatText',\n",
       " 'FloatsInput',\n",
       " 'GridBox',\n",
       " 'GridspecLayout',\n",
       " 'HBox',\n",
       " 'HTML',\n",
       " 'HTMLMath',\n",
       " 'Image',\n",
       " 'IntProgress',\n",
       " 'IntRangeSlider',\n",
       " 'IntSlider',\n",
       " 'IntText',\n",
       " 'IntsInput',\n",
       " 'Label',\n",
       " 'Layout',\n",
       " 'NaiveDatetimePicker',\n",
       " 'NumberFormat',\n",
       " 'Output',\n",
       " 'Password',\n",
       " 'Play',\n",
       " 'RadioButtons',\n",
       " 'Select',\n",
       " 'SelectMultiple',\n",
       " 'SelectionRangeSlider',\n",
       " 'SelectionSlider',\n",
       " 'SliderStyle',\n",
       " 'Stack',\n",
       " 'Style',\n",
       " 'Tab',\n",
       " 'TagsInput',\n",
       " 'Text',\n",
       " 'Textarea',\n",
       " 'TimePicker',\n",
       " 'ToggleButton',\n",
       " 'ToggleButtons',\n",
       " 'ToggleButtonsStyle',\n",
       " 'TwoByTwoLayout',\n",
       " 'TypedTuple',\n",
       " 'VBox',\n",
       " 'Valid',\n",
       " 'ValueWidget',\n",
       " 'Video',\n",
       " 'Widget']"
      ]
     },
     "execution_count": 13,
     "metadata": {},
     "output_type": "execute_result"
    }
   ],
   "source": [
    "# Imprimimos solo los que empiezan con mayúscula\n",
    "[w for w in dir(widgets) if w[0].isupper()] "
   ]
  },
  {
   "cell_type": "code",
   "execution_count": 14,
   "id": "52288af1",
   "metadata": {},
   "outputs": [
    {
     "data": {
      "application/vnd.jupyter.widget-view+json": {
       "model_id": "c2f9c2e2d8974edcaf5f7d770a55485a",
       "version_major": 2,
       "version_minor": 0
      },
      "text/plain": [
       "Textarea(value='Accordion\\nAppLayout\\nAudio\\nBoundedFloatText\\nBoundedIntText\\nBox\\nButton\\nButtonStyle\\nCallb…"
      ]
     },
     "execution_count": 14,
     "metadata": {},
     "output_type": "execute_result"
    }
   ],
   "source": [
    "# Podemos usar los widgets para desplegar mejor la información anterior\n",
    "widgets.Textarea(\n",
    "    '\\n'.join([w for w in dir(widgets) if w[0].isupper()]),\n",
    "    layout=widgets.Layout(height='100px')\n",
    ")"
   ]
  },
  {
   "cell_type": "markdown",
   "id": "746d43e4",
   "metadata": {},
   "source": [
    "## Ejemplos de algunos widgets"
   ]
  },
  {
   "cell_type": "markdown",
   "id": "29f40f3e",
   "metadata": {},
   "source": [
    "### Etiquetas"
   ]
  },
  {
   "cell_type": "code",
   "execution_count": 15,
   "id": "69352f53",
   "metadata": {},
   "outputs": [
    {
     "data": {
      "application/vnd.jupyter.widget-view+json": {
       "model_id": "1adf48d10aab41318dc6fe7771116255",
       "version_major": 2,
       "version_minor": 0
      },
      "text/plain": [
       "Label(value='Esta es una etiqueta')"
      ]
     },
     "metadata": {},
     "output_type": "display_data"
    }
   ],
   "source": [
    "etiqueta = widgets.Label(\n",
    "    value='Esta es una etiqueta'\n",
    ")\n",
    "\n",
    "display(etiqueta)"
   ]
  },
  {
   "cell_type": "markdown",
   "id": "0306df44",
   "metadata": {},
   "source": [
    "### Texto con formato HTML"
   ]
  },
  {
   "cell_type": "code",
   "execution_count": 16,
   "id": "1d511bcd",
   "metadata": {},
   "outputs": [
    {
     "data": {
      "application/vnd.jupyter.widget-view+json": {
       "model_id": "e276692000a94505b1cf857c8ebd6eaf",
       "version_major": 2,
       "version_minor": 0
      },
      "text/plain": [
       "HTML(value='<b>Negritas</b> <font color=\"red\">rojo</font> y <H3>más</H3>')"
      ]
     },
     "metadata": {},
     "output_type": "display_data"
    }
   ],
   "source": [
    "html = widgets.HTML(\n",
    "    value='<b>Negritas</b> <font color=\"red\">rojo</font> y <H3>más</H3>', \n",
    "    description=''\n",
    ")\n",
    "\n",
    "display(html)"
   ]
  },
  {
   "cell_type": "markdown",
   "id": "0bb515d9",
   "metadata": {},
   "source": [
    "### Espacio de texto"
   ]
  },
  {
   "cell_type": "code",
   "execution_count": 17,
   "id": "43cdc72e",
   "metadata": {},
   "outputs": [
    {
     "data": {
      "application/vnd.jupyter.widget-view+json": {
       "model_id": "01b9a6d496e546c4a9554db9f2cb3a6e",
       "version_major": 2,
       "version_minor": 0
      },
      "text/plain": [
       "Text(value='Ser o no ser', description='El texto es')"
      ]
     },
     "metadata": {},
     "output_type": "display_data"
    }
   ],
   "source": [
    "texto = widgets.Text(\n",
    "    value='Ser o no ser', \n",
    "    description='El texto es'\n",
    ")\n",
    "\n",
    "display(texto)"
   ]
  },
  {
   "cell_type": "markdown",
   "id": "fbd59980",
   "metadata": {},
   "source": [
    "### Area de texto:"
   ]
  },
  {
   "cell_type": "code",
   "execution_count": 18,
   "id": "77b334f8",
   "metadata": {},
   "outputs": [
    {
     "data": {
      "application/vnd.jupyter.widget-view+json": {
       "model_id": "da3c3d70ba0f499b8fc64ece4f2dc760",
       "version_major": 2,
       "version_minor": 0
      },
      "text/plain": [
       "Textarea(value='\"Desde muy niño tuve que interrumpir mi educación para ir a la escuela.” \\n    \\t George Berna…"
      ]
     },
     "metadata": {},
     "output_type": "display_data"
    }
   ],
   "source": [
    "area_texto = widgets.Textarea(\n",
    "    value='\"Desde muy niño tuve que interrumpir mi educación para ir a la escuela.” \\n\\\n",
    "    \\t George Bernard Shaw',\n",
    "    description='Área de texto'\n",
    ")\n",
    "\n",
    "display(area_texto)"
   ]
  },
  {
   "cell_type": "markdown",
   "id": "dafd9fd4",
   "metadata": {},
   "source": [
    "### Contenedor de widgets Vertical"
   ]
  },
  {
   "cell_type": "code",
   "execution_count": 19,
   "id": "585cce5f",
   "metadata": {},
   "outputs": [
    {
     "data": {
      "application/vnd.jupyter.widget-view+json": {
       "model_id": "cfb28e2f4aae469da53f63956d316755",
       "version_major": 2,
       "version_minor": 0
      },
      "text/plain": [
       "VBox(children=(Label(value='Esta es una etiqueta'), HTML(value='<b>Negritas</b> <font color=\"red\">rojo</font> …"
      ]
     },
     "execution_count": 19,
     "metadata": {},
     "output_type": "execute_result"
    }
   ],
   "source": [
    "widgets.VBox([etiqueta, html, texto, area_texto])"
   ]
  },
  {
   "cell_type": "markdown",
   "id": "28844318",
   "metadata": {},
   "source": [
    "### Contenedor de widgets Horizontal"
   ]
  },
  {
   "cell_type": "code",
   "execution_count": 20,
   "id": "690c176f",
   "metadata": {},
   "outputs": [
    {
     "data": {
      "application/vnd.jupyter.widget-view+json": {
       "model_id": "2758cb57df2746c7b0446dd257f3039c",
       "version_major": 2,
       "version_minor": 0
      },
      "text/plain": [
       "HBox(children=(Label(value='Esta es una etiqueta'), HTML(value='<b>Negritas</b> <font color=\"red\">rojo</font> …"
      ]
     },
     "execution_count": 20,
     "metadata": {},
     "output_type": "execute_result"
    }
   ],
   "source": [
    "widgets.HBox([etiqueta, html, texto, area_texto])"
   ]
  },
  {
   "cell_type": "markdown",
   "id": "a1794b84",
   "metadata": {},
   "source": [
    "### Combinación de VBox y HBox"
   ]
  },
  {
   "cell_type": "code",
   "execution_count": 21,
   "id": "fd5a4b5c",
   "metadata": {},
   "outputs": [
    {
     "data": {
      "application/vnd.jupyter.widget-view+json": {
       "model_id": "251df82583274e7290f4323d61fbe28e",
       "version_major": 2,
       "version_minor": 0
      },
      "text/plain": [
       "VBox(children=(HBox(children=(Label(value='Esta es una etiqueta'), Text(value='Ser o no ser', description='El …"
      ]
     },
     "execution_count": 21,
     "metadata": {},
     "output_type": "execute_result"
    }
   ],
   "source": [
    "widgets.VBox([widgets.HBox([etiqueta, texto]), \n",
    "              widgets.HBox([html, area_texto])])"
   ]
  },
  {
   "cell_type": "markdown",
   "id": "a0a98f5c",
   "metadata": {},
   "source": [
    "### Distintos tipos de selectores"
   ]
  },
  {
   "cell_type": "code",
   "execution_count": 22,
   "id": "48bce6c5",
   "metadata": {},
   "outputs": [
    {
     "data": {
      "application/vnd.jupyter.widget-view+json": {
       "model_id": "8a7aae50ea394f569579c680da6c989a",
       "version_major": 2,
       "version_minor": 0
      },
      "text/plain": [
       "VBox(children=(IntSlider(value=5, description='Slider entero (IntSlider)', max=10), IntRangeSlider(value=(20, …"
      ]
     },
     "execution_count": 22,
     "metadata": {},
     "output_type": "execute_result"
    }
   ],
   "source": [
    "# IntSlider \n",
    "i_s = widgets.IntSlider(\n",
    "    value=5, \n",
    "    min=0, max=10, step=1,\n",
    "    description='Slider entero (IntSlider)'\n",
    ")\n",
    "\n",
    "# IntRangeSlider\n",
    "i_rs = widgets.IntRangeSlider(\n",
    "    value=(20, 40), \n",
    "    min=0, max=100, step=2, \n",
    "    description='Slider de rango de enteros (IntRangeSlider)'\n",
    ")\n",
    " \n",
    "# Dropdown\n",
    "meses_dd = widgets.Dropdown(\n",
    "    value='ago', \n",
    "    options=['ene', 'feb', 'mar', 'abr', 'may', 'jun', 'jul', 'ago', 'sep', 'oct', 'nov', 'dic'], \n",
    "    description='Dropdown'\n",
    ")\n",
    "\n",
    "# RadioButtons\n",
    "meses_rb = widgets.RadioButtons(\n",
    "    value='feb', \n",
    "    options=['ene', 'feb', 'mar', 'abr', 'may', 'jun', 'jul', 'ago', 'sep', 'oct', 'nov', 'dic'], \n",
    "    description='RadioButtons'\n",
    ")\n",
    "\n",
    "# ComboBox\n",
    "cb = widgets.Combobox(\n",
    "    placeholder='teclea tu respuesta ... (e.g. M or h)',\n",
    "    options=['México', 'Jalisco', 'Durango', 'Chihuahua', 'Tlaxcala'], \n",
    "    description='Combobox'\n",
    ")\n",
    " \n",
    "# CheckBox\n",
    "chb = widgets.Checkbox(\n",
    "    description='checkbox',\n",
    "    value=True\n",
    ")\n",
    "\n",
    "# a VBox container to pack widgets vertically\n",
    "widgets.VBox(\n",
    "    [\n",
    "        i_s, \n",
    "        i_rs, \n",
    "        meses_dd, \n",
    "        meses_rb,\n",
    "        cb,\n",
    "        chb,\n",
    "    ],\n",
    "        layout=widgets.Layout(widht='100px')\n",
    ")"
   ]
  },
  {
   "cell_type": "markdown",
   "id": "894129ea",
   "metadata": {},
   "source": [
    "### La función `observe`\n",
    "\n",
    "Supongamos que tenemos un slider como el siguiente:"
   ]
  },
  {
   "cell_type": "code",
   "execution_count": 23,
   "id": "e2b64e7c",
   "metadata": {},
   "outputs": [
    {
     "data": {
      "application/vnd.jupyter.widget-view+json": {
       "model_id": "e9341cc9aada4c6298a98bbba61a4495",
       "version_major": 2,
       "version_minor": 0
      },
      "text/plain": [
       "IntSlider(value=5, description='Número: ', max=10)"
      ]
     },
     "metadata": {},
     "output_type": "display_data"
    }
   ],
   "source": [
    "s = widgets.IntSlider(\n",
    "    value=5, \n",
    "    min=0, max=10, step=1,\n",
    "    description='Número: '\n",
    ")\n",
    "display(s)"
   ]
  },
  {
   "cell_type": "code",
   "execution_count": 24,
   "id": "75ca76d7-b3f5-47c7-bc70-8f560f1c2dc0",
   "metadata": {},
   "outputs": [
    {
     "name": "stdout",
     "output_type": "stream",
     "text": [
      "5\n"
     ]
    }
   ],
   "source": [
    "#Si queremos conocer el valor actual de este slider podemos usar el atributo `value`:\n",
    "print(s.value)"
   ]
  },
  {
   "cell_type": "code",
   "execution_count": 25,
   "id": "fbaa6a09",
   "metadata": {},
   "outputs": [
    {
     "data": {
      "application/vnd.jupyter.widget-view+json": {
       "model_id": "5512a448cd824be98ee8cf3cd16102f9",
       "version_major": 2,
       "version_minor": 0
      },
      "text/plain": [
       "Label(value='Número : 5')"
      ]
     },
     "execution_count": 25,
     "metadata": {},
     "output_type": "execute_result"
    }
   ],
   "source": [
    "# Podemos usar otro widget para desplegar el valor del número\n",
    "texto = widgets.Label('Número : {}'.format(s.value))\n",
    "texto"
   ]
  },
  {
   "cell_type": "code",
   "execution_count": 26,
   "id": "3437c24b",
   "metadata": {},
   "outputs": [],
   "source": [
    "# Con la siguiente función actualizamos el despliegue en el otro widget\n",
    "def actualiza(change):\n",
    "    texto.value = 'Numero : {}'.format(s.value)\n",
    "\n",
    "# Observamos el cambio en el valor del slider\n",
    "s.observe(actualiza, 'value')"
   ]
  },
  {
   "cell_type": "markdown",
   "id": "fe4a6ae2",
   "metadata": {},
   "source": [
    "Cuando el valor del slider cambia, se ejecuta la función `actualiza()` que es el *callback* de `observe()`; esta función *callback*  se ejecuta con el argumento `change`. Este argumento es un diccionario que contiene varias entradas."
   ]
  },
  {
   "cell_type": "markdown",
   "id": "9d37fecd",
   "metadata": {},
   "source": [
    "### Ligado entre widgets\n",
    "Los widgets se pueden ligar usando la función `link`"
   ]
  },
  {
   "cell_type": "code",
   "execution_count": 27,
   "id": "532e460f",
   "metadata": {},
   "outputs": [
    {
     "data": {
      "application/vnd.jupyter.widget-view+json": {
       "model_id": "8b844deadfaf4e6f8845cba0277d0522",
       "version_major": 2,
       "version_minor": 0
      },
      "text/plain": [
       "VBox(children=(IntSlider(value=0, description='Rango 1', max=50), IntSlider(value=0, description='Rango 2', ma…"
      ]
     },
     "execution_count": 27,
     "metadata": {},
     "output_type": "execute_result"
    }
   ],
   "source": [
    "# Creamos un IntSlider\n",
    "s1 = widgets.IntSlider(description='Rango 1', min=0, max=50)\n",
    "\n",
    "# Creamos un segundo IntSlider\n",
    "s2 = widgets.IntSlider(description='Rango 2', min=0, max=50)\n",
    "\n",
    "# Los mostramos en un contenedor vertical\n",
    "widgets.VBox([s1, s2])"
   ]
  },
  {
   "cell_type": "code",
   "execution_count": 28,
   "id": "5e0a9843",
   "metadata": {},
   "outputs": [
    {
     "data": {
      "application/vnd.jupyter.widget-view+json": {
       "model_id": "a1e8def770ad446694cbdbf022765e20",
       "version_major": 2,
       "version_minor": 0
      },
      "text/plain": [
       "VBox(children=(IntSlider(value=5, description='Rango 1', max=50), IntSlider(value=0, description='Rango 2', ma…"
      ]
     },
     "execution_count": 28,
     "metadata": {},
     "output_type": "execute_result"
    }
   ],
   "source": [
    "# Ahora ligamos el valor del primer slider, con el valor máximo del segundo slider\n",
    "link = widgets.link(\n",
    "    (s1, 'value'),  # Valor del primer slider ligado con\n",
    "    (s2, 'max')     # el valor máximo del segundo slider\n",
    ")\n",
    "\n",
    "# Inicializamos el valor del primer slider\n",
    "s1.value = 5\n",
    "\n",
    "# Mostramos los sliders en un contenedor vertical\n",
    "widgets.VBox([s1, s2])"
   ]
  },
  {
   "cell_type": "code",
   "execution_count": 29,
   "id": "d11a598c",
   "metadata": {},
   "outputs": [],
   "source": [
    "# Los sliders se pueden desligar con la siguiente función:\n",
    "link.unlink()"
   ]
  },
  {
   "cell_type": "markdown",
   "id": "f6d0518a",
   "metadata": {},
   "source": [
    "### Más sobre contenedores\n",
    "Existen varios tipos de contenedores. Para ver su uso y ventajas crearemos primero 3 botones:"
   ]
  },
  {
   "cell_type": "code",
   "execution_count": 30,
   "id": "77c059a3-b6e5-4596-adc0-ad3b5188adb4",
   "metadata": {},
   "outputs": [],
   "source": [
    "# Tres widgets de tipo Button\n",
    "b1 = widgets.Button(description='botón 1')\n",
    "b2 = widgets.Button(description='botón 2')\n",
    "b3 = widgets.Button(description='botón 3')"
   ]
  },
  {
   "cell_type": "code",
   "execution_count": 31,
   "id": "93a726ed-dd32-4ddf-9839-74fad20f42e9",
   "metadata": {},
   "outputs": [
    {
     "data": {
      "application/vnd.jupyter.widget-view+json": {
       "model_id": "e90dadfb2fac48bc83beb79d11178108",
       "version_major": 2,
       "version_minor": 0
      },
      "text/plain": [
       "Button(description='botón 1', style=ButtonStyle())"
      ]
     },
     "metadata": {},
     "output_type": "display_data"
    },
    {
     "data": {
      "application/vnd.jupyter.widget-view+json": {
       "model_id": "d7999c517bce4f10a24bf8f4f66d0e92",
       "version_major": 2,
       "version_minor": 0
      },
      "text/plain": [
       "Button(description='botón 2', style=ButtonStyle())"
      ]
     },
     "metadata": {},
     "output_type": "display_data"
    },
    {
     "data": {
      "application/vnd.jupyter.widget-view+json": {
       "model_id": "ef4d92e0ca8441cfbdd70ae3aed6dfd6",
       "version_major": 2,
       "version_minor": 0
      },
      "text/plain": [
       "Button(description='botón 3', style=ButtonStyle())"
      ]
     },
     "metadata": {},
     "output_type": "display_data"
    }
   ],
   "source": [
    "display(b1, b2, b3)"
   ]
  },
  {
   "cell_type": "code",
   "execution_count": 32,
   "id": "bee7ef41",
   "metadata": {},
   "outputs": [
    {
     "data": {
      "application/vnd.jupyter.widget-view+json": {
       "model_id": "1ca805d598114503ba10c0ba6e48f232",
       "version_major": 2,
       "version_minor": 0
      },
      "text/plain": [
       "VBox(children=(Button(description='botón 1', style=ButtonStyle()), Button(description='botón 2', style=ButtonS…"
      ]
     },
     "metadata": {},
     "output_type": "display_data"
    },
    {
     "data": {
      "application/vnd.jupyter.widget-view+json": {
       "model_id": "964c5ef4b97a41dcadfec0168c225100",
       "version_major": 2,
       "version_minor": 0
      },
      "text/plain": [
       "HBox(children=(Button(description='botón 1', style=ButtonStyle()), Button(description='botón 2', style=ButtonS…"
      ]
     },
     "metadata": {},
     "output_type": "display_data"
    }
   ],
   "source": [
    "# Los desplegamos en un contenedor vertical\n",
    "display(widgets.VBox([b1,b2,b3]))\n",
    "\n",
    "# y luego en un contenedor horizontal\n",
    "display(widgets.HBox([b1,b2,b3]))"
   ]
  },
  {
   "cell_type": "code",
   "execution_count": 33,
   "id": "041e267b",
   "metadata": {},
   "outputs": [
    {
     "data": {
      "application/vnd.jupyter.widget-view+json": {
       "model_id": "ccfdf463793846ab8d1a757762b83f5d",
       "version_major": 2,
       "version_minor": 0
      },
      "text/plain": [
       "HBox(children=(VBox(children=(Label(value='Izquierda'), Button(description='botón 1', style=ButtonStyle()), Bu…"
      ]
     },
     "execution_count": 33,
     "metadata": {},
     "output_type": "execute_result"
    }
   ],
   "source": [
    "# Podemos crear diseños más complicados anidando estos contenedores:\n",
    "# OJO: estamos reusando widgets creados en celdas anteriores.\n",
    "def make_boxes():\n",
    "    vbox1 = widgets.VBox([widgets.Label('Izquierda'), b1, b2, b3, html] )\n",
    "    vbox2 = widgets.VBox([widgets.Label('Centro'), meses_dd, area_texto])\n",
    "    vbox3 = widgets.VBox([widgets.Label('Derecha'), meses_rb])\n",
    "    return vbox1, vbox2, vbox3\n",
    "  \n",
    "widgets.HBox(make_boxes())"
   ]
  },
  {
   "cell_type": "markdown",
   "id": "cc6bf50b",
   "metadata": {},
   "source": [
    "### Layout\n",
    "Este widget permite darle un poco de personalización a los contenedores (con notación similar a CSS). Por ejemplo:"
   ]
  },
  {
   "cell_type": "code",
   "execution_count": 34,
   "id": "911cc76f",
   "metadata": {},
   "outputs": [
    {
     "data": {
      "application/vnd.jupyter.widget-view+json": {
       "model_id": "710bfce4cb4d46f08fa1410396635a33",
       "version_major": 2,
       "version_minor": 0
      },
      "text/plain": [
       "HBox(children=(VBox(children=(Label(value='Izquierda'), Button(description='botón 1', style=ButtonStyle()), Bu…"
      ]
     },
     "execution_count": 34,
     "metadata": {},
     "output_type": "execute_result"
    }
   ],
   "source": [
    "box_layout = widgets.Layout(\n",
    "        border='solid 1px red',\n",
    "        margin='0px 10px 10px 0px',\n",
    "        padding='5px 5px 5px 5px')\n",
    " \n",
    "vbox1, vbox2, vbox3 = make_boxes()\n",
    " \n",
    "vbox1.layout = box_layout\n",
    "vbox2.layout = box_layout\n",
    "vbox3.layout = box_layout\n",
    "\n",
    "widgets.HBox([vbox1, vbox2, vbox3])"
   ]
  },
  {
   "cell_type": "markdown",
   "id": "528a10b5",
   "metadata": {},
   "source": [
    "Los objetos de tipo `Layout` son mutables, de tal manera que podemos cambiar la disposición del diseño cambiando sus parámetros:"
   ]
  },
  {
   "cell_type": "code",
   "execution_count": 35,
   "id": "c2fb4281",
   "metadata": {},
   "outputs": [],
   "source": [
    "vbox1.layout.height = '100px'\n",
    "vbox1.layout.border = 'solid 2px green'"
   ]
  },
  {
   "cell_type": "markdown",
   "id": "65d4dcbb",
   "metadata": {},
   "source": [
    "Observe que cambiando uno de los parámetros en un solo contenedor hace el cambio también en los otros contenedores.\n",
    "\n",
    "Para evitar el comportamiento anterior, debemos crear un layout por cada contenedor. Una forma sería la siguiente:"
   ]
  },
  {
   "cell_type": "code",
   "execution_count": 36,
   "id": "6795a935",
   "metadata": {},
   "outputs": [
    {
     "data": {
      "application/vnd.jupyter.widget-view+json": {
       "model_id": "07195ec8b59c42eea7cf976a43f53374",
       "version_major": 2,
       "version_minor": 0
      },
      "text/plain": [
       "HBox(children=(VBox(children=(Label(value='Izquierda'), Button(description='botón 1', style=ButtonStyle()), Bu…"
      ]
     },
     "execution_count": 36,
     "metadata": {},
     "output_type": "execute_result"
    }
   ],
   "source": [
    "def make_box_layout():\n",
    "     return widgets.Layout(\n",
    "        border='solid 1px red',\n",
    "        margin='0px 10px 10px 0px',\n",
    "        padding='5px 5px 5px 5px'\n",
    "     )\n",
    "     \n",
    "vbox1, vbox2, vbox3 = make_boxes()\n",
    "\n",
    "# Creamos un Layout independiente para cada contenedor\n",
    "vbox1.layout = make_box_layout()\n",
    "vbox2.layout = make_box_layout()\n",
    "vbox3.layout = make_box_layout()\n",
    "\n",
    "# Cambiamos la disposición de vbox1\n",
    "vbox1.layout.height = '200px'\n",
    "vbox1.layout.border = 'solid 2px green'\n",
    " \n",
    "widgets.HBox([vbox1, vbox2, vbox3])"
   ]
  },
  {
   "cell_type": "markdown",
   "id": "109ba2cc-aae3-4b36-9892-154636376f45",
   "metadata": {},
   "source": [
    "### `TwoByTwoLayout`"
   ]
  },
  {
   "cell_type": "code",
   "execution_count": 37,
   "id": "7c8c07bb",
   "metadata": {},
   "outputs": [],
   "source": [
    "def create_expanded_button(description, button_style):\n",
    "    return widgets.Button(description=description, button_style=button_style, \n",
    "                          layout=widgets.Layout(height='auto', width='auto'))\n",
    "\n",
    "top_left_button = create_expanded_button(\"Top left\", 'info')\n",
    "top_right_button = create_expanded_button(\"Top right\", 'success')\n",
    "bottom_left_button = create_expanded_button(\"Bottom left\", 'danger')\n",
    "bottom_right_button = create_expanded_button(\"Bottom right\", 'warning')"
   ]
  },
  {
   "cell_type": "code",
   "execution_count": 38,
   "id": "3de353f2",
   "metadata": {},
   "outputs": [
    {
     "data": {
      "application/vnd.jupyter.widget-view+json": {
       "model_id": "c8914cf582fa4a0198e2dfe471b39cea",
       "version_major": 2,
       "version_minor": 0
      },
      "text/plain": [
       "TwoByTwoLayout(children=(Button(button_style='info', description='Top left', layout=Layout(grid_area='top-left…"
      ]
     },
     "execution_count": 38,
     "metadata": {},
     "output_type": "execute_result"
    }
   ],
   "source": [
    "#from ipywidgets import TwoByTwoLayout\n",
    "\n",
    "widgets.TwoByTwoLayout(top_left=top_left_button,\n",
    "                       top_right=top_right_button,\n",
    "                       bottom_left=bottom_left_button,\n",
    "                       bottom_right=bottom_right_button)"
   ]
  },
  {
   "cell_type": "code",
   "execution_count": 39,
   "id": "fc78dd33",
   "metadata": {},
   "outputs": [
    {
     "data": {
      "application/vnd.jupyter.widget-view+json": {
       "model_id": "b40962b1218e4eaea414433a025ea0bc",
       "version_major": 2,
       "version_minor": 0
      },
      "text/plain": [
       "TwoByTwoLayout(children=(Button(button_style='info', description='Top left', layout=Layout(grid_area='top-left…"
      ]
     },
     "execution_count": 39,
     "metadata": {},
     "output_type": "execute_result"
    }
   ],
   "source": [
    "widgets.TwoByTwoLayout(top_left=top_left_button,\n",
    "                       bottom_left=bottom_left_button,\n",
    "                       bottom_right=bottom_right_button)"
   ]
  },
  {
   "cell_type": "code",
   "execution_count": 40,
   "id": "d7c41086",
   "metadata": {},
   "outputs": [
    {
     "data": {
      "application/vnd.jupyter.widget-view+json": {
       "model_id": "ceb3504383184095b64a38230c1047c2",
       "version_major": 2,
       "version_minor": 0
      },
      "text/plain": [
       "TwoByTwoLayout(children=(Button(button_style='info', description='Top left', layout=Layout(grid_area='top-left…"
      ]
     },
     "execution_count": 40,
     "metadata": {},
     "output_type": "execute_result"
    }
   ],
   "source": [
    "widgets.TwoByTwoLayout(top_left=top_left_button,\n",
    "                       bottom_left=bottom_left_button,\n",
    "                       bottom_right=bottom_right_button,\n",
    "                       merge=False)"
   ]
  },
  {
   "cell_type": "code",
   "execution_count": 41,
   "id": "f5e5c1f0",
   "metadata": {},
   "outputs": [
    {
     "data": {
      "application/vnd.jupyter.widget-view+json": {
       "model_id": "3e35a17c7776416db66022f8e6e84576",
       "version_major": 2,
       "version_minor": 0
      },
      "text/plain": [
       "TwoByTwoLayout(children=(Button(button_style='info', description='Top left', layout=Layout(grid_area='top-left…"
      ]
     },
     "execution_count": 41,
     "metadata": {},
     "output_type": "execute_result"
    }
   ],
   "source": [
    "layout_2x2 = widgets.TwoByTwoLayout(top_left=top_left_button,\n",
    "                                    bottom_left=bottom_left_button,\n",
    "                                    bottom_right=bottom_right_button)\n",
    "layout_2x2"
   ]
  },
  {
   "cell_type": "code",
   "execution_count": 42,
   "id": "15f1a9d1",
   "metadata": {},
   "outputs": [],
   "source": [
    "layout_2x2.top_right = top_right_button"
   ]
  },
  {
   "cell_type": "code",
   "execution_count": null,
   "id": "8d9fdef0-d8af-43d0-b434-f2c9fdbe9986",
   "metadata": {},
   "outputs": [],
   "source": []
  },
  {
   "cell_type": "code",
   "execution_count": 43,
   "id": "01d47cf9",
   "metadata": {},
   "outputs": [
    {
     "data": {
      "application/vnd.jupyter.widget-view+json": {
       "model_id": "e7b7b9fbbc6d466caf7a59bd1685eacc",
       "version_major": 2,
       "version_minor": 0
      },
      "text/plain": [
       "TwoByTwoLayout(children=(IntText(value=25, description='Arriba izq.', layout=Layout(grid_area='top-left', heig…"
      ]
     },
     "execution_count": 43,
     "metadata": {},
     "output_type": "execute_result"
    }
   ],
   "source": [
    "top_left_text = widgets.IntText(description='Arriba izq.', \n",
    "                                layout=widgets.Layout(width='auto', height='auto'))\n",
    "top_right_text = widgets.IntText(description='Arriba der.', \n",
    "                                 layout=widgets.Layout(width='auto', height='auto'))\n",
    "bottom_left_slider = widgets.IntSlider(description='Abajo izq.', \n",
    "                                       layout=widgets.Layout(width='auto', height='auto'))\n",
    "bottom_right_slider = widgets.IntSlider(description='Abajo der.', \n",
    "                                        layout=widgets.Layout(width='auto', height='auto'))\n",
    "\n",
    "app = widgets.TwoByTwoLayout(top_left=top_left_text, \n",
    "                             top_right=top_right_text,\n",
    "                             bottom_left=bottom_left_slider, \n",
    "                             bottom_right=bottom_right_slider)\n",
    "\n",
    "link_left = widgets.jslink((app.top_left, 'value'), (app.bottom_left, 'value'))\n",
    "link_right = widgets.jslink((app.top_right, 'value'), (app.bottom_right, 'value'))\n",
    "app.bottom_right.value = 30\n",
    "app.top_left.value = 25\n",
    "app"
   ]
  },
  {
   "cell_type": "markdown",
   "id": "011ee79f-9e38-4755-8745-afe5cade97ef",
   "metadata": {},
   "source": [
    "## Combinando Widgets y matplotlib"
   ]
  },
  {
   "cell_type": "code",
   "execution_count": 45,
   "id": "8d3af1d0-bc45-4178-a358-2a5e7c681493",
   "metadata": {},
   "outputs": [
    {
     "data": {
      "application/vnd.jupyter.widget-view+json": {
       "model_id": "9f324a3d50e04b14aa702d1b9564fd61",
       "version_major": 2,
       "version_minor": 0
      },
      "text/plain": [
       "interactive(children=(Dropdown(description='Frecuencia', options=(1, 2, 3), value=1), IntSlider(value=1, descr…"
      ]
     },
     "metadata": {},
     "output_type": "display_data"
    },
    {
     "data": {
      "text/plain": [
       "<function __main__.plot_sin(w, n)>"
      ]
     },
     "execution_count": 45,
     "metadata": {},
     "output_type": "execute_result"
    }
   ],
   "source": [
    "import matplotlib.pyplot as plt\n",
    "\n",
    "def plot_sin(w, n):\n",
    "    x = np.linspace(0,3*np.pi,180)\n",
    "    y = np.sin(int(w) * x)\n",
    "    plt.figure(figsize=(3,2))\n",
    "    plt.plot(x, y, c = 'silver', lw = 2)\n",
    "    plt.plot(x[:n], y[:n], c = 'purple', lw = 1.0)\n",
    "    plt.xlim(0,3*np.pi)\n",
    "    plt.ylim(-1.2,1.2)\n",
    "    plt.grid()\n",
    "    plt.show()\n",
    "    \n",
    "widgets.interact(plot_sin,\n",
    "                 w = widgets.Dropdown(value=1, options=[1,2,3], description='Frecuencia'),\n",
    "                 n = widgets.IntSlider(min=1, max=180, step=10, value=1, description='Puntos'))"
   ]
  },
  {
   "cell_type": "code",
   "execution_count": null,
   "id": "68357c8a",
   "metadata": {},
   "outputs": [],
   "source": []
  }
 ],
 "metadata": {
  "kernelspec": {
   "display_name": "Python 3 (ipykernel)",
   "language": "python",
   "name": "python3"
  },
  "language_info": {
   "codemirror_mode": {
    "name": "ipython",
    "version": 3
   },
   "file_extension": ".py",
   "mimetype": "text/x-python",
   "name": "python",
   "nbconvert_exporter": "python",
   "pygments_lexer": "ipython3",
   "version": "3.11.6"
  }
 },
 "nbformat": 4,
 "nbformat_minor": 5
}
